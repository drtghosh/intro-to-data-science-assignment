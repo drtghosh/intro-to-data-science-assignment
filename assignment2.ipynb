{
 "cells": [
  {
   "attachments": {},
   "cell_type": "markdown",
   "id": "0b933634",
   "metadata": {
    "tags": []
   },
   "source": [
    "# IDS Assignment Part 2 - <font color=\"red\"><h7>Deadline: 23/01/2023 23:59</h7></font>\n",
    "This is the second part of the assignment in IDS 2022/2023. \n",
    "Please use this Jupyter notebook to work on the questions posed in the assignment. When you are done, upload the notebook in Moodle at the designated activity. In addition to the _Jupyter notebook_, please submit _one zip-file_ containing your screenshots for Question 7. \n",
    "\n",
    "Give your commented Python code and answers in the corresponding provided cells. Make sure to answer all questions in a clear and explicit manner and discuss your outputs. _Please do not change the general structure of this notebook_. You can, however, add additional markdown or code cells if necessary. <b>Please DO NOT CLEAR THE OUTPUT of the notebook you are submitting! </b>\n",
    "\n",
    "<font color=\"red\"> *Please make sure to include the names and matriculation numbers of all group members in the slot provided below.* </font> If a name or a student id is missing, the student will not receive any points.\n",
    "\n",
    "Hint 1: While working on the assignment, you will get a better understanding of the dataset. Feel free to generate additional results and visualizations to support your answers. For example, this might be useful regarding data modification, data simplification, or output interpretation. <font color=\"red\">Ensure that all your claims are supported.</font>\n",
    "\n",
    "Hint 2: <font color=\"red\">Plan your time wisely. </font> A few parts of this assignment may take some time to run. It might be necessary to consider time management when you plan your group work. Also, do not attempt to upload your assignment at the last minute before the deadline. This often does not work, and you will miss the deadline. Late submissions will not be considered.\n",
    "\n",
    "Hint 3: RWTHmoodle allows multiple submissions, with every new submission overwriting the previous one. <b>Partial submissions are therefore possible and encouraged. </b> This might be helpful in case of technical issues with RWTHMoodle, which may occur close to the deadline."
   ]
  },
  {
   "cell_type": "markdown",
   "id": "76db0f12",
   "metadata": {},
   "source": [
    "<font color=\"red\"><b>Student Names and IDs:\n",
    "    \n",
    "    1. \n",
    "    \n",
    "    2. \n",
    "    \n",
    "    3."
   ]
  },
  {
   "cell_type": "markdown",
   "id": "7803d7da-69e1-412a-8a9f-c04ceb96a0f2",
   "metadata": {
    "tags": []
   },
   "source": [
    "## Question 1: Preprocessing (20 points)"
   ]
  },
  {
   "cell_type": "code",
   "execution_count": 1,
   "id": "a3c5e97f-99a5-41d4-92a8-e9888bf4f4c2",
   "metadata": {},
   "outputs": [],
   "source": [
    "import pandas as pd\n",
    "import numpy as np \n",
    "\n",
    "### Sklearn\n",
    "from sklearn.preprocessing import MinMaxScaler, StandardScaler\n",
    "from sklearn.impute import KNNImputer\n",
    "\n",
    "from sklearn.preprocessing import OneHotEncoder\n",
    "\n",
    "import plotly.express as px"
   ]
  },
  {
   "attachments": {},
   "cell_type": "markdown",
   "id": "3ffab9bb-d08f-44dd-ad3f-ac3dc8e2184c",
   "metadata": {
    "jp-MarkdownHeadingCollapsed": true,
    "tags": []
   },
   "source": [
    "In this question, we consider a dataset documenting the Ski Resorts in Europe (**ski_resorts.csv**).\n",
    "Each row contains some information about the Ski resort.\n",
    "You can find a short description for each column:\n",
    "\n",
    "| Column | Description |\n",
    "| ------ | ----------- |\n",
    "| Resort | The name of the ski & snowboard resort. |\n",
    "| Country | The country in which the resort is located. |\n",
    "| HighestPoint | The highest mountain point at the ski resort.   |\n",
    "| LowestPoint | The lowest possible point to ski at the ski resort.  |\n",
    "| DayPassPriceAdult | The price shows what it costs for 1 adult for 1 day in the main season in Euro. |\n",
    "| BeginnerSlope | The total amount of “beginner” slopes in kilometer at the resort. “Beginner slopes” contains “children”, “blue” and, “green” slopes. |\n",
    "| IntermediateSlope | The total amount of “intermediate” slopes in kilometer at the resort. “Intermediate slopes” contains “red” slopes. |\n",
    "| DifficultSlope | The total amount of “difficult” slopes in kilometer at the resort. “Difficult slopes” contains “black”, “advanced”, and ”expert” slopes. |\n",
    "| TotalSlope | The sum of “beginner slopes” + “intermediate slopes” + “difficult slopes” |\n",
    "| Snowparks | Does the resort have one or more snowparks, or not? |\n",
    "| NightSki | Does the resort offer skiing on illuminated slopes? |\n",
    "| SurfaceLifts | The amount of lifts in this category: T-bar, Sunkidslift, Rope lifts, and people mower. |\n",
    "| ChairLifts | The total amount of chairlifts. |\n",
    "| GondolaLifts | The amount of lifts in this category: Gondola, Train lifts, Funicular, Combined gondola and chairlifts, Helicopter lifts, Snowcats, and Aerial tramways. |\n",
    "| TotalLifts | The sum of “surface lifts etc” + “gondola etc” + “chairlifts etc.” |\n",
    "| LiftCapacity | How many passengers can the lift system at the ski resort mowe in one hour? |\n",
    "| SnowCannons  |The total amount of snow cannons at the ski resort.|"
   ]
  },
  {
   "cell_type": "markdown",
   "id": "4e7bd4f6-32a5-4e9d-9339-00556a268506",
   "metadata": {
    "tags": []
   },
   "source": [
    "### a) Loading the Data and Initial Quality Investigation (2.5pts)"
   ]
  },
  {
   "cell_type": "markdown",
   "id": "82c39c84-0399-4369-ad4d-c657c08aefba",
   "metadata": {
    "tags": []
   },
   "source": [
    "#### **a(i)** \n",
    "Load the dataset into a dataframe `df`. <font color='red'>Use the first column as index for your dataframe</font>. Ensure that the index is valid, that is, it should not contain any duplicate entries. \n",
    "\n",
    "\n",
    "\n",
    "**In the subsequent questions, only modify the dataframe `df` if explicitly requested. However, you can always create working copies.**"
   ]
  },
  {
   "cell_type": "code",
   "execution_count": 2,
   "id": "897a95f5-c50d-4240-b357-65ff937034ba",
   "metadata": {
    "tags": []
   },
   "outputs": [
    {
     "data": {
      "text/plain": [
       "0"
      ]
     },
     "execution_count": 2,
     "metadata": {},
     "output_type": "execute_result"
    }
   ],
   "source": [
    "# your code\n",
    "df = pd.read_csv('ski_resorts.csv', index_col=0)     # load data set into df with first col as index\n",
    "# type(df)\n",
    "\n",
    "df.index.duplicated().sum()                          # no duplicates in index -> index is valid\n"
   ]
  },
  {
   "cell_type": "markdown",
   "id": "ca4b69ca-8603-4cf9-8e6a-32bea8b70a32",
   "metadata": {
    "execution": {
     "iopub.execute_input": "2022-12-07T10:01:29.281703Z",
     "iopub.status.busy": "2022-12-07T10:01:29.281301Z",
     "iopub.status.idle": "2022-12-07T10:01:29.305867Z",
     "shell.execute_reply": "2022-12-07T10:01:29.304586Z",
     "shell.execute_reply.started": "2022-12-07T10:01:29.281673Z"
    },
    "tags": []
   },
   "source": [
    "#### **a(ii)** \n",
    "Show the data types of the dataframe columns as well as the first 5 rows. On the first sight, are there any data type problems (e.g., numerical columns having a non-numerical data type)?\n",
    "\n"
   ]
  },
  {
   "cell_type": "code",
   "execution_count": 3,
   "id": "8a2e18e6-f590-449d-891f-f5684fdb23e2",
   "metadata": {
    "tags": []
   },
   "outputs": [
    {
     "name": "stdout",
     "output_type": "stream",
     "text": [
      "Resort <class 'pandas.core.series.Series'>\n",
      "<class 'str'>\n",
      "<class 'str'>\n",
      "<class 'str'>\n",
      "<class 'str'>\n",
      "<class 'str'>\n",
      "Country <class 'pandas.core.series.Series'>\n",
      "<class 'str'>\n",
      "<class 'str'>\n",
      "<class 'str'>\n",
      "<class 'str'>\n",
      "<class 'str'>\n",
      "HighestPoint <class 'pandas.core.series.Series'>\n",
      "<class 'numpy.float64'>\n",
      "<class 'numpy.float64'>\n",
      "<class 'numpy.float64'>\n",
      "<class 'numpy.float64'>\n",
      "<class 'numpy.float64'>\n",
      "LowestPoint <class 'pandas.core.series.Series'>\n",
      "<class 'numpy.float64'>\n",
      "<class 'numpy.float64'>\n",
      "<class 'numpy.float64'>\n",
      "<class 'numpy.float64'>\n",
      "<class 'numpy.float64'>\n",
      "DayPassPriceAdult <class 'pandas.core.series.Series'>\n",
      "<class 'numpy.float64'>\n",
      "<class 'numpy.float64'>\n",
      "<class 'numpy.float64'>\n",
      "<class 'numpy.float64'>\n",
      "<class 'numpy.float64'>\n",
      "BeginnerSlope <class 'pandas.core.series.Series'>\n",
      "<class 'numpy.float64'>\n",
      "<class 'numpy.float64'>\n",
      "<class 'numpy.float64'>\n",
      "<class 'numpy.float64'>\n",
      "<class 'numpy.float64'>\n",
      "IntermediateSlope <class 'pandas.core.series.Series'>\n",
      "<class 'numpy.int64'>\n",
      "<class 'numpy.int64'>\n",
      "<class 'numpy.int64'>\n",
      "<class 'numpy.int64'>\n",
      "<class 'numpy.int64'>\n",
      "DifficultSlope <class 'pandas.core.series.Series'>\n",
      "<class 'numpy.float64'>\n",
      "<class 'numpy.float64'>\n",
      "<class 'numpy.float64'>\n",
      "<class 'numpy.float64'>\n",
      "<class 'numpy.float64'>\n",
      "TotalSlope <class 'pandas.core.series.Series'>\n",
      "<class 'numpy.int64'>\n",
      "<class 'numpy.int64'>\n",
      "<class 'numpy.int64'>\n",
      "<class 'numpy.int64'>\n",
      "<class 'numpy.int64'>\n",
      "Snowparks <class 'pandas.core.series.Series'>\n",
      "<class 'str'>\n",
      "<class 'str'>\n",
      "<class 'str'>\n",
      "<class 'str'>\n",
      "<class 'str'>\n",
      "NightSki <class 'pandas.core.series.Series'>\n",
      "<class 'str'>\n",
      "<class 'str'>\n",
      "<class 'str'>\n",
      "<class 'str'>\n",
      "<class 'str'>\n",
      "SurfaceLifts <class 'pandas.core.series.Series'>\n",
      "<class 'numpy.float64'>\n",
      "<class 'numpy.float64'>\n",
      "<class 'numpy.float64'>\n",
      "<class 'numpy.float64'>\n",
      "<class 'numpy.float64'>\n",
      "ChairLifts <class 'pandas.core.series.Series'>\n",
      "<class 'numpy.int64'>\n",
      "<class 'numpy.int64'>\n",
      "<class 'numpy.int64'>\n",
      "<class 'numpy.int64'>\n",
      "<class 'numpy.int64'>\n",
      "GondolaLifts <class 'pandas.core.series.Series'>\n",
      "<class 'numpy.float64'>\n",
      "<class 'numpy.float64'>\n",
      "<class 'numpy.float64'>\n",
      "<class 'numpy.float64'>\n",
      "<class 'numpy.float64'>\n",
      "TotalLifts <class 'pandas.core.series.Series'>\n",
      "<class 'numpy.int64'>\n",
      "<class 'numpy.int64'>\n",
      "<class 'numpy.int64'>\n",
      "<class 'numpy.int64'>\n",
      "<class 'numpy.int64'>\n",
      "LiftCapacity <class 'pandas.core.series.Series'>\n",
      "<class 'numpy.float64'>\n",
      "<class 'numpy.float64'>\n",
      "<class 'numpy.float64'>\n",
      "<class 'numpy.float64'>\n",
      "<class 'numpy.float64'>\n",
      "SnowCannons <class 'pandas.core.series.Series'>\n",
      "<class 'numpy.float64'>\n",
      "<class 'numpy.float64'>\n",
      "<class 'numpy.float64'>\n",
      "<class 'numpy.float64'>\n",
      "<class 'numpy.float64'>\n"
     ]
    }
   ],
   "source": [
    "# your code\n",
    "\n",
    "for col in df.columns:\n",
    "    print(col, type(df[col]))\n",
    "    for i in range(1,6):\n",
    "        print(type(df[col][i]))"
   ]
  },
  {
   "attachments": {},
   "cell_type": "markdown",
   "id": "34febc32-6c1a-45ec-96c5-f81dda43ba7b",
   "metadata": {},
   "source": [
    "**Your Answer:** There does not seem to be any problem with inconsintencies, however, it is stricing, that there are no bools, although one would expect that from the above given desciption, i.e. 'Nightski' or 'SnowPark'."
   ]
  },
  {
   "cell_type": "markdown",
   "id": "c8ff406b-5ec1-4b26-8abb-5b5a91643841",
   "metadata": {
    "tags": []
   },
   "source": [
    "#### **a(iii)** \n",
    "To improve performance and memory usage (in particular for large datasets) it is important to use **categorical** columns whenever suitable.\n",
    "Are there any categorical column candidates? Explain your answer. \\\n",
    "Afterward, convert the column(s) in `df` into categorical column(s)."
   ]
  },
  {
   "cell_type": "code",
   "execution_count": 4,
   "id": "ddf1718b",
   "metadata": {},
   "outputs": [
    {
     "data": {
      "text/html": [
       "<div>\n",
       "<style scoped>\n",
       "    .dataframe tbody tr th:only-of-type {\n",
       "        vertical-align: middle;\n",
       "    }\n",
       "\n",
       "    .dataframe tbody tr th {\n",
       "        vertical-align: top;\n",
       "    }\n",
       "\n",
       "    .dataframe thead th {\n",
       "        text-align: right;\n",
       "    }\n",
       "</style>\n",
       "<table border=\"1\" class=\"dataframe\">\n",
       "  <thead>\n",
       "    <tr style=\"text-align: right;\">\n",
       "      <th></th>\n",
       "      <th>Resort</th>\n",
       "      <th>Country</th>\n",
       "      <th>HighestPoint</th>\n",
       "      <th>LowestPoint</th>\n",
       "      <th>DayPassPriceAdult</th>\n",
       "      <th>BeginnerSlope</th>\n",
       "      <th>IntermediateSlope</th>\n",
       "      <th>DifficultSlope</th>\n",
       "      <th>TotalSlope</th>\n",
       "      <th>Snowparks</th>\n",
       "      <th>NightSki</th>\n",
       "      <th>SurfaceLifts</th>\n",
       "      <th>ChairLifts</th>\n",
       "      <th>GondolaLifts</th>\n",
       "      <th>TotalLifts</th>\n",
       "      <th>LiftCapacity</th>\n",
       "      <th>SnowCannons</th>\n",
       "    </tr>\n",
       "  </thead>\n",
       "  <tbody>\n",
       "    <tr>\n",
       "      <th>1</th>\n",
       "      <td>Alpendorf (Ski amedé)</td>\n",
       "      <td>Austria</td>\n",
       "      <td>1980.0</td>\n",
       "      <td>740.0</td>\n",
       "      <td>52.0</td>\n",
       "      <td>30.0</td>\n",
       "      <td>81</td>\n",
       "      <td>4.0</td>\n",
       "      <td>115</td>\n",
       "      <td>Yes</td>\n",
       "      <td>No</td>\n",
       "      <td>22.0</td>\n",
       "      <td>16</td>\n",
       "      <td>11.0</td>\n",
       "      <td>49</td>\n",
       "      <td>75398.0</td>\n",
       "      <td>600.0</td>\n",
       "    </tr>\n",
       "    <tr>\n",
       "      <th>2</th>\n",
       "      <td>Soldeu-Pas de la Casa/​Grau Roig/​El Tarter/​C...</td>\n",
       "      <td>Andorra</td>\n",
       "      <td>2640.0</td>\n",
       "      <td>1710.0</td>\n",
       "      <td>47.0</td>\n",
       "      <td>100.0</td>\n",
       "      <td>77</td>\n",
       "      <td>33.0</td>\n",
       "      <td>210</td>\n",
       "      <td>Yes</td>\n",
       "      <td>Yes</td>\n",
       "      <td>37.0</td>\n",
       "      <td>28</td>\n",
       "      <td>7.0</td>\n",
       "      <td>72</td>\n",
       "      <td>99017.0</td>\n",
       "      <td>1032.0</td>\n",
       "    </tr>\n",
       "    <tr>\n",
       "      <th>3</th>\n",
       "      <td>Oberau (Wildschönau)</td>\n",
       "      <td>Austria</td>\n",
       "      <td>1130.0</td>\n",
       "      <td>900.0</td>\n",
       "      <td>30.0</td>\n",
       "      <td>1.0</td>\n",
       "      <td>0</td>\n",
       "      <td>1.0</td>\n",
       "      <td>2</td>\n",
       "      <td>No</td>\n",
       "      <td>No</td>\n",
       "      <td>2.0</td>\n",
       "      <td>0</td>\n",
       "      <td>0.0</td>\n",
       "      <td>2</td>\n",
       "      <td>1932.0</td>\n",
       "      <td>0.0</td>\n",
       "    </tr>\n",
       "    <tr>\n",
       "      <th>4</th>\n",
       "      <td>Dachstein West</td>\n",
       "      <td>Austria</td>\n",
       "      <td>1620.0</td>\n",
       "      <td>780.0</td>\n",
       "      <td>42.0</td>\n",
       "      <td>15.0</td>\n",
       "      <td>33</td>\n",
       "      <td>3.0</td>\n",
       "      <td>51</td>\n",
       "      <td>Yes</td>\n",
       "      <td>Yes</td>\n",
       "      <td>25.0</td>\n",
       "      <td>8</td>\n",
       "      <td>3.0</td>\n",
       "      <td>36</td>\n",
       "      <td>32938.0</td>\n",
       "      <td>163.0</td>\n",
       "    </tr>\n",
       "    <tr>\n",
       "      <th>5</th>\n",
       "      <td>Rosa Khutor</td>\n",
       "      <td>Southern Russia</td>\n",
       "      <td>2320.0</td>\n",
       "      <td>940.0</td>\n",
       "      <td>22.0</td>\n",
       "      <td>30.0</td>\n",
       "      <td>26</td>\n",
       "      <td>21.0</td>\n",
       "      <td>77</td>\n",
       "      <td>Yes</td>\n",
       "      <td>No</td>\n",
       "      <td>6.0</td>\n",
       "      <td>11</td>\n",
       "      <td>10.0</td>\n",
       "      <td>27</td>\n",
       "      <td>49228.0</td>\n",
       "      <td>450.0</td>\n",
       "    </tr>\n",
       "  </tbody>\n",
       "</table>\n",
       "</div>"
      ],
      "text/plain": [
       "                                              Resort          Country  \\\n",
       "1                              Alpendorf (Ski amedé)          Austria   \n",
       "2  Soldeu-Pas de la Casa/​Grau Roig/​El Tarter/​C...          Andorra   \n",
       "3                              Oberau (Wildschönau)          Austria   \n",
       "4                                     Dachstein West          Austria   \n",
       "5                                        Rosa Khutor  Southern Russia   \n",
       "\n",
       "   HighestPoint  LowestPoint  DayPassPriceAdult  BeginnerSlope  \\\n",
       "1        1980.0        740.0               52.0           30.0   \n",
       "2        2640.0       1710.0               47.0          100.0   \n",
       "3        1130.0        900.0               30.0            1.0   \n",
       "4        1620.0        780.0               42.0           15.0   \n",
       "5        2320.0        940.0               22.0           30.0   \n",
       "\n",
       "   IntermediateSlope  DifficultSlope  TotalSlope Snowparks NightSki  \\\n",
       "1                 81             4.0         115       Yes       No   \n",
       "2                 77            33.0         210       Yes      Yes   \n",
       "3                  0             1.0           2        No       No   \n",
       "4                 33             3.0          51       Yes      Yes   \n",
       "5                 26            21.0          77       Yes       No   \n",
       "\n",
       "   SurfaceLifts  ChairLifts  GondolaLifts  TotalLifts  LiftCapacity  \\\n",
       "1          22.0          16          11.0          49       75398.0   \n",
       "2          37.0          28           7.0          72       99017.0   \n",
       "3           2.0           0           0.0           2        1932.0   \n",
       "4          25.0           8           3.0          36       32938.0   \n",
       "5           6.0          11          10.0          27       49228.0   \n",
       "\n",
       "   SnowCannons  \n",
       "1        600.0  \n",
       "2       1032.0  \n",
       "3          0.0  \n",
       "4        163.0  \n",
       "5        450.0  "
      ]
     },
     "execution_count": 4,
     "metadata": {},
     "output_type": "execute_result"
    }
   ],
   "source": [
    "df.head()\n"
   ]
  },
  {
   "cell_type": "code",
   "execution_count": 5,
   "id": "afa75081-bf63-4e85-94c2-483d9ae4118e",
   "metadata": {
    "tags": []
   },
   "outputs": [
    {
     "name": "stdout",
     "output_type": "stream",
     "text": [
      "Resort 376\n",
      "Country 27\n",
      "HighestPoint 277\n",
      "LowestPoint 239\n",
      "DayPassPriceAdult 53\n",
      "BeginnerSlope 83\n",
      "IntermediateSlope 86\n",
      "DifficultSlope 45\n",
      "TotalSlope 129\n",
      "Snowparks 2\n",
      "NightSki 2\n",
      "SurfaceLifts 48\n",
      "ChairLifts 37\n",
      "GondolaLifts 24\n",
      "TotalLifts 67\n",
      "LiftCapacity 329\n",
      "SnowCannons 153\n",
      "total number of rows:  376\n"
     ]
    }
   ],
   "source": [
    "# your code\n",
    "# df.head()\n",
    "for col in df.columns:\n",
    "    print(col, len(df[col].unique()))       # shows how many unique entries there are for each column of df\n",
    "\n",
    "print('total number of rows: ', df.shape[0])"
   ]
  },
  {
   "attachments": {},
   "cell_type": "markdown",
   "id": "131c3379-bb44-42d0-9c4f-9d1e4c2d38b6",
   "metadata": {},
   "source": [
    "**Your Answer:** The overview above shows that there are only few candidates for being converted into categorical data, because the variety of their entries is too high compared to there being 376 rows in total.\n",
    "Let's have a look at the distributions via histograms:"
   ]
  },
  {
   "cell_type": "code",
   "execution_count": 6,
   "id": "249a7c7c",
   "metadata": {},
   "outputs": [
    {
     "data": {
      "application/vnd.plotly.v1+json": {
       "config": {
        "plotlyServerURL": "https://plot.ly"
       },
       "data": [
        {
         "alignmentgroup": "True",
         "bingroup": "x",
         "hovertemplate": "HighestPoint=%{x}<br>count=%{y}<extra></extra>",
         "legendgroup": "",
         "marker": {
          "color": "#636efa",
          "pattern": {
           "shape": ""
          }
         },
         "name": "",
         "nbinsx": 100,
         "offsetgroup": "",
         "orientation": "v",
         "showlegend": false,
         "type": "histogram",
         "x": [
          1980,
          2640,
          1130,
          1620,
          2320,
          910,
          2290,
          1257,
          1889,
          1480,
          1785,
          960,
          1750,
          1800,
          1140,
          3230,
          3230,
          2620,
          null,
          2353,
          3018,
          2750,
          1608,
          2550,
          2594,
          2500,
          2531,
          1600,
          2550,
          2477,
          2050,
          2800,
          2603,
          2310,
          2400,
          3303,
          2002,
          807,
          1845,
          2055,
          2694,
          1600,
          2725,
          2450,
          2500,
          2844,
          1274,
          2141,
          2250,
          2020,
          1260,
          2011,
          2007,
          1835,
          2100,
          2378,
          2900,
          2100,
          1400,
          2050,
          2000,
          2621,
          2200,
          2677,
          1850,
          3020,
          1100,
          2850,
          2033,
          2220,
          2737,
          2713,
          2785,
          2513,
          2560,
          665,
          2450,
          1372,
          2750,
          1550,
          2478,
          2150,
          3250,
          2833,
          3118,
          2357,
          1055,
          2262,
          1669,
          1850,
          3025,
          2520,
          2400,
          2205,
          3016,
          2151,
          2420,
          2560,
          2213,
          1300,
          2525,
          1000,
          718,
          2428,
          3111,
          2989,
          2000,
          2184,
          2376,
          2017,
          2750,
          2501,
          2350,
          2060,
          1354,
          2970,
          1540,
          2418,
          2270,
          3012,
          2300,
          null,
          1610,
          2700,
          2471,
          1070,
          2236,
          2000,
          887,
          2004,
          872,
          1270,
          949,
          1860,
          1315,
          1420,
          1540,
          1327,
          1966,
          1678,
          2118,
          2050,
          3842,
          2337,
          510,
          1850,
          830,
          1967,
          890,
          2422,
          null,
          1892,
          1000,
          2125,
          2255,
          1964,
          2300,
          1235,
          1870,
          1976,
          1440,
          900,
          2228,
          880,
          2450,
          2175,
          1850,
          1609,
          2344,
          2200,
          1752,
          2300,
          2108,
          1723,
          900,
          3250,
          1799,
          2000,
          2500,
          2310,
          1038,
          1448,
          2685,
          896,
          1410,
          2064,
          2000,
          1202,
          1820,
          1743,
          2304,
          2115,
          2205,
          163,
          1715,
          1870,
          1608,
          2502,
          1139,
          1650,
          1116,
          1361,
          122,
          1563,
          1700,
          1870,
          780,
          2224,
          2222,
          1636,
          745,
          2550,
          2100,
          1325,
          1215,
          1600,
          null,
          null,
          null,
          null,
          null,
          null,
          null,
          1200,
          760,
          210,
          1840,
          1567,
          857,
          1886,
          1350,
          842,
          1230,
          2000,
          1060,
          1770,
          1800,
          null,
          1307,
          2610,
          1612,
          null,
          2340,
          1417,
          3006,
          1396,
          1148,
          1039,
          2800,
          2190,
          1103,
          730,
          1559,
          1450,
          2864,
          2700,
          1350,
          1530,
          1774,
          3016,
          1554,
          3226,
          3456,
          2798,
          3230,
          2466,
          2466,
          2466,
          2000,
          3082,
          1030,
          960,
          3108,
          1178,
          2025,
          1280,
          1957,
          1957,
          1957,
          3029,
          3230,
          3167,
          2015,
          3330,
          2251,
          2340,
          2560,
          2510,
          1900,
          3000,
          1712,
          2040,
          2504,
          1360,
          1756,
          3899,
          3275,
          2270,
          1510,
          2490,
          2590,
          2483,
          2611,
          2924,
          3057,
          2069,
          1460,
          2300,
          1070,
          2110,
          2640,
          2640,
          1751,
          1900,
          1941,
          1370,
          2865,
          2120,
          3330,
          3330,
          3330,
          3330,
          2872,
          2320,
          1215,
          2520,
          3534,
          2641,
          2641,
          3230,
          775,
          3560,
          2437,
          2720,
          2755,
          3899,
          2500,
          655,
          2313,
          531,
          492,
          null,
          2096,
          2096,
          3573,
          2620,
          3212,
          2820,
          2800,
          2749,
          2430,
          1980,
          1980,
          1550,
          2811,
          2811,
          2811,
          2811,
          3282,
          1604,
          2300,
          2275,
          2300,
          1385,
          2625,
          1450,
          3340,
          3212,
          2080,
          2518,
          3230,
          2749,
          2749,
          3275,
          3275,
          2188
         ],
         "xaxis": "x",
         "yaxis": "y"
        }
       ],
       "layout": {
        "barmode": "relative",
        "legend": {
         "tracegroupgap": 0
        },
        "margin": {
         "t": 60
        },
        "template": {
         "data": {
          "bar": [
           {
            "error_x": {
             "color": "#2a3f5f"
            },
            "error_y": {
             "color": "#2a3f5f"
            },
            "marker": {
             "line": {
              "color": "#E5ECF6",
              "width": 0.5
             },
             "pattern": {
              "fillmode": "overlay",
              "size": 10,
              "solidity": 0.2
             }
            },
            "type": "bar"
           }
          ],
          "barpolar": [
           {
            "marker": {
             "line": {
              "color": "#E5ECF6",
              "width": 0.5
             },
             "pattern": {
              "fillmode": "overlay",
              "size": 10,
              "solidity": 0.2
             }
            },
            "type": "barpolar"
           }
          ],
          "carpet": [
           {
            "aaxis": {
             "endlinecolor": "#2a3f5f",
             "gridcolor": "white",
             "linecolor": "white",
             "minorgridcolor": "white",
             "startlinecolor": "#2a3f5f"
            },
            "baxis": {
             "endlinecolor": "#2a3f5f",
             "gridcolor": "white",
             "linecolor": "white",
             "minorgridcolor": "white",
             "startlinecolor": "#2a3f5f"
            },
            "type": "carpet"
           }
          ],
          "choropleth": [
           {
            "colorbar": {
             "outlinewidth": 0,
             "ticks": ""
            },
            "type": "choropleth"
           }
          ],
          "contour": [
           {
            "colorbar": {
             "outlinewidth": 0,
             "ticks": ""
            },
            "colorscale": [
             [
              0,
              "#0d0887"
             ],
             [
              0.1111111111111111,
              "#46039f"
             ],
             [
              0.2222222222222222,
              "#7201a8"
             ],
             [
              0.3333333333333333,
              "#9c179e"
             ],
             [
              0.4444444444444444,
              "#bd3786"
             ],
             [
              0.5555555555555556,
              "#d8576b"
             ],
             [
              0.6666666666666666,
              "#ed7953"
             ],
             [
              0.7777777777777778,
              "#fb9f3a"
             ],
             [
              0.8888888888888888,
              "#fdca26"
             ],
             [
              1,
              "#f0f921"
             ]
            ],
            "type": "contour"
           }
          ],
          "contourcarpet": [
           {
            "colorbar": {
             "outlinewidth": 0,
             "ticks": ""
            },
            "type": "contourcarpet"
           }
          ],
          "heatmap": [
           {
            "colorbar": {
             "outlinewidth": 0,
             "ticks": ""
            },
            "colorscale": [
             [
              0,
              "#0d0887"
             ],
             [
              0.1111111111111111,
              "#46039f"
             ],
             [
              0.2222222222222222,
              "#7201a8"
             ],
             [
              0.3333333333333333,
              "#9c179e"
             ],
             [
              0.4444444444444444,
              "#bd3786"
             ],
             [
              0.5555555555555556,
              "#d8576b"
             ],
             [
              0.6666666666666666,
              "#ed7953"
             ],
             [
              0.7777777777777778,
              "#fb9f3a"
             ],
             [
              0.8888888888888888,
              "#fdca26"
             ],
             [
              1,
              "#f0f921"
             ]
            ],
            "type": "heatmap"
           }
          ],
          "heatmapgl": [
           {
            "colorbar": {
             "outlinewidth": 0,
             "ticks": ""
            },
            "colorscale": [
             [
              0,
              "#0d0887"
             ],
             [
              0.1111111111111111,
              "#46039f"
             ],
             [
              0.2222222222222222,
              "#7201a8"
             ],
             [
              0.3333333333333333,
              "#9c179e"
             ],
             [
              0.4444444444444444,
              "#bd3786"
             ],
             [
              0.5555555555555556,
              "#d8576b"
             ],
             [
              0.6666666666666666,
              "#ed7953"
             ],
             [
              0.7777777777777778,
              "#fb9f3a"
             ],
             [
              0.8888888888888888,
              "#fdca26"
             ],
             [
              1,
              "#f0f921"
             ]
            ],
            "type": "heatmapgl"
           }
          ],
          "histogram": [
           {
            "marker": {
             "pattern": {
              "fillmode": "overlay",
              "size": 10,
              "solidity": 0.2
             }
            },
            "type": "histogram"
           }
          ],
          "histogram2d": [
           {
            "colorbar": {
             "outlinewidth": 0,
             "ticks": ""
            },
            "colorscale": [
             [
              0,
              "#0d0887"
             ],
             [
              0.1111111111111111,
              "#46039f"
             ],
             [
              0.2222222222222222,
              "#7201a8"
             ],
             [
              0.3333333333333333,
              "#9c179e"
             ],
             [
              0.4444444444444444,
              "#bd3786"
             ],
             [
              0.5555555555555556,
              "#d8576b"
             ],
             [
              0.6666666666666666,
              "#ed7953"
             ],
             [
              0.7777777777777778,
              "#fb9f3a"
             ],
             [
              0.8888888888888888,
              "#fdca26"
             ],
             [
              1,
              "#f0f921"
             ]
            ],
            "type": "histogram2d"
           }
          ],
          "histogram2dcontour": [
           {
            "colorbar": {
             "outlinewidth": 0,
             "ticks": ""
            },
            "colorscale": [
             [
              0,
              "#0d0887"
             ],
             [
              0.1111111111111111,
              "#46039f"
             ],
             [
              0.2222222222222222,
              "#7201a8"
             ],
             [
              0.3333333333333333,
              "#9c179e"
             ],
             [
              0.4444444444444444,
              "#bd3786"
             ],
             [
              0.5555555555555556,
              "#d8576b"
             ],
             [
              0.6666666666666666,
              "#ed7953"
             ],
             [
              0.7777777777777778,
              "#fb9f3a"
             ],
             [
              0.8888888888888888,
              "#fdca26"
             ],
             [
              1,
              "#f0f921"
             ]
            ],
            "type": "histogram2dcontour"
           }
          ],
          "mesh3d": [
           {
            "colorbar": {
             "outlinewidth": 0,
             "ticks": ""
            },
            "type": "mesh3d"
           }
          ],
          "parcoords": [
           {
            "line": {
             "colorbar": {
              "outlinewidth": 0,
              "ticks": ""
             }
            },
            "type": "parcoords"
           }
          ],
          "pie": [
           {
            "automargin": true,
            "type": "pie"
           }
          ],
          "scatter": [
           {
            "fillpattern": {
             "fillmode": "overlay",
             "size": 10,
             "solidity": 0.2
            },
            "type": "scatter"
           }
          ],
          "scatter3d": [
           {
            "line": {
             "colorbar": {
              "outlinewidth": 0,
              "ticks": ""
             }
            },
            "marker": {
             "colorbar": {
              "outlinewidth": 0,
              "ticks": ""
             }
            },
            "type": "scatter3d"
           }
          ],
          "scattercarpet": [
           {
            "marker": {
             "colorbar": {
              "outlinewidth": 0,
              "ticks": ""
             }
            },
            "type": "scattercarpet"
           }
          ],
          "scattergeo": [
           {
            "marker": {
             "colorbar": {
              "outlinewidth": 0,
              "ticks": ""
             }
            },
            "type": "scattergeo"
           }
          ],
          "scattergl": [
           {
            "marker": {
             "colorbar": {
              "outlinewidth": 0,
              "ticks": ""
             }
            },
            "type": "scattergl"
           }
          ],
          "scattermapbox": [
           {
            "marker": {
             "colorbar": {
              "outlinewidth": 0,
              "ticks": ""
             }
            },
            "type": "scattermapbox"
           }
          ],
          "scatterpolar": [
           {
            "marker": {
             "colorbar": {
              "outlinewidth": 0,
              "ticks": ""
             }
            },
            "type": "scatterpolar"
           }
          ],
          "scatterpolargl": [
           {
            "marker": {
             "colorbar": {
              "outlinewidth": 0,
              "ticks": ""
             }
            },
            "type": "scatterpolargl"
           }
          ],
          "scatterternary": [
           {
            "marker": {
             "colorbar": {
              "outlinewidth": 0,
              "ticks": ""
             }
            },
            "type": "scatterternary"
           }
          ],
          "surface": [
           {
            "colorbar": {
             "outlinewidth": 0,
             "ticks": ""
            },
            "colorscale": [
             [
              0,
              "#0d0887"
             ],
             [
              0.1111111111111111,
              "#46039f"
             ],
             [
              0.2222222222222222,
              "#7201a8"
             ],
             [
              0.3333333333333333,
              "#9c179e"
             ],
             [
              0.4444444444444444,
              "#bd3786"
             ],
             [
              0.5555555555555556,
              "#d8576b"
             ],
             [
              0.6666666666666666,
              "#ed7953"
             ],
             [
              0.7777777777777778,
              "#fb9f3a"
             ],
             [
              0.8888888888888888,
              "#fdca26"
             ],
             [
              1,
              "#f0f921"
             ]
            ],
            "type": "surface"
           }
          ],
          "table": [
           {
            "cells": {
             "fill": {
              "color": "#EBF0F8"
             },
             "line": {
              "color": "white"
             }
            },
            "header": {
             "fill": {
              "color": "#C8D4E3"
             },
             "line": {
              "color": "white"
             }
            },
            "type": "table"
           }
          ]
         },
         "layout": {
          "annotationdefaults": {
           "arrowcolor": "#2a3f5f",
           "arrowhead": 0,
           "arrowwidth": 1
          },
          "autotypenumbers": "strict",
          "coloraxis": {
           "colorbar": {
            "outlinewidth": 0,
            "ticks": ""
           }
          },
          "colorscale": {
           "diverging": [
            [
             0,
             "#8e0152"
            ],
            [
             0.1,
             "#c51b7d"
            ],
            [
             0.2,
             "#de77ae"
            ],
            [
             0.3,
             "#f1b6da"
            ],
            [
             0.4,
             "#fde0ef"
            ],
            [
             0.5,
             "#f7f7f7"
            ],
            [
             0.6,
             "#e6f5d0"
            ],
            [
             0.7,
             "#b8e186"
            ],
            [
             0.8,
             "#7fbc41"
            ],
            [
             0.9,
             "#4d9221"
            ],
            [
             1,
             "#276419"
            ]
           ],
           "sequential": [
            [
             0,
             "#0d0887"
            ],
            [
             0.1111111111111111,
             "#46039f"
            ],
            [
             0.2222222222222222,
             "#7201a8"
            ],
            [
             0.3333333333333333,
             "#9c179e"
            ],
            [
             0.4444444444444444,
             "#bd3786"
            ],
            [
             0.5555555555555556,
             "#d8576b"
            ],
            [
             0.6666666666666666,
             "#ed7953"
            ],
            [
             0.7777777777777778,
             "#fb9f3a"
            ],
            [
             0.8888888888888888,
             "#fdca26"
            ],
            [
             1,
             "#f0f921"
            ]
           ],
           "sequentialminus": [
            [
             0,
             "#0d0887"
            ],
            [
             0.1111111111111111,
             "#46039f"
            ],
            [
             0.2222222222222222,
             "#7201a8"
            ],
            [
             0.3333333333333333,
             "#9c179e"
            ],
            [
             0.4444444444444444,
             "#bd3786"
            ],
            [
             0.5555555555555556,
             "#d8576b"
            ],
            [
             0.6666666666666666,
             "#ed7953"
            ],
            [
             0.7777777777777778,
             "#fb9f3a"
            ],
            [
             0.8888888888888888,
             "#fdca26"
            ],
            [
             1,
             "#f0f921"
            ]
           ]
          },
          "colorway": [
           "#636efa",
           "#EF553B",
           "#00cc96",
           "#ab63fa",
           "#FFA15A",
           "#19d3f3",
           "#FF6692",
           "#B6E880",
           "#FF97FF",
           "#FECB52"
          ],
          "font": {
           "color": "#2a3f5f"
          },
          "geo": {
           "bgcolor": "white",
           "lakecolor": "white",
           "landcolor": "#E5ECF6",
           "showlakes": true,
           "showland": true,
           "subunitcolor": "white"
          },
          "hoverlabel": {
           "align": "left"
          },
          "hovermode": "closest",
          "mapbox": {
           "style": "light"
          },
          "paper_bgcolor": "white",
          "plot_bgcolor": "#E5ECF6",
          "polar": {
           "angularaxis": {
            "gridcolor": "white",
            "linecolor": "white",
            "ticks": ""
           },
           "bgcolor": "#E5ECF6",
           "radialaxis": {
            "gridcolor": "white",
            "linecolor": "white",
            "ticks": ""
           }
          },
          "scene": {
           "xaxis": {
            "backgroundcolor": "#E5ECF6",
            "gridcolor": "white",
            "gridwidth": 2,
            "linecolor": "white",
            "showbackground": true,
            "ticks": "",
            "zerolinecolor": "white"
           },
           "yaxis": {
            "backgroundcolor": "#E5ECF6",
            "gridcolor": "white",
            "gridwidth": 2,
            "linecolor": "white",
            "showbackground": true,
            "ticks": "",
            "zerolinecolor": "white"
           },
           "zaxis": {
            "backgroundcolor": "#E5ECF6",
            "gridcolor": "white",
            "gridwidth": 2,
            "linecolor": "white",
            "showbackground": true,
            "ticks": "",
            "zerolinecolor": "white"
           }
          },
          "shapedefaults": {
           "line": {
            "color": "#2a3f5f"
           }
          },
          "ternary": {
           "aaxis": {
            "gridcolor": "white",
            "linecolor": "white",
            "ticks": ""
           },
           "baxis": {
            "gridcolor": "white",
            "linecolor": "white",
            "ticks": ""
           },
           "bgcolor": "#E5ECF6",
           "caxis": {
            "gridcolor": "white",
            "linecolor": "white",
            "ticks": ""
           }
          },
          "title": {
           "x": 0.05
          },
          "xaxis": {
           "automargin": true,
           "gridcolor": "white",
           "linecolor": "white",
           "ticks": "",
           "title": {
            "standoff": 15
           },
           "zerolinecolor": "white",
           "zerolinewidth": 2
          },
          "yaxis": {
           "automargin": true,
           "gridcolor": "white",
           "linecolor": "white",
           "ticks": "",
           "title": {
            "standoff": 15
           },
           "zerolinecolor": "white",
           "zerolinewidth": 2
          }
         }
        },
        "xaxis": {
         "anchor": "y",
         "domain": [
          0,
          1
         ],
         "title": {
          "text": "HighestPoint"
         }
        },
        "yaxis": {
         "anchor": "x",
         "domain": [
          0,
          1
         ],
         "title": {
          "text": "count"
         }
        }
       }
      }
     },
     "metadata": {},
     "output_type": "display_data"
    },
    {
     "data": {
      "application/vnd.plotly.v1+json": {
       "config": {
        "plotlyServerURL": "https://plot.ly"
       },
       "data": [
        {
         "alignmentgroup": "True",
         "bingroup": "x",
         "hovertemplate": "LowestPoint=%{x}<br>count=%{y}<extra></extra>",
         "legendgroup": "",
         "marker": {
          "color": "#636efa",
          "pattern": {
           "shape": ""
          }
         },
         "name": "",
         "nbinsx": 100,
         "offsetgroup": "",
         "orientation": "v",
         "showlegend": false,
         "type": "histogram",
         "x": [
          740,
          1710,
          900,
          780,
          940,
          680,
          726,
          524,
          920,
          540,
          1370,
          540,
          1050,
          900,
          810,
          1110,
          1110,
          1100,
          694,
          850,
          1100,
          1650,
          1500,
          1250,
          1430,
          580,
          1616,
          1150,
          1324,
          1040,
          1050,
          1300,
          1800,
          1201,
          1350,
          1797,
          600,
          803,
          759,
          1087,
          1312,
          812,
          1850,
          1450,
          1250,
          810,
          380,
          1309,
          1400,
          1412,
          1072,
          948,
          1079,
          1113,
          1000,
          600,
          1570,
          1000,
          720,
          690,
          760,
          1505,
          1130,
          1407,
          1200,
          1000,
          415,
          1400,
          850,
          1066,
          1550,
          1200,
          1250,
          1190,
          1420,
          425,
          1400,
          890,
          1350,
          1230,
          1602,
          820,
          1500,
          1227,
          1322,
          1404,
          600,
          900,
          1000,
          1160,
          1655,
          1600,
          1600,
          1250,
          1121,
          992,
          1500,
          1300,
          1650,
          585,
          1030,
          584,
          200,
          1320,
          1419,
          1301,
          904,
          1367,
          1600,
          1057,
          1500,
          1050,
          1110,
          1046,
          772,
          796,
          570,
          1110,
          1162,
          1225,
          1500,
          1095,
          923,
          1335,
          1600,
          573,
          1514,
          700,
          579,
          943,
          572,
          670,
          547,
          740,
          439,
          1000,
          1050,
          325,
          1240,
          1137,
          868,
          732,
          1035,
          1200,
          490,
          1300,
          443,
          920,
          588,
          933,
          1620,
          1240,
          520,
          1030,
          1080,
          912,
          1050,
          702,
          1445,
          900,
          635,
          640,
          535,
          834,
          1350,
          940,
          1035,
          648,
          1444,
          1500,
          754,
          1600,
          1222,
          791,
          650,
          1900,
          1021,
          600,
          1350,
          1745,
          743,
          888,
          1740,
          812,
          820,
          1230,
          1600,
          854,
          950,
          1067,
          950,
          1497,
          1400,
          97,
          655,
          810,
          1100,
          1601,
          841,
          1150,
          835,
          914,
          90,
          850,
          900,
          1010,
          640,
          828,
          1600,
          1035,
          650,
          1480,
          1100,
          1070,
          911,
          1204,
          80,
          10,
          50,
          20,
          0,
          72,
          20,
          436,
          620,
          150,
          1376,
          750,
          545,
          1540,
          872,
          590,
          980,
          800,
          450,
          850,
          950,
          1400,
          880,
          1411,
          862,
          1850,
          1370,
          710,
          2091,
          720,
          800,
          185,
          1750,
          888,
          null,
          605,
          1130,
          870,
          1619,
          1830,
          980,
          1000,
          777,
          null,
          1300,
          1200,
          1550,
          1816,
          1110,
          1000,
          1000,
          1000,
          800,
          1793,
          195,
          284,
          2180,
          800,
          830,
          670,
          620,
          620,
          620,
          1978,
          1110,
          1207,
          745,
          1125,
          1501,
          1580,
          990,
          1471,
          800,
          1850,
          700,
          1050,
          770,
          932,
          1516,
          1562,
          1252,
          1453,
          540,
          1454,
          1540,
          1800,
          1142,
          1224,
          1720,
          1000,
          1200,
          1600,
          360,
          650,
          1710,
          1710,
          1245,
          1275,
          1046,
          1227,
          1229,
          1224,
          821,
          821,
          821,
          821,
          1377,
          944,
          800,
          1938,
          1470,
          1176,
          1176,
          1110,
          637,
          1280,
          1164,
          1550,
          null,
          1562,
          630,
          91,
          1630,
          206,
          291,
          33,
          830,
          830,
          1800,
          1550,
          2011,
          1200,
          1200,
          1372,
          700,
          740,
          740,
          1082,
          1270,
          1270,
          1270,
          1270,
          2100,
          659,
          860,
          973,
          1423,
          1030,
          1940,
          620,
          1350,
          1697,
          981,
          1236,
          1110,
          1372,
          1372,
          1212,
          1212,
          1000
         ],
         "xaxis": "x",
         "yaxis": "y"
        }
       ],
       "layout": {
        "barmode": "relative",
        "legend": {
         "tracegroupgap": 0
        },
        "margin": {
         "t": 60
        },
        "template": {
         "data": {
          "bar": [
           {
            "error_x": {
             "color": "#2a3f5f"
            },
            "error_y": {
             "color": "#2a3f5f"
            },
            "marker": {
             "line": {
              "color": "#E5ECF6",
              "width": 0.5
             },
             "pattern": {
              "fillmode": "overlay",
              "size": 10,
              "solidity": 0.2
             }
            },
            "type": "bar"
           }
          ],
          "barpolar": [
           {
            "marker": {
             "line": {
              "color": "#E5ECF6",
              "width": 0.5
             },
             "pattern": {
              "fillmode": "overlay",
              "size": 10,
              "solidity": 0.2
             }
            },
            "type": "barpolar"
           }
          ],
          "carpet": [
           {
            "aaxis": {
             "endlinecolor": "#2a3f5f",
             "gridcolor": "white",
             "linecolor": "white",
             "minorgridcolor": "white",
             "startlinecolor": "#2a3f5f"
            },
            "baxis": {
             "endlinecolor": "#2a3f5f",
             "gridcolor": "white",
             "linecolor": "white",
             "minorgridcolor": "white",
             "startlinecolor": "#2a3f5f"
            },
            "type": "carpet"
           }
          ],
          "choropleth": [
           {
            "colorbar": {
             "outlinewidth": 0,
             "ticks": ""
            },
            "type": "choropleth"
           }
          ],
          "contour": [
           {
            "colorbar": {
             "outlinewidth": 0,
             "ticks": ""
            },
            "colorscale": [
             [
              0,
              "#0d0887"
             ],
             [
              0.1111111111111111,
              "#46039f"
             ],
             [
              0.2222222222222222,
              "#7201a8"
             ],
             [
              0.3333333333333333,
              "#9c179e"
             ],
             [
              0.4444444444444444,
              "#bd3786"
             ],
             [
              0.5555555555555556,
              "#d8576b"
             ],
             [
              0.6666666666666666,
              "#ed7953"
             ],
             [
              0.7777777777777778,
              "#fb9f3a"
             ],
             [
              0.8888888888888888,
              "#fdca26"
             ],
             [
              1,
              "#f0f921"
             ]
            ],
            "type": "contour"
           }
          ],
          "contourcarpet": [
           {
            "colorbar": {
             "outlinewidth": 0,
             "ticks": ""
            },
            "type": "contourcarpet"
           }
          ],
          "heatmap": [
           {
            "colorbar": {
             "outlinewidth": 0,
             "ticks": ""
            },
            "colorscale": [
             [
              0,
              "#0d0887"
             ],
             [
              0.1111111111111111,
              "#46039f"
             ],
             [
              0.2222222222222222,
              "#7201a8"
             ],
             [
              0.3333333333333333,
              "#9c179e"
             ],
             [
              0.4444444444444444,
              "#bd3786"
             ],
             [
              0.5555555555555556,
              "#d8576b"
             ],
             [
              0.6666666666666666,
              "#ed7953"
             ],
             [
              0.7777777777777778,
              "#fb9f3a"
             ],
             [
              0.8888888888888888,
              "#fdca26"
             ],
             [
              1,
              "#f0f921"
             ]
            ],
            "type": "heatmap"
           }
          ],
          "heatmapgl": [
           {
            "colorbar": {
             "outlinewidth": 0,
             "ticks": ""
            },
            "colorscale": [
             [
              0,
              "#0d0887"
             ],
             [
              0.1111111111111111,
              "#46039f"
             ],
             [
              0.2222222222222222,
              "#7201a8"
             ],
             [
              0.3333333333333333,
              "#9c179e"
             ],
             [
              0.4444444444444444,
              "#bd3786"
             ],
             [
              0.5555555555555556,
              "#d8576b"
             ],
             [
              0.6666666666666666,
              "#ed7953"
             ],
             [
              0.7777777777777778,
              "#fb9f3a"
             ],
             [
              0.8888888888888888,
              "#fdca26"
             ],
             [
              1,
              "#f0f921"
             ]
            ],
            "type": "heatmapgl"
           }
          ],
          "histogram": [
           {
            "marker": {
             "pattern": {
              "fillmode": "overlay",
              "size": 10,
              "solidity": 0.2
             }
            },
            "type": "histogram"
           }
          ],
          "histogram2d": [
           {
            "colorbar": {
             "outlinewidth": 0,
             "ticks": ""
            },
            "colorscale": [
             [
              0,
              "#0d0887"
             ],
             [
              0.1111111111111111,
              "#46039f"
             ],
             [
              0.2222222222222222,
              "#7201a8"
             ],
             [
              0.3333333333333333,
              "#9c179e"
             ],
             [
              0.4444444444444444,
              "#bd3786"
             ],
             [
              0.5555555555555556,
              "#d8576b"
             ],
             [
              0.6666666666666666,
              "#ed7953"
             ],
             [
              0.7777777777777778,
              "#fb9f3a"
             ],
             [
              0.8888888888888888,
              "#fdca26"
             ],
             [
              1,
              "#f0f921"
             ]
            ],
            "type": "histogram2d"
           }
          ],
          "histogram2dcontour": [
           {
            "colorbar": {
             "outlinewidth": 0,
             "ticks": ""
            },
            "colorscale": [
             [
              0,
              "#0d0887"
             ],
             [
              0.1111111111111111,
              "#46039f"
             ],
             [
              0.2222222222222222,
              "#7201a8"
             ],
             [
              0.3333333333333333,
              "#9c179e"
             ],
             [
              0.4444444444444444,
              "#bd3786"
             ],
             [
              0.5555555555555556,
              "#d8576b"
             ],
             [
              0.6666666666666666,
              "#ed7953"
             ],
             [
              0.7777777777777778,
              "#fb9f3a"
             ],
             [
              0.8888888888888888,
              "#fdca26"
             ],
             [
              1,
              "#f0f921"
             ]
            ],
            "type": "histogram2dcontour"
           }
          ],
          "mesh3d": [
           {
            "colorbar": {
             "outlinewidth": 0,
             "ticks": ""
            },
            "type": "mesh3d"
           }
          ],
          "parcoords": [
           {
            "line": {
             "colorbar": {
              "outlinewidth": 0,
              "ticks": ""
             }
            },
            "type": "parcoords"
           }
          ],
          "pie": [
           {
            "automargin": true,
            "type": "pie"
           }
          ],
          "scatter": [
           {
            "fillpattern": {
             "fillmode": "overlay",
             "size": 10,
             "solidity": 0.2
            },
            "type": "scatter"
           }
          ],
          "scatter3d": [
           {
            "line": {
             "colorbar": {
              "outlinewidth": 0,
              "ticks": ""
             }
            },
            "marker": {
             "colorbar": {
              "outlinewidth": 0,
              "ticks": ""
             }
            },
            "type": "scatter3d"
           }
          ],
          "scattercarpet": [
           {
            "marker": {
             "colorbar": {
              "outlinewidth": 0,
              "ticks": ""
             }
            },
            "type": "scattercarpet"
           }
          ],
          "scattergeo": [
           {
            "marker": {
             "colorbar": {
              "outlinewidth": 0,
              "ticks": ""
             }
            },
            "type": "scattergeo"
           }
          ],
          "scattergl": [
           {
            "marker": {
             "colorbar": {
              "outlinewidth": 0,
              "ticks": ""
             }
            },
            "type": "scattergl"
           }
          ],
          "scattermapbox": [
           {
            "marker": {
             "colorbar": {
              "outlinewidth": 0,
              "ticks": ""
             }
            },
            "type": "scattermapbox"
           }
          ],
          "scatterpolar": [
           {
            "marker": {
             "colorbar": {
              "outlinewidth": 0,
              "ticks": ""
             }
            },
            "type": "scatterpolar"
           }
          ],
          "scatterpolargl": [
           {
            "marker": {
             "colorbar": {
              "outlinewidth": 0,
              "ticks": ""
             }
            },
            "type": "scatterpolargl"
           }
          ],
          "scatterternary": [
           {
            "marker": {
             "colorbar": {
              "outlinewidth": 0,
              "ticks": ""
             }
            },
            "type": "scatterternary"
           }
          ],
          "surface": [
           {
            "colorbar": {
             "outlinewidth": 0,
             "ticks": ""
            },
            "colorscale": [
             [
              0,
              "#0d0887"
             ],
             [
              0.1111111111111111,
              "#46039f"
             ],
             [
              0.2222222222222222,
              "#7201a8"
             ],
             [
              0.3333333333333333,
              "#9c179e"
             ],
             [
              0.4444444444444444,
              "#bd3786"
             ],
             [
              0.5555555555555556,
              "#d8576b"
             ],
             [
              0.6666666666666666,
              "#ed7953"
             ],
             [
              0.7777777777777778,
              "#fb9f3a"
             ],
             [
              0.8888888888888888,
              "#fdca26"
             ],
             [
              1,
              "#f0f921"
             ]
            ],
            "type": "surface"
           }
          ],
          "table": [
           {
            "cells": {
             "fill": {
              "color": "#EBF0F8"
             },
             "line": {
              "color": "white"
             }
            },
            "header": {
             "fill": {
              "color": "#C8D4E3"
             },
             "line": {
              "color": "white"
             }
            },
            "type": "table"
           }
          ]
         },
         "layout": {
          "annotationdefaults": {
           "arrowcolor": "#2a3f5f",
           "arrowhead": 0,
           "arrowwidth": 1
          },
          "autotypenumbers": "strict",
          "coloraxis": {
           "colorbar": {
            "outlinewidth": 0,
            "ticks": ""
           }
          },
          "colorscale": {
           "diverging": [
            [
             0,
             "#8e0152"
            ],
            [
             0.1,
             "#c51b7d"
            ],
            [
             0.2,
             "#de77ae"
            ],
            [
             0.3,
             "#f1b6da"
            ],
            [
             0.4,
             "#fde0ef"
            ],
            [
             0.5,
             "#f7f7f7"
            ],
            [
             0.6,
             "#e6f5d0"
            ],
            [
             0.7,
             "#b8e186"
            ],
            [
             0.8,
             "#7fbc41"
            ],
            [
             0.9,
             "#4d9221"
            ],
            [
             1,
             "#276419"
            ]
           ],
           "sequential": [
            [
             0,
             "#0d0887"
            ],
            [
             0.1111111111111111,
             "#46039f"
            ],
            [
             0.2222222222222222,
             "#7201a8"
            ],
            [
             0.3333333333333333,
             "#9c179e"
            ],
            [
             0.4444444444444444,
             "#bd3786"
            ],
            [
             0.5555555555555556,
             "#d8576b"
            ],
            [
             0.6666666666666666,
             "#ed7953"
            ],
            [
             0.7777777777777778,
             "#fb9f3a"
            ],
            [
             0.8888888888888888,
             "#fdca26"
            ],
            [
             1,
             "#f0f921"
            ]
           ],
           "sequentialminus": [
            [
             0,
             "#0d0887"
            ],
            [
             0.1111111111111111,
             "#46039f"
            ],
            [
             0.2222222222222222,
             "#7201a8"
            ],
            [
             0.3333333333333333,
             "#9c179e"
            ],
            [
             0.4444444444444444,
             "#bd3786"
            ],
            [
             0.5555555555555556,
             "#d8576b"
            ],
            [
             0.6666666666666666,
             "#ed7953"
            ],
            [
             0.7777777777777778,
             "#fb9f3a"
            ],
            [
             0.8888888888888888,
             "#fdca26"
            ],
            [
             1,
             "#f0f921"
            ]
           ]
          },
          "colorway": [
           "#636efa",
           "#EF553B",
           "#00cc96",
           "#ab63fa",
           "#FFA15A",
           "#19d3f3",
           "#FF6692",
           "#B6E880",
           "#FF97FF",
           "#FECB52"
          ],
          "font": {
           "color": "#2a3f5f"
          },
          "geo": {
           "bgcolor": "white",
           "lakecolor": "white",
           "landcolor": "#E5ECF6",
           "showlakes": true,
           "showland": true,
           "subunitcolor": "white"
          },
          "hoverlabel": {
           "align": "left"
          },
          "hovermode": "closest",
          "mapbox": {
           "style": "light"
          },
          "paper_bgcolor": "white",
          "plot_bgcolor": "#E5ECF6",
          "polar": {
           "angularaxis": {
            "gridcolor": "white",
            "linecolor": "white",
            "ticks": ""
           },
           "bgcolor": "#E5ECF6",
           "radialaxis": {
            "gridcolor": "white",
            "linecolor": "white",
            "ticks": ""
           }
          },
          "scene": {
           "xaxis": {
            "backgroundcolor": "#E5ECF6",
            "gridcolor": "white",
            "gridwidth": 2,
            "linecolor": "white",
            "showbackground": true,
            "ticks": "",
            "zerolinecolor": "white"
           },
           "yaxis": {
            "backgroundcolor": "#E5ECF6",
            "gridcolor": "white",
            "gridwidth": 2,
            "linecolor": "white",
            "showbackground": true,
            "ticks": "",
            "zerolinecolor": "white"
           },
           "zaxis": {
            "backgroundcolor": "#E5ECF6",
            "gridcolor": "white",
            "gridwidth": 2,
            "linecolor": "white",
            "showbackground": true,
            "ticks": "",
            "zerolinecolor": "white"
           }
          },
          "shapedefaults": {
           "line": {
            "color": "#2a3f5f"
           }
          },
          "ternary": {
           "aaxis": {
            "gridcolor": "white",
            "linecolor": "white",
            "ticks": ""
           },
           "baxis": {
            "gridcolor": "white",
            "linecolor": "white",
            "ticks": ""
           },
           "bgcolor": "#E5ECF6",
           "caxis": {
            "gridcolor": "white",
            "linecolor": "white",
            "ticks": ""
           }
          },
          "title": {
           "x": 0.05
          },
          "xaxis": {
           "automargin": true,
           "gridcolor": "white",
           "linecolor": "white",
           "ticks": "",
           "title": {
            "standoff": 15
           },
           "zerolinecolor": "white",
           "zerolinewidth": 2
          },
          "yaxis": {
           "automargin": true,
           "gridcolor": "white",
           "linecolor": "white",
           "ticks": "",
           "title": {
            "standoff": 15
           },
           "zerolinecolor": "white",
           "zerolinewidth": 2
          }
         }
        },
        "xaxis": {
         "anchor": "y",
         "domain": [
          0,
          1
         ],
         "title": {
          "text": "LowestPoint"
         }
        },
        "yaxis": {
         "anchor": "x",
         "domain": [
          0,
          1
         ],
         "title": {
          "text": "count"
         }
        }
       }
      }
     },
     "metadata": {},
     "output_type": "display_data"
    },
    {
     "data": {
      "application/vnd.plotly.v1+json": {
       "config": {
        "plotlyServerURL": "https://plot.ly"
       },
       "data": [
        {
         "alignmentgroup": "True",
         "bingroup": "x",
         "hovertemplate": "DayPassPriceAdult=%{x}<br>count=%{y}<extra></extra>",
         "legendgroup": "",
         "marker": {
          "color": "#636efa",
          "pattern": {
           "shape": ""
          }
         },
         "name": "",
         "nbinsx": 100,
         "offsetgroup": "",
         "orientation": "v",
         "showlegend": false,
         "type": "histogram",
         "x": [
          52,
          47,
          30,
          42,
          22,
          23,
          18,
          20,
          20,
          null,
          19,
          22,
          34,
          21,
          25,
          61,
          61,
          44,
          47,
          46,
          68,
          39,
          39,
          44,
          39,
          52,
          45,
          34,
          52,
          37,
          36,
          36,
          34,
          51,
          36,
          69,
          46,
          33,
          53,
          47,
          36,
          42,
          34,
          36,
          42,
          61,
          45,
          41,
          34,
          32,
          55,
          54,
          36,
          35,
          37,
          52,
          51,
          43,
          37,
          49,
          50,
          42,
          51,
          34,
          40,
          57,
          46,
          42,
          50,
          46,
          29,
          50,
          50,
          47,
          37,
          51,
          30,
          32,
          29,
          37,
          49,
          44,
          52,
          49,
          49,
          44,
          50,
          52,
          54,
          31,
          47,
          null,
          40,
          45,
          42,
          54,
          46,
          28,
          38,
          44,
          51,
          43,
          42,
          48,
          48,
          44,
          46,
          27,
          38,
          30,
          29,
          55,
          44,
          34,
          46,
          55,
          null,
          49,
          38,
          40,
          53,
          41,
          24,
          0,
          30,
          39,
          41,
          45,
          41,
          39,
          41,
          0,
          32,
          46,
          44,
          26,
          47,
          31,
          29,
          27,
          44,
          43,
          60,
          41,
          51,
          32,
          41,
          45,
          40,
          47,
          28,
          30,
          45,
          40,
          44,
          30,
          29,
          34,
          31,
          35,
          34,
          28,
          0,
          32,
          38,
          43,
          46,
          39,
          44,
          25,
          35,
          null,
          47,
          35,
          33,
          41,
          32,
          44,
          28,
          33,
          41,
          35,
          48,
          41,
          37,
          44,
          null,
          23,
          40,
          42,
          30,
          41,
          45,
          29,
          31,
          41,
          37,
          33,
          23,
          36,
          24,
          26,
          37,
          null,
          31,
          34,
          30,
          44,
          41,
          36,
          18,
          39,
          31,
          32,
          26,
          45,
          null,
          null,
          null,
          null,
          null,
          null,
          null,
          45,
          20,
          42,
          35,
          35,
          29,
          32,
          29,
          19,
          29,
          40,
          44,
          40,
          44,
          25,
          25,
          46,
          36,
          17,
          47,
          20,
          59,
          26,
          43,
          45,
          29,
          35,
          35,
          26,
          38,
          35,
          48,
          0,
          29,
          43,
          42,
          54,
          20,
          50,
          56,
          46,
          61,
          51,
          null,
          null,
          55,
          50,
          45,
          43,
          43,
          44,
          46,
          46,
          49,
          49,
          49,
          50,
          61,
          50,
          52,
          51,
          44,
          38,
          30,
          50,
          52,
          28,
          35,
          38,
          50,
          37,
          35,
          81,
          62,
          51,
          60,
          48,
          58,
          40,
          52,
          52,
          69,
          40,
          42,
          40,
          35,
          48,
          47,
          47,
          19,
          54,
          54,
          54,
          63,
          54,
          66,
          66,
          66,
          66,
          52,
          55,
          33,
          37,
          49,
          43,
          43,
          61,
          33,
          49,
          39,
          35,
          46,
          81,
          52,
          36,
          46,
          43,
          43,
          null,
          null,
          53,
          63,
          31,
          44,
          49,
          49,
          48,
          53,
          52,
          52,
          39,
          53,
          53,
          53,
          53,
          47,
          44,
          52,
          54,
          47,
          22,
          37,
          46,
          53,
          46,
          29,
          54,
          61,
          48,
          48,
          43,
          43,
          52
         ],
         "xaxis": "x",
         "yaxis": "y"
        }
       ],
       "layout": {
        "barmode": "relative",
        "legend": {
         "tracegroupgap": 0
        },
        "margin": {
         "t": 60
        },
        "template": {
         "data": {
          "bar": [
           {
            "error_x": {
             "color": "#2a3f5f"
            },
            "error_y": {
             "color": "#2a3f5f"
            },
            "marker": {
             "line": {
              "color": "#E5ECF6",
              "width": 0.5
             },
             "pattern": {
              "fillmode": "overlay",
              "size": 10,
              "solidity": 0.2
             }
            },
            "type": "bar"
           }
          ],
          "barpolar": [
           {
            "marker": {
             "line": {
              "color": "#E5ECF6",
              "width": 0.5
             },
             "pattern": {
              "fillmode": "overlay",
              "size": 10,
              "solidity": 0.2
             }
            },
            "type": "barpolar"
           }
          ],
          "carpet": [
           {
            "aaxis": {
             "endlinecolor": "#2a3f5f",
             "gridcolor": "white",
             "linecolor": "white",
             "minorgridcolor": "white",
             "startlinecolor": "#2a3f5f"
            },
            "baxis": {
             "endlinecolor": "#2a3f5f",
             "gridcolor": "white",
             "linecolor": "white",
             "minorgridcolor": "white",
             "startlinecolor": "#2a3f5f"
            },
            "type": "carpet"
           }
          ],
          "choropleth": [
           {
            "colorbar": {
             "outlinewidth": 0,
             "ticks": ""
            },
            "type": "choropleth"
           }
          ],
          "contour": [
           {
            "colorbar": {
             "outlinewidth": 0,
             "ticks": ""
            },
            "colorscale": [
             [
              0,
              "#0d0887"
             ],
             [
              0.1111111111111111,
              "#46039f"
             ],
             [
              0.2222222222222222,
              "#7201a8"
             ],
             [
              0.3333333333333333,
              "#9c179e"
             ],
             [
              0.4444444444444444,
              "#bd3786"
             ],
             [
              0.5555555555555556,
              "#d8576b"
             ],
             [
              0.6666666666666666,
              "#ed7953"
             ],
             [
              0.7777777777777778,
              "#fb9f3a"
             ],
             [
              0.8888888888888888,
              "#fdca26"
             ],
             [
              1,
              "#f0f921"
             ]
            ],
            "type": "contour"
           }
          ],
          "contourcarpet": [
           {
            "colorbar": {
             "outlinewidth": 0,
             "ticks": ""
            },
            "type": "contourcarpet"
           }
          ],
          "heatmap": [
           {
            "colorbar": {
             "outlinewidth": 0,
             "ticks": ""
            },
            "colorscale": [
             [
              0,
              "#0d0887"
             ],
             [
              0.1111111111111111,
              "#46039f"
             ],
             [
              0.2222222222222222,
              "#7201a8"
             ],
             [
              0.3333333333333333,
              "#9c179e"
             ],
             [
              0.4444444444444444,
              "#bd3786"
             ],
             [
              0.5555555555555556,
              "#d8576b"
             ],
             [
              0.6666666666666666,
              "#ed7953"
             ],
             [
              0.7777777777777778,
              "#fb9f3a"
             ],
             [
              0.8888888888888888,
              "#fdca26"
             ],
             [
              1,
              "#f0f921"
             ]
            ],
            "type": "heatmap"
           }
          ],
          "heatmapgl": [
           {
            "colorbar": {
             "outlinewidth": 0,
             "ticks": ""
            },
            "colorscale": [
             [
              0,
              "#0d0887"
             ],
             [
              0.1111111111111111,
              "#46039f"
             ],
             [
              0.2222222222222222,
              "#7201a8"
             ],
             [
              0.3333333333333333,
              "#9c179e"
             ],
             [
              0.4444444444444444,
              "#bd3786"
             ],
             [
              0.5555555555555556,
              "#d8576b"
             ],
             [
              0.6666666666666666,
              "#ed7953"
             ],
             [
              0.7777777777777778,
              "#fb9f3a"
             ],
             [
              0.8888888888888888,
              "#fdca26"
             ],
             [
              1,
              "#f0f921"
             ]
            ],
            "type": "heatmapgl"
           }
          ],
          "histogram": [
           {
            "marker": {
             "pattern": {
              "fillmode": "overlay",
              "size": 10,
              "solidity": 0.2
             }
            },
            "type": "histogram"
           }
          ],
          "histogram2d": [
           {
            "colorbar": {
             "outlinewidth": 0,
             "ticks": ""
            },
            "colorscale": [
             [
              0,
              "#0d0887"
             ],
             [
              0.1111111111111111,
              "#46039f"
             ],
             [
              0.2222222222222222,
              "#7201a8"
             ],
             [
              0.3333333333333333,
              "#9c179e"
             ],
             [
              0.4444444444444444,
              "#bd3786"
             ],
             [
              0.5555555555555556,
              "#d8576b"
             ],
             [
              0.6666666666666666,
              "#ed7953"
             ],
             [
              0.7777777777777778,
              "#fb9f3a"
             ],
             [
              0.8888888888888888,
              "#fdca26"
             ],
             [
              1,
              "#f0f921"
             ]
            ],
            "type": "histogram2d"
           }
          ],
          "histogram2dcontour": [
           {
            "colorbar": {
             "outlinewidth": 0,
             "ticks": ""
            },
            "colorscale": [
             [
              0,
              "#0d0887"
             ],
             [
              0.1111111111111111,
              "#46039f"
             ],
             [
              0.2222222222222222,
              "#7201a8"
             ],
             [
              0.3333333333333333,
              "#9c179e"
             ],
             [
              0.4444444444444444,
              "#bd3786"
             ],
             [
              0.5555555555555556,
              "#d8576b"
             ],
             [
              0.6666666666666666,
              "#ed7953"
             ],
             [
              0.7777777777777778,
              "#fb9f3a"
             ],
             [
              0.8888888888888888,
              "#fdca26"
             ],
             [
              1,
              "#f0f921"
             ]
            ],
            "type": "histogram2dcontour"
           }
          ],
          "mesh3d": [
           {
            "colorbar": {
             "outlinewidth": 0,
             "ticks": ""
            },
            "type": "mesh3d"
           }
          ],
          "parcoords": [
           {
            "line": {
             "colorbar": {
              "outlinewidth": 0,
              "ticks": ""
             }
            },
            "type": "parcoords"
           }
          ],
          "pie": [
           {
            "automargin": true,
            "type": "pie"
           }
          ],
          "scatter": [
           {
            "fillpattern": {
             "fillmode": "overlay",
             "size": 10,
             "solidity": 0.2
            },
            "type": "scatter"
           }
          ],
          "scatter3d": [
           {
            "line": {
             "colorbar": {
              "outlinewidth": 0,
              "ticks": ""
             }
            },
            "marker": {
             "colorbar": {
              "outlinewidth": 0,
              "ticks": ""
             }
            },
            "type": "scatter3d"
           }
          ],
          "scattercarpet": [
           {
            "marker": {
             "colorbar": {
              "outlinewidth": 0,
              "ticks": ""
             }
            },
            "type": "scattercarpet"
           }
          ],
          "scattergeo": [
           {
            "marker": {
             "colorbar": {
              "outlinewidth": 0,
              "ticks": ""
             }
            },
            "type": "scattergeo"
           }
          ],
          "scattergl": [
           {
            "marker": {
             "colorbar": {
              "outlinewidth": 0,
              "ticks": ""
             }
            },
            "type": "scattergl"
           }
          ],
          "scattermapbox": [
           {
            "marker": {
             "colorbar": {
              "outlinewidth": 0,
              "ticks": ""
             }
            },
            "type": "scattermapbox"
           }
          ],
          "scatterpolar": [
           {
            "marker": {
             "colorbar": {
              "outlinewidth": 0,
              "ticks": ""
             }
            },
            "type": "scatterpolar"
           }
          ],
          "scatterpolargl": [
           {
            "marker": {
             "colorbar": {
              "outlinewidth": 0,
              "ticks": ""
             }
            },
            "type": "scatterpolargl"
           }
          ],
          "scatterternary": [
           {
            "marker": {
             "colorbar": {
              "outlinewidth": 0,
              "ticks": ""
             }
            },
            "type": "scatterternary"
           }
          ],
          "surface": [
           {
            "colorbar": {
             "outlinewidth": 0,
             "ticks": ""
            },
            "colorscale": [
             [
              0,
              "#0d0887"
             ],
             [
              0.1111111111111111,
              "#46039f"
             ],
             [
              0.2222222222222222,
              "#7201a8"
             ],
             [
              0.3333333333333333,
              "#9c179e"
             ],
             [
              0.4444444444444444,
              "#bd3786"
             ],
             [
              0.5555555555555556,
              "#d8576b"
             ],
             [
              0.6666666666666666,
              "#ed7953"
             ],
             [
              0.7777777777777778,
              "#fb9f3a"
             ],
             [
              0.8888888888888888,
              "#fdca26"
             ],
             [
              1,
              "#f0f921"
             ]
            ],
            "type": "surface"
           }
          ],
          "table": [
           {
            "cells": {
             "fill": {
              "color": "#EBF0F8"
             },
             "line": {
              "color": "white"
             }
            },
            "header": {
             "fill": {
              "color": "#C8D4E3"
             },
             "line": {
              "color": "white"
             }
            },
            "type": "table"
           }
          ]
         },
         "layout": {
          "annotationdefaults": {
           "arrowcolor": "#2a3f5f",
           "arrowhead": 0,
           "arrowwidth": 1
          },
          "autotypenumbers": "strict",
          "coloraxis": {
           "colorbar": {
            "outlinewidth": 0,
            "ticks": ""
           }
          },
          "colorscale": {
           "diverging": [
            [
             0,
             "#8e0152"
            ],
            [
             0.1,
             "#c51b7d"
            ],
            [
             0.2,
             "#de77ae"
            ],
            [
             0.3,
             "#f1b6da"
            ],
            [
             0.4,
             "#fde0ef"
            ],
            [
             0.5,
             "#f7f7f7"
            ],
            [
             0.6,
             "#e6f5d0"
            ],
            [
             0.7,
             "#b8e186"
            ],
            [
             0.8,
             "#7fbc41"
            ],
            [
             0.9,
             "#4d9221"
            ],
            [
             1,
             "#276419"
            ]
           ],
           "sequential": [
            [
             0,
             "#0d0887"
            ],
            [
             0.1111111111111111,
             "#46039f"
            ],
            [
             0.2222222222222222,
             "#7201a8"
            ],
            [
             0.3333333333333333,
             "#9c179e"
            ],
            [
             0.4444444444444444,
             "#bd3786"
            ],
            [
             0.5555555555555556,
             "#d8576b"
            ],
            [
             0.6666666666666666,
             "#ed7953"
            ],
            [
             0.7777777777777778,
             "#fb9f3a"
            ],
            [
             0.8888888888888888,
             "#fdca26"
            ],
            [
             1,
             "#f0f921"
            ]
           ],
           "sequentialminus": [
            [
             0,
             "#0d0887"
            ],
            [
             0.1111111111111111,
             "#46039f"
            ],
            [
             0.2222222222222222,
             "#7201a8"
            ],
            [
             0.3333333333333333,
             "#9c179e"
            ],
            [
             0.4444444444444444,
             "#bd3786"
            ],
            [
             0.5555555555555556,
             "#d8576b"
            ],
            [
             0.6666666666666666,
             "#ed7953"
            ],
            [
             0.7777777777777778,
             "#fb9f3a"
            ],
            [
             0.8888888888888888,
             "#fdca26"
            ],
            [
             1,
             "#f0f921"
            ]
           ]
          },
          "colorway": [
           "#636efa",
           "#EF553B",
           "#00cc96",
           "#ab63fa",
           "#FFA15A",
           "#19d3f3",
           "#FF6692",
           "#B6E880",
           "#FF97FF",
           "#FECB52"
          ],
          "font": {
           "color": "#2a3f5f"
          },
          "geo": {
           "bgcolor": "white",
           "lakecolor": "white",
           "landcolor": "#E5ECF6",
           "showlakes": true,
           "showland": true,
           "subunitcolor": "white"
          },
          "hoverlabel": {
           "align": "left"
          },
          "hovermode": "closest",
          "mapbox": {
           "style": "light"
          },
          "paper_bgcolor": "white",
          "plot_bgcolor": "#E5ECF6",
          "polar": {
           "angularaxis": {
            "gridcolor": "white",
            "linecolor": "white",
            "ticks": ""
           },
           "bgcolor": "#E5ECF6",
           "radialaxis": {
            "gridcolor": "white",
            "linecolor": "white",
            "ticks": ""
           }
          },
          "scene": {
           "xaxis": {
            "backgroundcolor": "#E5ECF6",
            "gridcolor": "white",
            "gridwidth": 2,
            "linecolor": "white",
            "showbackground": true,
            "ticks": "",
            "zerolinecolor": "white"
           },
           "yaxis": {
            "backgroundcolor": "#E5ECF6",
            "gridcolor": "white",
            "gridwidth": 2,
            "linecolor": "white",
            "showbackground": true,
            "ticks": "",
            "zerolinecolor": "white"
           },
           "zaxis": {
            "backgroundcolor": "#E5ECF6",
            "gridcolor": "white",
            "gridwidth": 2,
            "linecolor": "white",
            "showbackground": true,
            "ticks": "",
            "zerolinecolor": "white"
           }
          },
          "shapedefaults": {
           "line": {
            "color": "#2a3f5f"
           }
          },
          "ternary": {
           "aaxis": {
            "gridcolor": "white",
            "linecolor": "white",
            "ticks": ""
           },
           "baxis": {
            "gridcolor": "white",
            "linecolor": "white",
            "ticks": ""
           },
           "bgcolor": "#E5ECF6",
           "caxis": {
            "gridcolor": "white",
            "linecolor": "white",
            "ticks": ""
           }
          },
          "title": {
           "x": 0.05
          },
          "xaxis": {
           "automargin": true,
           "gridcolor": "white",
           "linecolor": "white",
           "ticks": "",
           "title": {
            "standoff": 15
           },
           "zerolinecolor": "white",
           "zerolinewidth": 2
          },
          "yaxis": {
           "automargin": true,
           "gridcolor": "white",
           "linecolor": "white",
           "ticks": "",
           "title": {
            "standoff": 15
           },
           "zerolinecolor": "white",
           "zerolinewidth": 2
          }
         }
        },
        "xaxis": {
         "anchor": "y",
         "domain": [
          0,
          1
         ],
         "title": {
          "text": "DayPassPriceAdult"
         }
        },
        "yaxis": {
         "anchor": "x",
         "domain": [
          0,
          1
         ],
         "title": {
          "text": "count"
         }
        }
       }
      }
     },
     "metadata": {},
     "output_type": "display_data"
    },
    {
     "data": {
      "application/vnd.plotly.v1+json": {
       "config": {
        "plotlyServerURL": "https://plot.ly"
       },
       "data": [
        {
         "alignmentgroup": "True",
         "bingroup": "x",
         "hovertemplate": "BeginnerSlope=%{x}<br>count=%{y}<extra></extra>",
         "legendgroup": "",
         "marker": {
          "color": "#636efa",
          "pattern": {
           "shape": ""
          }
         },
         "name": "",
         "nbinsx": 100,
         "offsetgroup": "",
         "orientation": "v",
         "showlegend": false,
         "type": "histogram",
         "x": [
          30,
          100,
          1,
          15,
          30,
          12,
          12,
          22,
          3,
          12,
          18,
          4,
          14,
          18,
          2,
          312,
          312,
          53,
          135,
          98,
          88,
          75,
          56,
          115,
          75,
          43,
          76,
          60,
          70,
          62,
          50,
          73,
          75,
          60,
          46,
          13,
          30,
          42,
          42,
          18,
          54,
          60,
          55,
          60,
          58,
          20,
          45,
          37,
          45,
          45,
          44,
          62,
          3,
          28,
          49,
          28,
          26,
          30,
          40,
          37,
          30,
          35,
          17,
          28,
          36,
          34,
          33,
          24,
          25,
          10,
          40,
          32,
          27,
          20,
          35,
          10,
          35,
          26,
          17,
          31,
          32,
          28,
          14,
          20,
          20,
          16,
          20,
          10,
          14,
          30,
          20,
          26,
          30,
          43,
          10,
          35,
          12,
          24,
          30,
          40,
          11,
          25,
          21,
          7,
          20,
          20,
          22,
          36,
          22,
          30,
          30,
          30,
          30,
          11,
          17,
          19,
          8,
          13,
          28,
          14,
          10,
          26,
          30,
          14,
          21,
          18,
          15,
          7,
          22,
          19,
          18,
          0,
          7,
          18,
          4,
          19,
          9,
          23,
          22,
          17,
          17,
          12,
          0,
          21,
          14,
          30,
          26,
          13,
          17,
          8,
          17,
          14,
          10,
          9,
          20,
          4,
          15,
          8,
          10,
          15,
          16,
          16,
          10,
          3,
          18,
          15,
          15,
          12,
          8,
          25,
          9,
          18,
          5,
          0,
          24,
          17,
          5,
          12,
          25,
          20,
          20,
          7,
          3,
          18,
          12,
          10,
          11,
          3,
          15,
          24,
          7,
          11,
          14,
          1,
          5,
          10,
          6,
          5,
          2,
          19,
          1,
          5,
          0,
          5,
          2,
          2,
          3,
          2,
          7,
          14,
          0,
          5,
          20,
          3,
          6,
          9,
          null,
          null,
          null,
          null,
          null,
          null,
          null,
          15,
          1,
          0,
          2,
          23,
          5,
          5,
          13,
          2,
          2,
          6,
          13,
          18,
          6,
          3,
          2,
          3,
          4,
          4,
          12,
          1,
          0,
          2,
          13,
          19,
          20,
          5,
          4,
          3,
          6,
          5,
          9,
          9,
          6,
          15,
          18,
          9,
          7,
          104,
          170,
          30,
          312,
          310,
          310,
          310,
          101,
          35,
          33,
          25,
          14,
          18,
          25,
          1,
          122,
          122,
          122,
          13,
          312,
          139,
          46,
          70,
          47,
          7,
          20,
          79,
          52,
          13,
          8,
          2,
          60,
          21,
          3,
          75,
          6,
          13,
          55,
          10,
          25,
          0,
          6,
          45,
          42,
          132,
          2,
          6,
          7,
          13,
          100,
          100,
          8,
          3,
          3,
          0,
          111,
          51,
          107,
          107,
          107,
          107,
          47,
          33,
          10,
          6,
          3,
          55,
          55,
          312,
          5,
          110,
          40,
          30,
          16,
          75,
          40,
          7,
          61,
          15,
          9,
          null,
          140,
          140,
          20,
          10,
          8,
          47,
          138,
          96,
          60,
          30,
          30,
          13,
          130,
          130,
          130,
          130,
          50,
          16,
          30,
          52,
          20,
          4,
          13,
          29,
          70,
          19,
          0,
          52,
          312,
          96,
          96,
          23,
          23,
          23
         ],
         "xaxis": "x",
         "yaxis": "y"
        }
       ],
       "layout": {
        "barmode": "relative",
        "legend": {
         "tracegroupgap": 0
        },
        "margin": {
         "t": 60
        },
        "template": {
         "data": {
          "bar": [
           {
            "error_x": {
             "color": "#2a3f5f"
            },
            "error_y": {
             "color": "#2a3f5f"
            },
            "marker": {
             "line": {
              "color": "#E5ECF6",
              "width": 0.5
             },
             "pattern": {
              "fillmode": "overlay",
              "size": 10,
              "solidity": 0.2
             }
            },
            "type": "bar"
           }
          ],
          "barpolar": [
           {
            "marker": {
             "line": {
              "color": "#E5ECF6",
              "width": 0.5
             },
             "pattern": {
              "fillmode": "overlay",
              "size": 10,
              "solidity": 0.2
             }
            },
            "type": "barpolar"
           }
          ],
          "carpet": [
           {
            "aaxis": {
             "endlinecolor": "#2a3f5f",
             "gridcolor": "white",
             "linecolor": "white",
             "minorgridcolor": "white",
             "startlinecolor": "#2a3f5f"
            },
            "baxis": {
             "endlinecolor": "#2a3f5f",
             "gridcolor": "white",
             "linecolor": "white",
             "minorgridcolor": "white",
             "startlinecolor": "#2a3f5f"
            },
            "type": "carpet"
           }
          ],
          "choropleth": [
           {
            "colorbar": {
             "outlinewidth": 0,
             "ticks": ""
            },
            "type": "choropleth"
           }
          ],
          "contour": [
           {
            "colorbar": {
             "outlinewidth": 0,
             "ticks": ""
            },
            "colorscale": [
             [
              0,
              "#0d0887"
             ],
             [
              0.1111111111111111,
              "#46039f"
             ],
             [
              0.2222222222222222,
              "#7201a8"
             ],
             [
              0.3333333333333333,
              "#9c179e"
             ],
             [
              0.4444444444444444,
              "#bd3786"
             ],
             [
              0.5555555555555556,
              "#d8576b"
             ],
             [
              0.6666666666666666,
              "#ed7953"
             ],
             [
              0.7777777777777778,
              "#fb9f3a"
             ],
             [
              0.8888888888888888,
              "#fdca26"
             ],
             [
              1,
              "#f0f921"
             ]
            ],
            "type": "contour"
           }
          ],
          "contourcarpet": [
           {
            "colorbar": {
             "outlinewidth": 0,
             "ticks": ""
            },
            "type": "contourcarpet"
           }
          ],
          "heatmap": [
           {
            "colorbar": {
             "outlinewidth": 0,
             "ticks": ""
            },
            "colorscale": [
             [
              0,
              "#0d0887"
             ],
             [
              0.1111111111111111,
              "#46039f"
             ],
             [
              0.2222222222222222,
              "#7201a8"
             ],
             [
              0.3333333333333333,
              "#9c179e"
             ],
             [
              0.4444444444444444,
              "#bd3786"
             ],
             [
              0.5555555555555556,
              "#d8576b"
             ],
             [
              0.6666666666666666,
              "#ed7953"
             ],
             [
              0.7777777777777778,
              "#fb9f3a"
             ],
             [
              0.8888888888888888,
              "#fdca26"
             ],
             [
              1,
              "#f0f921"
             ]
            ],
            "type": "heatmap"
           }
          ],
          "heatmapgl": [
           {
            "colorbar": {
             "outlinewidth": 0,
             "ticks": ""
            },
            "colorscale": [
             [
              0,
              "#0d0887"
             ],
             [
              0.1111111111111111,
              "#46039f"
             ],
             [
              0.2222222222222222,
              "#7201a8"
             ],
             [
              0.3333333333333333,
              "#9c179e"
             ],
             [
              0.4444444444444444,
              "#bd3786"
             ],
             [
              0.5555555555555556,
              "#d8576b"
             ],
             [
              0.6666666666666666,
              "#ed7953"
             ],
             [
              0.7777777777777778,
              "#fb9f3a"
             ],
             [
              0.8888888888888888,
              "#fdca26"
             ],
             [
              1,
              "#f0f921"
             ]
            ],
            "type": "heatmapgl"
           }
          ],
          "histogram": [
           {
            "marker": {
             "pattern": {
              "fillmode": "overlay",
              "size": 10,
              "solidity": 0.2
             }
            },
            "type": "histogram"
           }
          ],
          "histogram2d": [
           {
            "colorbar": {
             "outlinewidth": 0,
             "ticks": ""
            },
            "colorscale": [
             [
              0,
              "#0d0887"
             ],
             [
              0.1111111111111111,
              "#46039f"
             ],
             [
              0.2222222222222222,
              "#7201a8"
             ],
             [
              0.3333333333333333,
              "#9c179e"
             ],
             [
              0.4444444444444444,
              "#bd3786"
             ],
             [
              0.5555555555555556,
              "#d8576b"
             ],
             [
              0.6666666666666666,
              "#ed7953"
             ],
             [
              0.7777777777777778,
              "#fb9f3a"
             ],
             [
              0.8888888888888888,
              "#fdca26"
             ],
             [
              1,
              "#f0f921"
             ]
            ],
            "type": "histogram2d"
           }
          ],
          "histogram2dcontour": [
           {
            "colorbar": {
             "outlinewidth": 0,
             "ticks": ""
            },
            "colorscale": [
             [
              0,
              "#0d0887"
             ],
             [
              0.1111111111111111,
              "#46039f"
             ],
             [
              0.2222222222222222,
              "#7201a8"
             ],
             [
              0.3333333333333333,
              "#9c179e"
             ],
             [
              0.4444444444444444,
              "#bd3786"
             ],
             [
              0.5555555555555556,
              "#d8576b"
             ],
             [
              0.6666666666666666,
              "#ed7953"
             ],
             [
              0.7777777777777778,
              "#fb9f3a"
             ],
             [
              0.8888888888888888,
              "#fdca26"
             ],
             [
              1,
              "#f0f921"
             ]
            ],
            "type": "histogram2dcontour"
           }
          ],
          "mesh3d": [
           {
            "colorbar": {
             "outlinewidth": 0,
             "ticks": ""
            },
            "type": "mesh3d"
           }
          ],
          "parcoords": [
           {
            "line": {
             "colorbar": {
              "outlinewidth": 0,
              "ticks": ""
             }
            },
            "type": "parcoords"
           }
          ],
          "pie": [
           {
            "automargin": true,
            "type": "pie"
           }
          ],
          "scatter": [
           {
            "fillpattern": {
             "fillmode": "overlay",
             "size": 10,
             "solidity": 0.2
            },
            "type": "scatter"
           }
          ],
          "scatter3d": [
           {
            "line": {
             "colorbar": {
              "outlinewidth": 0,
              "ticks": ""
             }
            },
            "marker": {
             "colorbar": {
              "outlinewidth": 0,
              "ticks": ""
             }
            },
            "type": "scatter3d"
           }
          ],
          "scattercarpet": [
           {
            "marker": {
             "colorbar": {
              "outlinewidth": 0,
              "ticks": ""
             }
            },
            "type": "scattercarpet"
           }
          ],
          "scattergeo": [
           {
            "marker": {
             "colorbar": {
              "outlinewidth": 0,
              "ticks": ""
             }
            },
            "type": "scattergeo"
           }
          ],
          "scattergl": [
           {
            "marker": {
             "colorbar": {
              "outlinewidth": 0,
              "ticks": ""
             }
            },
            "type": "scattergl"
           }
          ],
          "scattermapbox": [
           {
            "marker": {
             "colorbar": {
              "outlinewidth": 0,
              "ticks": ""
             }
            },
            "type": "scattermapbox"
           }
          ],
          "scatterpolar": [
           {
            "marker": {
             "colorbar": {
              "outlinewidth": 0,
              "ticks": ""
             }
            },
            "type": "scatterpolar"
           }
          ],
          "scatterpolargl": [
           {
            "marker": {
             "colorbar": {
              "outlinewidth": 0,
              "ticks": ""
             }
            },
            "type": "scatterpolargl"
           }
          ],
          "scatterternary": [
           {
            "marker": {
             "colorbar": {
              "outlinewidth": 0,
              "ticks": ""
             }
            },
            "type": "scatterternary"
           }
          ],
          "surface": [
           {
            "colorbar": {
             "outlinewidth": 0,
             "ticks": ""
            },
            "colorscale": [
             [
              0,
              "#0d0887"
             ],
             [
              0.1111111111111111,
              "#46039f"
             ],
             [
              0.2222222222222222,
              "#7201a8"
             ],
             [
              0.3333333333333333,
              "#9c179e"
             ],
             [
              0.4444444444444444,
              "#bd3786"
             ],
             [
              0.5555555555555556,
              "#d8576b"
             ],
             [
              0.6666666666666666,
              "#ed7953"
             ],
             [
              0.7777777777777778,
              "#fb9f3a"
             ],
             [
              0.8888888888888888,
              "#fdca26"
             ],
             [
              1,
              "#f0f921"
             ]
            ],
            "type": "surface"
           }
          ],
          "table": [
           {
            "cells": {
             "fill": {
              "color": "#EBF0F8"
             },
             "line": {
              "color": "white"
             }
            },
            "header": {
             "fill": {
              "color": "#C8D4E3"
             },
             "line": {
              "color": "white"
             }
            },
            "type": "table"
           }
          ]
         },
         "layout": {
          "annotationdefaults": {
           "arrowcolor": "#2a3f5f",
           "arrowhead": 0,
           "arrowwidth": 1
          },
          "autotypenumbers": "strict",
          "coloraxis": {
           "colorbar": {
            "outlinewidth": 0,
            "ticks": ""
           }
          },
          "colorscale": {
           "diverging": [
            [
             0,
             "#8e0152"
            ],
            [
             0.1,
             "#c51b7d"
            ],
            [
             0.2,
             "#de77ae"
            ],
            [
             0.3,
             "#f1b6da"
            ],
            [
             0.4,
             "#fde0ef"
            ],
            [
             0.5,
             "#f7f7f7"
            ],
            [
             0.6,
             "#e6f5d0"
            ],
            [
             0.7,
             "#b8e186"
            ],
            [
             0.8,
             "#7fbc41"
            ],
            [
             0.9,
             "#4d9221"
            ],
            [
             1,
             "#276419"
            ]
           ],
           "sequential": [
            [
             0,
             "#0d0887"
            ],
            [
             0.1111111111111111,
             "#46039f"
            ],
            [
             0.2222222222222222,
             "#7201a8"
            ],
            [
             0.3333333333333333,
             "#9c179e"
            ],
            [
             0.4444444444444444,
             "#bd3786"
            ],
            [
             0.5555555555555556,
             "#d8576b"
            ],
            [
             0.6666666666666666,
             "#ed7953"
            ],
            [
             0.7777777777777778,
             "#fb9f3a"
            ],
            [
             0.8888888888888888,
             "#fdca26"
            ],
            [
             1,
             "#f0f921"
            ]
           ],
           "sequentialminus": [
            [
             0,
             "#0d0887"
            ],
            [
             0.1111111111111111,
             "#46039f"
            ],
            [
             0.2222222222222222,
             "#7201a8"
            ],
            [
             0.3333333333333333,
             "#9c179e"
            ],
            [
             0.4444444444444444,
             "#bd3786"
            ],
            [
             0.5555555555555556,
             "#d8576b"
            ],
            [
             0.6666666666666666,
             "#ed7953"
            ],
            [
             0.7777777777777778,
             "#fb9f3a"
            ],
            [
             0.8888888888888888,
             "#fdca26"
            ],
            [
             1,
             "#f0f921"
            ]
           ]
          },
          "colorway": [
           "#636efa",
           "#EF553B",
           "#00cc96",
           "#ab63fa",
           "#FFA15A",
           "#19d3f3",
           "#FF6692",
           "#B6E880",
           "#FF97FF",
           "#FECB52"
          ],
          "font": {
           "color": "#2a3f5f"
          },
          "geo": {
           "bgcolor": "white",
           "lakecolor": "white",
           "landcolor": "#E5ECF6",
           "showlakes": true,
           "showland": true,
           "subunitcolor": "white"
          },
          "hoverlabel": {
           "align": "left"
          },
          "hovermode": "closest",
          "mapbox": {
           "style": "light"
          },
          "paper_bgcolor": "white",
          "plot_bgcolor": "#E5ECF6",
          "polar": {
           "angularaxis": {
            "gridcolor": "white",
            "linecolor": "white",
            "ticks": ""
           },
           "bgcolor": "#E5ECF6",
           "radialaxis": {
            "gridcolor": "white",
            "linecolor": "white",
            "ticks": ""
           }
          },
          "scene": {
           "xaxis": {
            "backgroundcolor": "#E5ECF6",
            "gridcolor": "white",
            "gridwidth": 2,
            "linecolor": "white",
            "showbackground": true,
            "ticks": "",
            "zerolinecolor": "white"
           },
           "yaxis": {
            "backgroundcolor": "#E5ECF6",
            "gridcolor": "white",
            "gridwidth": 2,
            "linecolor": "white",
            "showbackground": true,
            "ticks": "",
            "zerolinecolor": "white"
           },
           "zaxis": {
            "backgroundcolor": "#E5ECF6",
            "gridcolor": "white",
            "gridwidth": 2,
            "linecolor": "white",
            "showbackground": true,
            "ticks": "",
            "zerolinecolor": "white"
           }
          },
          "shapedefaults": {
           "line": {
            "color": "#2a3f5f"
           }
          },
          "ternary": {
           "aaxis": {
            "gridcolor": "white",
            "linecolor": "white",
            "ticks": ""
           },
           "baxis": {
            "gridcolor": "white",
            "linecolor": "white",
            "ticks": ""
           },
           "bgcolor": "#E5ECF6",
           "caxis": {
            "gridcolor": "white",
            "linecolor": "white",
            "ticks": ""
           }
          },
          "title": {
           "x": 0.05
          },
          "xaxis": {
           "automargin": true,
           "gridcolor": "white",
           "linecolor": "white",
           "ticks": "",
           "title": {
            "standoff": 15
           },
           "zerolinecolor": "white",
           "zerolinewidth": 2
          },
          "yaxis": {
           "automargin": true,
           "gridcolor": "white",
           "linecolor": "white",
           "ticks": "",
           "title": {
            "standoff": 15
           },
           "zerolinecolor": "white",
           "zerolinewidth": 2
          }
         }
        },
        "xaxis": {
         "anchor": "y",
         "domain": [
          0,
          1
         ],
         "title": {
          "text": "BeginnerSlope"
         }
        },
        "yaxis": {
         "anchor": "x",
         "domain": [
          0,
          1
         ],
         "title": {
          "text": "count"
         }
        }
       }
      }
     },
     "metadata": {},
     "output_type": "display_data"
    },
    {
     "data": {
      "application/vnd.plotly.v1+json": {
       "config": {
        "plotlyServerURL": "https://plot.ly"
       },
       "data": [
        {
         "alignmentgroup": "True",
         "bingroup": "x",
         "hovertemplate": "IntermediateSlope=%{x}<br>count=%{y}<extra></extra>",
         "legendgroup": "",
         "marker": {
          "color": "#636efa",
          "pattern": {
           "shape": ""
          }
         },
         "name": "",
         "nbinsx": 100,
         "offsetgroup": "",
         "orientation": "v",
         "showlegend": false,
         "type": "histogram",
         "x": [
          81,
          77,
          0,
          33,
          26,
          3,
          6,
          7,
          19,
          10,
          4,
          15,
          5,
          12,
          4,
          216,
          216,
          239,
          95,
          134,
          81,
          90,
          93,
          35,
          60,
          89,
          47,
          45,
          52,
          40,
          50,
          42,
          35,
          40,
          36,
          89,
          69,
          51,
          50,
          77,
          38,
          30,
          38,
          30,
          35,
          60,
          38,
          32,
          35,
          35,
          38,
          21,
          6,
          50,
          27,
          41,
          28,
          44,
          25,
          39,
          28,
          27,
          39,
          34,
          32,
          26,
          18,
          34,
          43,
          50,
          20,
          38,
          32,
          38,
          22,
          38,
          20,
          28,
          43,
          24,
          22,
          25,
          35,
          30,
          20,
          32,
          34,
          45,
          45,
          20,
          30,
          25,
          26,
          15,
          40,
          17,
          37,
          29,
          19,
          7,
          25,
          25,
          28,
          40,
          17,
          34,
          30,
          17,
          23,
          19,
          22,
          15,
          15,
          35,
          25,
          23,
          35,
          33,
          14,
          34,
          35,
          17,
          17,
          32,
          20,
          31,
          18,
          13,
          17,
          17,
          15,
          0,
          10,
          22,
          4,
          18,
          32,
          13,
          16,
          8,
          16,
          18,
          0,
          14,
          21,
          9,
          3,
          19,
          22,
          22,
          6,
          28,
          27,
          22,
          6,
          2,
          20,
          13,
          30,
          25,
          10,
          7,
          10,
          11,
          13,
          12,
          30,
          25,
          5,
          7,
          11,
          15,
          7,
          7,
          10,
          13,
          2,
          18,
          20,
          15,
          15,
          14,
          16,
          18,
          21,
          9,
          9,
          3,
          12,
          10,
          15,
          5,
          24,
          0,
          4,
          10,
          11,
          9,
          2,
          5,
          5,
          5,
          0,
          24,
          14,
          9,
          2,
          5,
          16,
          10,
          0,
          15,
          14,
          6,
          6,
          21,
          0,
          1,
          0,
          0,
          0,
          0,
          0,
          25,
          1,
          0,
          5,
          10,
          2,
          11,
          7,
          1,
          3,
          9,
          12,
          12,
          16,
          8,
          1,
          26,
          2,
          2,
          10,
          1,
          21,
          10,
          5,
          10,
          12,
          5,
          6,
          3,
          24,
          6,
          31,
          15,
          7,
          5,
          6,
          3,
          1,
          70,
          78,
          65,
          216,
          210,
          210,
          210,
          61,
          55,
          7,
          4,
          4,
          12,
          53,
          3,
          129,
          129,
          129,
          25,
          216,
          59,
          68,
          130,
          70,
          21,
          24,
          52,
          41,
          11,
          22,
          3,
          68,
          12,
          1,
          220,
          9,
          16,
          70,
          22,
          13,
          0,
          9,
          55,
          79,
          49,
          2,
          25,
          10,
          12,
          77,
          77,
          7,
          3,
          3,
          0,
          87,
          45,
          202,
          202,
          202,
          202,
          142,
          56,
          8,
          26,
          0,
          83,
          83,
          216,
          9,
          56,
          60,
          60,
          21,
          220,
          66,
          10,
          35,
          19,
          7,
          0,
          112,
          112,
          60,
          25,
          7,
          123,
          80,
          220,
          45,
          81,
          81,
          28,
          123,
          123,
          123,
          123,
          49,
          23,
          52,
          42,
          5,
          0,
          14,
          10,
          44,
          15,
          7,
          105,
          216,
          220,
          220,
          94,
          94,
          16
         ],
         "xaxis": "x",
         "yaxis": "y"
        }
       ],
       "layout": {
        "barmode": "relative",
        "legend": {
         "tracegroupgap": 0
        },
        "margin": {
         "t": 60
        },
        "template": {
         "data": {
          "bar": [
           {
            "error_x": {
             "color": "#2a3f5f"
            },
            "error_y": {
             "color": "#2a3f5f"
            },
            "marker": {
             "line": {
              "color": "#E5ECF6",
              "width": 0.5
             },
             "pattern": {
              "fillmode": "overlay",
              "size": 10,
              "solidity": 0.2
             }
            },
            "type": "bar"
           }
          ],
          "barpolar": [
           {
            "marker": {
             "line": {
              "color": "#E5ECF6",
              "width": 0.5
             },
             "pattern": {
              "fillmode": "overlay",
              "size": 10,
              "solidity": 0.2
             }
            },
            "type": "barpolar"
           }
          ],
          "carpet": [
           {
            "aaxis": {
             "endlinecolor": "#2a3f5f",
             "gridcolor": "white",
             "linecolor": "white",
             "minorgridcolor": "white",
             "startlinecolor": "#2a3f5f"
            },
            "baxis": {
             "endlinecolor": "#2a3f5f",
             "gridcolor": "white",
             "linecolor": "white",
             "minorgridcolor": "white",
             "startlinecolor": "#2a3f5f"
            },
            "type": "carpet"
           }
          ],
          "choropleth": [
           {
            "colorbar": {
             "outlinewidth": 0,
             "ticks": ""
            },
            "type": "choropleth"
           }
          ],
          "contour": [
           {
            "colorbar": {
             "outlinewidth": 0,
             "ticks": ""
            },
            "colorscale": [
             [
              0,
              "#0d0887"
             ],
             [
              0.1111111111111111,
              "#46039f"
             ],
             [
              0.2222222222222222,
              "#7201a8"
             ],
             [
              0.3333333333333333,
              "#9c179e"
             ],
             [
              0.4444444444444444,
              "#bd3786"
             ],
             [
              0.5555555555555556,
              "#d8576b"
             ],
             [
              0.6666666666666666,
              "#ed7953"
             ],
             [
              0.7777777777777778,
              "#fb9f3a"
             ],
             [
              0.8888888888888888,
              "#fdca26"
             ],
             [
              1,
              "#f0f921"
             ]
            ],
            "type": "contour"
           }
          ],
          "contourcarpet": [
           {
            "colorbar": {
             "outlinewidth": 0,
             "ticks": ""
            },
            "type": "contourcarpet"
           }
          ],
          "heatmap": [
           {
            "colorbar": {
             "outlinewidth": 0,
             "ticks": ""
            },
            "colorscale": [
             [
              0,
              "#0d0887"
             ],
             [
              0.1111111111111111,
              "#46039f"
             ],
             [
              0.2222222222222222,
              "#7201a8"
             ],
             [
              0.3333333333333333,
              "#9c179e"
             ],
             [
              0.4444444444444444,
              "#bd3786"
             ],
             [
              0.5555555555555556,
              "#d8576b"
             ],
             [
              0.6666666666666666,
              "#ed7953"
             ],
             [
              0.7777777777777778,
              "#fb9f3a"
             ],
             [
              0.8888888888888888,
              "#fdca26"
             ],
             [
              1,
              "#f0f921"
             ]
            ],
            "type": "heatmap"
           }
          ],
          "heatmapgl": [
           {
            "colorbar": {
             "outlinewidth": 0,
             "ticks": ""
            },
            "colorscale": [
             [
              0,
              "#0d0887"
             ],
             [
              0.1111111111111111,
              "#46039f"
             ],
             [
              0.2222222222222222,
              "#7201a8"
             ],
             [
              0.3333333333333333,
              "#9c179e"
             ],
             [
              0.4444444444444444,
              "#bd3786"
             ],
             [
              0.5555555555555556,
              "#d8576b"
             ],
             [
              0.6666666666666666,
              "#ed7953"
             ],
             [
              0.7777777777777778,
              "#fb9f3a"
             ],
             [
              0.8888888888888888,
              "#fdca26"
             ],
             [
              1,
              "#f0f921"
             ]
            ],
            "type": "heatmapgl"
           }
          ],
          "histogram": [
           {
            "marker": {
             "pattern": {
              "fillmode": "overlay",
              "size": 10,
              "solidity": 0.2
             }
            },
            "type": "histogram"
           }
          ],
          "histogram2d": [
           {
            "colorbar": {
             "outlinewidth": 0,
             "ticks": ""
            },
            "colorscale": [
             [
              0,
              "#0d0887"
             ],
             [
              0.1111111111111111,
              "#46039f"
             ],
             [
              0.2222222222222222,
              "#7201a8"
             ],
             [
              0.3333333333333333,
              "#9c179e"
             ],
             [
              0.4444444444444444,
              "#bd3786"
             ],
             [
              0.5555555555555556,
              "#d8576b"
             ],
             [
              0.6666666666666666,
              "#ed7953"
             ],
             [
              0.7777777777777778,
              "#fb9f3a"
             ],
             [
              0.8888888888888888,
              "#fdca26"
             ],
             [
              1,
              "#f0f921"
             ]
            ],
            "type": "histogram2d"
           }
          ],
          "histogram2dcontour": [
           {
            "colorbar": {
             "outlinewidth": 0,
             "ticks": ""
            },
            "colorscale": [
             [
              0,
              "#0d0887"
             ],
             [
              0.1111111111111111,
              "#46039f"
             ],
             [
              0.2222222222222222,
              "#7201a8"
             ],
             [
              0.3333333333333333,
              "#9c179e"
             ],
             [
              0.4444444444444444,
              "#bd3786"
             ],
             [
              0.5555555555555556,
              "#d8576b"
             ],
             [
              0.6666666666666666,
              "#ed7953"
             ],
             [
              0.7777777777777778,
              "#fb9f3a"
             ],
             [
              0.8888888888888888,
              "#fdca26"
             ],
             [
              1,
              "#f0f921"
             ]
            ],
            "type": "histogram2dcontour"
           }
          ],
          "mesh3d": [
           {
            "colorbar": {
             "outlinewidth": 0,
             "ticks": ""
            },
            "type": "mesh3d"
           }
          ],
          "parcoords": [
           {
            "line": {
             "colorbar": {
              "outlinewidth": 0,
              "ticks": ""
             }
            },
            "type": "parcoords"
           }
          ],
          "pie": [
           {
            "automargin": true,
            "type": "pie"
           }
          ],
          "scatter": [
           {
            "fillpattern": {
             "fillmode": "overlay",
             "size": 10,
             "solidity": 0.2
            },
            "type": "scatter"
           }
          ],
          "scatter3d": [
           {
            "line": {
             "colorbar": {
              "outlinewidth": 0,
              "ticks": ""
             }
            },
            "marker": {
             "colorbar": {
              "outlinewidth": 0,
              "ticks": ""
             }
            },
            "type": "scatter3d"
           }
          ],
          "scattercarpet": [
           {
            "marker": {
             "colorbar": {
              "outlinewidth": 0,
              "ticks": ""
             }
            },
            "type": "scattercarpet"
           }
          ],
          "scattergeo": [
           {
            "marker": {
             "colorbar": {
              "outlinewidth": 0,
              "ticks": ""
             }
            },
            "type": "scattergeo"
           }
          ],
          "scattergl": [
           {
            "marker": {
             "colorbar": {
              "outlinewidth": 0,
              "ticks": ""
             }
            },
            "type": "scattergl"
           }
          ],
          "scattermapbox": [
           {
            "marker": {
             "colorbar": {
              "outlinewidth": 0,
              "ticks": ""
             }
            },
            "type": "scattermapbox"
           }
          ],
          "scatterpolar": [
           {
            "marker": {
             "colorbar": {
              "outlinewidth": 0,
              "ticks": ""
             }
            },
            "type": "scatterpolar"
           }
          ],
          "scatterpolargl": [
           {
            "marker": {
             "colorbar": {
              "outlinewidth": 0,
              "ticks": ""
             }
            },
            "type": "scatterpolargl"
           }
          ],
          "scatterternary": [
           {
            "marker": {
             "colorbar": {
              "outlinewidth": 0,
              "ticks": ""
             }
            },
            "type": "scatterternary"
           }
          ],
          "surface": [
           {
            "colorbar": {
             "outlinewidth": 0,
             "ticks": ""
            },
            "colorscale": [
             [
              0,
              "#0d0887"
             ],
             [
              0.1111111111111111,
              "#46039f"
             ],
             [
              0.2222222222222222,
              "#7201a8"
             ],
             [
              0.3333333333333333,
              "#9c179e"
             ],
             [
              0.4444444444444444,
              "#bd3786"
             ],
             [
              0.5555555555555556,
              "#d8576b"
             ],
             [
              0.6666666666666666,
              "#ed7953"
             ],
             [
              0.7777777777777778,
              "#fb9f3a"
             ],
             [
              0.8888888888888888,
              "#fdca26"
             ],
             [
              1,
              "#f0f921"
             ]
            ],
            "type": "surface"
           }
          ],
          "table": [
           {
            "cells": {
             "fill": {
              "color": "#EBF0F8"
             },
             "line": {
              "color": "white"
             }
            },
            "header": {
             "fill": {
              "color": "#C8D4E3"
             },
             "line": {
              "color": "white"
             }
            },
            "type": "table"
           }
          ]
         },
         "layout": {
          "annotationdefaults": {
           "arrowcolor": "#2a3f5f",
           "arrowhead": 0,
           "arrowwidth": 1
          },
          "autotypenumbers": "strict",
          "coloraxis": {
           "colorbar": {
            "outlinewidth": 0,
            "ticks": ""
           }
          },
          "colorscale": {
           "diverging": [
            [
             0,
             "#8e0152"
            ],
            [
             0.1,
             "#c51b7d"
            ],
            [
             0.2,
             "#de77ae"
            ],
            [
             0.3,
             "#f1b6da"
            ],
            [
             0.4,
             "#fde0ef"
            ],
            [
             0.5,
             "#f7f7f7"
            ],
            [
             0.6,
             "#e6f5d0"
            ],
            [
             0.7,
             "#b8e186"
            ],
            [
             0.8,
             "#7fbc41"
            ],
            [
             0.9,
             "#4d9221"
            ],
            [
             1,
             "#276419"
            ]
           ],
           "sequential": [
            [
             0,
             "#0d0887"
            ],
            [
             0.1111111111111111,
             "#46039f"
            ],
            [
             0.2222222222222222,
             "#7201a8"
            ],
            [
             0.3333333333333333,
             "#9c179e"
            ],
            [
             0.4444444444444444,
             "#bd3786"
            ],
            [
             0.5555555555555556,
             "#d8576b"
            ],
            [
             0.6666666666666666,
             "#ed7953"
            ],
            [
             0.7777777777777778,
             "#fb9f3a"
            ],
            [
             0.8888888888888888,
             "#fdca26"
            ],
            [
             1,
             "#f0f921"
            ]
           ],
           "sequentialminus": [
            [
             0,
             "#0d0887"
            ],
            [
             0.1111111111111111,
             "#46039f"
            ],
            [
             0.2222222222222222,
             "#7201a8"
            ],
            [
             0.3333333333333333,
             "#9c179e"
            ],
            [
             0.4444444444444444,
             "#bd3786"
            ],
            [
             0.5555555555555556,
             "#d8576b"
            ],
            [
             0.6666666666666666,
             "#ed7953"
            ],
            [
             0.7777777777777778,
             "#fb9f3a"
            ],
            [
             0.8888888888888888,
             "#fdca26"
            ],
            [
             1,
             "#f0f921"
            ]
           ]
          },
          "colorway": [
           "#636efa",
           "#EF553B",
           "#00cc96",
           "#ab63fa",
           "#FFA15A",
           "#19d3f3",
           "#FF6692",
           "#B6E880",
           "#FF97FF",
           "#FECB52"
          ],
          "font": {
           "color": "#2a3f5f"
          },
          "geo": {
           "bgcolor": "white",
           "lakecolor": "white",
           "landcolor": "#E5ECF6",
           "showlakes": true,
           "showland": true,
           "subunitcolor": "white"
          },
          "hoverlabel": {
           "align": "left"
          },
          "hovermode": "closest",
          "mapbox": {
           "style": "light"
          },
          "paper_bgcolor": "white",
          "plot_bgcolor": "#E5ECF6",
          "polar": {
           "angularaxis": {
            "gridcolor": "white",
            "linecolor": "white",
            "ticks": ""
           },
           "bgcolor": "#E5ECF6",
           "radialaxis": {
            "gridcolor": "white",
            "linecolor": "white",
            "ticks": ""
           }
          },
          "scene": {
           "xaxis": {
            "backgroundcolor": "#E5ECF6",
            "gridcolor": "white",
            "gridwidth": 2,
            "linecolor": "white",
            "showbackground": true,
            "ticks": "",
            "zerolinecolor": "white"
           },
           "yaxis": {
            "backgroundcolor": "#E5ECF6",
            "gridcolor": "white",
            "gridwidth": 2,
            "linecolor": "white",
            "showbackground": true,
            "ticks": "",
            "zerolinecolor": "white"
           },
           "zaxis": {
            "backgroundcolor": "#E5ECF6",
            "gridcolor": "white",
            "gridwidth": 2,
            "linecolor": "white",
            "showbackground": true,
            "ticks": "",
            "zerolinecolor": "white"
           }
          },
          "shapedefaults": {
           "line": {
            "color": "#2a3f5f"
           }
          },
          "ternary": {
           "aaxis": {
            "gridcolor": "white",
            "linecolor": "white",
            "ticks": ""
           },
           "baxis": {
            "gridcolor": "white",
            "linecolor": "white",
            "ticks": ""
           },
           "bgcolor": "#E5ECF6",
           "caxis": {
            "gridcolor": "white",
            "linecolor": "white",
            "ticks": ""
           }
          },
          "title": {
           "x": 0.05
          },
          "xaxis": {
           "automargin": true,
           "gridcolor": "white",
           "linecolor": "white",
           "ticks": "",
           "title": {
            "standoff": 15
           },
           "zerolinecolor": "white",
           "zerolinewidth": 2
          },
          "yaxis": {
           "automargin": true,
           "gridcolor": "white",
           "linecolor": "white",
           "ticks": "",
           "title": {
            "standoff": 15
           },
           "zerolinecolor": "white",
           "zerolinewidth": 2
          }
         }
        },
        "xaxis": {
         "anchor": "y",
         "domain": [
          0,
          1
         ],
         "title": {
          "text": "IntermediateSlope"
         }
        },
        "yaxis": {
         "anchor": "x",
         "domain": [
          0,
          1
         ],
         "title": {
          "text": "count"
         }
        }
       }
      }
     },
     "metadata": {},
     "output_type": "display_data"
    },
    {
     "data": {
      "application/vnd.plotly.v1+json": {
       "config": {
        "plotlyServerURL": "https://plot.ly"
       },
       "data": [
        {
         "alignmentgroup": "True",
         "bingroup": "x",
         "hovertemplate": "DifficultSlope=%{x}<br>count=%{y}<extra></extra>",
         "legendgroup": "",
         "marker": {
          "color": "#636efa",
          "pattern": {
           "shape": ""
          }
         },
         "name": "",
         "nbinsx": 100,
         "offsetgroup": "",
         "orientation": "v",
         "showlegend": false,
         "type": "histogram",
         "x": [
          4,
          33,
          1,
          3,
          21,
          0,
          2,
          4,
          3,
          1,
          1,
          1,
          1,
          5,
          0,
          72,
          72,
          18,
          35,
          31,
          19,
          20,
          30,
          15,
          15,
          11,
          18,
          30,
          8,
          23,
          25,
          10,
          10,
          20,
          38,
          17,
          11,
          11,
          12,
          8,
          8,
          10,
          7,
          10,
          7,
          16,
          8,
          20,
          10,
          10,
          6,
          4,
          2,
          7,
          8,
          13,
          26,
          6,
          15,
          1,
          19,
          14,
          18,
          13,
          5,
          12,
          20,
          13,
          1,
          10,
          10,
          0,
          11,
          8,
          8,
          17,
          10,
          11,
          5,
          8,
          8,
          9,
          11,
          10,
          20,
          12,
          6,
          5,
          1,
          10,
          10,
          9,
          4,
          2,
          9,
          5,
          9,
          5,
          9,
          9,
          20,
          5,
          6,
          7,
          18,
          1,
          3,
          2,
          10,
          6,
          3,
          8,
          8,
          5,
          9,
          9,
          6,
          3,
          7,
          2,
          5,
          7,
          3,
          4,
          9,
          1,
          15,
          0,
          3,
          7,
          12,
          0,
          2,
          2,
          0,
          2,
          7,
          5,
          6,
          2,
          9,
          10,
          0,
          3,
          8,
          4,
          3,
          2,
          2,
          6,
          5,
          1,
          3,
          1,
          10,
          1,
          15,
          2,
          0,
          10,
          6,
          4,
          5,
          4,
          4,
          5,
          5,
          3,
          8,
          3,
          5,
          3,
          4,
          4,
          2,
          14,
          5,
          10,
          5,
          5,
          3,
          5,
          0,
          6,
          3,
          1,
          3,
          0,
          3,
          1,
          0,
          7,
          3,
          0,
          1,
          2,
          3,
          4,
          1,
          2,
          0,
          0,
          0,
          3,
          0,
          0,
          0,
          4,
          2,
          1,
          0,
          5,
          6,
          1,
          2,
          6,
          null,
          null,
          null,
          null,
          null,
          null,
          null,
          0,
          0,
          0,
          0,
          0,
          2,
          3,
          1,
          0,
          2,
          2,
          4,
          3,
          5,
          0,
          4,
          16,
          0,
          1,
          4,
          0,
          10,
          2,
          1,
          5,
          1,
          1,
          0,
          1,
          2,
          2,
          2,
          7,
          2,
          3,
          0,
          12,
          0,
          26,
          52,
          20,
          72,
          60,
          60,
          60,
          17,
          20,
          4,
          11,
          2,
          4,
          13,
          0,
          33,
          33,
          33,
          3,
          72,
          27,
          8,
          50,
          20,
          2,
          3,
          19,
          19,
          1,
          4,
          2,
          22,
          3,
          0,
          27,
          14,
          0,
          15,
          8,
          2,
          0,
          9,
          20,
          34,
          11,
          0,
          12,
          7,
          1,
          33,
          33,
          5,
          2,
          1,
          0,
          27,
          4,
          103,
          103,
          103,
          103,
          49,
          13,
          2,
          8,
          0,
          22,
          22,
          72,
          4,
          34,
          20,
          10,
          4,
          27,
          30,
          3,
          4,
          2,
          2,
          null,
          18,
          18,
          20,
          6,
          11,
          28,
          32,
          84,
          8,
          4,
          4,
          5,
          51,
          51,
          51,
          51,
          7,
          3,
          2,
          25,
          2,
          0,
          3,
          4,
          29,
          4,
          0,
          18,
          72,
          84,
          84,
          15,
          15,
          4
         ],
         "xaxis": "x",
         "yaxis": "y"
        }
       ],
       "layout": {
        "barmode": "relative",
        "legend": {
         "tracegroupgap": 0
        },
        "margin": {
         "t": 60
        },
        "template": {
         "data": {
          "bar": [
           {
            "error_x": {
             "color": "#2a3f5f"
            },
            "error_y": {
             "color": "#2a3f5f"
            },
            "marker": {
             "line": {
              "color": "#E5ECF6",
              "width": 0.5
             },
             "pattern": {
              "fillmode": "overlay",
              "size": 10,
              "solidity": 0.2
             }
            },
            "type": "bar"
           }
          ],
          "barpolar": [
           {
            "marker": {
             "line": {
              "color": "#E5ECF6",
              "width": 0.5
             },
             "pattern": {
              "fillmode": "overlay",
              "size": 10,
              "solidity": 0.2
             }
            },
            "type": "barpolar"
           }
          ],
          "carpet": [
           {
            "aaxis": {
             "endlinecolor": "#2a3f5f",
             "gridcolor": "white",
             "linecolor": "white",
             "minorgridcolor": "white",
             "startlinecolor": "#2a3f5f"
            },
            "baxis": {
             "endlinecolor": "#2a3f5f",
             "gridcolor": "white",
             "linecolor": "white",
             "minorgridcolor": "white",
             "startlinecolor": "#2a3f5f"
            },
            "type": "carpet"
           }
          ],
          "choropleth": [
           {
            "colorbar": {
             "outlinewidth": 0,
             "ticks": ""
            },
            "type": "choropleth"
           }
          ],
          "contour": [
           {
            "colorbar": {
             "outlinewidth": 0,
             "ticks": ""
            },
            "colorscale": [
             [
              0,
              "#0d0887"
             ],
             [
              0.1111111111111111,
              "#46039f"
             ],
             [
              0.2222222222222222,
              "#7201a8"
             ],
             [
              0.3333333333333333,
              "#9c179e"
             ],
             [
              0.4444444444444444,
              "#bd3786"
             ],
             [
              0.5555555555555556,
              "#d8576b"
             ],
             [
              0.6666666666666666,
              "#ed7953"
             ],
             [
              0.7777777777777778,
              "#fb9f3a"
             ],
             [
              0.8888888888888888,
              "#fdca26"
             ],
             [
              1,
              "#f0f921"
             ]
            ],
            "type": "contour"
           }
          ],
          "contourcarpet": [
           {
            "colorbar": {
             "outlinewidth": 0,
             "ticks": ""
            },
            "type": "contourcarpet"
           }
          ],
          "heatmap": [
           {
            "colorbar": {
             "outlinewidth": 0,
             "ticks": ""
            },
            "colorscale": [
             [
              0,
              "#0d0887"
             ],
             [
              0.1111111111111111,
              "#46039f"
             ],
             [
              0.2222222222222222,
              "#7201a8"
             ],
             [
              0.3333333333333333,
              "#9c179e"
             ],
             [
              0.4444444444444444,
              "#bd3786"
             ],
             [
              0.5555555555555556,
              "#d8576b"
             ],
             [
              0.6666666666666666,
              "#ed7953"
             ],
             [
              0.7777777777777778,
              "#fb9f3a"
             ],
             [
              0.8888888888888888,
              "#fdca26"
             ],
             [
              1,
              "#f0f921"
             ]
            ],
            "type": "heatmap"
           }
          ],
          "heatmapgl": [
           {
            "colorbar": {
             "outlinewidth": 0,
             "ticks": ""
            },
            "colorscale": [
             [
              0,
              "#0d0887"
             ],
             [
              0.1111111111111111,
              "#46039f"
             ],
             [
              0.2222222222222222,
              "#7201a8"
             ],
             [
              0.3333333333333333,
              "#9c179e"
             ],
             [
              0.4444444444444444,
              "#bd3786"
             ],
             [
              0.5555555555555556,
              "#d8576b"
             ],
             [
              0.6666666666666666,
              "#ed7953"
             ],
             [
              0.7777777777777778,
              "#fb9f3a"
             ],
             [
              0.8888888888888888,
              "#fdca26"
             ],
             [
              1,
              "#f0f921"
             ]
            ],
            "type": "heatmapgl"
           }
          ],
          "histogram": [
           {
            "marker": {
             "pattern": {
              "fillmode": "overlay",
              "size": 10,
              "solidity": 0.2
             }
            },
            "type": "histogram"
           }
          ],
          "histogram2d": [
           {
            "colorbar": {
             "outlinewidth": 0,
             "ticks": ""
            },
            "colorscale": [
             [
              0,
              "#0d0887"
             ],
             [
              0.1111111111111111,
              "#46039f"
             ],
             [
              0.2222222222222222,
              "#7201a8"
             ],
             [
              0.3333333333333333,
              "#9c179e"
             ],
             [
              0.4444444444444444,
              "#bd3786"
             ],
             [
              0.5555555555555556,
              "#d8576b"
             ],
             [
              0.6666666666666666,
              "#ed7953"
             ],
             [
              0.7777777777777778,
              "#fb9f3a"
             ],
             [
              0.8888888888888888,
              "#fdca26"
             ],
             [
              1,
              "#f0f921"
             ]
            ],
            "type": "histogram2d"
           }
          ],
          "histogram2dcontour": [
           {
            "colorbar": {
             "outlinewidth": 0,
             "ticks": ""
            },
            "colorscale": [
             [
              0,
              "#0d0887"
             ],
             [
              0.1111111111111111,
              "#46039f"
             ],
             [
              0.2222222222222222,
              "#7201a8"
             ],
             [
              0.3333333333333333,
              "#9c179e"
             ],
             [
              0.4444444444444444,
              "#bd3786"
             ],
             [
              0.5555555555555556,
              "#d8576b"
             ],
             [
              0.6666666666666666,
              "#ed7953"
             ],
             [
              0.7777777777777778,
              "#fb9f3a"
             ],
             [
              0.8888888888888888,
              "#fdca26"
             ],
             [
              1,
              "#f0f921"
             ]
            ],
            "type": "histogram2dcontour"
           }
          ],
          "mesh3d": [
           {
            "colorbar": {
             "outlinewidth": 0,
             "ticks": ""
            },
            "type": "mesh3d"
           }
          ],
          "parcoords": [
           {
            "line": {
             "colorbar": {
              "outlinewidth": 0,
              "ticks": ""
             }
            },
            "type": "parcoords"
           }
          ],
          "pie": [
           {
            "automargin": true,
            "type": "pie"
           }
          ],
          "scatter": [
           {
            "fillpattern": {
             "fillmode": "overlay",
             "size": 10,
             "solidity": 0.2
            },
            "type": "scatter"
           }
          ],
          "scatter3d": [
           {
            "line": {
             "colorbar": {
              "outlinewidth": 0,
              "ticks": ""
             }
            },
            "marker": {
             "colorbar": {
              "outlinewidth": 0,
              "ticks": ""
             }
            },
            "type": "scatter3d"
           }
          ],
          "scattercarpet": [
           {
            "marker": {
             "colorbar": {
              "outlinewidth": 0,
              "ticks": ""
             }
            },
            "type": "scattercarpet"
           }
          ],
          "scattergeo": [
           {
            "marker": {
             "colorbar": {
              "outlinewidth": 0,
              "ticks": ""
             }
            },
            "type": "scattergeo"
           }
          ],
          "scattergl": [
           {
            "marker": {
             "colorbar": {
              "outlinewidth": 0,
              "ticks": ""
             }
            },
            "type": "scattergl"
           }
          ],
          "scattermapbox": [
           {
            "marker": {
             "colorbar": {
              "outlinewidth": 0,
              "ticks": ""
             }
            },
            "type": "scattermapbox"
           }
          ],
          "scatterpolar": [
           {
            "marker": {
             "colorbar": {
              "outlinewidth": 0,
              "ticks": ""
             }
            },
            "type": "scatterpolar"
           }
          ],
          "scatterpolargl": [
           {
            "marker": {
             "colorbar": {
              "outlinewidth": 0,
              "ticks": ""
             }
            },
            "type": "scatterpolargl"
           }
          ],
          "scatterternary": [
           {
            "marker": {
             "colorbar": {
              "outlinewidth": 0,
              "ticks": ""
             }
            },
            "type": "scatterternary"
           }
          ],
          "surface": [
           {
            "colorbar": {
             "outlinewidth": 0,
             "ticks": ""
            },
            "colorscale": [
             [
              0,
              "#0d0887"
             ],
             [
              0.1111111111111111,
              "#46039f"
             ],
             [
              0.2222222222222222,
              "#7201a8"
             ],
             [
              0.3333333333333333,
              "#9c179e"
             ],
             [
              0.4444444444444444,
              "#bd3786"
             ],
             [
              0.5555555555555556,
              "#d8576b"
             ],
             [
              0.6666666666666666,
              "#ed7953"
             ],
             [
              0.7777777777777778,
              "#fb9f3a"
             ],
             [
              0.8888888888888888,
              "#fdca26"
             ],
             [
              1,
              "#f0f921"
             ]
            ],
            "type": "surface"
           }
          ],
          "table": [
           {
            "cells": {
             "fill": {
              "color": "#EBF0F8"
             },
             "line": {
              "color": "white"
             }
            },
            "header": {
             "fill": {
              "color": "#C8D4E3"
             },
             "line": {
              "color": "white"
             }
            },
            "type": "table"
           }
          ]
         },
         "layout": {
          "annotationdefaults": {
           "arrowcolor": "#2a3f5f",
           "arrowhead": 0,
           "arrowwidth": 1
          },
          "autotypenumbers": "strict",
          "coloraxis": {
           "colorbar": {
            "outlinewidth": 0,
            "ticks": ""
           }
          },
          "colorscale": {
           "diverging": [
            [
             0,
             "#8e0152"
            ],
            [
             0.1,
             "#c51b7d"
            ],
            [
             0.2,
             "#de77ae"
            ],
            [
             0.3,
             "#f1b6da"
            ],
            [
             0.4,
             "#fde0ef"
            ],
            [
             0.5,
             "#f7f7f7"
            ],
            [
             0.6,
             "#e6f5d0"
            ],
            [
             0.7,
             "#b8e186"
            ],
            [
             0.8,
             "#7fbc41"
            ],
            [
             0.9,
             "#4d9221"
            ],
            [
             1,
             "#276419"
            ]
           ],
           "sequential": [
            [
             0,
             "#0d0887"
            ],
            [
             0.1111111111111111,
             "#46039f"
            ],
            [
             0.2222222222222222,
             "#7201a8"
            ],
            [
             0.3333333333333333,
             "#9c179e"
            ],
            [
             0.4444444444444444,
             "#bd3786"
            ],
            [
             0.5555555555555556,
             "#d8576b"
            ],
            [
             0.6666666666666666,
             "#ed7953"
            ],
            [
             0.7777777777777778,
             "#fb9f3a"
            ],
            [
             0.8888888888888888,
             "#fdca26"
            ],
            [
             1,
             "#f0f921"
            ]
           ],
           "sequentialminus": [
            [
             0,
             "#0d0887"
            ],
            [
             0.1111111111111111,
             "#46039f"
            ],
            [
             0.2222222222222222,
             "#7201a8"
            ],
            [
             0.3333333333333333,
             "#9c179e"
            ],
            [
             0.4444444444444444,
             "#bd3786"
            ],
            [
             0.5555555555555556,
             "#d8576b"
            ],
            [
             0.6666666666666666,
             "#ed7953"
            ],
            [
             0.7777777777777778,
             "#fb9f3a"
            ],
            [
             0.8888888888888888,
             "#fdca26"
            ],
            [
             1,
             "#f0f921"
            ]
           ]
          },
          "colorway": [
           "#636efa",
           "#EF553B",
           "#00cc96",
           "#ab63fa",
           "#FFA15A",
           "#19d3f3",
           "#FF6692",
           "#B6E880",
           "#FF97FF",
           "#FECB52"
          ],
          "font": {
           "color": "#2a3f5f"
          },
          "geo": {
           "bgcolor": "white",
           "lakecolor": "white",
           "landcolor": "#E5ECF6",
           "showlakes": true,
           "showland": true,
           "subunitcolor": "white"
          },
          "hoverlabel": {
           "align": "left"
          },
          "hovermode": "closest",
          "mapbox": {
           "style": "light"
          },
          "paper_bgcolor": "white",
          "plot_bgcolor": "#E5ECF6",
          "polar": {
           "angularaxis": {
            "gridcolor": "white",
            "linecolor": "white",
            "ticks": ""
           },
           "bgcolor": "#E5ECF6",
           "radialaxis": {
            "gridcolor": "white",
            "linecolor": "white",
            "ticks": ""
           }
          },
          "scene": {
           "xaxis": {
            "backgroundcolor": "#E5ECF6",
            "gridcolor": "white",
            "gridwidth": 2,
            "linecolor": "white",
            "showbackground": true,
            "ticks": "",
            "zerolinecolor": "white"
           },
           "yaxis": {
            "backgroundcolor": "#E5ECF6",
            "gridcolor": "white",
            "gridwidth": 2,
            "linecolor": "white",
            "showbackground": true,
            "ticks": "",
            "zerolinecolor": "white"
           },
           "zaxis": {
            "backgroundcolor": "#E5ECF6",
            "gridcolor": "white",
            "gridwidth": 2,
            "linecolor": "white",
            "showbackground": true,
            "ticks": "",
            "zerolinecolor": "white"
           }
          },
          "shapedefaults": {
           "line": {
            "color": "#2a3f5f"
           }
          },
          "ternary": {
           "aaxis": {
            "gridcolor": "white",
            "linecolor": "white",
            "ticks": ""
           },
           "baxis": {
            "gridcolor": "white",
            "linecolor": "white",
            "ticks": ""
           },
           "bgcolor": "#E5ECF6",
           "caxis": {
            "gridcolor": "white",
            "linecolor": "white",
            "ticks": ""
           }
          },
          "title": {
           "x": 0.05
          },
          "xaxis": {
           "automargin": true,
           "gridcolor": "white",
           "linecolor": "white",
           "ticks": "",
           "title": {
            "standoff": 15
           },
           "zerolinecolor": "white",
           "zerolinewidth": 2
          },
          "yaxis": {
           "automargin": true,
           "gridcolor": "white",
           "linecolor": "white",
           "ticks": "",
           "title": {
            "standoff": 15
           },
           "zerolinecolor": "white",
           "zerolinewidth": 2
          }
         }
        },
        "xaxis": {
         "anchor": "y",
         "domain": [
          0,
          1
         ],
         "title": {
          "text": "DifficultSlope"
         }
        },
        "yaxis": {
         "anchor": "x",
         "domain": [
          0,
          1
         ],
         "title": {
          "text": "count"
         }
        }
       }
      }
     },
     "metadata": {},
     "output_type": "display_data"
    },
    {
     "data": {
      "application/vnd.plotly.v1+json": {
       "config": {
        "plotlyServerURL": "https://plot.ly"
       },
       "data": [
        {
         "alignmentgroup": "True",
         "bingroup": "x",
         "hovertemplate": "TotalSlope=%{x}<br>count=%{y}<extra></extra>",
         "legendgroup": "",
         "marker": {
          "color": "#636efa",
          "pattern": {
           "shape": ""
          }
         },
         "name": "",
         "nbinsx": 100,
         "offsetgroup": "",
         "orientation": "v",
         "showlegend": false,
         "type": "histogram",
         "x": [
          115,
          210,
          2,
          51,
          77,
          16,
          20,
          35,
          25,
          23,
          24,
          20,
          20,
          35,
          6,
          600,
          600,
          310,
          265,
          263,
          188,
          185,
          180,
          165,
          150,
          143,
          141,
          135,
          130,
          125,
          125,
          125,
          120,
          120,
          120,
          120,
          110,
          105,
          104,
          103,
          100,
          100,
          100,
          100,
          100,
          96,
          91,
          90,
          90,
          90,
          88,
          88,
          11,
          85,
          84,
          83,
          80,
          80,
          80,
          79,
          77,
          76,
          75,
          75,
          74,
          72,
          71,
          71,
          70,
          70,
          70,
          70,
          70,
          67,
          65,
          65,
          65,
          65,
          65,
          63,
          62,
          62,
          60,
          60,
          60,
          60,
          60,
          60,
          60,
          60,
          60,
          60,
          60,
          60,
          59,
          58,
          58,
          58,
          58,
          56,
          56,
          55,
          55,
          55,
          55,
          55,
          55,
          55,
          55,
          55,
          55,
          53,
          53,
          52,
          51,
          51,
          50,
          50,
          50,
          50,
          50,
          50,
          50,
          50,
          50,
          50,
          50,
          20,
          42,
          44,
          45,
          0,
          20,
          42,
          9,
          40,
          48,
          41,
          45,
          28,
          42,
          40,
          0,
          40,
          43,
          43,
          32,
          34,
          41,
          37,
          29,
          44,
          41,
          33,
          36,
          7,
          50,
          24,
          40,
          50,
          32,
          28,
          25,
          20,
          35,
          32,
          50,
          40,
          21,
          35,
          25,
          36,
          17,
          11,
          36,
          44,
          13,
          40,
          50,
          40,
          38,
          26,
          20,
          42,
          36,
          20,
          23,
          8,
          30,
          36,
          23,
          24,
          42,
          1,
          10,
          22,
          20,
          18,
          6,
          27,
          8,
          11,
          0,
          32,
          16,
          12,
          5,
          11,
          25,
          25,
          1,
          25,
          40,
          10,
          15,
          36,
          0,
          3,
          0,
          0,
          0,
          0,
          0,
          40,
          3,
          1,
          8,
          34,
          10,
          20,
          21,
          4,
          8,
          17,
          30,
          33,
          27,
          11,
          8,
          47,
          6,
          7,
          27,
          2,
          31,
          14,
          19,
          34,
          33,
          11,
          10,
          8,
          32,
          13,
          42,
          32,
          15,
          23,
          24,
          25,
          8,
          200,
          300,
          115,
          600,
          580,
          580,
          580,
          179,
          110,
          44,
          40,
          21,
          34,
          93,
          4,
          284,
          284,
          284,
          41,
          600,
          225,
          123,
          250,
          137,
          30,
          48,
          150,
          112,
          25,
          34,
          7,
          150,
          36,
          4,
          322,
          29,
          29,
          140,
          40,
          41,
          0,
          26,
          120,
          155,
          192,
          5,
          43,
          24,
          26,
          210,
          210,
          20,
          9,
          8,
          1,
          225,
          100,
          412,
          412,
          412,
          412,
          238,
          102,
          20,
          41,
          3,
          160,
          160,
          600,
          18,
          200,
          120,
          100,
          41,
          322,
          136,
          20,
          100,
          37,
          18,
          0,
          270,
          270,
          100,
          41,
          27,
          198,
          250,
          400,
          113,
          115,
          115,
          48,
          304,
          304,
          304,
          304,
          107,
          43,
          86,
          119,
          28,
          4,
          30,
          44,
          144,
          38,
          7,
          175,
          600,
          400,
          400,
          132,
          132,
          44
         ],
         "xaxis": "x",
         "yaxis": "y"
        }
       ],
       "layout": {
        "barmode": "relative",
        "legend": {
         "tracegroupgap": 0
        },
        "margin": {
         "t": 60
        },
        "template": {
         "data": {
          "bar": [
           {
            "error_x": {
             "color": "#2a3f5f"
            },
            "error_y": {
             "color": "#2a3f5f"
            },
            "marker": {
             "line": {
              "color": "#E5ECF6",
              "width": 0.5
             },
             "pattern": {
              "fillmode": "overlay",
              "size": 10,
              "solidity": 0.2
             }
            },
            "type": "bar"
           }
          ],
          "barpolar": [
           {
            "marker": {
             "line": {
              "color": "#E5ECF6",
              "width": 0.5
             },
             "pattern": {
              "fillmode": "overlay",
              "size": 10,
              "solidity": 0.2
             }
            },
            "type": "barpolar"
           }
          ],
          "carpet": [
           {
            "aaxis": {
             "endlinecolor": "#2a3f5f",
             "gridcolor": "white",
             "linecolor": "white",
             "minorgridcolor": "white",
             "startlinecolor": "#2a3f5f"
            },
            "baxis": {
             "endlinecolor": "#2a3f5f",
             "gridcolor": "white",
             "linecolor": "white",
             "minorgridcolor": "white",
             "startlinecolor": "#2a3f5f"
            },
            "type": "carpet"
           }
          ],
          "choropleth": [
           {
            "colorbar": {
             "outlinewidth": 0,
             "ticks": ""
            },
            "type": "choropleth"
           }
          ],
          "contour": [
           {
            "colorbar": {
             "outlinewidth": 0,
             "ticks": ""
            },
            "colorscale": [
             [
              0,
              "#0d0887"
             ],
             [
              0.1111111111111111,
              "#46039f"
             ],
             [
              0.2222222222222222,
              "#7201a8"
             ],
             [
              0.3333333333333333,
              "#9c179e"
             ],
             [
              0.4444444444444444,
              "#bd3786"
             ],
             [
              0.5555555555555556,
              "#d8576b"
             ],
             [
              0.6666666666666666,
              "#ed7953"
             ],
             [
              0.7777777777777778,
              "#fb9f3a"
             ],
             [
              0.8888888888888888,
              "#fdca26"
             ],
             [
              1,
              "#f0f921"
             ]
            ],
            "type": "contour"
           }
          ],
          "contourcarpet": [
           {
            "colorbar": {
             "outlinewidth": 0,
             "ticks": ""
            },
            "type": "contourcarpet"
           }
          ],
          "heatmap": [
           {
            "colorbar": {
             "outlinewidth": 0,
             "ticks": ""
            },
            "colorscale": [
             [
              0,
              "#0d0887"
             ],
             [
              0.1111111111111111,
              "#46039f"
             ],
             [
              0.2222222222222222,
              "#7201a8"
             ],
             [
              0.3333333333333333,
              "#9c179e"
             ],
             [
              0.4444444444444444,
              "#bd3786"
             ],
             [
              0.5555555555555556,
              "#d8576b"
             ],
             [
              0.6666666666666666,
              "#ed7953"
             ],
             [
              0.7777777777777778,
              "#fb9f3a"
             ],
             [
              0.8888888888888888,
              "#fdca26"
             ],
             [
              1,
              "#f0f921"
             ]
            ],
            "type": "heatmap"
           }
          ],
          "heatmapgl": [
           {
            "colorbar": {
             "outlinewidth": 0,
             "ticks": ""
            },
            "colorscale": [
             [
              0,
              "#0d0887"
             ],
             [
              0.1111111111111111,
              "#46039f"
             ],
             [
              0.2222222222222222,
              "#7201a8"
             ],
             [
              0.3333333333333333,
              "#9c179e"
             ],
             [
              0.4444444444444444,
              "#bd3786"
             ],
             [
              0.5555555555555556,
              "#d8576b"
             ],
             [
              0.6666666666666666,
              "#ed7953"
             ],
             [
              0.7777777777777778,
              "#fb9f3a"
             ],
             [
              0.8888888888888888,
              "#fdca26"
             ],
             [
              1,
              "#f0f921"
             ]
            ],
            "type": "heatmapgl"
           }
          ],
          "histogram": [
           {
            "marker": {
             "pattern": {
              "fillmode": "overlay",
              "size": 10,
              "solidity": 0.2
             }
            },
            "type": "histogram"
           }
          ],
          "histogram2d": [
           {
            "colorbar": {
             "outlinewidth": 0,
             "ticks": ""
            },
            "colorscale": [
             [
              0,
              "#0d0887"
             ],
             [
              0.1111111111111111,
              "#46039f"
             ],
             [
              0.2222222222222222,
              "#7201a8"
             ],
             [
              0.3333333333333333,
              "#9c179e"
             ],
             [
              0.4444444444444444,
              "#bd3786"
             ],
             [
              0.5555555555555556,
              "#d8576b"
             ],
             [
              0.6666666666666666,
              "#ed7953"
             ],
             [
              0.7777777777777778,
              "#fb9f3a"
             ],
             [
              0.8888888888888888,
              "#fdca26"
             ],
             [
              1,
              "#f0f921"
             ]
            ],
            "type": "histogram2d"
           }
          ],
          "histogram2dcontour": [
           {
            "colorbar": {
             "outlinewidth": 0,
             "ticks": ""
            },
            "colorscale": [
             [
              0,
              "#0d0887"
             ],
             [
              0.1111111111111111,
              "#46039f"
             ],
             [
              0.2222222222222222,
              "#7201a8"
             ],
             [
              0.3333333333333333,
              "#9c179e"
             ],
             [
              0.4444444444444444,
              "#bd3786"
             ],
             [
              0.5555555555555556,
              "#d8576b"
             ],
             [
              0.6666666666666666,
              "#ed7953"
             ],
             [
              0.7777777777777778,
              "#fb9f3a"
             ],
             [
              0.8888888888888888,
              "#fdca26"
             ],
             [
              1,
              "#f0f921"
             ]
            ],
            "type": "histogram2dcontour"
           }
          ],
          "mesh3d": [
           {
            "colorbar": {
             "outlinewidth": 0,
             "ticks": ""
            },
            "type": "mesh3d"
           }
          ],
          "parcoords": [
           {
            "line": {
             "colorbar": {
              "outlinewidth": 0,
              "ticks": ""
             }
            },
            "type": "parcoords"
           }
          ],
          "pie": [
           {
            "automargin": true,
            "type": "pie"
           }
          ],
          "scatter": [
           {
            "fillpattern": {
             "fillmode": "overlay",
             "size": 10,
             "solidity": 0.2
            },
            "type": "scatter"
           }
          ],
          "scatter3d": [
           {
            "line": {
             "colorbar": {
              "outlinewidth": 0,
              "ticks": ""
             }
            },
            "marker": {
             "colorbar": {
              "outlinewidth": 0,
              "ticks": ""
             }
            },
            "type": "scatter3d"
           }
          ],
          "scattercarpet": [
           {
            "marker": {
             "colorbar": {
              "outlinewidth": 0,
              "ticks": ""
             }
            },
            "type": "scattercarpet"
           }
          ],
          "scattergeo": [
           {
            "marker": {
             "colorbar": {
              "outlinewidth": 0,
              "ticks": ""
             }
            },
            "type": "scattergeo"
           }
          ],
          "scattergl": [
           {
            "marker": {
             "colorbar": {
              "outlinewidth": 0,
              "ticks": ""
             }
            },
            "type": "scattergl"
           }
          ],
          "scattermapbox": [
           {
            "marker": {
             "colorbar": {
              "outlinewidth": 0,
              "ticks": ""
             }
            },
            "type": "scattermapbox"
           }
          ],
          "scatterpolar": [
           {
            "marker": {
             "colorbar": {
              "outlinewidth": 0,
              "ticks": ""
             }
            },
            "type": "scatterpolar"
           }
          ],
          "scatterpolargl": [
           {
            "marker": {
             "colorbar": {
              "outlinewidth": 0,
              "ticks": ""
             }
            },
            "type": "scatterpolargl"
           }
          ],
          "scatterternary": [
           {
            "marker": {
             "colorbar": {
              "outlinewidth": 0,
              "ticks": ""
             }
            },
            "type": "scatterternary"
           }
          ],
          "surface": [
           {
            "colorbar": {
             "outlinewidth": 0,
             "ticks": ""
            },
            "colorscale": [
             [
              0,
              "#0d0887"
             ],
             [
              0.1111111111111111,
              "#46039f"
             ],
             [
              0.2222222222222222,
              "#7201a8"
             ],
             [
              0.3333333333333333,
              "#9c179e"
             ],
             [
              0.4444444444444444,
              "#bd3786"
             ],
             [
              0.5555555555555556,
              "#d8576b"
             ],
             [
              0.6666666666666666,
              "#ed7953"
             ],
             [
              0.7777777777777778,
              "#fb9f3a"
             ],
             [
              0.8888888888888888,
              "#fdca26"
             ],
             [
              1,
              "#f0f921"
             ]
            ],
            "type": "surface"
           }
          ],
          "table": [
           {
            "cells": {
             "fill": {
              "color": "#EBF0F8"
             },
             "line": {
              "color": "white"
             }
            },
            "header": {
             "fill": {
              "color": "#C8D4E3"
             },
             "line": {
              "color": "white"
             }
            },
            "type": "table"
           }
          ]
         },
         "layout": {
          "annotationdefaults": {
           "arrowcolor": "#2a3f5f",
           "arrowhead": 0,
           "arrowwidth": 1
          },
          "autotypenumbers": "strict",
          "coloraxis": {
           "colorbar": {
            "outlinewidth": 0,
            "ticks": ""
           }
          },
          "colorscale": {
           "diverging": [
            [
             0,
             "#8e0152"
            ],
            [
             0.1,
             "#c51b7d"
            ],
            [
             0.2,
             "#de77ae"
            ],
            [
             0.3,
             "#f1b6da"
            ],
            [
             0.4,
             "#fde0ef"
            ],
            [
             0.5,
             "#f7f7f7"
            ],
            [
             0.6,
             "#e6f5d0"
            ],
            [
             0.7,
             "#b8e186"
            ],
            [
             0.8,
             "#7fbc41"
            ],
            [
             0.9,
             "#4d9221"
            ],
            [
             1,
             "#276419"
            ]
           ],
           "sequential": [
            [
             0,
             "#0d0887"
            ],
            [
             0.1111111111111111,
             "#46039f"
            ],
            [
             0.2222222222222222,
             "#7201a8"
            ],
            [
             0.3333333333333333,
             "#9c179e"
            ],
            [
             0.4444444444444444,
             "#bd3786"
            ],
            [
             0.5555555555555556,
             "#d8576b"
            ],
            [
             0.6666666666666666,
             "#ed7953"
            ],
            [
             0.7777777777777778,
             "#fb9f3a"
            ],
            [
             0.8888888888888888,
             "#fdca26"
            ],
            [
             1,
             "#f0f921"
            ]
           ],
           "sequentialminus": [
            [
             0,
             "#0d0887"
            ],
            [
             0.1111111111111111,
             "#46039f"
            ],
            [
             0.2222222222222222,
             "#7201a8"
            ],
            [
             0.3333333333333333,
             "#9c179e"
            ],
            [
             0.4444444444444444,
             "#bd3786"
            ],
            [
             0.5555555555555556,
             "#d8576b"
            ],
            [
             0.6666666666666666,
             "#ed7953"
            ],
            [
             0.7777777777777778,
             "#fb9f3a"
            ],
            [
             0.8888888888888888,
             "#fdca26"
            ],
            [
             1,
             "#f0f921"
            ]
           ]
          },
          "colorway": [
           "#636efa",
           "#EF553B",
           "#00cc96",
           "#ab63fa",
           "#FFA15A",
           "#19d3f3",
           "#FF6692",
           "#B6E880",
           "#FF97FF",
           "#FECB52"
          ],
          "font": {
           "color": "#2a3f5f"
          },
          "geo": {
           "bgcolor": "white",
           "lakecolor": "white",
           "landcolor": "#E5ECF6",
           "showlakes": true,
           "showland": true,
           "subunitcolor": "white"
          },
          "hoverlabel": {
           "align": "left"
          },
          "hovermode": "closest",
          "mapbox": {
           "style": "light"
          },
          "paper_bgcolor": "white",
          "plot_bgcolor": "#E5ECF6",
          "polar": {
           "angularaxis": {
            "gridcolor": "white",
            "linecolor": "white",
            "ticks": ""
           },
           "bgcolor": "#E5ECF6",
           "radialaxis": {
            "gridcolor": "white",
            "linecolor": "white",
            "ticks": ""
           }
          },
          "scene": {
           "xaxis": {
            "backgroundcolor": "#E5ECF6",
            "gridcolor": "white",
            "gridwidth": 2,
            "linecolor": "white",
            "showbackground": true,
            "ticks": "",
            "zerolinecolor": "white"
           },
           "yaxis": {
            "backgroundcolor": "#E5ECF6",
            "gridcolor": "white",
            "gridwidth": 2,
            "linecolor": "white",
            "showbackground": true,
            "ticks": "",
            "zerolinecolor": "white"
           },
           "zaxis": {
            "backgroundcolor": "#E5ECF6",
            "gridcolor": "white",
            "gridwidth": 2,
            "linecolor": "white",
            "showbackground": true,
            "ticks": "",
            "zerolinecolor": "white"
           }
          },
          "shapedefaults": {
           "line": {
            "color": "#2a3f5f"
           }
          },
          "ternary": {
           "aaxis": {
            "gridcolor": "white",
            "linecolor": "white",
            "ticks": ""
           },
           "baxis": {
            "gridcolor": "white",
            "linecolor": "white",
            "ticks": ""
           },
           "bgcolor": "#E5ECF6",
           "caxis": {
            "gridcolor": "white",
            "linecolor": "white",
            "ticks": ""
           }
          },
          "title": {
           "x": 0.05
          },
          "xaxis": {
           "automargin": true,
           "gridcolor": "white",
           "linecolor": "white",
           "ticks": "",
           "title": {
            "standoff": 15
           },
           "zerolinecolor": "white",
           "zerolinewidth": 2
          },
          "yaxis": {
           "automargin": true,
           "gridcolor": "white",
           "linecolor": "white",
           "ticks": "",
           "title": {
            "standoff": 15
           },
           "zerolinecolor": "white",
           "zerolinewidth": 2
          }
         }
        },
        "xaxis": {
         "anchor": "y",
         "domain": [
          0,
          1
         ],
         "title": {
          "text": "TotalSlope"
         }
        },
        "yaxis": {
         "anchor": "x",
         "domain": [
          0,
          1
         ],
         "title": {
          "text": "count"
         }
        }
       }
      }
     },
     "metadata": {},
     "output_type": "display_data"
    },
    {
     "data": {
      "application/vnd.plotly.v1+json": {
       "config": {
        "plotlyServerURL": "https://plot.ly"
       },
       "data": [
        {
         "alignmentgroup": "True",
         "bingroup": "x",
         "hovertemplate": "SurfaceLifts=%{x}<br>count=%{y}<extra></extra>",
         "legendgroup": "",
         "marker": {
          "color": "#636efa",
          "pattern": {
           "shape": ""
          }
         },
         "name": "",
         "nbinsx": 100,
         "offsetgroup": "",
         "orientation": "v",
         "showlegend": false,
         "type": "histogram",
         "x": [
          22,
          37,
          2,
          25,
          6,
          7,
          8,
          11,
          5,
          3,
          7,
          3,
          11,
          3,
          2,
          62,
          62,
          44,
          34,
          50,
          13,
          32,
          null,
          36,
          12,
          22,
          19,
          7,
          18,
          28,
          18,
          13,
          12,
          10,
          15,
          5,
          16,
          19,
          18,
          17,
          13,
          17,
          20,
          18,
          21,
          4,
          27,
          11,
          8,
          null,
          12,
          9,
          1,
          16,
          18,
          22,
          13,
          10,
          11,
          10,
          9,
          10,
          20,
          4,
          13,
          7,
          29,
          11,
          7,
          9,
          5,
          10,
          6,
          6,
          5,
          9,
          18,
          3,
          7,
          15,
          3,
          15,
          10,
          9,
          8,
          7,
          6,
          18,
          9,
          13,
          11,
          10,
          8,
          8,
          7,
          8,
          10,
          8,
          15,
          1,
          6,
          5,
          27,
          11,
          2,
          8,
          6,
          12,
          15,
          14,
          4,
          3,
          12,
          5,
          14,
          3,
          5,
          9,
          null,
          8,
          7,
          6,
          27,
          4,
          5,
          11,
          19,
          4,
          49,
          19,
          42,
          3,
          6,
          3,
          4,
          20,
          6,
          16,
          18,
          18,
          7,
          11,
          0,
          13,
          5,
          16,
          17,
          7,
          21,
          9,
          6,
          6,
          10,
          4,
          5,
          3,
          9,
          17,
          14,
          6,
          7,
          15,
          1,
          2,
          4,
          6,
          8,
          3,
          1,
          8,
          5,
          9,
          2,
          2,
          18,
          4,
          5,
          15,
          10,
          11,
          15,
          9,
          3,
          14,
          7,
          8,
          6,
          11,
          5,
          11,
          6,
          4,
          12,
          4,
          5,
          5,
          4,
          4,
          9,
          9,
          8,
          23,
          2,
          null,
          8,
          6,
          3,
          3,
          8,
          14,
          2,
          8,
          11,
          7,
          6,
          3,
          0,
          0,
          0,
          0,
          0,
          0,
          0,
          9,
          5,
          10,
          5,
          6,
          4,
          11,
          12,
          3,
          2,
          7,
          2,
          3,
          9,
          5,
          2,
          8,
          2,
          0,
          3,
          3,
          9,
          2,
          7,
          14,
          9,
          3,
          3,
          8,
          2,
          3,
          9,
          11,
          9,
          6,
          7,
          4,
          4,
          17,
          33,
          25,
          62,
          89,
          89,
          89,
          15,
          13,
          14,
          7,
          6,
          18,
          null,
          4,
          54,
          54,
          54,
          5,
          62,
          56,
          16,
          27,
          9,
          3,
          7,
          14,
          21,
          8,
          16,
          3,
          14,
          6,
          2,
          21,
          1,
          8,
          12,
          6,
          5,
          0,
          7,
          8,
          11,
          53,
          1,
          9,
          6,
          4,
          37,
          37,
          10,
          0,
          3,
          1,
          24,
          20,
          39,
          39,
          39,
          39,
          13,
          10,
          15,
          6,
          1,
          21,
          21,
          62,
          12,
          26,
          12,
          11,
          4,
          21,
          31,
          8,
          11,
          25,
          17,
          0,
          21,
          21,
          14,
          2,
          6,
          40,
          33,
          29,
          25,
          22,
          22,
          1,
          53,
          53,
          53,
          53,
          5,
          12,
          10,
          6,
          5,
          3,
          10,
          15,
          12,
          14,
          3,
          29,
          62,
          null,
          29,
          9,
          9,
          9
         ],
         "xaxis": "x",
         "yaxis": "y"
        }
       ],
       "layout": {
        "barmode": "relative",
        "legend": {
         "tracegroupgap": 0
        },
        "margin": {
         "t": 60
        },
        "template": {
         "data": {
          "bar": [
           {
            "error_x": {
             "color": "#2a3f5f"
            },
            "error_y": {
             "color": "#2a3f5f"
            },
            "marker": {
             "line": {
              "color": "#E5ECF6",
              "width": 0.5
             },
             "pattern": {
              "fillmode": "overlay",
              "size": 10,
              "solidity": 0.2
             }
            },
            "type": "bar"
           }
          ],
          "barpolar": [
           {
            "marker": {
             "line": {
              "color": "#E5ECF6",
              "width": 0.5
             },
             "pattern": {
              "fillmode": "overlay",
              "size": 10,
              "solidity": 0.2
             }
            },
            "type": "barpolar"
           }
          ],
          "carpet": [
           {
            "aaxis": {
             "endlinecolor": "#2a3f5f",
             "gridcolor": "white",
             "linecolor": "white",
             "minorgridcolor": "white",
             "startlinecolor": "#2a3f5f"
            },
            "baxis": {
             "endlinecolor": "#2a3f5f",
             "gridcolor": "white",
             "linecolor": "white",
             "minorgridcolor": "white",
             "startlinecolor": "#2a3f5f"
            },
            "type": "carpet"
           }
          ],
          "choropleth": [
           {
            "colorbar": {
             "outlinewidth": 0,
             "ticks": ""
            },
            "type": "choropleth"
           }
          ],
          "contour": [
           {
            "colorbar": {
             "outlinewidth": 0,
             "ticks": ""
            },
            "colorscale": [
             [
              0,
              "#0d0887"
             ],
             [
              0.1111111111111111,
              "#46039f"
             ],
             [
              0.2222222222222222,
              "#7201a8"
             ],
             [
              0.3333333333333333,
              "#9c179e"
             ],
             [
              0.4444444444444444,
              "#bd3786"
             ],
             [
              0.5555555555555556,
              "#d8576b"
             ],
             [
              0.6666666666666666,
              "#ed7953"
             ],
             [
              0.7777777777777778,
              "#fb9f3a"
             ],
             [
              0.8888888888888888,
              "#fdca26"
             ],
             [
              1,
              "#f0f921"
             ]
            ],
            "type": "contour"
           }
          ],
          "contourcarpet": [
           {
            "colorbar": {
             "outlinewidth": 0,
             "ticks": ""
            },
            "type": "contourcarpet"
           }
          ],
          "heatmap": [
           {
            "colorbar": {
             "outlinewidth": 0,
             "ticks": ""
            },
            "colorscale": [
             [
              0,
              "#0d0887"
             ],
             [
              0.1111111111111111,
              "#46039f"
             ],
             [
              0.2222222222222222,
              "#7201a8"
             ],
             [
              0.3333333333333333,
              "#9c179e"
             ],
             [
              0.4444444444444444,
              "#bd3786"
             ],
             [
              0.5555555555555556,
              "#d8576b"
             ],
             [
              0.6666666666666666,
              "#ed7953"
             ],
             [
              0.7777777777777778,
              "#fb9f3a"
             ],
             [
              0.8888888888888888,
              "#fdca26"
             ],
             [
              1,
              "#f0f921"
             ]
            ],
            "type": "heatmap"
           }
          ],
          "heatmapgl": [
           {
            "colorbar": {
             "outlinewidth": 0,
             "ticks": ""
            },
            "colorscale": [
             [
              0,
              "#0d0887"
             ],
             [
              0.1111111111111111,
              "#46039f"
             ],
             [
              0.2222222222222222,
              "#7201a8"
             ],
             [
              0.3333333333333333,
              "#9c179e"
             ],
             [
              0.4444444444444444,
              "#bd3786"
             ],
             [
              0.5555555555555556,
              "#d8576b"
             ],
             [
              0.6666666666666666,
              "#ed7953"
             ],
             [
              0.7777777777777778,
              "#fb9f3a"
             ],
             [
              0.8888888888888888,
              "#fdca26"
             ],
             [
              1,
              "#f0f921"
             ]
            ],
            "type": "heatmapgl"
           }
          ],
          "histogram": [
           {
            "marker": {
             "pattern": {
              "fillmode": "overlay",
              "size": 10,
              "solidity": 0.2
             }
            },
            "type": "histogram"
           }
          ],
          "histogram2d": [
           {
            "colorbar": {
             "outlinewidth": 0,
             "ticks": ""
            },
            "colorscale": [
             [
              0,
              "#0d0887"
             ],
             [
              0.1111111111111111,
              "#46039f"
             ],
             [
              0.2222222222222222,
              "#7201a8"
             ],
             [
              0.3333333333333333,
              "#9c179e"
             ],
             [
              0.4444444444444444,
              "#bd3786"
             ],
             [
              0.5555555555555556,
              "#d8576b"
             ],
             [
              0.6666666666666666,
              "#ed7953"
             ],
             [
              0.7777777777777778,
              "#fb9f3a"
             ],
             [
              0.8888888888888888,
              "#fdca26"
             ],
             [
              1,
              "#f0f921"
             ]
            ],
            "type": "histogram2d"
           }
          ],
          "histogram2dcontour": [
           {
            "colorbar": {
             "outlinewidth": 0,
             "ticks": ""
            },
            "colorscale": [
             [
              0,
              "#0d0887"
             ],
             [
              0.1111111111111111,
              "#46039f"
             ],
             [
              0.2222222222222222,
              "#7201a8"
             ],
             [
              0.3333333333333333,
              "#9c179e"
             ],
             [
              0.4444444444444444,
              "#bd3786"
             ],
             [
              0.5555555555555556,
              "#d8576b"
             ],
             [
              0.6666666666666666,
              "#ed7953"
             ],
             [
              0.7777777777777778,
              "#fb9f3a"
             ],
             [
              0.8888888888888888,
              "#fdca26"
             ],
             [
              1,
              "#f0f921"
             ]
            ],
            "type": "histogram2dcontour"
           }
          ],
          "mesh3d": [
           {
            "colorbar": {
             "outlinewidth": 0,
             "ticks": ""
            },
            "type": "mesh3d"
           }
          ],
          "parcoords": [
           {
            "line": {
             "colorbar": {
              "outlinewidth": 0,
              "ticks": ""
             }
            },
            "type": "parcoords"
           }
          ],
          "pie": [
           {
            "automargin": true,
            "type": "pie"
           }
          ],
          "scatter": [
           {
            "fillpattern": {
             "fillmode": "overlay",
             "size": 10,
             "solidity": 0.2
            },
            "type": "scatter"
           }
          ],
          "scatter3d": [
           {
            "line": {
             "colorbar": {
              "outlinewidth": 0,
              "ticks": ""
             }
            },
            "marker": {
             "colorbar": {
              "outlinewidth": 0,
              "ticks": ""
             }
            },
            "type": "scatter3d"
           }
          ],
          "scattercarpet": [
           {
            "marker": {
             "colorbar": {
              "outlinewidth": 0,
              "ticks": ""
             }
            },
            "type": "scattercarpet"
           }
          ],
          "scattergeo": [
           {
            "marker": {
             "colorbar": {
              "outlinewidth": 0,
              "ticks": ""
             }
            },
            "type": "scattergeo"
           }
          ],
          "scattergl": [
           {
            "marker": {
             "colorbar": {
              "outlinewidth": 0,
              "ticks": ""
             }
            },
            "type": "scattergl"
           }
          ],
          "scattermapbox": [
           {
            "marker": {
             "colorbar": {
              "outlinewidth": 0,
              "ticks": ""
             }
            },
            "type": "scattermapbox"
           }
          ],
          "scatterpolar": [
           {
            "marker": {
             "colorbar": {
              "outlinewidth": 0,
              "ticks": ""
             }
            },
            "type": "scatterpolar"
           }
          ],
          "scatterpolargl": [
           {
            "marker": {
             "colorbar": {
              "outlinewidth": 0,
              "ticks": ""
             }
            },
            "type": "scatterpolargl"
           }
          ],
          "scatterternary": [
           {
            "marker": {
             "colorbar": {
              "outlinewidth": 0,
              "ticks": ""
             }
            },
            "type": "scatterternary"
           }
          ],
          "surface": [
           {
            "colorbar": {
             "outlinewidth": 0,
             "ticks": ""
            },
            "colorscale": [
             [
              0,
              "#0d0887"
             ],
             [
              0.1111111111111111,
              "#46039f"
             ],
             [
              0.2222222222222222,
              "#7201a8"
             ],
             [
              0.3333333333333333,
              "#9c179e"
             ],
             [
              0.4444444444444444,
              "#bd3786"
             ],
             [
              0.5555555555555556,
              "#d8576b"
             ],
             [
              0.6666666666666666,
              "#ed7953"
             ],
             [
              0.7777777777777778,
              "#fb9f3a"
             ],
             [
              0.8888888888888888,
              "#fdca26"
             ],
             [
              1,
              "#f0f921"
             ]
            ],
            "type": "surface"
           }
          ],
          "table": [
           {
            "cells": {
             "fill": {
              "color": "#EBF0F8"
             },
             "line": {
              "color": "white"
             }
            },
            "header": {
             "fill": {
              "color": "#C8D4E3"
             },
             "line": {
              "color": "white"
             }
            },
            "type": "table"
           }
          ]
         },
         "layout": {
          "annotationdefaults": {
           "arrowcolor": "#2a3f5f",
           "arrowhead": 0,
           "arrowwidth": 1
          },
          "autotypenumbers": "strict",
          "coloraxis": {
           "colorbar": {
            "outlinewidth": 0,
            "ticks": ""
           }
          },
          "colorscale": {
           "diverging": [
            [
             0,
             "#8e0152"
            ],
            [
             0.1,
             "#c51b7d"
            ],
            [
             0.2,
             "#de77ae"
            ],
            [
             0.3,
             "#f1b6da"
            ],
            [
             0.4,
             "#fde0ef"
            ],
            [
             0.5,
             "#f7f7f7"
            ],
            [
             0.6,
             "#e6f5d0"
            ],
            [
             0.7,
             "#b8e186"
            ],
            [
             0.8,
             "#7fbc41"
            ],
            [
             0.9,
             "#4d9221"
            ],
            [
             1,
             "#276419"
            ]
           ],
           "sequential": [
            [
             0,
             "#0d0887"
            ],
            [
             0.1111111111111111,
             "#46039f"
            ],
            [
             0.2222222222222222,
             "#7201a8"
            ],
            [
             0.3333333333333333,
             "#9c179e"
            ],
            [
             0.4444444444444444,
             "#bd3786"
            ],
            [
             0.5555555555555556,
             "#d8576b"
            ],
            [
             0.6666666666666666,
             "#ed7953"
            ],
            [
             0.7777777777777778,
             "#fb9f3a"
            ],
            [
             0.8888888888888888,
             "#fdca26"
            ],
            [
             1,
             "#f0f921"
            ]
           ],
           "sequentialminus": [
            [
             0,
             "#0d0887"
            ],
            [
             0.1111111111111111,
             "#46039f"
            ],
            [
             0.2222222222222222,
             "#7201a8"
            ],
            [
             0.3333333333333333,
             "#9c179e"
            ],
            [
             0.4444444444444444,
             "#bd3786"
            ],
            [
             0.5555555555555556,
             "#d8576b"
            ],
            [
             0.6666666666666666,
             "#ed7953"
            ],
            [
             0.7777777777777778,
             "#fb9f3a"
            ],
            [
             0.8888888888888888,
             "#fdca26"
            ],
            [
             1,
             "#f0f921"
            ]
           ]
          },
          "colorway": [
           "#636efa",
           "#EF553B",
           "#00cc96",
           "#ab63fa",
           "#FFA15A",
           "#19d3f3",
           "#FF6692",
           "#B6E880",
           "#FF97FF",
           "#FECB52"
          ],
          "font": {
           "color": "#2a3f5f"
          },
          "geo": {
           "bgcolor": "white",
           "lakecolor": "white",
           "landcolor": "#E5ECF6",
           "showlakes": true,
           "showland": true,
           "subunitcolor": "white"
          },
          "hoverlabel": {
           "align": "left"
          },
          "hovermode": "closest",
          "mapbox": {
           "style": "light"
          },
          "paper_bgcolor": "white",
          "plot_bgcolor": "#E5ECF6",
          "polar": {
           "angularaxis": {
            "gridcolor": "white",
            "linecolor": "white",
            "ticks": ""
           },
           "bgcolor": "#E5ECF6",
           "radialaxis": {
            "gridcolor": "white",
            "linecolor": "white",
            "ticks": ""
           }
          },
          "scene": {
           "xaxis": {
            "backgroundcolor": "#E5ECF6",
            "gridcolor": "white",
            "gridwidth": 2,
            "linecolor": "white",
            "showbackground": true,
            "ticks": "",
            "zerolinecolor": "white"
           },
           "yaxis": {
            "backgroundcolor": "#E5ECF6",
            "gridcolor": "white",
            "gridwidth": 2,
            "linecolor": "white",
            "showbackground": true,
            "ticks": "",
            "zerolinecolor": "white"
           },
           "zaxis": {
            "backgroundcolor": "#E5ECF6",
            "gridcolor": "white",
            "gridwidth": 2,
            "linecolor": "white",
            "showbackground": true,
            "ticks": "",
            "zerolinecolor": "white"
           }
          },
          "shapedefaults": {
           "line": {
            "color": "#2a3f5f"
           }
          },
          "ternary": {
           "aaxis": {
            "gridcolor": "white",
            "linecolor": "white",
            "ticks": ""
           },
           "baxis": {
            "gridcolor": "white",
            "linecolor": "white",
            "ticks": ""
           },
           "bgcolor": "#E5ECF6",
           "caxis": {
            "gridcolor": "white",
            "linecolor": "white",
            "ticks": ""
           }
          },
          "title": {
           "x": 0.05
          },
          "xaxis": {
           "automargin": true,
           "gridcolor": "white",
           "linecolor": "white",
           "ticks": "",
           "title": {
            "standoff": 15
           },
           "zerolinecolor": "white",
           "zerolinewidth": 2
          },
          "yaxis": {
           "automargin": true,
           "gridcolor": "white",
           "linecolor": "white",
           "ticks": "",
           "title": {
            "standoff": 15
           },
           "zerolinecolor": "white",
           "zerolinewidth": 2
          }
         }
        },
        "xaxis": {
         "anchor": "y",
         "domain": [
          0,
          1
         ],
         "title": {
          "text": "SurfaceLifts"
         }
        },
        "yaxis": {
         "anchor": "x",
         "domain": [
          0,
          1
         ],
         "title": {
          "text": "count"
         }
        }
       }
      }
     },
     "metadata": {},
     "output_type": "display_data"
    },
    {
     "data": {
      "application/vnd.plotly.v1+json": {
       "config": {
        "plotlyServerURL": "https://plot.ly"
       },
       "data": [
        {
         "alignmentgroup": "True",
         "bingroup": "x",
         "hovertemplate": "ChairLifts=%{x}<br>count=%{y}<extra></extra>",
         "legendgroup": "",
         "marker": {
          "color": "#636efa",
          "pattern": {
           "shape": ""
          }
         },
         "name": "",
         "nbinsx": 100,
         "offsetgroup": "",
         "orientation": "v",
         "showlegend": false,
         "type": "histogram",
         "x": [
          16,
          28,
          0,
          8,
          11,
          1,
          5,
          4,
          5,
          3,
          1,
          1,
          3,
          2,
          1,
          63,
          63,
          28,
          29,
          27,
          9,
          17,
          13,
          17,
          17,
          21,
          13,
          9,
          30,
          14,
          7,
          13,
          7,
          9,
          8,
          6,
          9,
          14,
          8,
          7,
          9,
          11,
          7,
          5,
          15,
          6,
          5,
          11,
          7,
          7,
          8,
          8,
          2,
          8,
          13,
          12,
          5,
          10,
          6,
          13,
          10,
          9,
          4,
          8,
          17,
          6,
          7,
          5,
          8,
          6,
          4,
          2,
          6,
          9,
          5,
          8,
          4,
          15,
          5,
          12,
          16,
          4,
          6,
          3,
          3,
          14,
          4,
          3,
          15,
          8,
          3,
          6,
          9,
          7,
          19,
          4,
          3,
          4,
          8,
          0,
          8,
          8,
          1,
          18,
          2,
          1,
          6,
          3,
          4,
          13,
          4,
          3,
          3,
          11,
          4,
          7,
          8,
          4,
          4,
          5,
          5,
          4,
          6,
          1,
          4,
          0,
          6,
          2,
          4,
          8,
          4,
          5,
          6,
          9,
          0,
          8,
          13,
          5,
          6,
          3,
          4,
          4,
          0,
          5,
          4,
          5,
          2,
          6,
          4,
          5,
          7,
          10,
          7,
          12,
          4,
          1,
          5,
          6,
          0,
          13,
          5,
          2,
          1,
          3,
          5,
          1,
          5,
          5,
          4,
          5,
          8,
          3,
          5,
          0,
          3,
          6,
          2,
          2,
          4,
          5,
          2,
          5,
          1,
          4,
          6,
          3,
          3,
          1,
          3,
          3,
          2,
          2,
          5,
          1,
          2,
          2,
          2,
          1,
          1,
          6,
          1,
          1,
          1,
          5,
          1,
          1,
          1,
          2,
          2,
          1,
          1,
          1,
          4,
          1,
          2,
          2,
          0,
          0,
          0,
          0,
          0,
          0,
          0,
          3,
          1,
          9,
          3,
          3,
          2,
          1,
          6,
          1,
          6,
          2,
          4,
          2,
          4,
          1,
          1,
          1,
          2,
          3,
          3,
          1,
          2,
          1,
          1,
          2,
          5,
          1,
          4,
          1,
          4,
          3,
          5,
          2,
          1,
          4,
          2,
          3,
          0,
          27,
          42,
          13,
          63,
          74,
          74,
          74,
          28,
          7,
          3,
          4,
          2,
          6,
          7,
          0,
          35,
          35,
          35,
          5,
          63,
          32,
          20,
          21,
          11,
          6,
          8,
          19,
          9,
          3,
          4,
          1,
          34,
          4,
          1,
          22,
          4,
          2,
          6,
          0,
          5,
          0,
          2,
          26,
          12,
          30,
          0,
          2,
          2,
          4,
          28,
          28,
          1,
          1,
          0,
          0,
          18,
          9,
          17,
          17,
          17,
          17,
          25,
          10,
          5,
          5,
          0,
          18,
          18,
          63,
          1,
          21,
          8,
          9,
          8,
          22,
          17,
          3,
          18,
          2,
          5,
          0,
          22,
          22,
          2,
          4,
          6,
          16,
          21,
          35,
          18,
          16,
          16,
          9,
          45,
          45,
          45,
          45,
          14,
          4,
          9,
          5,
          3,
          1,
          4,
          6,
          16,
          7,
          0,
          41,
          63,
          35,
          35,
          9,
          9,
          6
         ],
         "xaxis": "x",
         "yaxis": "y"
        }
       ],
       "layout": {
        "barmode": "relative",
        "legend": {
         "tracegroupgap": 0
        },
        "margin": {
         "t": 60
        },
        "template": {
         "data": {
          "bar": [
           {
            "error_x": {
             "color": "#2a3f5f"
            },
            "error_y": {
             "color": "#2a3f5f"
            },
            "marker": {
             "line": {
              "color": "#E5ECF6",
              "width": 0.5
             },
             "pattern": {
              "fillmode": "overlay",
              "size": 10,
              "solidity": 0.2
             }
            },
            "type": "bar"
           }
          ],
          "barpolar": [
           {
            "marker": {
             "line": {
              "color": "#E5ECF6",
              "width": 0.5
             },
             "pattern": {
              "fillmode": "overlay",
              "size": 10,
              "solidity": 0.2
             }
            },
            "type": "barpolar"
           }
          ],
          "carpet": [
           {
            "aaxis": {
             "endlinecolor": "#2a3f5f",
             "gridcolor": "white",
             "linecolor": "white",
             "minorgridcolor": "white",
             "startlinecolor": "#2a3f5f"
            },
            "baxis": {
             "endlinecolor": "#2a3f5f",
             "gridcolor": "white",
             "linecolor": "white",
             "minorgridcolor": "white",
             "startlinecolor": "#2a3f5f"
            },
            "type": "carpet"
           }
          ],
          "choropleth": [
           {
            "colorbar": {
             "outlinewidth": 0,
             "ticks": ""
            },
            "type": "choropleth"
           }
          ],
          "contour": [
           {
            "colorbar": {
             "outlinewidth": 0,
             "ticks": ""
            },
            "colorscale": [
             [
              0,
              "#0d0887"
             ],
             [
              0.1111111111111111,
              "#46039f"
             ],
             [
              0.2222222222222222,
              "#7201a8"
             ],
             [
              0.3333333333333333,
              "#9c179e"
             ],
             [
              0.4444444444444444,
              "#bd3786"
             ],
             [
              0.5555555555555556,
              "#d8576b"
             ],
             [
              0.6666666666666666,
              "#ed7953"
             ],
             [
              0.7777777777777778,
              "#fb9f3a"
             ],
             [
              0.8888888888888888,
              "#fdca26"
             ],
             [
              1,
              "#f0f921"
             ]
            ],
            "type": "contour"
           }
          ],
          "contourcarpet": [
           {
            "colorbar": {
             "outlinewidth": 0,
             "ticks": ""
            },
            "type": "contourcarpet"
           }
          ],
          "heatmap": [
           {
            "colorbar": {
             "outlinewidth": 0,
             "ticks": ""
            },
            "colorscale": [
             [
              0,
              "#0d0887"
             ],
             [
              0.1111111111111111,
              "#46039f"
             ],
             [
              0.2222222222222222,
              "#7201a8"
             ],
             [
              0.3333333333333333,
              "#9c179e"
             ],
             [
              0.4444444444444444,
              "#bd3786"
             ],
             [
              0.5555555555555556,
              "#d8576b"
             ],
             [
              0.6666666666666666,
              "#ed7953"
             ],
             [
              0.7777777777777778,
              "#fb9f3a"
             ],
             [
              0.8888888888888888,
              "#fdca26"
             ],
             [
              1,
              "#f0f921"
             ]
            ],
            "type": "heatmap"
           }
          ],
          "heatmapgl": [
           {
            "colorbar": {
             "outlinewidth": 0,
             "ticks": ""
            },
            "colorscale": [
             [
              0,
              "#0d0887"
             ],
             [
              0.1111111111111111,
              "#46039f"
             ],
             [
              0.2222222222222222,
              "#7201a8"
             ],
             [
              0.3333333333333333,
              "#9c179e"
             ],
             [
              0.4444444444444444,
              "#bd3786"
             ],
             [
              0.5555555555555556,
              "#d8576b"
             ],
             [
              0.6666666666666666,
              "#ed7953"
             ],
             [
              0.7777777777777778,
              "#fb9f3a"
             ],
             [
              0.8888888888888888,
              "#fdca26"
             ],
             [
              1,
              "#f0f921"
             ]
            ],
            "type": "heatmapgl"
           }
          ],
          "histogram": [
           {
            "marker": {
             "pattern": {
              "fillmode": "overlay",
              "size": 10,
              "solidity": 0.2
             }
            },
            "type": "histogram"
           }
          ],
          "histogram2d": [
           {
            "colorbar": {
             "outlinewidth": 0,
             "ticks": ""
            },
            "colorscale": [
             [
              0,
              "#0d0887"
             ],
             [
              0.1111111111111111,
              "#46039f"
             ],
             [
              0.2222222222222222,
              "#7201a8"
             ],
             [
              0.3333333333333333,
              "#9c179e"
             ],
             [
              0.4444444444444444,
              "#bd3786"
             ],
             [
              0.5555555555555556,
              "#d8576b"
             ],
             [
              0.6666666666666666,
              "#ed7953"
             ],
             [
              0.7777777777777778,
              "#fb9f3a"
             ],
             [
              0.8888888888888888,
              "#fdca26"
             ],
             [
              1,
              "#f0f921"
             ]
            ],
            "type": "histogram2d"
           }
          ],
          "histogram2dcontour": [
           {
            "colorbar": {
             "outlinewidth": 0,
             "ticks": ""
            },
            "colorscale": [
             [
              0,
              "#0d0887"
             ],
             [
              0.1111111111111111,
              "#46039f"
             ],
             [
              0.2222222222222222,
              "#7201a8"
             ],
             [
              0.3333333333333333,
              "#9c179e"
             ],
             [
              0.4444444444444444,
              "#bd3786"
             ],
             [
              0.5555555555555556,
              "#d8576b"
             ],
             [
              0.6666666666666666,
              "#ed7953"
             ],
             [
              0.7777777777777778,
              "#fb9f3a"
             ],
             [
              0.8888888888888888,
              "#fdca26"
             ],
             [
              1,
              "#f0f921"
             ]
            ],
            "type": "histogram2dcontour"
           }
          ],
          "mesh3d": [
           {
            "colorbar": {
             "outlinewidth": 0,
             "ticks": ""
            },
            "type": "mesh3d"
           }
          ],
          "parcoords": [
           {
            "line": {
             "colorbar": {
              "outlinewidth": 0,
              "ticks": ""
             }
            },
            "type": "parcoords"
           }
          ],
          "pie": [
           {
            "automargin": true,
            "type": "pie"
           }
          ],
          "scatter": [
           {
            "fillpattern": {
             "fillmode": "overlay",
             "size": 10,
             "solidity": 0.2
            },
            "type": "scatter"
           }
          ],
          "scatter3d": [
           {
            "line": {
             "colorbar": {
              "outlinewidth": 0,
              "ticks": ""
             }
            },
            "marker": {
             "colorbar": {
              "outlinewidth": 0,
              "ticks": ""
             }
            },
            "type": "scatter3d"
           }
          ],
          "scattercarpet": [
           {
            "marker": {
             "colorbar": {
              "outlinewidth": 0,
              "ticks": ""
             }
            },
            "type": "scattercarpet"
           }
          ],
          "scattergeo": [
           {
            "marker": {
             "colorbar": {
              "outlinewidth": 0,
              "ticks": ""
             }
            },
            "type": "scattergeo"
           }
          ],
          "scattergl": [
           {
            "marker": {
             "colorbar": {
              "outlinewidth": 0,
              "ticks": ""
             }
            },
            "type": "scattergl"
           }
          ],
          "scattermapbox": [
           {
            "marker": {
             "colorbar": {
              "outlinewidth": 0,
              "ticks": ""
             }
            },
            "type": "scattermapbox"
           }
          ],
          "scatterpolar": [
           {
            "marker": {
             "colorbar": {
              "outlinewidth": 0,
              "ticks": ""
             }
            },
            "type": "scatterpolar"
           }
          ],
          "scatterpolargl": [
           {
            "marker": {
             "colorbar": {
              "outlinewidth": 0,
              "ticks": ""
             }
            },
            "type": "scatterpolargl"
           }
          ],
          "scatterternary": [
           {
            "marker": {
             "colorbar": {
              "outlinewidth": 0,
              "ticks": ""
             }
            },
            "type": "scatterternary"
           }
          ],
          "surface": [
           {
            "colorbar": {
             "outlinewidth": 0,
             "ticks": ""
            },
            "colorscale": [
             [
              0,
              "#0d0887"
             ],
             [
              0.1111111111111111,
              "#46039f"
             ],
             [
              0.2222222222222222,
              "#7201a8"
             ],
             [
              0.3333333333333333,
              "#9c179e"
             ],
             [
              0.4444444444444444,
              "#bd3786"
             ],
             [
              0.5555555555555556,
              "#d8576b"
             ],
             [
              0.6666666666666666,
              "#ed7953"
             ],
             [
              0.7777777777777778,
              "#fb9f3a"
             ],
             [
              0.8888888888888888,
              "#fdca26"
             ],
             [
              1,
              "#f0f921"
             ]
            ],
            "type": "surface"
           }
          ],
          "table": [
           {
            "cells": {
             "fill": {
              "color": "#EBF0F8"
             },
             "line": {
              "color": "white"
             }
            },
            "header": {
             "fill": {
              "color": "#C8D4E3"
             },
             "line": {
              "color": "white"
             }
            },
            "type": "table"
           }
          ]
         },
         "layout": {
          "annotationdefaults": {
           "arrowcolor": "#2a3f5f",
           "arrowhead": 0,
           "arrowwidth": 1
          },
          "autotypenumbers": "strict",
          "coloraxis": {
           "colorbar": {
            "outlinewidth": 0,
            "ticks": ""
           }
          },
          "colorscale": {
           "diverging": [
            [
             0,
             "#8e0152"
            ],
            [
             0.1,
             "#c51b7d"
            ],
            [
             0.2,
             "#de77ae"
            ],
            [
             0.3,
             "#f1b6da"
            ],
            [
             0.4,
             "#fde0ef"
            ],
            [
             0.5,
             "#f7f7f7"
            ],
            [
             0.6,
             "#e6f5d0"
            ],
            [
             0.7,
             "#b8e186"
            ],
            [
             0.8,
             "#7fbc41"
            ],
            [
             0.9,
             "#4d9221"
            ],
            [
             1,
             "#276419"
            ]
           ],
           "sequential": [
            [
             0,
             "#0d0887"
            ],
            [
             0.1111111111111111,
             "#46039f"
            ],
            [
             0.2222222222222222,
             "#7201a8"
            ],
            [
             0.3333333333333333,
             "#9c179e"
            ],
            [
             0.4444444444444444,
             "#bd3786"
            ],
            [
             0.5555555555555556,
             "#d8576b"
            ],
            [
             0.6666666666666666,
             "#ed7953"
            ],
            [
             0.7777777777777778,
             "#fb9f3a"
            ],
            [
             0.8888888888888888,
             "#fdca26"
            ],
            [
             1,
             "#f0f921"
            ]
           ],
           "sequentialminus": [
            [
             0,
             "#0d0887"
            ],
            [
             0.1111111111111111,
             "#46039f"
            ],
            [
             0.2222222222222222,
             "#7201a8"
            ],
            [
             0.3333333333333333,
             "#9c179e"
            ],
            [
             0.4444444444444444,
             "#bd3786"
            ],
            [
             0.5555555555555556,
             "#d8576b"
            ],
            [
             0.6666666666666666,
             "#ed7953"
            ],
            [
             0.7777777777777778,
             "#fb9f3a"
            ],
            [
             0.8888888888888888,
             "#fdca26"
            ],
            [
             1,
             "#f0f921"
            ]
           ]
          },
          "colorway": [
           "#636efa",
           "#EF553B",
           "#00cc96",
           "#ab63fa",
           "#FFA15A",
           "#19d3f3",
           "#FF6692",
           "#B6E880",
           "#FF97FF",
           "#FECB52"
          ],
          "font": {
           "color": "#2a3f5f"
          },
          "geo": {
           "bgcolor": "white",
           "lakecolor": "white",
           "landcolor": "#E5ECF6",
           "showlakes": true,
           "showland": true,
           "subunitcolor": "white"
          },
          "hoverlabel": {
           "align": "left"
          },
          "hovermode": "closest",
          "mapbox": {
           "style": "light"
          },
          "paper_bgcolor": "white",
          "plot_bgcolor": "#E5ECF6",
          "polar": {
           "angularaxis": {
            "gridcolor": "white",
            "linecolor": "white",
            "ticks": ""
           },
           "bgcolor": "#E5ECF6",
           "radialaxis": {
            "gridcolor": "white",
            "linecolor": "white",
            "ticks": ""
           }
          },
          "scene": {
           "xaxis": {
            "backgroundcolor": "#E5ECF6",
            "gridcolor": "white",
            "gridwidth": 2,
            "linecolor": "white",
            "showbackground": true,
            "ticks": "",
            "zerolinecolor": "white"
           },
           "yaxis": {
            "backgroundcolor": "#E5ECF6",
            "gridcolor": "white",
            "gridwidth": 2,
            "linecolor": "white",
            "showbackground": true,
            "ticks": "",
            "zerolinecolor": "white"
           },
           "zaxis": {
            "backgroundcolor": "#E5ECF6",
            "gridcolor": "white",
            "gridwidth": 2,
            "linecolor": "white",
            "showbackground": true,
            "ticks": "",
            "zerolinecolor": "white"
           }
          },
          "shapedefaults": {
           "line": {
            "color": "#2a3f5f"
           }
          },
          "ternary": {
           "aaxis": {
            "gridcolor": "white",
            "linecolor": "white",
            "ticks": ""
           },
           "baxis": {
            "gridcolor": "white",
            "linecolor": "white",
            "ticks": ""
           },
           "bgcolor": "#E5ECF6",
           "caxis": {
            "gridcolor": "white",
            "linecolor": "white",
            "ticks": ""
           }
          },
          "title": {
           "x": 0.05
          },
          "xaxis": {
           "automargin": true,
           "gridcolor": "white",
           "linecolor": "white",
           "ticks": "",
           "title": {
            "standoff": 15
           },
           "zerolinecolor": "white",
           "zerolinewidth": 2
          },
          "yaxis": {
           "automargin": true,
           "gridcolor": "white",
           "linecolor": "white",
           "ticks": "",
           "title": {
            "standoff": 15
           },
           "zerolinecolor": "white",
           "zerolinewidth": 2
          }
         }
        },
        "xaxis": {
         "anchor": "y",
         "domain": [
          0,
          1
         ],
         "title": {
          "text": "ChairLifts"
         }
        },
        "yaxis": {
         "anchor": "x",
         "domain": [
          0,
          1
         ],
         "title": {
          "text": "count"
         }
        }
       }
      }
     },
     "metadata": {},
     "output_type": "display_data"
    },
    {
     "data": {
      "application/vnd.plotly.v1+json": {
       "config": {
        "plotlyServerURL": "https://plot.ly"
       },
       "data": [
        {
         "alignmentgroup": "True",
         "bingroup": "x",
         "hovertemplate": "GondolaLifts=%{x}<br>count=%{y}<extra></extra>",
         "legendgroup": "",
         "marker": {
          "color": "#636efa",
          "pattern": {
           "shape": ""
          }
         },
         "name": "",
         "nbinsx": 100,
         "offsetgroup": "",
         "orientation": "v",
         "showlegend": false,
         "type": "histogram",
         "x": [
          11,
          7,
          0,
          3,
          10,
          0,
          2,
          1,
          1,
          0,
          0,
          0,
          1,
          0,
          0,
          40,
          40,
          0,
          9,
          9,
          11,
          2,
          4,
          3,
          2,
          13,
          1,
          3,
          11,
          7,
          3,
          2,
          3,
          0,
          1,
          3,
          5,
          0,
          12,
          4,
          1,
          3,
          3,
          1,
          2,
          8,
          4,
          4,
          1,
          0,
          6,
          4,
          0,
          1,
          2,
          5,
          3,
          3,
          2,
          2,
          8,
          0,
          6,
          0,
          0,
          7,
          0,
          1,
          5,
          2,
          1,
          1,
          1,
          2,
          0,
          4,
          0,
          0,
          1,
          4,
          4,
          5,
          6,
          1,
          2,
          3,
          5,
          4,
          3,
          1,
          1,
          0,
          0,
          1,
          4,
          5,
          1,
          2,
          1,
          0,
          5,
          3,
          1,
          10,
          null,
          4,
          3,
          0,
          1,
          0,
          0,
          3,
          2,
          1,
          6,
          6,
          4,
          0,
          2,
          2,
          0,
          2,
          0,
          0,
          0,
          null,
          0,
          4,
          0,
          5,
          0,
          4,
          6,
          2,
          3,
          0,
          3,
          1,
          0,
          0,
          3,
          4,
          5,
          2,
          2,
          1,
          0,
          4,
          0,
          3,
          0,
          1,
          1,
          2,
          2,
          2,
          0,
          0,
          0,
          1,
          1,
          2,
          7,
          4,
          3,
          3,
          1,
          2,
          2,
          0,
          2,
          5,
          2,
          2,
          0,
          3,
          3,
          2,
          0,
          0,
          0,
          0,
          3,
          1,
          2,
          2,
          0,
          0,
          null,
          1,
          0,
          0,
          1,
          0,
          1,
          1,
          0,
          1,
          0,
          0,
          null,
          1,
          0,
          0,
          0,
          0,
          0,
          null,
          0,
          0,
          0,
          0,
          0,
          0,
          1,
          1,
          0,
          0,
          0,
          0,
          0,
          0,
          0,
          2,
          0,
          0,
          0,
          0,
          0,
          0,
          0,
          0,
          3,
          0,
          3,
          3,
          0,
          0,
          0,
          5,
          0,
          5,
          4,
          0,
          0,
          2,
          0,
          0,
          0,
          null,
          4,
          0,
          0,
          0,
          1,
          0,
          0,
          0,
          0,
          3,
          0,
          8,
          11,
          6,
          40,
          11,
          11,
          11,
          11,
          8,
          1,
          0,
          1,
          0,
          8,
          1,
          16,
          16,
          16,
          7,
          40,
          12,
          10,
          20,
          0,
          1,
          2,
          2,
          5,
          0,
          1,
          1,
          17,
          1,
          1,
          20,
          4,
          null,
          5,
          1,
          3,
          1,
          1,
          6,
          5,
          0,
          0,
          2,
          0,
          3,
          7,
          7,
          0,
          0,
          2,
          0,
          8,
          4,
          19,
          19,
          19,
          19,
          7,
          6,
          0,
          1,
          2,
          1,
          1,
          40,
          0,
          7,
          4,
          0,
          6,
          20,
          9,
          1,
          2,
          2,
          0,
          0,
          28,
          28,
          9,
          0,
          2,
          12,
          7,
          7,
          10,
          11,
          11,
          3,
          15,
          15,
          15,
          15,
          2,
          4,
          7,
          21,
          1,
          0,
          1,
          0,
          8,
          5,
          1,
          14,
          40,
          7,
          7,
          12,
          12,
          4
         ],
         "xaxis": "x",
         "yaxis": "y"
        }
       ],
       "layout": {
        "barmode": "relative",
        "legend": {
         "tracegroupgap": 0
        },
        "margin": {
         "t": 60
        },
        "template": {
         "data": {
          "bar": [
           {
            "error_x": {
             "color": "#2a3f5f"
            },
            "error_y": {
             "color": "#2a3f5f"
            },
            "marker": {
             "line": {
              "color": "#E5ECF6",
              "width": 0.5
             },
             "pattern": {
              "fillmode": "overlay",
              "size": 10,
              "solidity": 0.2
             }
            },
            "type": "bar"
           }
          ],
          "barpolar": [
           {
            "marker": {
             "line": {
              "color": "#E5ECF6",
              "width": 0.5
             },
             "pattern": {
              "fillmode": "overlay",
              "size": 10,
              "solidity": 0.2
             }
            },
            "type": "barpolar"
           }
          ],
          "carpet": [
           {
            "aaxis": {
             "endlinecolor": "#2a3f5f",
             "gridcolor": "white",
             "linecolor": "white",
             "minorgridcolor": "white",
             "startlinecolor": "#2a3f5f"
            },
            "baxis": {
             "endlinecolor": "#2a3f5f",
             "gridcolor": "white",
             "linecolor": "white",
             "minorgridcolor": "white",
             "startlinecolor": "#2a3f5f"
            },
            "type": "carpet"
           }
          ],
          "choropleth": [
           {
            "colorbar": {
             "outlinewidth": 0,
             "ticks": ""
            },
            "type": "choropleth"
           }
          ],
          "contour": [
           {
            "colorbar": {
             "outlinewidth": 0,
             "ticks": ""
            },
            "colorscale": [
             [
              0,
              "#0d0887"
             ],
             [
              0.1111111111111111,
              "#46039f"
             ],
             [
              0.2222222222222222,
              "#7201a8"
             ],
             [
              0.3333333333333333,
              "#9c179e"
             ],
             [
              0.4444444444444444,
              "#bd3786"
             ],
             [
              0.5555555555555556,
              "#d8576b"
             ],
             [
              0.6666666666666666,
              "#ed7953"
             ],
             [
              0.7777777777777778,
              "#fb9f3a"
             ],
             [
              0.8888888888888888,
              "#fdca26"
             ],
             [
              1,
              "#f0f921"
             ]
            ],
            "type": "contour"
           }
          ],
          "contourcarpet": [
           {
            "colorbar": {
             "outlinewidth": 0,
             "ticks": ""
            },
            "type": "contourcarpet"
           }
          ],
          "heatmap": [
           {
            "colorbar": {
             "outlinewidth": 0,
             "ticks": ""
            },
            "colorscale": [
             [
              0,
              "#0d0887"
             ],
             [
              0.1111111111111111,
              "#46039f"
             ],
             [
              0.2222222222222222,
              "#7201a8"
             ],
             [
              0.3333333333333333,
              "#9c179e"
             ],
             [
              0.4444444444444444,
              "#bd3786"
             ],
             [
              0.5555555555555556,
              "#d8576b"
             ],
             [
              0.6666666666666666,
              "#ed7953"
             ],
             [
              0.7777777777777778,
              "#fb9f3a"
             ],
             [
              0.8888888888888888,
              "#fdca26"
             ],
             [
              1,
              "#f0f921"
             ]
            ],
            "type": "heatmap"
           }
          ],
          "heatmapgl": [
           {
            "colorbar": {
             "outlinewidth": 0,
             "ticks": ""
            },
            "colorscale": [
             [
              0,
              "#0d0887"
             ],
             [
              0.1111111111111111,
              "#46039f"
             ],
             [
              0.2222222222222222,
              "#7201a8"
             ],
             [
              0.3333333333333333,
              "#9c179e"
             ],
             [
              0.4444444444444444,
              "#bd3786"
             ],
             [
              0.5555555555555556,
              "#d8576b"
             ],
             [
              0.6666666666666666,
              "#ed7953"
             ],
             [
              0.7777777777777778,
              "#fb9f3a"
             ],
             [
              0.8888888888888888,
              "#fdca26"
             ],
             [
              1,
              "#f0f921"
             ]
            ],
            "type": "heatmapgl"
           }
          ],
          "histogram": [
           {
            "marker": {
             "pattern": {
              "fillmode": "overlay",
              "size": 10,
              "solidity": 0.2
             }
            },
            "type": "histogram"
           }
          ],
          "histogram2d": [
           {
            "colorbar": {
             "outlinewidth": 0,
             "ticks": ""
            },
            "colorscale": [
             [
              0,
              "#0d0887"
             ],
             [
              0.1111111111111111,
              "#46039f"
             ],
             [
              0.2222222222222222,
              "#7201a8"
             ],
             [
              0.3333333333333333,
              "#9c179e"
             ],
             [
              0.4444444444444444,
              "#bd3786"
             ],
             [
              0.5555555555555556,
              "#d8576b"
             ],
             [
              0.6666666666666666,
              "#ed7953"
             ],
             [
              0.7777777777777778,
              "#fb9f3a"
             ],
             [
              0.8888888888888888,
              "#fdca26"
             ],
             [
              1,
              "#f0f921"
             ]
            ],
            "type": "histogram2d"
           }
          ],
          "histogram2dcontour": [
           {
            "colorbar": {
             "outlinewidth": 0,
             "ticks": ""
            },
            "colorscale": [
             [
              0,
              "#0d0887"
             ],
             [
              0.1111111111111111,
              "#46039f"
             ],
             [
              0.2222222222222222,
              "#7201a8"
             ],
             [
              0.3333333333333333,
              "#9c179e"
             ],
             [
              0.4444444444444444,
              "#bd3786"
             ],
             [
              0.5555555555555556,
              "#d8576b"
             ],
             [
              0.6666666666666666,
              "#ed7953"
             ],
             [
              0.7777777777777778,
              "#fb9f3a"
             ],
             [
              0.8888888888888888,
              "#fdca26"
             ],
             [
              1,
              "#f0f921"
             ]
            ],
            "type": "histogram2dcontour"
           }
          ],
          "mesh3d": [
           {
            "colorbar": {
             "outlinewidth": 0,
             "ticks": ""
            },
            "type": "mesh3d"
           }
          ],
          "parcoords": [
           {
            "line": {
             "colorbar": {
              "outlinewidth": 0,
              "ticks": ""
             }
            },
            "type": "parcoords"
           }
          ],
          "pie": [
           {
            "automargin": true,
            "type": "pie"
           }
          ],
          "scatter": [
           {
            "fillpattern": {
             "fillmode": "overlay",
             "size": 10,
             "solidity": 0.2
            },
            "type": "scatter"
           }
          ],
          "scatter3d": [
           {
            "line": {
             "colorbar": {
              "outlinewidth": 0,
              "ticks": ""
             }
            },
            "marker": {
             "colorbar": {
              "outlinewidth": 0,
              "ticks": ""
             }
            },
            "type": "scatter3d"
           }
          ],
          "scattercarpet": [
           {
            "marker": {
             "colorbar": {
              "outlinewidth": 0,
              "ticks": ""
             }
            },
            "type": "scattercarpet"
           }
          ],
          "scattergeo": [
           {
            "marker": {
             "colorbar": {
              "outlinewidth": 0,
              "ticks": ""
             }
            },
            "type": "scattergeo"
           }
          ],
          "scattergl": [
           {
            "marker": {
             "colorbar": {
              "outlinewidth": 0,
              "ticks": ""
             }
            },
            "type": "scattergl"
           }
          ],
          "scattermapbox": [
           {
            "marker": {
             "colorbar": {
              "outlinewidth": 0,
              "ticks": ""
             }
            },
            "type": "scattermapbox"
           }
          ],
          "scatterpolar": [
           {
            "marker": {
             "colorbar": {
              "outlinewidth": 0,
              "ticks": ""
             }
            },
            "type": "scatterpolar"
           }
          ],
          "scatterpolargl": [
           {
            "marker": {
             "colorbar": {
              "outlinewidth": 0,
              "ticks": ""
             }
            },
            "type": "scatterpolargl"
           }
          ],
          "scatterternary": [
           {
            "marker": {
             "colorbar": {
              "outlinewidth": 0,
              "ticks": ""
             }
            },
            "type": "scatterternary"
           }
          ],
          "surface": [
           {
            "colorbar": {
             "outlinewidth": 0,
             "ticks": ""
            },
            "colorscale": [
             [
              0,
              "#0d0887"
             ],
             [
              0.1111111111111111,
              "#46039f"
             ],
             [
              0.2222222222222222,
              "#7201a8"
             ],
             [
              0.3333333333333333,
              "#9c179e"
             ],
             [
              0.4444444444444444,
              "#bd3786"
             ],
             [
              0.5555555555555556,
              "#d8576b"
             ],
             [
              0.6666666666666666,
              "#ed7953"
             ],
             [
              0.7777777777777778,
              "#fb9f3a"
             ],
             [
              0.8888888888888888,
              "#fdca26"
             ],
             [
              1,
              "#f0f921"
             ]
            ],
            "type": "surface"
           }
          ],
          "table": [
           {
            "cells": {
             "fill": {
              "color": "#EBF0F8"
             },
             "line": {
              "color": "white"
             }
            },
            "header": {
             "fill": {
              "color": "#C8D4E3"
             },
             "line": {
              "color": "white"
             }
            },
            "type": "table"
           }
          ]
         },
         "layout": {
          "annotationdefaults": {
           "arrowcolor": "#2a3f5f",
           "arrowhead": 0,
           "arrowwidth": 1
          },
          "autotypenumbers": "strict",
          "coloraxis": {
           "colorbar": {
            "outlinewidth": 0,
            "ticks": ""
           }
          },
          "colorscale": {
           "diverging": [
            [
             0,
             "#8e0152"
            ],
            [
             0.1,
             "#c51b7d"
            ],
            [
             0.2,
             "#de77ae"
            ],
            [
             0.3,
             "#f1b6da"
            ],
            [
             0.4,
             "#fde0ef"
            ],
            [
             0.5,
             "#f7f7f7"
            ],
            [
             0.6,
             "#e6f5d0"
            ],
            [
             0.7,
             "#b8e186"
            ],
            [
             0.8,
             "#7fbc41"
            ],
            [
             0.9,
             "#4d9221"
            ],
            [
             1,
             "#276419"
            ]
           ],
           "sequential": [
            [
             0,
             "#0d0887"
            ],
            [
             0.1111111111111111,
             "#46039f"
            ],
            [
             0.2222222222222222,
             "#7201a8"
            ],
            [
             0.3333333333333333,
             "#9c179e"
            ],
            [
             0.4444444444444444,
             "#bd3786"
            ],
            [
             0.5555555555555556,
             "#d8576b"
            ],
            [
             0.6666666666666666,
             "#ed7953"
            ],
            [
             0.7777777777777778,
             "#fb9f3a"
            ],
            [
             0.8888888888888888,
             "#fdca26"
            ],
            [
             1,
             "#f0f921"
            ]
           ],
           "sequentialminus": [
            [
             0,
             "#0d0887"
            ],
            [
             0.1111111111111111,
             "#46039f"
            ],
            [
             0.2222222222222222,
             "#7201a8"
            ],
            [
             0.3333333333333333,
             "#9c179e"
            ],
            [
             0.4444444444444444,
             "#bd3786"
            ],
            [
             0.5555555555555556,
             "#d8576b"
            ],
            [
             0.6666666666666666,
             "#ed7953"
            ],
            [
             0.7777777777777778,
             "#fb9f3a"
            ],
            [
             0.8888888888888888,
             "#fdca26"
            ],
            [
             1,
             "#f0f921"
            ]
           ]
          },
          "colorway": [
           "#636efa",
           "#EF553B",
           "#00cc96",
           "#ab63fa",
           "#FFA15A",
           "#19d3f3",
           "#FF6692",
           "#B6E880",
           "#FF97FF",
           "#FECB52"
          ],
          "font": {
           "color": "#2a3f5f"
          },
          "geo": {
           "bgcolor": "white",
           "lakecolor": "white",
           "landcolor": "#E5ECF6",
           "showlakes": true,
           "showland": true,
           "subunitcolor": "white"
          },
          "hoverlabel": {
           "align": "left"
          },
          "hovermode": "closest",
          "mapbox": {
           "style": "light"
          },
          "paper_bgcolor": "white",
          "plot_bgcolor": "#E5ECF6",
          "polar": {
           "angularaxis": {
            "gridcolor": "white",
            "linecolor": "white",
            "ticks": ""
           },
           "bgcolor": "#E5ECF6",
           "radialaxis": {
            "gridcolor": "white",
            "linecolor": "white",
            "ticks": ""
           }
          },
          "scene": {
           "xaxis": {
            "backgroundcolor": "#E5ECF6",
            "gridcolor": "white",
            "gridwidth": 2,
            "linecolor": "white",
            "showbackground": true,
            "ticks": "",
            "zerolinecolor": "white"
           },
           "yaxis": {
            "backgroundcolor": "#E5ECF6",
            "gridcolor": "white",
            "gridwidth": 2,
            "linecolor": "white",
            "showbackground": true,
            "ticks": "",
            "zerolinecolor": "white"
           },
           "zaxis": {
            "backgroundcolor": "#E5ECF6",
            "gridcolor": "white",
            "gridwidth": 2,
            "linecolor": "white",
            "showbackground": true,
            "ticks": "",
            "zerolinecolor": "white"
           }
          },
          "shapedefaults": {
           "line": {
            "color": "#2a3f5f"
           }
          },
          "ternary": {
           "aaxis": {
            "gridcolor": "white",
            "linecolor": "white",
            "ticks": ""
           },
           "baxis": {
            "gridcolor": "white",
            "linecolor": "white",
            "ticks": ""
           },
           "bgcolor": "#E5ECF6",
           "caxis": {
            "gridcolor": "white",
            "linecolor": "white",
            "ticks": ""
           }
          },
          "title": {
           "x": 0.05
          },
          "xaxis": {
           "automargin": true,
           "gridcolor": "white",
           "linecolor": "white",
           "ticks": "",
           "title": {
            "standoff": 15
           },
           "zerolinecolor": "white",
           "zerolinewidth": 2
          },
          "yaxis": {
           "automargin": true,
           "gridcolor": "white",
           "linecolor": "white",
           "ticks": "",
           "title": {
            "standoff": 15
           },
           "zerolinecolor": "white",
           "zerolinewidth": 2
          }
         }
        },
        "xaxis": {
         "anchor": "y",
         "domain": [
          0,
          1
         ],
         "title": {
          "text": "GondolaLifts"
         }
        },
        "yaxis": {
         "anchor": "x",
         "domain": [
          0,
          1
         ],
         "title": {
          "text": "count"
         }
        }
       }
      }
     },
     "metadata": {},
     "output_type": "display_data"
    },
    {
     "data": {
      "application/vnd.plotly.v1+json": {
       "config": {
        "plotlyServerURL": "https://plot.ly"
       },
       "data": [
        {
         "alignmentgroup": "True",
         "bingroup": "x",
         "hovertemplate": "TotalLifts=%{x}<br>count=%{y}<extra></extra>",
         "legendgroup": "",
         "marker": {
          "color": "#636efa",
          "pattern": {
           "shape": ""
          }
         },
         "name": "",
         "nbinsx": 100,
         "offsetgroup": "",
         "orientation": "v",
         "showlegend": false,
         "type": "histogram",
         "x": [
          49,
          72,
          2,
          36,
          27,
          8,
          15,
          16,
          11,
          6,
          8,
          4,
          15,
          5,
          3,
          165,
          165,
          72,
          72,
          86,
          33,
          51,
          38,
          56,
          31,
          56,
          33,
          19,
          59,
          49,
          28,
          28,
          22,
          19,
          24,
          14,
          30,
          33,
          38,
          28,
          23,
          31,
          30,
          24,
          38,
          18,
          36,
          26,
          16,
          29,
          26,
          21,
          3,
          25,
          33,
          39,
          21,
          23,
          19,
          25,
          27,
          19,
          30,
          12,
          30,
          20,
          36,
          17,
          20,
          17,
          10,
          13,
          13,
          17,
          10,
          21,
          22,
          18,
          13,
          31,
          23,
          24,
          22,
          13,
          13,
          24,
          15,
          25,
          27,
          22,
          15,
          16,
          17,
          16,
          30,
          17,
          14,
          14,
          24,
          1,
          19,
          16,
          29,
          39,
          6,
          13,
          15,
          15,
          20,
          27,
          8,
          9,
          17,
          17,
          24,
          16,
          17,
          13,
          16,
          15,
          12,
          12,
          33,
          5,
          9,
          15,
          25,
          10,
          53,
          32,
          46,
          12,
          18,
          14,
          7,
          28,
          22,
          22,
          24,
          21,
          14,
          19,
          5,
          20,
          11,
          22,
          19,
          17,
          25,
          17,
          13,
          17,
          18,
          18,
          11,
          6,
          14,
          23,
          14,
          20,
          13,
          19,
          9,
          9,
          12,
          10,
          14,
          10,
          7,
          13,
          15,
          17,
          9,
          4,
          21,
          13,
          10,
          19,
          14,
          16,
          17,
          14,
          7,
          19,
          15,
          13,
          9,
          12,
          8,
          15,
          8,
          6,
          18,
          5,
          8,
          8,
          6,
          6,
          10,
          15,
          9,
          25,
          3,
          15,
          9,
          7,
          4,
          8,
          10,
          15,
          3,
          9,
          15,
          8,
          9,
          6,
          0,
          0,
          0,
          0,
          0,
          0,
          0,
          14,
          6,
          19,
          8,
          9,
          6,
          12,
          18,
          4,
          11,
          9,
          9,
          8,
          13,
          6,
          3,
          14,
          4,
          8,
          10,
          4,
          11,
          5,
          8,
          16,
          14,
          4,
          11,
          9,
          6,
          6,
          15,
          13,
          10,
          10,
          9,
          10,
          4,
          52,
          86,
          44,
          165,
          174,
          174,
          174,
          54,
          28,
          18,
          11,
          9,
          24,
          47,
          5,
          105,
          105,
          105,
          17,
          165,
          100,
          46,
          68,
          20,
          10,
          17,
          35,
          35,
          11,
          21,
          5,
          65,
          11,
          4,
          63,
          9,
          12,
          23,
          7,
          13,
          1,
          10,
          40,
          28,
          83,
          1,
          13,
          8,
          11,
          72,
          72,
          11,
          1,
          5,
          1,
          50,
          33,
          75,
          75,
          75,
          75,
          45,
          26,
          20,
          12,
          3,
          40,
          40,
          165,
          13,
          54,
          24,
          20,
          18,
          63,
          57,
          12,
          31,
          29,
          22,
          0,
          71,
          71,
          25,
          6,
          14,
          68,
          61,
          71,
          53,
          49,
          49,
          13,
          113,
          113,
          113,
          113,
          21,
          20,
          26,
          32,
          9,
          4,
          15,
          21,
          36,
          26,
          4,
          84,
          165,
          71,
          71,
          30,
          30,
          19
         ],
         "xaxis": "x",
         "yaxis": "y"
        }
       ],
       "layout": {
        "barmode": "relative",
        "legend": {
         "tracegroupgap": 0
        },
        "margin": {
         "t": 60
        },
        "template": {
         "data": {
          "bar": [
           {
            "error_x": {
             "color": "#2a3f5f"
            },
            "error_y": {
             "color": "#2a3f5f"
            },
            "marker": {
             "line": {
              "color": "#E5ECF6",
              "width": 0.5
             },
             "pattern": {
              "fillmode": "overlay",
              "size": 10,
              "solidity": 0.2
             }
            },
            "type": "bar"
           }
          ],
          "barpolar": [
           {
            "marker": {
             "line": {
              "color": "#E5ECF6",
              "width": 0.5
             },
             "pattern": {
              "fillmode": "overlay",
              "size": 10,
              "solidity": 0.2
             }
            },
            "type": "barpolar"
           }
          ],
          "carpet": [
           {
            "aaxis": {
             "endlinecolor": "#2a3f5f",
             "gridcolor": "white",
             "linecolor": "white",
             "minorgridcolor": "white",
             "startlinecolor": "#2a3f5f"
            },
            "baxis": {
             "endlinecolor": "#2a3f5f",
             "gridcolor": "white",
             "linecolor": "white",
             "minorgridcolor": "white",
             "startlinecolor": "#2a3f5f"
            },
            "type": "carpet"
           }
          ],
          "choropleth": [
           {
            "colorbar": {
             "outlinewidth": 0,
             "ticks": ""
            },
            "type": "choropleth"
           }
          ],
          "contour": [
           {
            "colorbar": {
             "outlinewidth": 0,
             "ticks": ""
            },
            "colorscale": [
             [
              0,
              "#0d0887"
             ],
             [
              0.1111111111111111,
              "#46039f"
             ],
             [
              0.2222222222222222,
              "#7201a8"
             ],
             [
              0.3333333333333333,
              "#9c179e"
             ],
             [
              0.4444444444444444,
              "#bd3786"
             ],
             [
              0.5555555555555556,
              "#d8576b"
             ],
             [
              0.6666666666666666,
              "#ed7953"
             ],
             [
              0.7777777777777778,
              "#fb9f3a"
             ],
             [
              0.8888888888888888,
              "#fdca26"
             ],
             [
              1,
              "#f0f921"
             ]
            ],
            "type": "contour"
           }
          ],
          "contourcarpet": [
           {
            "colorbar": {
             "outlinewidth": 0,
             "ticks": ""
            },
            "type": "contourcarpet"
           }
          ],
          "heatmap": [
           {
            "colorbar": {
             "outlinewidth": 0,
             "ticks": ""
            },
            "colorscale": [
             [
              0,
              "#0d0887"
             ],
             [
              0.1111111111111111,
              "#46039f"
             ],
             [
              0.2222222222222222,
              "#7201a8"
             ],
             [
              0.3333333333333333,
              "#9c179e"
             ],
             [
              0.4444444444444444,
              "#bd3786"
             ],
             [
              0.5555555555555556,
              "#d8576b"
             ],
             [
              0.6666666666666666,
              "#ed7953"
             ],
             [
              0.7777777777777778,
              "#fb9f3a"
             ],
             [
              0.8888888888888888,
              "#fdca26"
             ],
             [
              1,
              "#f0f921"
             ]
            ],
            "type": "heatmap"
           }
          ],
          "heatmapgl": [
           {
            "colorbar": {
             "outlinewidth": 0,
             "ticks": ""
            },
            "colorscale": [
             [
              0,
              "#0d0887"
             ],
             [
              0.1111111111111111,
              "#46039f"
             ],
             [
              0.2222222222222222,
              "#7201a8"
             ],
             [
              0.3333333333333333,
              "#9c179e"
             ],
             [
              0.4444444444444444,
              "#bd3786"
             ],
             [
              0.5555555555555556,
              "#d8576b"
             ],
             [
              0.6666666666666666,
              "#ed7953"
             ],
             [
              0.7777777777777778,
              "#fb9f3a"
             ],
             [
              0.8888888888888888,
              "#fdca26"
             ],
             [
              1,
              "#f0f921"
             ]
            ],
            "type": "heatmapgl"
           }
          ],
          "histogram": [
           {
            "marker": {
             "pattern": {
              "fillmode": "overlay",
              "size": 10,
              "solidity": 0.2
             }
            },
            "type": "histogram"
           }
          ],
          "histogram2d": [
           {
            "colorbar": {
             "outlinewidth": 0,
             "ticks": ""
            },
            "colorscale": [
             [
              0,
              "#0d0887"
             ],
             [
              0.1111111111111111,
              "#46039f"
             ],
             [
              0.2222222222222222,
              "#7201a8"
             ],
             [
              0.3333333333333333,
              "#9c179e"
             ],
             [
              0.4444444444444444,
              "#bd3786"
             ],
             [
              0.5555555555555556,
              "#d8576b"
             ],
             [
              0.6666666666666666,
              "#ed7953"
             ],
             [
              0.7777777777777778,
              "#fb9f3a"
             ],
             [
              0.8888888888888888,
              "#fdca26"
             ],
             [
              1,
              "#f0f921"
             ]
            ],
            "type": "histogram2d"
           }
          ],
          "histogram2dcontour": [
           {
            "colorbar": {
             "outlinewidth": 0,
             "ticks": ""
            },
            "colorscale": [
             [
              0,
              "#0d0887"
             ],
             [
              0.1111111111111111,
              "#46039f"
             ],
             [
              0.2222222222222222,
              "#7201a8"
             ],
             [
              0.3333333333333333,
              "#9c179e"
             ],
             [
              0.4444444444444444,
              "#bd3786"
             ],
             [
              0.5555555555555556,
              "#d8576b"
             ],
             [
              0.6666666666666666,
              "#ed7953"
             ],
             [
              0.7777777777777778,
              "#fb9f3a"
             ],
             [
              0.8888888888888888,
              "#fdca26"
             ],
             [
              1,
              "#f0f921"
             ]
            ],
            "type": "histogram2dcontour"
           }
          ],
          "mesh3d": [
           {
            "colorbar": {
             "outlinewidth": 0,
             "ticks": ""
            },
            "type": "mesh3d"
           }
          ],
          "parcoords": [
           {
            "line": {
             "colorbar": {
              "outlinewidth": 0,
              "ticks": ""
             }
            },
            "type": "parcoords"
           }
          ],
          "pie": [
           {
            "automargin": true,
            "type": "pie"
           }
          ],
          "scatter": [
           {
            "fillpattern": {
             "fillmode": "overlay",
             "size": 10,
             "solidity": 0.2
            },
            "type": "scatter"
           }
          ],
          "scatter3d": [
           {
            "line": {
             "colorbar": {
              "outlinewidth": 0,
              "ticks": ""
             }
            },
            "marker": {
             "colorbar": {
              "outlinewidth": 0,
              "ticks": ""
             }
            },
            "type": "scatter3d"
           }
          ],
          "scattercarpet": [
           {
            "marker": {
             "colorbar": {
              "outlinewidth": 0,
              "ticks": ""
             }
            },
            "type": "scattercarpet"
           }
          ],
          "scattergeo": [
           {
            "marker": {
             "colorbar": {
              "outlinewidth": 0,
              "ticks": ""
             }
            },
            "type": "scattergeo"
           }
          ],
          "scattergl": [
           {
            "marker": {
             "colorbar": {
              "outlinewidth": 0,
              "ticks": ""
             }
            },
            "type": "scattergl"
           }
          ],
          "scattermapbox": [
           {
            "marker": {
             "colorbar": {
              "outlinewidth": 0,
              "ticks": ""
             }
            },
            "type": "scattermapbox"
           }
          ],
          "scatterpolar": [
           {
            "marker": {
             "colorbar": {
              "outlinewidth": 0,
              "ticks": ""
             }
            },
            "type": "scatterpolar"
           }
          ],
          "scatterpolargl": [
           {
            "marker": {
             "colorbar": {
              "outlinewidth": 0,
              "ticks": ""
             }
            },
            "type": "scatterpolargl"
           }
          ],
          "scatterternary": [
           {
            "marker": {
             "colorbar": {
              "outlinewidth": 0,
              "ticks": ""
             }
            },
            "type": "scatterternary"
           }
          ],
          "surface": [
           {
            "colorbar": {
             "outlinewidth": 0,
             "ticks": ""
            },
            "colorscale": [
             [
              0,
              "#0d0887"
             ],
             [
              0.1111111111111111,
              "#46039f"
             ],
             [
              0.2222222222222222,
              "#7201a8"
             ],
             [
              0.3333333333333333,
              "#9c179e"
             ],
             [
              0.4444444444444444,
              "#bd3786"
             ],
             [
              0.5555555555555556,
              "#d8576b"
             ],
             [
              0.6666666666666666,
              "#ed7953"
             ],
             [
              0.7777777777777778,
              "#fb9f3a"
             ],
             [
              0.8888888888888888,
              "#fdca26"
             ],
             [
              1,
              "#f0f921"
             ]
            ],
            "type": "surface"
           }
          ],
          "table": [
           {
            "cells": {
             "fill": {
              "color": "#EBF0F8"
             },
             "line": {
              "color": "white"
             }
            },
            "header": {
             "fill": {
              "color": "#C8D4E3"
             },
             "line": {
              "color": "white"
             }
            },
            "type": "table"
           }
          ]
         },
         "layout": {
          "annotationdefaults": {
           "arrowcolor": "#2a3f5f",
           "arrowhead": 0,
           "arrowwidth": 1
          },
          "autotypenumbers": "strict",
          "coloraxis": {
           "colorbar": {
            "outlinewidth": 0,
            "ticks": ""
           }
          },
          "colorscale": {
           "diverging": [
            [
             0,
             "#8e0152"
            ],
            [
             0.1,
             "#c51b7d"
            ],
            [
             0.2,
             "#de77ae"
            ],
            [
             0.3,
             "#f1b6da"
            ],
            [
             0.4,
             "#fde0ef"
            ],
            [
             0.5,
             "#f7f7f7"
            ],
            [
             0.6,
             "#e6f5d0"
            ],
            [
             0.7,
             "#b8e186"
            ],
            [
             0.8,
             "#7fbc41"
            ],
            [
             0.9,
             "#4d9221"
            ],
            [
             1,
             "#276419"
            ]
           ],
           "sequential": [
            [
             0,
             "#0d0887"
            ],
            [
             0.1111111111111111,
             "#46039f"
            ],
            [
             0.2222222222222222,
             "#7201a8"
            ],
            [
             0.3333333333333333,
             "#9c179e"
            ],
            [
             0.4444444444444444,
             "#bd3786"
            ],
            [
             0.5555555555555556,
             "#d8576b"
            ],
            [
             0.6666666666666666,
             "#ed7953"
            ],
            [
             0.7777777777777778,
             "#fb9f3a"
            ],
            [
             0.8888888888888888,
             "#fdca26"
            ],
            [
             1,
             "#f0f921"
            ]
           ],
           "sequentialminus": [
            [
             0,
             "#0d0887"
            ],
            [
             0.1111111111111111,
             "#46039f"
            ],
            [
             0.2222222222222222,
             "#7201a8"
            ],
            [
             0.3333333333333333,
             "#9c179e"
            ],
            [
             0.4444444444444444,
             "#bd3786"
            ],
            [
             0.5555555555555556,
             "#d8576b"
            ],
            [
             0.6666666666666666,
             "#ed7953"
            ],
            [
             0.7777777777777778,
             "#fb9f3a"
            ],
            [
             0.8888888888888888,
             "#fdca26"
            ],
            [
             1,
             "#f0f921"
            ]
           ]
          },
          "colorway": [
           "#636efa",
           "#EF553B",
           "#00cc96",
           "#ab63fa",
           "#FFA15A",
           "#19d3f3",
           "#FF6692",
           "#B6E880",
           "#FF97FF",
           "#FECB52"
          ],
          "font": {
           "color": "#2a3f5f"
          },
          "geo": {
           "bgcolor": "white",
           "lakecolor": "white",
           "landcolor": "#E5ECF6",
           "showlakes": true,
           "showland": true,
           "subunitcolor": "white"
          },
          "hoverlabel": {
           "align": "left"
          },
          "hovermode": "closest",
          "mapbox": {
           "style": "light"
          },
          "paper_bgcolor": "white",
          "plot_bgcolor": "#E5ECF6",
          "polar": {
           "angularaxis": {
            "gridcolor": "white",
            "linecolor": "white",
            "ticks": ""
           },
           "bgcolor": "#E5ECF6",
           "radialaxis": {
            "gridcolor": "white",
            "linecolor": "white",
            "ticks": ""
           }
          },
          "scene": {
           "xaxis": {
            "backgroundcolor": "#E5ECF6",
            "gridcolor": "white",
            "gridwidth": 2,
            "linecolor": "white",
            "showbackground": true,
            "ticks": "",
            "zerolinecolor": "white"
           },
           "yaxis": {
            "backgroundcolor": "#E5ECF6",
            "gridcolor": "white",
            "gridwidth": 2,
            "linecolor": "white",
            "showbackground": true,
            "ticks": "",
            "zerolinecolor": "white"
           },
           "zaxis": {
            "backgroundcolor": "#E5ECF6",
            "gridcolor": "white",
            "gridwidth": 2,
            "linecolor": "white",
            "showbackground": true,
            "ticks": "",
            "zerolinecolor": "white"
           }
          },
          "shapedefaults": {
           "line": {
            "color": "#2a3f5f"
           }
          },
          "ternary": {
           "aaxis": {
            "gridcolor": "white",
            "linecolor": "white",
            "ticks": ""
           },
           "baxis": {
            "gridcolor": "white",
            "linecolor": "white",
            "ticks": ""
           },
           "bgcolor": "#E5ECF6",
           "caxis": {
            "gridcolor": "white",
            "linecolor": "white",
            "ticks": ""
           }
          },
          "title": {
           "x": 0.05
          },
          "xaxis": {
           "automargin": true,
           "gridcolor": "white",
           "linecolor": "white",
           "ticks": "",
           "title": {
            "standoff": 15
           },
           "zerolinecolor": "white",
           "zerolinewidth": 2
          },
          "yaxis": {
           "automargin": true,
           "gridcolor": "white",
           "linecolor": "white",
           "ticks": "",
           "title": {
            "standoff": 15
           },
           "zerolinecolor": "white",
           "zerolinewidth": 2
          }
         }
        },
        "xaxis": {
         "anchor": "y",
         "domain": [
          0,
          1
         ],
         "title": {
          "text": "TotalLifts"
         }
        },
        "yaxis": {
         "anchor": "x",
         "domain": [
          0,
          1
         ],
         "title": {
          "text": "count"
         }
        }
       }
      }
     },
     "metadata": {},
     "output_type": "display_data"
    },
    {
     "data": {
      "application/vnd.plotly.v1+json": {
       "config": {
        "plotlyServerURL": "https://plot.ly"
       },
       "data": [
        {
         "alignmentgroup": "True",
         "bingroup": "x",
         "hovertemplate": "LiftCapacity=%{x}<br>count=%{y}<extra></extra>",
         "legendgroup": "",
         "marker": {
          "color": "#636efa",
          "pattern": {
           "shape": ""
          }
         },
         "name": "",
         "nbinsx": 100,
         "offsetgroup": "",
         "orientation": "v",
         "showlegend": false,
         "type": "histogram",
         "x": [
          75398,
          99017,
          1932,
          32938,
          49228,
          28020,
          12450,
          22500,
          16230,
          5720,
          10025,
          15740,
          5790,
          12610,
          2800,
          250860,
          250860,
          83807,
          97624,
          106362,
          46116,
          50145,
          40680,
          60248,
          43300,
          89415,
          39750,
          25030,
          89327,
          59346,
          26600,
          39824,
          21807,
          20720,
          32232,
          18510,
          49386,
          26068,
          41109,
          31186,
          27588,
          38733,
          29605,
          27646,
          40231,
          26795,
          39000,
          36602,
          24398,
          25940,
          34620,
          18360,
          3352,
          29842,
          36904,
          59933,
          19345,
          33289,
          21320,
          37160,
          48407,
          20670,
          21535,
          17155,
          35900,
          23316,
          36182,
          17651,
          29710,
          26458,
          15800,
          14000,
          18000,
          24030,
          13615,
          null,
          17948,
          33839,
          null,
          37400,
          43973,
          27388,
          38852,
          10990,
          13640,
          29859,
          16381,
          19956,
          35624,
          25195,
          10350,
          17452,
          22791,
          12980,
          49825,
          15363,
          12462,
          15800,
          27378,
          0,
          26734,
          19859,
          28284,
          56216,
          6800,
          12500,
          18963,
          13486,
          21787,
          35052,
          9228,
          12720,
          20930,
          20655,
          23617,
          13852,
          22154,
          10030,
          null,
          17630,
          12100,
          14286,
          null,
          3660,
          7380,
          12592,
          19650,
          13150,
          50505,
          35225,
          42636,
          19919,
          27874,
          31940,
          6500,
          24745,
          36540,
          23436,
          26205,
          19380,
          18808,
          21090,
          4820,
          19200,
          12786,
          21245,
          19250,
          22076,
          24760,
          18276,
          14266,
          24056,
          22220,
          23996,
          14150,
          4840,
          14462,
          21638,
          10540,
          23746,
          15965,
          16750,
          18120,
          9864,
          19660,
          11927,
          16650,
          9478,
          13600,
          10432,
          17354,
          20052,
          15610,
          3250,
          16255,
          15418,
          11038,
          18464,
          13320,
          13750,
          19270,
          17624,
          10935,
          18525,
          17422,
          12363,
          8800,
          7390,
          6880,
          15623,
          7116,
          7162,
          18268,
          2800,
          6043,
          9048,
          6624,
          4300,
          6266,
          12040,
          6950,
          13620,
          3710,
          17477,
          7420,
          6790,
          3570,
          5990,
          10620,
          10815,
          1980,
          7470,
          11130,
          6642,
          7384,
          4620,
          null,
          null,
          null,
          null,
          null,
          null,
          null,
          13394,
          4324,
          5231,
          7700,
          10110,
          null,
          7350,
          21515,
          3300,
          2800,
          10110,
          10279,
          11114,
          12843,
          5140,
          4000,
          11390,
          4550,
          3540,
          null,
          3350,
          3970,
          11480,
          null,
          17952,
          12290,
          12480,
          11670,
          6762,
          12388,
          6741,
          13860,
          11865,
          5850,
          5425,
          14400,
          10260,
          3229,
          82641,
          145461,
          50850,
          250860,
          252280,
          252280,
          252280,
          92510,
          38861,
          21060,
          11900,
          13200,
          14225,
          52789,
          4070,
          147250,
          147250,
          147250,
          33598,
          250860,
          136733,
          71842,
          92097,
          29450,
          13322,
          24233,
          53997,
          49232,
          8213,
          19100,
          2577,
          null,
          13038,
          4150,
          93464,
          15756,
          14860,
          29500,
          6900,
          15800,
          800,
          6640,
          48089,
          31220,
          90852,
          null,
          15442,
          5800,
          16240,
          99017,
          99017,
          6808,
          900,
          3601,
          600,
          63936,
          38905,
          85022,
          85022,
          85022,
          85022,
          88215,
          29250,
          17774,
          17254,
          1460,
          53669,
          53669,
          250860,
          9750,
          72334,
          33972,
          21020,
          24497,
          93464,
          82432,
          10350,
          50797,
          30110,
          22915,
          null,
          135104,
          135104,
          25160,
          7100,
          15838,
          78460,
          72066,
          96433,
          67472,
          75398,
          75398,
          26060,
          145127,
          145127,
          145127,
          145127,
          59205,
          21100,
          32699,
          71205,
          10650,
          2880,
          14240,
          22921,
          70370,
          39784,
          2980,
          121914,
          250860,
          96433,
          96433,
          31984,
          31984,
          25988
         ],
         "xaxis": "x",
         "yaxis": "y"
        }
       ],
       "layout": {
        "barmode": "relative",
        "legend": {
         "tracegroupgap": 0
        },
        "margin": {
         "t": 60
        },
        "template": {
         "data": {
          "bar": [
           {
            "error_x": {
             "color": "#2a3f5f"
            },
            "error_y": {
             "color": "#2a3f5f"
            },
            "marker": {
             "line": {
              "color": "#E5ECF6",
              "width": 0.5
             },
             "pattern": {
              "fillmode": "overlay",
              "size": 10,
              "solidity": 0.2
             }
            },
            "type": "bar"
           }
          ],
          "barpolar": [
           {
            "marker": {
             "line": {
              "color": "#E5ECF6",
              "width": 0.5
             },
             "pattern": {
              "fillmode": "overlay",
              "size": 10,
              "solidity": 0.2
             }
            },
            "type": "barpolar"
           }
          ],
          "carpet": [
           {
            "aaxis": {
             "endlinecolor": "#2a3f5f",
             "gridcolor": "white",
             "linecolor": "white",
             "minorgridcolor": "white",
             "startlinecolor": "#2a3f5f"
            },
            "baxis": {
             "endlinecolor": "#2a3f5f",
             "gridcolor": "white",
             "linecolor": "white",
             "minorgridcolor": "white",
             "startlinecolor": "#2a3f5f"
            },
            "type": "carpet"
           }
          ],
          "choropleth": [
           {
            "colorbar": {
             "outlinewidth": 0,
             "ticks": ""
            },
            "type": "choropleth"
           }
          ],
          "contour": [
           {
            "colorbar": {
             "outlinewidth": 0,
             "ticks": ""
            },
            "colorscale": [
             [
              0,
              "#0d0887"
             ],
             [
              0.1111111111111111,
              "#46039f"
             ],
             [
              0.2222222222222222,
              "#7201a8"
             ],
             [
              0.3333333333333333,
              "#9c179e"
             ],
             [
              0.4444444444444444,
              "#bd3786"
             ],
             [
              0.5555555555555556,
              "#d8576b"
             ],
             [
              0.6666666666666666,
              "#ed7953"
             ],
             [
              0.7777777777777778,
              "#fb9f3a"
             ],
             [
              0.8888888888888888,
              "#fdca26"
             ],
             [
              1,
              "#f0f921"
             ]
            ],
            "type": "contour"
           }
          ],
          "contourcarpet": [
           {
            "colorbar": {
             "outlinewidth": 0,
             "ticks": ""
            },
            "type": "contourcarpet"
           }
          ],
          "heatmap": [
           {
            "colorbar": {
             "outlinewidth": 0,
             "ticks": ""
            },
            "colorscale": [
             [
              0,
              "#0d0887"
             ],
             [
              0.1111111111111111,
              "#46039f"
             ],
             [
              0.2222222222222222,
              "#7201a8"
             ],
             [
              0.3333333333333333,
              "#9c179e"
             ],
             [
              0.4444444444444444,
              "#bd3786"
             ],
             [
              0.5555555555555556,
              "#d8576b"
             ],
             [
              0.6666666666666666,
              "#ed7953"
             ],
             [
              0.7777777777777778,
              "#fb9f3a"
             ],
             [
              0.8888888888888888,
              "#fdca26"
             ],
             [
              1,
              "#f0f921"
             ]
            ],
            "type": "heatmap"
           }
          ],
          "heatmapgl": [
           {
            "colorbar": {
             "outlinewidth": 0,
             "ticks": ""
            },
            "colorscale": [
             [
              0,
              "#0d0887"
             ],
             [
              0.1111111111111111,
              "#46039f"
             ],
             [
              0.2222222222222222,
              "#7201a8"
             ],
             [
              0.3333333333333333,
              "#9c179e"
             ],
             [
              0.4444444444444444,
              "#bd3786"
             ],
             [
              0.5555555555555556,
              "#d8576b"
             ],
             [
              0.6666666666666666,
              "#ed7953"
             ],
             [
              0.7777777777777778,
              "#fb9f3a"
             ],
             [
              0.8888888888888888,
              "#fdca26"
             ],
             [
              1,
              "#f0f921"
             ]
            ],
            "type": "heatmapgl"
           }
          ],
          "histogram": [
           {
            "marker": {
             "pattern": {
              "fillmode": "overlay",
              "size": 10,
              "solidity": 0.2
             }
            },
            "type": "histogram"
           }
          ],
          "histogram2d": [
           {
            "colorbar": {
             "outlinewidth": 0,
             "ticks": ""
            },
            "colorscale": [
             [
              0,
              "#0d0887"
             ],
             [
              0.1111111111111111,
              "#46039f"
             ],
             [
              0.2222222222222222,
              "#7201a8"
             ],
             [
              0.3333333333333333,
              "#9c179e"
             ],
             [
              0.4444444444444444,
              "#bd3786"
             ],
             [
              0.5555555555555556,
              "#d8576b"
             ],
             [
              0.6666666666666666,
              "#ed7953"
             ],
             [
              0.7777777777777778,
              "#fb9f3a"
             ],
             [
              0.8888888888888888,
              "#fdca26"
             ],
             [
              1,
              "#f0f921"
             ]
            ],
            "type": "histogram2d"
           }
          ],
          "histogram2dcontour": [
           {
            "colorbar": {
             "outlinewidth": 0,
             "ticks": ""
            },
            "colorscale": [
             [
              0,
              "#0d0887"
             ],
             [
              0.1111111111111111,
              "#46039f"
             ],
             [
              0.2222222222222222,
              "#7201a8"
             ],
             [
              0.3333333333333333,
              "#9c179e"
             ],
             [
              0.4444444444444444,
              "#bd3786"
             ],
             [
              0.5555555555555556,
              "#d8576b"
             ],
             [
              0.6666666666666666,
              "#ed7953"
             ],
             [
              0.7777777777777778,
              "#fb9f3a"
             ],
             [
              0.8888888888888888,
              "#fdca26"
             ],
             [
              1,
              "#f0f921"
             ]
            ],
            "type": "histogram2dcontour"
           }
          ],
          "mesh3d": [
           {
            "colorbar": {
             "outlinewidth": 0,
             "ticks": ""
            },
            "type": "mesh3d"
           }
          ],
          "parcoords": [
           {
            "line": {
             "colorbar": {
              "outlinewidth": 0,
              "ticks": ""
             }
            },
            "type": "parcoords"
           }
          ],
          "pie": [
           {
            "automargin": true,
            "type": "pie"
           }
          ],
          "scatter": [
           {
            "fillpattern": {
             "fillmode": "overlay",
             "size": 10,
             "solidity": 0.2
            },
            "type": "scatter"
           }
          ],
          "scatter3d": [
           {
            "line": {
             "colorbar": {
              "outlinewidth": 0,
              "ticks": ""
             }
            },
            "marker": {
             "colorbar": {
              "outlinewidth": 0,
              "ticks": ""
             }
            },
            "type": "scatter3d"
           }
          ],
          "scattercarpet": [
           {
            "marker": {
             "colorbar": {
              "outlinewidth": 0,
              "ticks": ""
             }
            },
            "type": "scattercarpet"
           }
          ],
          "scattergeo": [
           {
            "marker": {
             "colorbar": {
              "outlinewidth": 0,
              "ticks": ""
             }
            },
            "type": "scattergeo"
           }
          ],
          "scattergl": [
           {
            "marker": {
             "colorbar": {
              "outlinewidth": 0,
              "ticks": ""
             }
            },
            "type": "scattergl"
           }
          ],
          "scattermapbox": [
           {
            "marker": {
             "colorbar": {
              "outlinewidth": 0,
              "ticks": ""
             }
            },
            "type": "scattermapbox"
           }
          ],
          "scatterpolar": [
           {
            "marker": {
             "colorbar": {
              "outlinewidth": 0,
              "ticks": ""
             }
            },
            "type": "scatterpolar"
           }
          ],
          "scatterpolargl": [
           {
            "marker": {
             "colorbar": {
              "outlinewidth": 0,
              "ticks": ""
             }
            },
            "type": "scatterpolargl"
           }
          ],
          "scatterternary": [
           {
            "marker": {
             "colorbar": {
              "outlinewidth": 0,
              "ticks": ""
             }
            },
            "type": "scatterternary"
           }
          ],
          "surface": [
           {
            "colorbar": {
             "outlinewidth": 0,
             "ticks": ""
            },
            "colorscale": [
             [
              0,
              "#0d0887"
             ],
             [
              0.1111111111111111,
              "#46039f"
             ],
             [
              0.2222222222222222,
              "#7201a8"
             ],
             [
              0.3333333333333333,
              "#9c179e"
             ],
             [
              0.4444444444444444,
              "#bd3786"
             ],
             [
              0.5555555555555556,
              "#d8576b"
             ],
             [
              0.6666666666666666,
              "#ed7953"
             ],
             [
              0.7777777777777778,
              "#fb9f3a"
             ],
             [
              0.8888888888888888,
              "#fdca26"
             ],
             [
              1,
              "#f0f921"
             ]
            ],
            "type": "surface"
           }
          ],
          "table": [
           {
            "cells": {
             "fill": {
              "color": "#EBF0F8"
             },
             "line": {
              "color": "white"
             }
            },
            "header": {
             "fill": {
              "color": "#C8D4E3"
             },
             "line": {
              "color": "white"
             }
            },
            "type": "table"
           }
          ]
         },
         "layout": {
          "annotationdefaults": {
           "arrowcolor": "#2a3f5f",
           "arrowhead": 0,
           "arrowwidth": 1
          },
          "autotypenumbers": "strict",
          "coloraxis": {
           "colorbar": {
            "outlinewidth": 0,
            "ticks": ""
           }
          },
          "colorscale": {
           "diverging": [
            [
             0,
             "#8e0152"
            ],
            [
             0.1,
             "#c51b7d"
            ],
            [
             0.2,
             "#de77ae"
            ],
            [
             0.3,
             "#f1b6da"
            ],
            [
             0.4,
             "#fde0ef"
            ],
            [
             0.5,
             "#f7f7f7"
            ],
            [
             0.6,
             "#e6f5d0"
            ],
            [
             0.7,
             "#b8e186"
            ],
            [
             0.8,
             "#7fbc41"
            ],
            [
             0.9,
             "#4d9221"
            ],
            [
             1,
             "#276419"
            ]
           ],
           "sequential": [
            [
             0,
             "#0d0887"
            ],
            [
             0.1111111111111111,
             "#46039f"
            ],
            [
             0.2222222222222222,
             "#7201a8"
            ],
            [
             0.3333333333333333,
             "#9c179e"
            ],
            [
             0.4444444444444444,
             "#bd3786"
            ],
            [
             0.5555555555555556,
             "#d8576b"
            ],
            [
             0.6666666666666666,
             "#ed7953"
            ],
            [
             0.7777777777777778,
             "#fb9f3a"
            ],
            [
             0.8888888888888888,
             "#fdca26"
            ],
            [
             1,
             "#f0f921"
            ]
           ],
           "sequentialminus": [
            [
             0,
             "#0d0887"
            ],
            [
             0.1111111111111111,
             "#46039f"
            ],
            [
             0.2222222222222222,
             "#7201a8"
            ],
            [
             0.3333333333333333,
             "#9c179e"
            ],
            [
             0.4444444444444444,
             "#bd3786"
            ],
            [
             0.5555555555555556,
             "#d8576b"
            ],
            [
             0.6666666666666666,
             "#ed7953"
            ],
            [
             0.7777777777777778,
             "#fb9f3a"
            ],
            [
             0.8888888888888888,
             "#fdca26"
            ],
            [
             1,
             "#f0f921"
            ]
           ]
          },
          "colorway": [
           "#636efa",
           "#EF553B",
           "#00cc96",
           "#ab63fa",
           "#FFA15A",
           "#19d3f3",
           "#FF6692",
           "#B6E880",
           "#FF97FF",
           "#FECB52"
          ],
          "font": {
           "color": "#2a3f5f"
          },
          "geo": {
           "bgcolor": "white",
           "lakecolor": "white",
           "landcolor": "#E5ECF6",
           "showlakes": true,
           "showland": true,
           "subunitcolor": "white"
          },
          "hoverlabel": {
           "align": "left"
          },
          "hovermode": "closest",
          "mapbox": {
           "style": "light"
          },
          "paper_bgcolor": "white",
          "plot_bgcolor": "#E5ECF6",
          "polar": {
           "angularaxis": {
            "gridcolor": "white",
            "linecolor": "white",
            "ticks": ""
           },
           "bgcolor": "#E5ECF6",
           "radialaxis": {
            "gridcolor": "white",
            "linecolor": "white",
            "ticks": ""
           }
          },
          "scene": {
           "xaxis": {
            "backgroundcolor": "#E5ECF6",
            "gridcolor": "white",
            "gridwidth": 2,
            "linecolor": "white",
            "showbackground": true,
            "ticks": "",
            "zerolinecolor": "white"
           },
           "yaxis": {
            "backgroundcolor": "#E5ECF6",
            "gridcolor": "white",
            "gridwidth": 2,
            "linecolor": "white",
            "showbackground": true,
            "ticks": "",
            "zerolinecolor": "white"
           },
           "zaxis": {
            "backgroundcolor": "#E5ECF6",
            "gridcolor": "white",
            "gridwidth": 2,
            "linecolor": "white",
            "showbackground": true,
            "ticks": "",
            "zerolinecolor": "white"
           }
          },
          "shapedefaults": {
           "line": {
            "color": "#2a3f5f"
           }
          },
          "ternary": {
           "aaxis": {
            "gridcolor": "white",
            "linecolor": "white",
            "ticks": ""
           },
           "baxis": {
            "gridcolor": "white",
            "linecolor": "white",
            "ticks": ""
           },
           "bgcolor": "#E5ECF6",
           "caxis": {
            "gridcolor": "white",
            "linecolor": "white",
            "ticks": ""
           }
          },
          "title": {
           "x": 0.05
          },
          "xaxis": {
           "automargin": true,
           "gridcolor": "white",
           "linecolor": "white",
           "ticks": "",
           "title": {
            "standoff": 15
           },
           "zerolinecolor": "white",
           "zerolinewidth": 2
          },
          "yaxis": {
           "automargin": true,
           "gridcolor": "white",
           "linecolor": "white",
           "ticks": "",
           "title": {
            "standoff": 15
           },
           "zerolinecolor": "white",
           "zerolinewidth": 2
          }
         }
        },
        "xaxis": {
         "anchor": "y",
         "domain": [
          0,
          1
         ],
         "title": {
          "text": "LiftCapacity"
         }
        },
        "yaxis": {
         "anchor": "x",
         "domain": [
          0,
          1
         ],
         "title": {
          "text": "count"
         }
        }
       }
      }
     },
     "metadata": {},
     "output_type": "display_data"
    },
    {
     "data": {
      "application/vnd.plotly.v1+json": {
       "config": {
        "plotlyServerURL": "https://plot.ly"
       },
       "data": [
        {
         "alignmentgroup": "True",
         "bingroup": "x",
         "hovertemplate": "SnowCannons=%{x}<br>count=%{y}<extra></extra>",
         "legendgroup": "",
         "marker": {
          "color": "#636efa",
          "pattern": {
           "shape": ""
          }
         },
         "name": "",
         "nbinsx": 100,
         "offsetgroup": "",
         "orientation": "v",
         "showlegend": false,
         "type": "histogram",
         "x": [
          600,
          1032,
          0,
          163,
          450,
          0,
          0,
          0,
          0,
          30,
          0,
          0,
          46,
          35,
          0,
          2383,
          2383,
          514,
          1100,
          888,
          300,
          0,
          281,
          332,
          400,
          792,
          1010,
          440,
          391,
          223,
          339,
          200,
          430,
          297,
          200,
          0,
          483,
          0,
          258,
          800,
          0,
          290,
          0,
          180,
          0,
          169,
          0,
          0,
          78,
          400,
          500,
          0,
          0,
          0,
          233,
          400,
          96,
          100,
          0,
          130,
          450,
          0,
          250,
          95,
          280,
          180,
          418,
          92,
          0,
          750,
          80,
          100,
          136,
          0,
          40,
          0,
          100,
          0,
          126,
          296,
          620,
          335,
          260,
          4,
          0,
          150,
          75,
          55,
          70,
          241,
          104,
          98,
          230,
          72,
          0,
          0,
          120,
          160,
          535,
          0,
          0,
          133,
          36,
          0,
          28,
          60,
          82,
          0,
          363,
          315,
          130,
          38,
          0,
          0,
          90,
          38,
          480,
          100,
          0,
          240,
          0,
          150,
          0,
          0,
          70,
          55,
          0,
          0,
          0,
          527,
          0,
          0,
          0,
          107,
          0,
          0,
          200,
          92,
          60,
          0,
          110,
          0,
          0,
          175,
          62,
          299,
          0,
          110,
          0,
          0,
          130,
          110,
          120,
          0,
          110,
          0,
          45,
          0,
          0,
          0,
          180,
          120,
          0,
          0,
          158,
          35,
          0,
          0,
          0,
          0,
          0,
          0,
          45,
          0,
          6,
          0,
          145,
          267,
          0,
          0,
          0,
          0,
          0,
          135,
          89,
          208,
          16,
          30,
          137,
          130,
          2,
          36,
          220,
          16,
          2,
          57,
          90,
          35,
          31,
          70,
          16,
          30,
          12,
          100,
          12,
          25,
          6,
          30,
          53,
          40,
          8,
          7,
          100,
          6,
          141,
          26,
          null,
          null,
          null,
          null,
          null,
          null,
          null,
          0,
          16,
          4,
          52,
          0,
          5,
          30,
          300,
          6,
          24,
          55,
          32,
          50,
          0,
          10,
          35,
          40,
          55,
          20,
          0,
          15,
          20,
          60,
          50,
          90,
          0,
          216,
          0,
          23,
          70,
          80,
          0,
          0,
          8,
          33,
          240,
          0,
          0,
          793,
          848,
          0,
          2383,
          1074,
          1074,
          1074,
          1102,
          320,
          150,
          40,
          0,
          100,
          294,
          0,
          1700,
          1700,
          1700,
          105,
          2383,
          417,
          600,
          963,
          440,
          0,
          380,
          629,
          520,
          0,
          0,
          0,
          0,
          0,
          0,
          1060,
          0,
          0,
          0,
          14,
          140,
          0,
          9,
          130,
          170,
          472,
          0,
          133,
          0,
          123,
          1032,
          1032,
          51,
          0,
          0,
          0,
          0,
          0,
          0,
          0,
          0,
          0,
          1200,
          0,
          0,
          80,
          0,
          0,
          0,
          2383,
          0,
          224,
          0,
          190,
          280,
          1060,
          286,
          0,
          280,
          267,
          70,
          null,
          927,
          927,
          102,
          10,
          0,
          1250,
          575,
          0,
          330,
          600,
          600,
          0,
          747,
          747,
          747,
          747,
          350,
          260,
          800,
          450,
          83,
          0,
          106,
          325,
          363,
          69,
          0,
          630,
          2383,
          0,
          0,
          655,
          655,
          113
         ],
         "xaxis": "x",
         "yaxis": "y"
        }
       ],
       "layout": {
        "barmode": "relative",
        "legend": {
         "tracegroupgap": 0
        },
        "margin": {
         "t": 60
        },
        "template": {
         "data": {
          "bar": [
           {
            "error_x": {
             "color": "#2a3f5f"
            },
            "error_y": {
             "color": "#2a3f5f"
            },
            "marker": {
             "line": {
              "color": "#E5ECF6",
              "width": 0.5
             },
             "pattern": {
              "fillmode": "overlay",
              "size": 10,
              "solidity": 0.2
             }
            },
            "type": "bar"
           }
          ],
          "barpolar": [
           {
            "marker": {
             "line": {
              "color": "#E5ECF6",
              "width": 0.5
             },
             "pattern": {
              "fillmode": "overlay",
              "size": 10,
              "solidity": 0.2
             }
            },
            "type": "barpolar"
           }
          ],
          "carpet": [
           {
            "aaxis": {
             "endlinecolor": "#2a3f5f",
             "gridcolor": "white",
             "linecolor": "white",
             "minorgridcolor": "white",
             "startlinecolor": "#2a3f5f"
            },
            "baxis": {
             "endlinecolor": "#2a3f5f",
             "gridcolor": "white",
             "linecolor": "white",
             "minorgridcolor": "white",
             "startlinecolor": "#2a3f5f"
            },
            "type": "carpet"
           }
          ],
          "choropleth": [
           {
            "colorbar": {
             "outlinewidth": 0,
             "ticks": ""
            },
            "type": "choropleth"
           }
          ],
          "contour": [
           {
            "colorbar": {
             "outlinewidth": 0,
             "ticks": ""
            },
            "colorscale": [
             [
              0,
              "#0d0887"
             ],
             [
              0.1111111111111111,
              "#46039f"
             ],
             [
              0.2222222222222222,
              "#7201a8"
             ],
             [
              0.3333333333333333,
              "#9c179e"
             ],
             [
              0.4444444444444444,
              "#bd3786"
             ],
             [
              0.5555555555555556,
              "#d8576b"
             ],
             [
              0.6666666666666666,
              "#ed7953"
             ],
             [
              0.7777777777777778,
              "#fb9f3a"
             ],
             [
              0.8888888888888888,
              "#fdca26"
             ],
             [
              1,
              "#f0f921"
             ]
            ],
            "type": "contour"
           }
          ],
          "contourcarpet": [
           {
            "colorbar": {
             "outlinewidth": 0,
             "ticks": ""
            },
            "type": "contourcarpet"
           }
          ],
          "heatmap": [
           {
            "colorbar": {
             "outlinewidth": 0,
             "ticks": ""
            },
            "colorscale": [
             [
              0,
              "#0d0887"
             ],
             [
              0.1111111111111111,
              "#46039f"
             ],
             [
              0.2222222222222222,
              "#7201a8"
             ],
             [
              0.3333333333333333,
              "#9c179e"
             ],
             [
              0.4444444444444444,
              "#bd3786"
             ],
             [
              0.5555555555555556,
              "#d8576b"
             ],
             [
              0.6666666666666666,
              "#ed7953"
             ],
             [
              0.7777777777777778,
              "#fb9f3a"
             ],
             [
              0.8888888888888888,
              "#fdca26"
             ],
             [
              1,
              "#f0f921"
             ]
            ],
            "type": "heatmap"
           }
          ],
          "heatmapgl": [
           {
            "colorbar": {
             "outlinewidth": 0,
             "ticks": ""
            },
            "colorscale": [
             [
              0,
              "#0d0887"
             ],
             [
              0.1111111111111111,
              "#46039f"
             ],
             [
              0.2222222222222222,
              "#7201a8"
             ],
             [
              0.3333333333333333,
              "#9c179e"
             ],
             [
              0.4444444444444444,
              "#bd3786"
             ],
             [
              0.5555555555555556,
              "#d8576b"
             ],
             [
              0.6666666666666666,
              "#ed7953"
             ],
             [
              0.7777777777777778,
              "#fb9f3a"
             ],
             [
              0.8888888888888888,
              "#fdca26"
             ],
             [
              1,
              "#f0f921"
             ]
            ],
            "type": "heatmapgl"
           }
          ],
          "histogram": [
           {
            "marker": {
             "pattern": {
              "fillmode": "overlay",
              "size": 10,
              "solidity": 0.2
             }
            },
            "type": "histogram"
           }
          ],
          "histogram2d": [
           {
            "colorbar": {
             "outlinewidth": 0,
             "ticks": ""
            },
            "colorscale": [
             [
              0,
              "#0d0887"
             ],
             [
              0.1111111111111111,
              "#46039f"
             ],
             [
              0.2222222222222222,
              "#7201a8"
             ],
             [
              0.3333333333333333,
              "#9c179e"
             ],
             [
              0.4444444444444444,
              "#bd3786"
             ],
             [
              0.5555555555555556,
              "#d8576b"
             ],
             [
              0.6666666666666666,
              "#ed7953"
             ],
             [
              0.7777777777777778,
              "#fb9f3a"
             ],
             [
              0.8888888888888888,
              "#fdca26"
             ],
             [
              1,
              "#f0f921"
             ]
            ],
            "type": "histogram2d"
           }
          ],
          "histogram2dcontour": [
           {
            "colorbar": {
             "outlinewidth": 0,
             "ticks": ""
            },
            "colorscale": [
             [
              0,
              "#0d0887"
             ],
             [
              0.1111111111111111,
              "#46039f"
             ],
             [
              0.2222222222222222,
              "#7201a8"
             ],
             [
              0.3333333333333333,
              "#9c179e"
             ],
             [
              0.4444444444444444,
              "#bd3786"
             ],
             [
              0.5555555555555556,
              "#d8576b"
             ],
             [
              0.6666666666666666,
              "#ed7953"
             ],
             [
              0.7777777777777778,
              "#fb9f3a"
             ],
             [
              0.8888888888888888,
              "#fdca26"
             ],
             [
              1,
              "#f0f921"
             ]
            ],
            "type": "histogram2dcontour"
           }
          ],
          "mesh3d": [
           {
            "colorbar": {
             "outlinewidth": 0,
             "ticks": ""
            },
            "type": "mesh3d"
           }
          ],
          "parcoords": [
           {
            "line": {
             "colorbar": {
              "outlinewidth": 0,
              "ticks": ""
             }
            },
            "type": "parcoords"
           }
          ],
          "pie": [
           {
            "automargin": true,
            "type": "pie"
           }
          ],
          "scatter": [
           {
            "fillpattern": {
             "fillmode": "overlay",
             "size": 10,
             "solidity": 0.2
            },
            "type": "scatter"
           }
          ],
          "scatter3d": [
           {
            "line": {
             "colorbar": {
              "outlinewidth": 0,
              "ticks": ""
             }
            },
            "marker": {
             "colorbar": {
              "outlinewidth": 0,
              "ticks": ""
             }
            },
            "type": "scatter3d"
           }
          ],
          "scattercarpet": [
           {
            "marker": {
             "colorbar": {
              "outlinewidth": 0,
              "ticks": ""
             }
            },
            "type": "scattercarpet"
           }
          ],
          "scattergeo": [
           {
            "marker": {
             "colorbar": {
              "outlinewidth": 0,
              "ticks": ""
             }
            },
            "type": "scattergeo"
           }
          ],
          "scattergl": [
           {
            "marker": {
             "colorbar": {
              "outlinewidth": 0,
              "ticks": ""
             }
            },
            "type": "scattergl"
           }
          ],
          "scattermapbox": [
           {
            "marker": {
             "colorbar": {
              "outlinewidth": 0,
              "ticks": ""
             }
            },
            "type": "scattermapbox"
           }
          ],
          "scatterpolar": [
           {
            "marker": {
             "colorbar": {
              "outlinewidth": 0,
              "ticks": ""
             }
            },
            "type": "scatterpolar"
           }
          ],
          "scatterpolargl": [
           {
            "marker": {
             "colorbar": {
              "outlinewidth": 0,
              "ticks": ""
             }
            },
            "type": "scatterpolargl"
           }
          ],
          "scatterternary": [
           {
            "marker": {
             "colorbar": {
              "outlinewidth": 0,
              "ticks": ""
             }
            },
            "type": "scatterternary"
           }
          ],
          "surface": [
           {
            "colorbar": {
             "outlinewidth": 0,
             "ticks": ""
            },
            "colorscale": [
             [
              0,
              "#0d0887"
             ],
             [
              0.1111111111111111,
              "#46039f"
             ],
             [
              0.2222222222222222,
              "#7201a8"
             ],
             [
              0.3333333333333333,
              "#9c179e"
             ],
             [
              0.4444444444444444,
              "#bd3786"
             ],
             [
              0.5555555555555556,
              "#d8576b"
             ],
             [
              0.6666666666666666,
              "#ed7953"
             ],
             [
              0.7777777777777778,
              "#fb9f3a"
             ],
             [
              0.8888888888888888,
              "#fdca26"
             ],
             [
              1,
              "#f0f921"
             ]
            ],
            "type": "surface"
           }
          ],
          "table": [
           {
            "cells": {
             "fill": {
              "color": "#EBF0F8"
             },
             "line": {
              "color": "white"
             }
            },
            "header": {
             "fill": {
              "color": "#C8D4E3"
             },
             "line": {
              "color": "white"
             }
            },
            "type": "table"
           }
          ]
         },
         "layout": {
          "annotationdefaults": {
           "arrowcolor": "#2a3f5f",
           "arrowhead": 0,
           "arrowwidth": 1
          },
          "autotypenumbers": "strict",
          "coloraxis": {
           "colorbar": {
            "outlinewidth": 0,
            "ticks": ""
           }
          },
          "colorscale": {
           "diverging": [
            [
             0,
             "#8e0152"
            ],
            [
             0.1,
             "#c51b7d"
            ],
            [
             0.2,
             "#de77ae"
            ],
            [
             0.3,
             "#f1b6da"
            ],
            [
             0.4,
             "#fde0ef"
            ],
            [
             0.5,
             "#f7f7f7"
            ],
            [
             0.6,
             "#e6f5d0"
            ],
            [
             0.7,
             "#b8e186"
            ],
            [
             0.8,
             "#7fbc41"
            ],
            [
             0.9,
             "#4d9221"
            ],
            [
             1,
             "#276419"
            ]
           ],
           "sequential": [
            [
             0,
             "#0d0887"
            ],
            [
             0.1111111111111111,
             "#46039f"
            ],
            [
             0.2222222222222222,
             "#7201a8"
            ],
            [
             0.3333333333333333,
             "#9c179e"
            ],
            [
             0.4444444444444444,
             "#bd3786"
            ],
            [
             0.5555555555555556,
             "#d8576b"
            ],
            [
             0.6666666666666666,
             "#ed7953"
            ],
            [
             0.7777777777777778,
             "#fb9f3a"
            ],
            [
             0.8888888888888888,
             "#fdca26"
            ],
            [
             1,
             "#f0f921"
            ]
           ],
           "sequentialminus": [
            [
             0,
             "#0d0887"
            ],
            [
             0.1111111111111111,
             "#46039f"
            ],
            [
             0.2222222222222222,
             "#7201a8"
            ],
            [
             0.3333333333333333,
             "#9c179e"
            ],
            [
             0.4444444444444444,
             "#bd3786"
            ],
            [
             0.5555555555555556,
             "#d8576b"
            ],
            [
             0.6666666666666666,
             "#ed7953"
            ],
            [
             0.7777777777777778,
             "#fb9f3a"
            ],
            [
             0.8888888888888888,
             "#fdca26"
            ],
            [
             1,
             "#f0f921"
            ]
           ]
          },
          "colorway": [
           "#636efa",
           "#EF553B",
           "#00cc96",
           "#ab63fa",
           "#FFA15A",
           "#19d3f3",
           "#FF6692",
           "#B6E880",
           "#FF97FF",
           "#FECB52"
          ],
          "font": {
           "color": "#2a3f5f"
          },
          "geo": {
           "bgcolor": "white",
           "lakecolor": "white",
           "landcolor": "#E5ECF6",
           "showlakes": true,
           "showland": true,
           "subunitcolor": "white"
          },
          "hoverlabel": {
           "align": "left"
          },
          "hovermode": "closest",
          "mapbox": {
           "style": "light"
          },
          "paper_bgcolor": "white",
          "plot_bgcolor": "#E5ECF6",
          "polar": {
           "angularaxis": {
            "gridcolor": "white",
            "linecolor": "white",
            "ticks": ""
           },
           "bgcolor": "#E5ECF6",
           "radialaxis": {
            "gridcolor": "white",
            "linecolor": "white",
            "ticks": ""
           }
          },
          "scene": {
           "xaxis": {
            "backgroundcolor": "#E5ECF6",
            "gridcolor": "white",
            "gridwidth": 2,
            "linecolor": "white",
            "showbackground": true,
            "ticks": "",
            "zerolinecolor": "white"
           },
           "yaxis": {
            "backgroundcolor": "#E5ECF6",
            "gridcolor": "white",
            "gridwidth": 2,
            "linecolor": "white",
            "showbackground": true,
            "ticks": "",
            "zerolinecolor": "white"
           },
           "zaxis": {
            "backgroundcolor": "#E5ECF6",
            "gridcolor": "white",
            "gridwidth": 2,
            "linecolor": "white",
            "showbackground": true,
            "ticks": "",
            "zerolinecolor": "white"
           }
          },
          "shapedefaults": {
           "line": {
            "color": "#2a3f5f"
           }
          },
          "ternary": {
           "aaxis": {
            "gridcolor": "white",
            "linecolor": "white",
            "ticks": ""
           },
           "baxis": {
            "gridcolor": "white",
            "linecolor": "white",
            "ticks": ""
           },
           "bgcolor": "#E5ECF6",
           "caxis": {
            "gridcolor": "white",
            "linecolor": "white",
            "ticks": ""
           }
          },
          "title": {
           "x": 0.05
          },
          "xaxis": {
           "automargin": true,
           "gridcolor": "white",
           "linecolor": "white",
           "ticks": "",
           "title": {
            "standoff": 15
           },
           "zerolinecolor": "white",
           "zerolinewidth": 2
          },
          "yaxis": {
           "automargin": true,
           "gridcolor": "white",
           "linecolor": "white",
           "ticks": "",
           "title": {
            "standoff": 15
           },
           "zerolinecolor": "white",
           "zerolinewidth": 2
          }
         }
        },
        "xaxis": {
         "anchor": "y",
         "domain": [
          0,
          1
         ],
         "title": {
          "text": "SnowCannons"
         }
        },
        "yaxis": {
         "anchor": "x",
         "domain": [
          0,
          1
         ],
         "title": {
          "text": "count"
         }
        }
       }
      }
     },
     "metadata": {},
     "output_type": "display_data"
    }
   ],
   "source": [
    "num_cols = ['HighestPoint','LowestPoint','DayPassPriceAdult','BeginnerSlope','IntermediateSlope','DifficultSlope','TotalSlope','SurfaceLifts','ChairLifts','GondolaLifts','TotalLifts','LiftCapacity','SnowCannons']\n",
    "for col in num_cols:\n",
    "    fig = px.histogram(df, x=col,nbins=100)\n",
    "    fig.show()"
   ]
  },
  {
   "attachments": {},
   "cell_type": "markdown",
   "id": "ece5dd65",
   "metadata": {},
   "source": [
    "We would categrorize: 'DayPassPriceAdult', 'HighestPoint', 'LowestPoint', 'LiftCapacity' and 'SnowCannons' accordingly to their distribution shown by the histogram above. \\\n",
    "The other numerical variables are left as numerical because they depend on each other in a linear way (see description of variables above). This means, that mathematical operations as + and - should remain on these variables, so we need them to stay numerical.\\\n",
    "This way, we remain with the least numerical variables possible while retaining the properties needed on the others."
   ]
  },
  {
   "cell_type": "code",
   "execution_count": 7,
   "id": "418f1611",
   "metadata": {},
   "outputs": [],
   "source": [
    "df_cat = df.copy()      # make copy of df as we change the entries of the variables\n",
    "\n",
    "# DayPassPriceAdult\n",
    "bins_DPPA = [0,0.01, 29.999, 54.999, 1000]\n",
    "group_names_DPPA = ['free','cheap','medium','expensive']\n",
    "df_cat['DayPassPriceAdult'] = pd.cut(df['DayPassPriceAdult'], bins_DPPA, labels=group_names_DPPA)\n",
    "#print (df_cat['DayPassPriceAdult'])\n",
    "\n",
    "# HighestPoint\n",
    "bins_HP = [0,500, 1000, 1500, 2000, 2500, 3000, 3500, 4000]\n",
    "group_names_HP = ['[0,500]','(500,1000]','(1000,1500]','(1500,2000]','(2000,2500]','(2500,3000]','(3000,3500]','(3500,4000]']\n",
    "df_cat['HighestPoint'] = pd.cut(df['HighestPoint'], bins_HP, labels=group_names_HP)\n",
    "# print(df_cat['HighestPoint'])\n",
    "\n",
    "# LowestPoint\n",
    "bins_LP = [0,500, 1000, 1500, 2000, 2500]\n",
    "group_names_LP = ['[0,500]','(500,1000]','(1000,1500]','(1500,2000]','(2000,2500]']\n",
    "df_cat['LowestPoint'] = pd.cut(df['LowestPoint'], bins_LP, labels=group_names_LP)\n",
    "# print(df_cat['LowestPoint'])\n",
    "\n",
    "# LiftCapacity\n",
    "bins_LC = [0,15000, 50000, 100000, 150000, 300000]\n",
    "group_names_LC = ['[0,15000]','(1500,50000]','(50000,100000]','(100000,150000]','(150000,300000]']\n",
    "df_cat['LiftCapacity'] = pd.cut(df['LiftCapacity'], bins_LC, labels=group_names_LC)\n",
    "# print(df_cat['LiftCapacity'])\n",
    "\n",
    "# SnowCannons\n",
    "bins_SC = [0,49, 399, 999, 1699, 2400]\n",
    "group_names_SC = ['[0,49]','[50,399]','[400,999]','[1000,1699]','[1700,2400]']\n",
    "df_cat['SnowCannons'] = pd.cut(df['SnowCannons'], bins_SC, labels=group_names_SC)\n",
    "# print(df_cat['SnowCannons'])"
   ]
  },
  {
   "cell_type": "code",
   "execution_count": 8,
   "id": "44227275",
   "metadata": {},
   "outputs": [
    {
     "data": {
      "text/plain": [
       "Resort                 object\n",
       "Country                object\n",
       "HighestPoint         category\n",
       "LowestPoint          category\n",
       "DayPassPriceAdult    category\n",
       "BeginnerSlope         float64\n",
       "IntermediateSlope       int64\n",
       "DifficultSlope        float64\n",
       "TotalSlope              int64\n",
       "Snowparks              object\n",
       "NightSki               object\n",
       "SurfaceLifts          float64\n",
       "ChairLifts              int64\n",
       "GondolaLifts          float64\n",
       "TotalLifts              int64\n",
       "LiftCapacity         category\n",
       "SnowCannons          category\n",
       "dtype: object"
      ]
     },
     "execution_count": 8,
     "metadata": {},
     "output_type": "execute_result"
    }
   ],
   "source": [
    "df_cat.dtypes"
   ]
  },
  {
   "cell_type": "markdown",
   "id": "0222a54c-f455-4b78-bae1-33bc7d79edf3",
   "metadata": {
    "execution": {
     "iopub.execute_input": "2022-12-07T16:58:43.496952Z",
     "iopub.status.busy": "2022-12-07T16:58:43.496547Z",
     "iopub.status.idle": "2022-12-07T16:58:43.506339Z",
     "shell.execute_reply": "2022-12-07T16:58:43.504499Z",
     "shell.execute_reply.started": "2022-12-07T16:58:43.496921Z"
    },
    "tags": []
   },
   "source": [
    "### b) Handling Missing Values & Encoding (17.5pts)"
   ]
  },
  {
   "cell_type": "markdown",
   "id": "279b17dc-acae-4012-b83b-2bae628a8fb4",
   "metadata": {},
   "source": [
    "In the following task, you can assume that every NAN entry in the dataframe is actually a missing value. This can partially be justified by the fact that pandas did not have problems inferring the \"proper\" datatypes (e.g., a string indicating a missing number in a number column would result in pandas parsing an object column) and your subsequent check of the data types. Therefore, you can use `df.isna()` as a proxy indicator for missing values."
   ]
  },
  {
   "cell_type": "markdown",
   "id": "0a760130-8c4b-46b6-b96f-76dcea95d28e",
   "metadata": {
    "execution": {
     "iopub.execute_input": "2022-12-07T16:59:35.630762Z",
     "iopub.status.busy": "2022-12-07T16:59:35.630357Z",
     "iopub.status.idle": "2022-12-07T16:59:35.648425Z",
     "shell.execute_reply": "2022-12-07T16:59:35.646703Z",
     "shell.execute_reply.started": "2022-12-07T16:59:35.630730Z"
    },
    "tags": []
   },
   "source": [
    "#### **b(i)** \n",
    "Simply discarding missing entries is usually not a good idea. Therefore, you should first analyze the number of missing values and check for patterns of missing values. \n",
    "\n",
    "To this end, compute the following statistics on missing values:\n",
    "1. How many entries does the dataframe have? (To relate this to the number of entries missing)\n",
    "2. How many missing values do we have? What is the ratio i.e., \"number of missing values\"/\"number of entries of df\"?\n",
    "3. How many rows have at least a single missing value?\n",
    "4. Count the number of missing values per column.\n",
    "5. Count the number of missing values per row and aggregate them - i.e., show the number of rows that suffer from x missing values.\n",
    "6. What do you observe? Are there any rows containing missing values for the same set of columns? Can you identify potential patterns?\n"
   ]
  },
  {
   "cell_type": "code",
   "execution_count": 9,
   "id": "c0b7c69e-8c4e-483e-9131-9b7f2936216c",
   "metadata": {
    "tags": []
   },
   "outputs": [
    {
     "name": "stdout",
     "output_type": "stream",
     "text": [
      "overall total number of entries in df:  6392\n"
     ]
    }
   ],
   "source": [
    "# your code for 1. How many entries does the dataframe have? (To relate this to the number of entries missing)\n",
    "print('overall total number of entries in df: ',(df.shape[0]*df.shape[1]))\n",
    "# print('overall total number of missings in df: ',df.isna().sum().sum())"
   ]
  },
  {
   "cell_type": "code",
   "execution_count": 10,
   "id": "e10f80a7-4caf-4d0b-8cf8-c3148e466288",
   "metadata": {
    "tags": []
   },
   "outputs": [
    {
     "name": "stdout",
     "output_type": "stream",
     "text": [
      "overall total number of missings in df:  87\n",
      "overall missing ratio in df:  0.013610763454317897\n"
     ]
    }
   ],
   "source": [
    "# your code for 2. How many missing values do we have? What is the ratio i.e., \"number of missing values\"/\"number of entries of df\"?\n",
    "print('overall total number of missings in df: ',df.isna().sum().sum())\n",
    "print('overall missing ratio in df: ',(df.isna().sum().sum())/(df.shape[0]*df.shape[1]))\n",
    "# print('missing ratios by coloumn:')\n",
    "# (df.isna().sum())/df.shape[0]"
   ]
  },
  {
   "cell_type": "code",
   "execution_count": 11,
   "id": "24258622",
   "metadata": {},
   "outputs": [],
   "source": [
    "# print('column names with at least one missing value:')\n",
    "# count_int=0\n",
    "# for col in df.columns:\n",
    "#     if df[col].isna().sum()>0:\n",
    "#         count_int+=1\n",
    "#         print(col)\n",
    "# print('Number of columns with at least a single missing value: ',count_int)"
   ]
  },
  {
   "cell_type": "code",
   "execution_count": 12,
   "id": "d4ecc58b-6563-4dd1-8727-4aa08a485961",
   "metadata": {
    "tags": []
   },
   "outputs": [
    {
     "name": "stdout",
     "output_type": "stream",
     "text": [
      "Number of rows with at least a single missing value:  45\n"
     ]
    }
   ],
   "source": [
    "# your code for 3. How many rows have at least a single missing value?\n",
    "# print('row names with at least one missing value:')\n",
    "count_int=0\n",
    "for row in range(0,df.shape[0]):\n",
    "    if df.iloc[row].isna().sum()>0:\n",
    "        count_int+=1\n",
    "        # print(row)\n",
    "print('Number of rows with at least a single missing value: ',count_int)"
   ]
  },
  {
   "cell_type": "code",
   "execution_count": 13,
   "id": "55e8a812-67c1-4458-ac9e-41265cab70c3",
   "metadata": {
    "tags": []
   },
   "outputs": [
    {
     "name": "stdout",
     "output_type": "stream",
     "text": [
      "total count of missings by coloumn:\n"
     ]
    },
    {
     "data": {
      "text/plain": [
       "Resort                0\n",
       "Country               0\n",
       "HighestPoint         13\n",
       "LowestPoint           3\n",
       "DayPassPriceAdult    17\n",
       "BeginnerSlope         8\n",
       "IntermediateSlope     0\n",
       "DifficultSlope        8\n",
       "TotalSlope            0\n",
       "Snowparks             0\n",
       "NightSki              0\n",
       "SurfaceLifts          6\n",
       "ChairLifts            0\n",
       "GondolaLifts          7\n",
       "TotalLifts            0\n",
       "LiftCapacity         17\n",
       "SnowCannons           8\n",
       "dtype: int64"
      ]
     },
     "execution_count": 13,
     "metadata": {},
     "output_type": "execute_result"
    }
   ],
   "source": [
    "# your code for 4. Count the number of missing values per column.\n",
    "print('total count of missings by coloumn:')\n",
    "df.isna().sum()"
   ]
  },
  {
   "cell_type": "code",
   "execution_count": 14,
   "id": "724f6928-edfe-4fec-b3fd-abfc6567d1ec",
   "metadata": {
    "tags": []
   },
   "outputs": [
    {
     "name": "stdout",
     "output_type": "stream",
     "text": [
      "0 331\n",
      "1 35\n",
      "2 2\n",
      "3 0\n",
      "4 0\n",
      "5 0\n",
      "6 8\n"
     ]
    }
   ],
   "source": [
    "# your code for 5. Count the number of missing values per row and aggregate them - i.e., show the number of rows that suffer from x missing values.\n",
    "# df.isna().sum(axis=1)\n",
    "# max(df.isna().sum(axis=1).tolist())\n",
    "\n",
    "for i in range(0,max(df.isna().sum(axis=1).tolist())+1):\n",
    "    print(i,df.isna().sum(axis=1).tolist().count(i))"
   ]
  },
  {
   "cell_type": "code",
   "execution_count": 15,
   "id": "99a0f749",
   "metadata": {},
   "outputs": [
    {
     "name": "stdout",
     "output_type": "stream",
     "text": [
      "column names with at least one missing value:\n",
      "HighestPoint [1, 10, 13, 20, 21, 22, 23, 24, 25, 26, 28, 29, 42]\n",
      "LowestPoint [33, 34, 41]\n",
      "DayPassPriceAdult [0, 6, 8, 14, 15, 18, 20, 21, 22, 23, 24, 25, 26, 35, 36, 42, 43]\n",
      "BeginnerSlope [20, 21, 22, 23, 24, 25, 26, 42]\n",
      "DifficultSlope [20, 21, 22, 23, 24, 25, 26, 42]\n",
      "SurfaceLifts [2, 3, 9, 18, 37, 44]\n",
      "GondolaLifts [7, 12, 16, 17, 19, 32, 39]\n",
      "LiftCapacity [4, 5, 9, 11, 20, 21, 22, 23, 24, 25, 26, 27, 30, 31, 38, 40, 42]\n",
      "SnowCannons [20, 21, 22, 23, 24, 25, 26, 42]\n",
      "Number of columns with at least a single missing value:  9\n"
     ]
    }
   ],
   "source": [
    "# added code for answering 6:\n",
    "\n",
    "null_df = df[df.isna().any(axis=1)]   # extracting only rows of df with >0 missing values\n",
    "\n",
    "# print('row names with at least one missing value:')\n",
    "# count_int=0\n",
    "# for row in range(0,null_df.shape[0]):\n",
    "#     if null_df.iloc[row].isna().sum()>0:\n",
    "#         count_int+=1\n",
    "#         # print(col)\n",
    "#         res_int = [i for i, val in enumerate(null_df.iloc[row].isna().tolist()) if val]\n",
    "#         res_str = null_df.columns[res_int]\n",
    "#         print(row, str(res_str))\n",
    "# print('Number of rows with at least a single missing value: ',count_int)\n",
    "\n",
    "\n",
    "print('column names with at least one missing value:')\n",
    "count_int=0\n",
    "for col in null_df.columns:\n",
    "    if null_df[col].isna().sum()>0:\n",
    "        count_int+=1\n",
    "        # print(col)\n",
    "        res = [i for i, val in enumerate(null_df[col].isna().tolist()) if val]\n",
    "        print(col, str(res))\n",
    "print('Number of columns with at least a single missing value: ',count_int)"
   ]
  },
  {
   "attachments": {},
   "cell_type": "markdown",
   "id": "0fc8a782-1430-4e7c-835c-91b7e1806597",
   "metadata": {
    "tags": []
   },
   "source": [
    "**Your answer:** *(for 6. What do you observe? Are there any rows containing missing values for the same set of columns?)*\n",
    "rows 20,21,22,23,24,25,26 and 42 all (only) miss values for 'HighestPoint','DayPassPriceAdult','BeginnerSlope','DifficultSlope','LiftCapacity' and 'SnowCannons'. These are also to rows missing the most values (as can be seen in the solution for question 5).\n",
    "Row 9 and 18 are the other two having more then 1 missing entry, however they do not form a pattern.\n",
    "The rest of the rows only has one missing entry and can therefore not form any pattern."
   ]
  },
  {
   "cell_type": "markdown",
   "id": "5467e51c-6ba1-47f6-a123-fd55076b8e45",
   "metadata": {
    "tags": []
   },
   "source": [
    "#### **b(ii)**\n",
    "For the next step:\n",
    "\n",
    "1. Transform the categorical column(s) you identified in a(iii) into one-hot encoding format. \n",
    "2. Transform the columns \"Snowparks\" and \"NightSki\" in `df` into boolean data type, where \"Yes\" should be `True` and \"No\" should be `False`\n",
    "\n",
    "In the end, the original categorical column(s) should still be there. Additionally, there should be x number (x is the number of unique values) of one-hot encoding columns for each categorical column. Use the following naming convention for the new columns \"{name of the categorical column}_{unique value for that column}\" Also, make sure the columns \"Snowparks\" and \"NightSki\" are boolean type in the end.\n",
    "Lastly, print the top five rows of the resulting dataframe.\n",
    "\n",
    "*Hint: You can use the pd.get_dummies() function from pandas for the first transformation*"
   ]
  },
  {
   "cell_type": "code",
   "execution_count": 16,
   "id": "c169cd7d",
   "metadata": {},
   "outputs": [],
   "source": [
    "# We will use a copy of the df in the following because we will transform the coloumns\n",
    "df_imp = df_cat.copy()"
   ]
  },
  {
   "cell_type": "code",
   "execution_count": 17,
   "id": "8b5112b3",
   "metadata": {},
   "outputs": [],
   "source": [
    "# your code for 1. Transform the categorical column(s) you identified in a(iii) into one-hot encoding format. \n",
    "\n",
    "# list of categorized columns\n",
    "list_cat = ['DayPassPriceAdult','HighestPoint','LowestPoint','LiftCapacity','SnowCannons']\n",
    "\n",
    "# only wand to OHE the former categorized columns\n",
    "X = df_imp[list_cat]\n",
    "\n",
    "# create encoder and fit and transform on data X, safe all to new encoder_df while keeping old index and clever names :)\n",
    "enc = OneHotEncoder(handle_unknown='ignore')    # When an unknown category is encountered during transform, the resulting one-hot encoded columns for this feature will be all zeros.\n",
    "encoded = enc.fit_transform(X).toarray()\n",
    "encoder_df = pd.DataFrame(encoded,columns=enc.get_feature_names_out(list_cat),index=df_cat.index)\n",
    "# print(encoder_df)\n",
    "\n",
    "# merge one-hot encoded columns back with df_cat\n",
    "df_imp = df_cat.join(encoder_df)\n",
    "\n",
    "# drop categorized columns NO BECAUSE TASK SAYS TO LEAVE THEM THERE\n",
    "# df_imp.drop(list_cat, axis=1, inplace=True)\n",
    "\n",
    "# print(df_imp.head())\n"
   ]
  },
  {
   "cell_type": "code",
   "execution_count": 18,
   "id": "381d6bff-270d-4e5a-93e7-62dc97b0551e",
   "metadata": {},
   "outputs": [],
   "source": [
    "# your code for 2. Transform the columns \"Snowparks\" and \"NightSki\" in `df` into boolean data type, where \"Yes\" should be `True` and \"No\" should be `False`\n",
    "\n",
    "df_imp.Snowparks = (pd.Series(np.where(df_imp.Snowparks.values == 'Yes', bool(['True']), bool(['False'])),\n",
    "          df_imp.index))\n",
    "          \n",
    "df_imp.NightSki = (pd.Series(np.where(df_imp.NightSki.values == 'Yes', bool(['True']), bool(['False'])),\n",
    "          df_imp.index))"
   ]
  },
  {
   "cell_type": "code",
   "execution_count": 19,
   "id": "02638dbf-36cd-47d8-9eee-07591eeb5ed9",
   "metadata": {},
   "outputs": [
    {
     "data": {
      "text/plain": [
       "Resort                            object\n",
       "Country                           object\n",
       "HighestPoint                    category\n",
       "LowestPoint                     category\n",
       "DayPassPriceAdult               category\n",
       "BeginnerSlope                    float64\n",
       "IntermediateSlope                  int64\n",
       "DifficultSlope                   float64\n",
       "TotalSlope                         int64\n",
       "Snowparks                           bool\n",
       "NightSki                            bool\n",
       "SurfaceLifts                     float64\n",
       "ChairLifts                         int64\n",
       "GondolaLifts                     float64\n",
       "TotalLifts                         int64\n",
       "LiftCapacity                    category\n",
       "SnowCannons                     category\n",
       "DayPassPriceAdult_cheap          float64\n",
       "DayPassPriceAdult_expensive      float64\n",
       "DayPassPriceAdult_medium         float64\n",
       "DayPassPriceAdult_nan            float64\n",
       "HighestPoint_(1000,1500]         float64\n",
       "HighestPoint_(1500,2000]         float64\n",
       "HighestPoint_(2000,2500]         float64\n",
       "HighestPoint_(2500,3000]         float64\n",
       "HighestPoint_(3000,3500]         float64\n",
       "HighestPoint_(3500,4000]         float64\n",
       "HighestPoint_(500,1000]          float64\n",
       "HighestPoint_[0,500]             float64\n",
       "HighestPoint_nan                 float64\n",
       "LowestPoint_(1000,1500]          float64\n",
       "LowestPoint_(1500,2000]          float64\n",
       "LowestPoint_(2000,2500]          float64\n",
       "LowestPoint_(500,1000]           float64\n",
       "LowestPoint_[0,500]              float64\n",
       "LowestPoint_nan                  float64\n",
       "LiftCapacity_(100000,150000]     float64\n",
       "LiftCapacity_(1500,50000]        float64\n",
       "LiftCapacity_(150000,300000]     float64\n",
       "LiftCapacity_(50000,100000]      float64\n",
       "LiftCapacity_[0,15000]           float64\n",
       "LiftCapacity_nan                 float64\n",
       "SnowCannons_[0,49]               float64\n",
       "SnowCannons_[1000,1699]          float64\n",
       "SnowCannons_[1700,2400]          float64\n",
       "SnowCannons_[400,999]            float64\n",
       "SnowCannons_[50,399]             float64\n",
       "SnowCannons_nan                  float64\n",
       "dtype: object"
      ]
     },
     "execution_count": 19,
     "metadata": {},
     "output_type": "execute_result"
    }
   ],
   "source": [
    "# use df.dtypes to check if you correctly transform the data\n",
    "df_imp.dtypes"
   ]
  },
  {
   "cell_type": "code",
   "execution_count": 20,
   "id": "694fe0af",
   "metadata": {},
   "outputs": [],
   "source": [
    "#(df_imp['SnowCannons_[50,399]'])"
   ]
  },
  {
   "cell_type": "markdown",
   "id": "0c3192a2-dedb-45ab-b5c0-86b49a7a15e9",
   "metadata": {
    "tags": []
   },
   "source": [
    "#### **b(iii)** \n",
    "The previous analysis in b(i) showed that there are missing values in the 'SurfaceLifts' and 'GondolaLifts' columns.\\\n",
    "How would you impute these values? \\\n",
    "Motivate your approach and apply it to `df`.\n",
    "\n",
    "*Hint: Remember the semantics of the columns. Also, carefully assert your assumptions.*\n"
   ]
  },
  {
   "attachments": {},
   "cell_type": "markdown",
   "id": "c0e34370-d15a-4f57-8df1-b11ae3e4b9a5",
   "metadata": {},
   "source": [
    "**Your Answer:** From the description of the variables we know, that 'SurfaceLifts' + 'GondolaLifts' + 'ChairLifts' = 'TotalLifts'. Therefore, for every row with only one of the four entries missing, we will calculate it via the other two and the given formula. \\\n",
    "From task 1b (1) Question 6, we already know, that there are no missings in 'ChairLifts' and 'TotalLifts'. Additionally this task showed explicitly, that the missing rows of 'SurfaceLifts' and 'GondolaLifts' are disjoint. \\\n",
    "Hence, we can calculate the replacing value as follows:"
   ]
  },
  {
   "cell_type": "code",
   "execution_count": 21,
   "id": "07628a31-b88b-4692-92ca-2aec93f36173",
   "metadata": {},
   "outputs": [
    {
     "name": "stdout",
     "output_type": "stream",
     "text": [
      "SurfaceLifts [22, 49, 118, 203, 274, 371]\n",
      "32.0\n",
      "8.0\n",
      "9.0\n",
      "2.0\n",
      "18.0\n",
      "62.0\n",
      "GondolaLifts [104, 125, 188, 200, 207, 249, 297]\n",
      "10.0\n",
      "0.0\n",
      "0.0\n",
      "0.0\n",
      "0.0\n",
      "0.0\n",
      "4.0\n"
     ]
    },
    {
     "name": "stderr",
     "output_type": "stream",
     "text": [
      "C:\\Users\\kfeld\\AppData\\Local\\Temp/ipykernel_772/3519041251.py:11: SettingWithCopyWarning:\n",
      "\n",
      "\n",
      "A value is trying to be set on a copy of a slice from a DataFrame\n",
      "\n",
      "See the caveats in the documentation: https://pandas.pydata.org/pandas-docs/stable/user_guide/indexing.html#returning-a-view-versus-a-copy\n",
      "\n",
      "C:\\Users\\kfeld\\AppData\\Local\\Temp/ipykernel_772/3519041251.py:23: SettingWithCopyWarning:\n",
      "\n",
      "\n",
      "A value is trying to be set on a copy of a slice from a DataFrame\n",
      "\n",
      "See the caveats in the documentation: https://pandas.pydata.org/pandas-docs/stable/user_guide/indexing.html#returning-a-view-versus-a-copy\n",
      "\n"
     ]
    }
   ],
   "source": [
    "# your code\n",
    "\n",
    "if df_imp['SurfaceLifts'].isna().sum()>0:\n",
    "        # count_int+=1\n",
    "        # print(col)\n",
    "        res_SL = [i for i, val in enumerate(df_imp['SurfaceLifts'].isna().tolist()) if val]\n",
    "        print('SurfaceLifts', str(res_SL))\n",
    "\n",
    "# SurfaceLifts = TotalLifts - (GondolaLifts + ChairLifts)\n",
    "for row in res_SL:\n",
    "        df_imp['SurfaceLifts'][row] = df_imp['TotalLifts'][row]-(df_imp['GondolaLifts'][row]+df_imp['ChairLifts'][row])\n",
    "        print(df_imp['SurfaceLifts'][row])\n",
    "\n",
    "# impute GondolaLifts\n",
    "if df_imp['GondolaLifts'].isna().sum()>0:\n",
    "        # count_int+=1\n",
    "        # print(col)\n",
    "        res_GL = [i for i, val in enumerate(df_imp['GondolaLifts'].isna().tolist()) if val]\n",
    "        print('GondolaLifts', str(res_GL))\n",
    "\n",
    "# GondolaLifts = TotalLifts - (SurfaceLifts + ChairLifts)\n",
    "for row in res_GL:\n",
    "        df_imp['GondolaLifts'][row] = df_imp['TotalLifts'][row]-(df_imp['SurfaceLifts'][row]+df_imp['ChairLifts'][row])\n",
    "        print(df_imp['GondolaLifts'][row])\n",
    "\n",
    "\n"
   ]
  },
  {
   "cell_type": "markdown",
   "id": "8a15869a-3c62-4363-9248-012b1ae373d0",
   "metadata": {
    "tags": []
   },
   "source": [
    "#### **b(iv)**\n",
    "Impute the rest of the missing values using the knn-imputation method. To this end, apply the following steps:\n",
    "1. Create a working copy `df_tmp` of your updated `df`.\n",
    "2. For simplicity, drop the non-numerical columns (i.e., not of types integer or floats), which also inlcude the one-hot encoded and the boolean columns* you created earlier.\n",
    "3. Normalize the data in `df_tmp` (e.g., Standard score normalization). If the features have very different scales, knn can become very biased.\n",
    "4. Impute the missing values considering six neighbors.\n",
    "5. Invert the transformation applied upfront to enable more meaningful and intuitive visualizations.\n",
    "6. Append the columns you dropped in step 2.\n",
    " \n",
    "In the end, `df` should not contain missing values and have all the columns.\n",
    "\n",
    "\\*Note that by dropping the columns we lose the information of countries and the two boolean attributes (\"Snowparks\" and \"NightSki\") when imputing the missing values, which might be crucial for inferencing values such as the price for a ski pass. In practice, one should try to find if there are correlations before deciding whether to drop the columns or not.\n",
    "We drop the columns here to make the following steps easier because we only have to deal with numerical columns.\n",
    "\n",
    "*Hint: Be careful with the indices of your dataframes.*\n"
   ]
  },
  {
   "cell_type": "code",
   "execution_count": 22,
   "id": "e1dc58ba-2699-4826-9dda-f0c5c135f32e",
   "metadata": {
    "tags": []
   },
   "outputs": [
    {
     "data": {
      "text/html": [
       "<div>\n",
       "<style scoped>\n",
       "    .dataframe tbody tr th:only-of-type {\n",
       "        vertical-align: middle;\n",
       "    }\n",
       "\n",
       "    .dataframe tbody tr th {\n",
       "        vertical-align: top;\n",
       "    }\n",
       "\n",
       "    .dataframe thead th {\n",
       "        text-align: right;\n",
       "    }\n",
       "</style>\n",
       "<table border=\"1\" class=\"dataframe\">\n",
       "  <thead>\n",
       "    <tr style=\"text-align: right;\">\n",
       "      <th></th>\n",
       "      <th>BeginnerSlope</th>\n",
       "      <th>IntermediateSlope</th>\n",
       "      <th>DifficultSlope</th>\n",
       "      <th>TotalSlope</th>\n",
       "      <th>Snowparks</th>\n",
       "      <th>NightSki</th>\n",
       "      <th>SurfaceLifts</th>\n",
       "      <th>ChairLifts</th>\n",
       "      <th>GondolaLifts</th>\n",
       "      <th>TotalLifts</th>\n",
       "      <th>...</th>\n",
       "      <th>LiftCapacity_(150000,300000]</th>\n",
       "      <th>LiftCapacity_(50000,100000]</th>\n",
       "      <th>LiftCapacity_[0,15000]</th>\n",
       "      <th>LiftCapacity_nan</th>\n",
       "      <th>SnowCannons_[0,49]</th>\n",
       "      <th>SnowCannons_[1000,1699]</th>\n",
       "      <th>SnowCannons_[1700,2400]</th>\n",
       "      <th>SnowCannons_[400,999]</th>\n",
       "      <th>SnowCannons_[50,399]</th>\n",
       "      <th>SnowCannons_nan</th>\n",
       "    </tr>\n",
       "  </thead>\n",
       "  <tbody>\n",
       "    <tr>\n",
       "      <th>1</th>\n",
       "      <td>30.0</td>\n",
       "      <td>81</td>\n",
       "      <td>4.0</td>\n",
       "      <td>115</td>\n",
       "      <td>True</td>\n",
       "      <td>True</td>\n",
       "      <td>22.0</td>\n",
       "      <td>16</td>\n",
       "      <td>11.0</td>\n",
       "      <td>49</td>\n",
       "      <td>...</td>\n",
       "      <td>0.0</td>\n",
       "      <td>1.0</td>\n",
       "      <td>0.0</td>\n",
       "      <td>0.0</td>\n",
       "      <td>0.0</td>\n",
       "      <td>0.0</td>\n",
       "      <td>0.0</td>\n",
       "      <td>1.0</td>\n",
       "      <td>0.0</td>\n",
       "      <td>0.0</td>\n",
       "    </tr>\n",
       "    <tr>\n",
       "      <th>2</th>\n",
       "      <td>100.0</td>\n",
       "      <td>77</td>\n",
       "      <td>33.0</td>\n",
       "      <td>210</td>\n",
       "      <td>True</td>\n",
       "      <td>True</td>\n",
       "      <td>37.0</td>\n",
       "      <td>28</td>\n",
       "      <td>7.0</td>\n",
       "      <td>72</td>\n",
       "      <td>...</td>\n",
       "      <td>0.0</td>\n",
       "      <td>1.0</td>\n",
       "      <td>0.0</td>\n",
       "      <td>0.0</td>\n",
       "      <td>0.0</td>\n",
       "      <td>1.0</td>\n",
       "      <td>0.0</td>\n",
       "      <td>0.0</td>\n",
       "      <td>0.0</td>\n",
       "      <td>0.0</td>\n",
       "    </tr>\n",
       "    <tr>\n",
       "      <th>3</th>\n",
       "      <td>1.0</td>\n",
       "      <td>0</td>\n",
       "      <td>1.0</td>\n",
       "      <td>2</td>\n",
       "      <td>True</td>\n",
       "      <td>True</td>\n",
       "      <td>2.0</td>\n",
       "      <td>0</td>\n",
       "      <td>0.0</td>\n",
       "      <td>2</td>\n",
       "      <td>...</td>\n",
       "      <td>0.0</td>\n",
       "      <td>0.0</td>\n",
       "      <td>1.0</td>\n",
       "      <td>0.0</td>\n",
       "      <td>0.0</td>\n",
       "      <td>0.0</td>\n",
       "      <td>0.0</td>\n",
       "      <td>0.0</td>\n",
       "      <td>0.0</td>\n",
       "      <td>1.0</td>\n",
       "    </tr>\n",
       "    <tr>\n",
       "      <th>4</th>\n",
       "      <td>15.0</td>\n",
       "      <td>33</td>\n",
       "      <td>3.0</td>\n",
       "      <td>51</td>\n",
       "      <td>True</td>\n",
       "      <td>True</td>\n",
       "      <td>25.0</td>\n",
       "      <td>8</td>\n",
       "      <td>3.0</td>\n",
       "      <td>36</td>\n",
       "      <td>...</td>\n",
       "      <td>0.0</td>\n",
       "      <td>0.0</td>\n",
       "      <td>0.0</td>\n",
       "      <td>0.0</td>\n",
       "      <td>0.0</td>\n",
       "      <td>0.0</td>\n",
       "      <td>0.0</td>\n",
       "      <td>0.0</td>\n",
       "      <td>1.0</td>\n",
       "      <td>0.0</td>\n",
       "    </tr>\n",
       "    <tr>\n",
       "      <th>5</th>\n",
       "      <td>30.0</td>\n",
       "      <td>26</td>\n",
       "      <td>21.0</td>\n",
       "      <td>77</td>\n",
       "      <td>True</td>\n",
       "      <td>True</td>\n",
       "      <td>6.0</td>\n",
       "      <td>11</td>\n",
       "      <td>10.0</td>\n",
       "      <td>27</td>\n",
       "      <td>...</td>\n",
       "      <td>0.0</td>\n",
       "      <td>0.0</td>\n",
       "      <td>0.0</td>\n",
       "      <td>0.0</td>\n",
       "      <td>0.0</td>\n",
       "      <td>0.0</td>\n",
       "      <td>0.0</td>\n",
       "      <td>1.0</td>\n",
       "      <td>0.0</td>\n",
       "      <td>0.0</td>\n",
       "    </tr>\n",
       "  </tbody>\n",
       "</table>\n",
       "<p>5 rows × 41 columns</p>\n",
       "</div>"
      ],
      "text/plain": [
       "   BeginnerSlope  IntermediateSlope  DifficultSlope  TotalSlope  Snowparks  \\\n",
       "1           30.0                 81             4.0         115       True   \n",
       "2          100.0                 77            33.0         210       True   \n",
       "3            1.0                  0             1.0           2       True   \n",
       "4           15.0                 33             3.0          51       True   \n",
       "5           30.0                 26            21.0          77       True   \n",
       "\n",
       "   NightSki  SurfaceLifts  ChairLifts  GondolaLifts  TotalLifts  ...  \\\n",
       "1      True          22.0          16          11.0          49  ...   \n",
       "2      True          37.0          28           7.0          72  ...   \n",
       "3      True           2.0           0           0.0           2  ...   \n",
       "4      True          25.0           8           3.0          36  ...   \n",
       "5      True           6.0          11          10.0          27  ...   \n",
       "\n",
       "   LiftCapacity_(150000,300000]  LiftCapacity_(50000,100000]  \\\n",
       "1                           0.0                          1.0   \n",
       "2                           0.0                          1.0   \n",
       "3                           0.0                          0.0   \n",
       "4                           0.0                          0.0   \n",
       "5                           0.0                          0.0   \n",
       "\n",
       "   LiftCapacity_[0,15000]  LiftCapacity_nan  SnowCannons_[0,49]  \\\n",
       "1                     0.0               0.0                 0.0   \n",
       "2                     0.0               0.0                 0.0   \n",
       "3                     1.0               0.0                 0.0   \n",
       "4                     0.0               0.0                 0.0   \n",
       "5                     0.0               0.0                 0.0   \n",
       "\n",
       "   SnowCannons_[1000,1699]  SnowCannons_[1700,2400]  SnowCannons_[400,999]  \\\n",
       "1                      0.0                      0.0                    1.0   \n",
       "2                      1.0                      0.0                    0.0   \n",
       "3                      0.0                      0.0                    0.0   \n",
       "4                      0.0                      0.0                    0.0   \n",
       "5                      0.0                      0.0                    1.0   \n",
       "\n",
       "   SnowCannons_[50,399]  SnowCannons_nan  \n",
       "1                   0.0              0.0  \n",
       "2                   0.0              0.0  \n",
       "3                   0.0              1.0  \n",
       "4                   1.0              0.0  \n",
       "5                   0.0              0.0  \n",
       "\n",
       "[5 rows x 41 columns]"
      ]
     },
     "execution_count": 22,
     "metadata": {},
     "output_type": "execute_result"
    }
   ],
   "source": [
    "# your code for step 1 & 2\n",
    "df_tmp = df_imp.copy()._get_numeric_data()\n",
    "df_tmp.head()"
   ]
  },
  {
   "cell_type": "code",
   "execution_count": 23,
   "id": "7600aaaf-a864-47bb-aa62-76bfd644fd53",
   "metadata": {
    "tags": []
   },
   "outputs": [
    {
     "data": {
      "text/html": [
       "<div>\n",
       "<style scoped>\n",
       "    .dataframe tbody tr th:only-of-type {\n",
       "        vertical-align: middle;\n",
       "    }\n",
       "\n",
       "    .dataframe tbody tr th {\n",
       "        vertical-align: top;\n",
       "    }\n",
       "\n",
       "    .dataframe thead th {\n",
       "        text-align: right;\n",
       "    }\n",
       "</style>\n",
       "<table border=\"1\" class=\"dataframe\">\n",
       "  <thead>\n",
       "    <tr style=\"text-align: right;\">\n",
       "      <th></th>\n",
       "      <th>BeginnerSlope</th>\n",
       "      <th>IntermediateSlope</th>\n",
       "      <th>DifficultSlope</th>\n",
       "      <th>TotalSlope</th>\n",
       "      <th>Snowparks</th>\n",
       "      <th>NightSki</th>\n",
       "      <th>SurfaceLifts</th>\n",
       "      <th>ChairLifts</th>\n",
       "      <th>GondolaLifts</th>\n",
       "      <th>TotalLifts</th>\n",
       "      <th>...</th>\n",
       "      <th>LiftCapacity_(150000,300000]</th>\n",
       "      <th>LiftCapacity_(50000,100000]</th>\n",
       "      <th>LiftCapacity_[0,15000]</th>\n",
       "      <th>LiftCapacity_nan</th>\n",
       "      <th>SnowCannons_[0,49]</th>\n",
       "      <th>SnowCannons_[1000,1699]</th>\n",
       "      <th>SnowCannons_[1700,2400]</th>\n",
       "      <th>SnowCannons_[400,999]</th>\n",
       "      <th>SnowCannons_[50,399]</th>\n",
       "      <th>SnowCannons_nan</th>\n",
       "    </tr>\n",
       "  </thead>\n",
       "  <tbody>\n",
       "    <tr>\n",
       "      <th>1</th>\n",
       "      <td>0.096154</td>\n",
       "      <td>0.338912</td>\n",
       "      <td>0.038835</td>\n",
       "      <td>0.191667</td>\n",
       "      <td>0.0</td>\n",
       "      <td>0.0</td>\n",
       "      <td>0.247191</td>\n",
       "      <td>0.216216</td>\n",
       "      <td>0.275</td>\n",
       "      <td>0.281609</td>\n",
       "      <td>...</td>\n",
       "      <td>0.0</td>\n",
       "      <td>1.0</td>\n",
       "      <td>0.0</td>\n",
       "      <td>0.0</td>\n",
       "      <td>0.0</td>\n",
       "      <td>0.0</td>\n",
       "      <td>0.0</td>\n",
       "      <td>1.0</td>\n",
       "      <td>0.0</td>\n",
       "      <td>0.0</td>\n",
       "    </tr>\n",
       "    <tr>\n",
       "      <th>2</th>\n",
       "      <td>0.320513</td>\n",
       "      <td>0.322176</td>\n",
       "      <td>0.320388</td>\n",
       "      <td>0.350000</td>\n",
       "      <td>0.0</td>\n",
       "      <td>0.0</td>\n",
       "      <td>0.415730</td>\n",
       "      <td>0.378378</td>\n",
       "      <td>0.175</td>\n",
       "      <td>0.413793</td>\n",
       "      <td>...</td>\n",
       "      <td>0.0</td>\n",
       "      <td>1.0</td>\n",
       "      <td>0.0</td>\n",
       "      <td>0.0</td>\n",
       "      <td>0.0</td>\n",
       "      <td>1.0</td>\n",
       "      <td>0.0</td>\n",
       "      <td>0.0</td>\n",
       "      <td>0.0</td>\n",
       "      <td>0.0</td>\n",
       "    </tr>\n",
       "    <tr>\n",
       "      <th>3</th>\n",
       "      <td>0.003205</td>\n",
       "      <td>0.000000</td>\n",
       "      <td>0.009709</td>\n",
       "      <td>0.003333</td>\n",
       "      <td>0.0</td>\n",
       "      <td>0.0</td>\n",
       "      <td>0.022472</td>\n",
       "      <td>0.000000</td>\n",
       "      <td>0.000</td>\n",
       "      <td>0.011494</td>\n",
       "      <td>...</td>\n",
       "      <td>0.0</td>\n",
       "      <td>0.0</td>\n",
       "      <td>1.0</td>\n",
       "      <td>0.0</td>\n",
       "      <td>0.0</td>\n",
       "      <td>0.0</td>\n",
       "      <td>0.0</td>\n",
       "      <td>0.0</td>\n",
       "      <td>0.0</td>\n",
       "      <td>1.0</td>\n",
       "    </tr>\n",
       "    <tr>\n",
       "      <th>4</th>\n",
       "      <td>0.048077</td>\n",
       "      <td>0.138075</td>\n",
       "      <td>0.029126</td>\n",
       "      <td>0.085000</td>\n",
       "      <td>0.0</td>\n",
       "      <td>0.0</td>\n",
       "      <td>0.280899</td>\n",
       "      <td>0.108108</td>\n",
       "      <td>0.075</td>\n",
       "      <td>0.206897</td>\n",
       "      <td>...</td>\n",
       "      <td>0.0</td>\n",
       "      <td>0.0</td>\n",
       "      <td>0.0</td>\n",
       "      <td>0.0</td>\n",
       "      <td>0.0</td>\n",
       "      <td>0.0</td>\n",
       "      <td>0.0</td>\n",
       "      <td>0.0</td>\n",
       "      <td>1.0</td>\n",
       "      <td>0.0</td>\n",
       "    </tr>\n",
       "    <tr>\n",
       "      <th>5</th>\n",
       "      <td>0.096154</td>\n",
       "      <td>0.108787</td>\n",
       "      <td>0.203883</td>\n",
       "      <td>0.128333</td>\n",
       "      <td>0.0</td>\n",
       "      <td>0.0</td>\n",
       "      <td>0.067416</td>\n",
       "      <td>0.148649</td>\n",
       "      <td>0.250</td>\n",
       "      <td>0.155172</td>\n",
       "      <td>...</td>\n",
       "      <td>0.0</td>\n",
       "      <td>0.0</td>\n",
       "      <td>0.0</td>\n",
       "      <td>0.0</td>\n",
       "      <td>0.0</td>\n",
       "      <td>0.0</td>\n",
       "      <td>0.0</td>\n",
       "      <td>1.0</td>\n",
       "      <td>0.0</td>\n",
       "      <td>0.0</td>\n",
       "    </tr>\n",
       "  </tbody>\n",
       "</table>\n",
       "<p>5 rows × 41 columns</p>\n",
       "</div>"
      ],
      "text/plain": [
       "   BeginnerSlope  IntermediateSlope  DifficultSlope  TotalSlope  Snowparks  \\\n",
       "1       0.096154           0.338912        0.038835    0.191667        0.0   \n",
       "2       0.320513           0.322176        0.320388    0.350000        0.0   \n",
       "3       0.003205           0.000000        0.009709    0.003333        0.0   \n",
       "4       0.048077           0.138075        0.029126    0.085000        0.0   \n",
       "5       0.096154           0.108787        0.203883    0.128333        0.0   \n",
       "\n",
       "   NightSki  SurfaceLifts  ChairLifts  GondolaLifts  TotalLifts  ...  \\\n",
       "1       0.0      0.247191    0.216216         0.275    0.281609  ...   \n",
       "2       0.0      0.415730    0.378378         0.175    0.413793  ...   \n",
       "3       0.0      0.022472    0.000000         0.000    0.011494  ...   \n",
       "4       0.0      0.280899    0.108108         0.075    0.206897  ...   \n",
       "5       0.0      0.067416    0.148649         0.250    0.155172  ...   \n",
       "\n",
       "   LiftCapacity_(150000,300000]  LiftCapacity_(50000,100000]  \\\n",
       "1                           0.0                          1.0   \n",
       "2                           0.0                          1.0   \n",
       "3                           0.0                          0.0   \n",
       "4                           0.0                          0.0   \n",
       "5                           0.0                          0.0   \n",
       "\n",
       "   LiftCapacity_[0,15000]  LiftCapacity_nan  SnowCannons_[0,49]  \\\n",
       "1                     0.0               0.0                 0.0   \n",
       "2                     0.0               0.0                 0.0   \n",
       "3                     1.0               0.0                 0.0   \n",
       "4                     0.0               0.0                 0.0   \n",
       "5                     0.0               0.0                 0.0   \n",
       "\n",
       "   SnowCannons_[1000,1699]  SnowCannons_[1700,2400]  SnowCannons_[400,999]  \\\n",
       "1                      0.0                      0.0                    1.0   \n",
       "2                      1.0                      0.0                    0.0   \n",
       "3                      0.0                      0.0                    0.0   \n",
       "4                      0.0                      0.0                    0.0   \n",
       "5                      0.0                      0.0                    1.0   \n",
       "\n",
       "   SnowCannons_[50,399]  SnowCannons_nan  \n",
       "1                   0.0              0.0  \n",
       "2                   0.0              0.0  \n",
       "3                   0.0              1.0  \n",
       "4                   1.0              0.0  \n",
       "5                   0.0              0.0  \n",
       "\n",
       "[5 rows x 41 columns]"
      ]
     },
     "execution_count": 23,
     "metadata": {},
     "output_type": "execute_result"
    }
   ],
   "source": [
    "# your code for step 3\n",
    "# we will use Min Max Normailsation:\n",
    "scaler = MinMaxScaler()\n",
    "scaled = scaler.fit_transform(df_tmp)\n",
    "scaled_df = pd.DataFrame(scaled, columns=df_tmp.columns, index=df_tmp.index)\n",
    "scaled_df.head()"
   ]
  },
  {
   "cell_type": "code",
   "execution_count": 24,
   "id": "1ce24019-3dba-438d-a7ea-dcc3244bbc53",
   "metadata": {
    "tags": []
   },
   "outputs": [
    {
     "data": {
      "text/html": [
       "<div>\n",
       "<style scoped>\n",
       "    .dataframe tbody tr th:only-of-type {\n",
       "        vertical-align: middle;\n",
       "    }\n",
       "\n",
       "    .dataframe tbody tr th {\n",
       "        vertical-align: top;\n",
       "    }\n",
       "\n",
       "    .dataframe thead th {\n",
       "        text-align: right;\n",
       "    }\n",
       "</style>\n",
       "<table border=\"1\" class=\"dataframe\">\n",
       "  <thead>\n",
       "    <tr style=\"text-align: right;\">\n",
       "      <th></th>\n",
       "      <th>BeginnerSlope</th>\n",
       "      <th>IntermediateSlope</th>\n",
       "      <th>DifficultSlope</th>\n",
       "      <th>TotalSlope</th>\n",
       "      <th>Snowparks</th>\n",
       "      <th>NightSki</th>\n",
       "      <th>SurfaceLifts</th>\n",
       "      <th>ChairLifts</th>\n",
       "      <th>GondolaLifts</th>\n",
       "      <th>TotalLifts</th>\n",
       "      <th>...</th>\n",
       "      <th>LiftCapacity_(150000,300000]</th>\n",
       "      <th>LiftCapacity_(50000,100000]</th>\n",
       "      <th>LiftCapacity_[0,15000]</th>\n",
       "      <th>LiftCapacity_nan</th>\n",
       "      <th>SnowCannons_[0,49]</th>\n",
       "      <th>SnowCannons_[1000,1699]</th>\n",
       "      <th>SnowCannons_[1700,2400]</th>\n",
       "      <th>SnowCannons_[400,999]</th>\n",
       "      <th>SnowCannons_[50,399]</th>\n",
       "      <th>SnowCannons_nan</th>\n",
       "    </tr>\n",
       "  </thead>\n",
       "  <tbody>\n",
       "    <tr>\n",
       "      <th>1</th>\n",
       "      <td>0.096154</td>\n",
       "      <td>0.338912</td>\n",
       "      <td>0.038835</td>\n",
       "      <td>0.191667</td>\n",
       "      <td>0.0</td>\n",
       "      <td>0.0</td>\n",
       "      <td>0.247191</td>\n",
       "      <td>0.216216</td>\n",
       "      <td>0.275</td>\n",
       "      <td>0.281609</td>\n",
       "      <td>...</td>\n",
       "      <td>0.0</td>\n",
       "      <td>1.0</td>\n",
       "      <td>0.0</td>\n",
       "      <td>0.0</td>\n",
       "      <td>0.0</td>\n",
       "      <td>0.0</td>\n",
       "      <td>0.0</td>\n",
       "      <td>1.0</td>\n",
       "      <td>0.0</td>\n",
       "      <td>0.0</td>\n",
       "    </tr>\n",
       "    <tr>\n",
       "      <th>2</th>\n",
       "      <td>0.320513</td>\n",
       "      <td>0.322176</td>\n",
       "      <td>0.320388</td>\n",
       "      <td>0.350000</td>\n",
       "      <td>0.0</td>\n",
       "      <td>0.0</td>\n",
       "      <td>0.415730</td>\n",
       "      <td>0.378378</td>\n",
       "      <td>0.175</td>\n",
       "      <td>0.413793</td>\n",
       "      <td>...</td>\n",
       "      <td>0.0</td>\n",
       "      <td>1.0</td>\n",
       "      <td>0.0</td>\n",
       "      <td>0.0</td>\n",
       "      <td>0.0</td>\n",
       "      <td>1.0</td>\n",
       "      <td>0.0</td>\n",
       "      <td>0.0</td>\n",
       "      <td>0.0</td>\n",
       "      <td>0.0</td>\n",
       "    </tr>\n",
       "    <tr>\n",
       "      <th>3</th>\n",
       "      <td>0.003205</td>\n",
       "      <td>0.000000</td>\n",
       "      <td>0.009709</td>\n",
       "      <td>0.003333</td>\n",
       "      <td>0.0</td>\n",
       "      <td>0.0</td>\n",
       "      <td>0.022472</td>\n",
       "      <td>0.000000</td>\n",
       "      <td>0.000</td>\n",
       "      <td>0.011494</td>\n",
       "      <td>...</td>\n",
       "      <td>0.0</td>\n",
       "      <td>0.0</td>\n",
       "      <td>1.0</td>\n",
       "      <td>0.0</td>\n",
       "      <td>0.0</td>\n",
       "      <td>0.0</td>\n",
       "      <td>0.0</td>\n",
       "      <td>0.0</td>\n",
       "      <td>0.0</td>\n",
       "      <td>1.0</td>\n",
       "    </tr>\n",
       "    <tr>\n",
       "      <th>4</th>\n",
       "      <td>0.048077</td>\n",
       "      <td>0.138075</td>\n",
       "      <td>0.029126</td>\n",
       "      <td>0.085000</td>\n",
       "      <td>0.0</td>\n",
       "      <td>0.0</td>\n",
       "      <td>0.280899</td>\n",
       "      <td>0.108108</td>\n",
       "      <td>0.075</td>\n",
       "      <td>0.206897</td>\n",
       "      <td>...</td>\n",
       "      <td>0.0</td>\n",
       "      <td>0.0</td>\n",
       "      <td>0.0</td>\n",
       "      <td>0.0</td>\n",
       "      <td>0.0</td>\n",
       "      <td>0.0</td>\n",
       "      <td>0.0</td>\n",
       "      <td>0.0</td>\n",
       "      <td>1.0</td>\n",
       "      <td>0.0</td>\n",
       "    </tr>\n",
       "    <tr>\n",
       "      <th>5</th>\n",
       "      <td>0.096154</td>\n",
       "      <td>0.108787</td>\n",
       "      <td>0.203883</td>\n",
       "      <td>0.128333</td>\n",
       "      <td>0.0</td>\n",
       "      <td>0.0</td>\n",
       "      <td>0.067416</td>\n",
       "      <td>0.148649</td>\n",
       "      <td>0.250</td>\n",
       "      <td>0.155172</td>\n",
       "      <td>...</td>\n",
       "      <td>0.0</td>\n",
       "      <td>0.0</td>\n",
       "      <td>0.0</td>\n",
       "      <td>0.0</td>\n",
       "      <td>0.0</td>\n",
       "      <td>0.0</td>\n",
       "      <td>0.0</td>\n",
       "      <td>1.0</td>\n",
       "      <td>0.0</td>\n",
       "      <td>0.0</td>\n",
       "    </tr>\n",
       "  </tbody>\n",
       "</table>\n",
       "<p>5 rows × 41 columns</p>\n",
       "</div>"
      ],
      "text/plain": [
       "   BeginnerSlope  IntermediateSlope  DifficultSlope  TotalSlope  Snowparks  \\\n",
       "1       0.096154           0.338912        0.038835    0.191667        0.0   \n",
       "2       0.320513           0.322176        0.320388    0.350000        0.0   \n",
       "3       0.003205           0.000000        0.009709    0.003333        0.0   \n",
       "4       0.048077           0.138075        0.029126    0.085000        0.0   \n",
       "5       0.096154           0.108787        0.203883    0.128333        0.0   \n",
       "\n",
       "   NightSki  SurfaceLifts  ChairLifts  GondolaLifts  TotalLifts  ...  \\\n",
       "1       0.0      0.247191    0.216216         0.275    0.281609  ...   \n",
       "2       0.0      0.415730    0.378378         0.175    0.413793  ...   \n",
       "3       0.0      0.022472    0.000000         0.000    0.011494  ...   \n",
       "4       0.0      0.280899    0.108108         0.075    0.206897  ...   \n",
       "5       0.0      0.067416    0.148649         0.250    0.155172  ...   \n",
       "\n",
       "   LiftCapacity_(150000,300000]  LiftCapacity_(50000,100000]  \\\n",
       "1                           0.0                          1.0   \n",
       "2                           0.0                          1.0   \n",
       "3                           0.0                          0.0   \n",
       "4                           0.0                          0.0   \n",
       "5                           0.0                          0.0   \n",
       "\n",
       "   LiftCapacity_[0,15000]  LiftCapacity_nan  SnowCannons_[0,49]  \\\n",
       "1                     0.0               0.0                 0.0   \n",
       "2                     0.0               0.0                 0.0   \n",
       "3                     1.0               0.0                 0.0   \n",
       "4                     0.0               0.0                 0.0   \n",
       "5                     0.0               0.0                 0.0   \n",
       "\n",
       "   SnowCannons_[1000,1699]  SnowCannons_[1700,2400]  SnowCannons_[400,999]  \\\n",
       "1                      0.0                      0.0                    1.0   \n",
       "2                      1.0                      0.0                    0.0   \n",
       "3                      0.0                      0.0                    0.0   \n",
       "4                      0.0                      0.0                    0.0   \n",
       "5                      0.0                      0.0                    1.0   \n",
       "\n",
       "   SnowCannons_[50,399]  SnowCannons_nan  \n",
       "1                   0.0              0.0  \n",
       "2                   0.0              0.0  \n",
       "3                   0.0              1.0  \n",
       "4                   1.0              0.0  \n",
       "5                   0.0              0.0  \n",
       "\n",
       "[5 rows x 41 columns]"
      ]
     },
     "execution_count": 24,
     "metadata": {},
     "output_type": "execute_result"
    }
   ],
   "source": [
    "# your code for step 4\n",
    "imputer = KNNImputer(n_neighbors=6)\n",
    "df_imp_scaled = pd.DataFrame(imputer.fit_transform(scaled_df), columns=scaled_df.columns, index=scaled_df.index)\n",
    "df_imp_scaled.head()"
   ]
  },
  {
   "cell_type": "code",
   "execution_count": 25,
   "id": "42034302-c720-4f4d-9512-10bfa9842d70",
   "metadata": {
    "tags": []
   },
   "outputs": [
    {
     "data": {
      "text/html": [
       "<div>\n",
       "<style scoped>\n",
       "    .dataframe tbody tr th:only-of-type {\n",
       "        vertical-align: middle;\n",
       "    }\n",
       "\n",
       "    .dataframe tbody tr th {\n",
       "        vertical-align: top;\n",
       "    }\n",
       "\n",
       "    .dataframe thead th {\n",
       "        text-align: right;\n",
       "    }\n",
       "</style>\n",
       "<table border=\"1\" class=\"dataframe\">\n",
       "  <thead>\n",
       "    <tr style=\"text-align: right;\">\n",
       "      <th></th>\n",
       "      <th>BeginnerSlope</th>\n",
       "      <th>IntermediateSlope</th>\n",
       "      <th>DifficultSlope</th>\n",
       "      <th>TotalSlope</th>\n",
       "      <th>Snowparks</th>\n",
       "      <th>NightSki</th>\n",
       "      <th>SurfaceLifts</th>\n",
       "      <th>ChairLifts</th>\n",
       "      <th>GondolaLifts</th>\n",
       "      <th>TotalLifts</th>\n",
       "      <th>...</th>\n",
       "      <th>LiftCapacity_(150000,300000]</th>\n",
       "      <th>LiftCapacity_(50000,100000]</th>\n",
       "      <th>LiftCapacity_[0,15000]</th>\n",
       "      <th>LiftCapacity_nan</th>\n",
       "      <th>SnowCannons_[0,49]</th>\n",
       "      <th>SnowCannons_[1000,1699]</th>\n",
       "      <th>SnowCannons_[1700,2400]</th>\n",
       "      <th>SnowCannons_[400,999]</th>\n",
       "      <th>SnowCannons_[50,399]</th>\n",
       "      <th>SnowCannons_nan</th>\n",
       "    </tr>\n",
       "  </thead>\n",
       "  <tbody>\n",
       "    <tr>\n",
       "      <th>1</th>\n",
       "      <td>30.0</td>\n",
       "      <td>81.0</td>\n",
       "      <td>4.0</td>\n",
       "      <td>115.0</td>\n",
       "      <td>1.0</td>\n",
       "      <td>1.0</td>\n",
       "      <td>22.0</td>\n",
       "      <td>16.0</td>\n",
       "      <td>11.0</td>\n",
       "      <td>49.0</td>\n",
       "      <td>...</td>\n",
       "      <td>0.0</td>\n",
       "      <td>1.0</td>\n",
       "      <td>0.0</td>\n",
       "      <td>0.0</td>\n",
       "      <td>0.0</td>\n",
       "      <td>0.0</td>\n",
       "      <td>0.0</td>\n",
       "      <td>1.0</td>\n",
       "      <td>0.0</td>\n",
       "      <td>0.0</td>\n",
       "    </tr>\n",
       "    <tr>\n",
       "      <th>2</th>\n",
       "      <td>100.0</td>\n",
       "      <td>77.0</td>\n",
       "      <td>33.0</td>\n",
       "      <td>210.0</td>\n",
       "      <td>1.0</td>\n",
       "      <td>1.0</td>\n",
       "      <td>37.0</td>\n",
       "      <td>28.0</td>\n",
       "      <td>7.0</td>\n",
       "      <td>72.0</td>\n",
       "      <td>...</td>\n",
       "      <td>0.0</td>\n",
       "      <td>1.0</td>\n",
       "      <td>0.0</td>\n",
       "      <td>0.0</td>\n",
       "      <td>0.0</td>\n",
       "      <td>1.0</td>\n",
       "      <td>0.0</td>\n",
       "      <td>0.0</td>\n",
       "      <td>0.0</td>\n",
       "      <td>0.0</td>\n",
       "    </tr>\n",
       "    <tr>\n",
       "      <th>3</th>\n",
       "      <td>1.0</td>\n",
       "      <td>0.0</td>\n",
       "      <td>1.0</td>\n",
       "      <td>2.0</td>\n",
       "      <td>1.0</td>\n",
       "      <td>1.0</td>\n",
       "      <td>2.0</td>\n",
       "      <td>0.0</td>\n",
       "      <td>0.0</td>\n",
       "      <td>2.0</td>\n",
       "      <td>...</td>\n",
       "      <td>0.0</td>\n",
       "      <td>0.0</td>\n",
       "      <td>1.0</td>\n",
       "      <td>0.0</td>\n",
       "      <td>0.0</td>\n",
       "      <td>0.0</td>\n",
       "      <td>0.0</td>\n",
       "      <td>0.0</td>\n",
       "      <td>0.0</td>\n",
       "      <td>1.0</td>\n",
       "    </tr>\n",
       "    <tr>\n",
       "      <th>4</th>\n",
       "      <td>15.0</td>\n",
       "      <td>33.0</td>\n",
       "      <td>3.0</td>\n",
       "      <td>51.0</td>\n",
       "      <td>1.0</td>\n",
       "      <td>1.0</td>\n",
       "      <td>25.0</td>\n",
       "      <td>8.0</td>\n",
       "      <td>3.0</td>\n",
       "      <td>36.0</td>\n",
       "      <td>...</td>\n",
       "      <td>0.0</td>\n",
       "      <td>0.0</td>\n",
       "      <td>0.0</td>\n",
       "      <td>0.0</td>\n",
       "      <td>0.0</td>\n",
       "      <td>0.0</td>\n",
       "      <td>0.0</td>\n",
       "      <td>0.0</td>\n",
       "      <td>1.0</td>\n",
       "      <td>0.0</td>\n",
       "    </tr>\n",
       "    <tr>\n",
       "      <th>5</th>\n",
       "      <td>30.0</td>\n",
       "      <td>26.0</td>\n",
       "      <td>21.0</td>\n",
       "      <td>77.0</td>\n",
       "      <td>1.0</td>\n",
       "      <td>1.0</td>\n",
       "      <td>6.0</td>\n",
       "      <td>11.0</td>\n",
       "      <td>10.0</td>\n",
       "      <td>27.0</td>\n",
       "      <td>...</td>\n",
       "      <td>0.0</td>\n",
       "      <td>0.0</td>\n",
       "      <td>0.0</td>\n",
       "      <td>0.0</td>\n",
       "      <td>0.0</td>\n",
       "      <td>0.0</td>\n",
       "      <td>0.0</td>\n",
       "      <td>1.0</td>\n",
       "      <td>0.0</td>\n",
       "      <td>0.0</td>\n",
       "    </tr>\n",
       "  </tbody>\n",
       "</table>\n",
       "<p>5 rows × 41 columns</p>\n",
       "</div>"
      ],
      "text/plain": [
       "   BeginnerSlope  IntermediateSlope  DifficultSlope  TotalSlope  Snowparks  \\\n",
       "1           30.0               81.0             4.0       115.0        1.0   \n",
       "2          100.0               77.0            33.0       210.0        1.0   \n",
       "3            1.0                0.0             1.0         2.0        1.0   \n",
       "4           15.0               33.0             3.0        51.0        1.0   \n",
       "5           30.0               26.0            21.0        77.0        1.0   \n",
       "\n",
       "   NightSki  SurfaceLifts  ChairLifts  GondolaLifts  TotalLifts  ...  \\\n",
       "1       1.0          22.0        16.0          11.0        49.0  ...   \n",
       "2       1.0          37.0        28.0           7.0        72.0  ...   \n",
       "3       1.0           2.0         0.0           0.0         2.0  ...   \n",
       "4       1.0          25.0         8.0           3.0        36.0  ...   \n",
       "5       1.0           6.0        11.0          10.0        27.0  ...   \n",
       "\n",
       "   LiftCapacity_(150000,300000]  LiftCapacity_(50000,100000]  \\\n",
       "1                           0.0                          1.0   \n",
       "2                           0.0                          1.0   \n",
       "3                           0.0                          0.0   \n",
       "4                           0.0                          0.0   \n",
       "5                           0.0                          0.0   \n",
       "\n",
       "   LiftCapacity_[0,15000]  LiftCapacity_nan  SnowCannons_[0,49]  \\\n",
       "1                     0.0               0.0                 0.0   \n",
       "2                     0.0               0.0                 0.0   \n",
       "3                     1.0               0.0                 0.0   \n",
       "4                     0.0               0.0                 0.0   \n",
       "5                     0.0               0.0                 0.0   \n",
       "\n",
       "   SnowCannons_[1000,1699]  SnowCannons_[1700,2400]  SnowCannons_[400,999]  \\\n",
       "1                      0.0                      0.0                    1.0   \n",
       "2                      1.0                      0.0                    0.0   \n",
       "3                      0.0                      0.0                    0.0   \n",
       "4                      0.0                      0.0                    0.0   \n",
       "5                      0.0                      0.0                    1.0   \n",
       "\n",
       "   SnowCannons_[50,399]  SnowCannons_nan  \n",
       "1                   0.0              0.0  \n",
       "2                   0.0              0.0  \n",
       "3                   0.0              1.0  \n",
       "4                   1.0              0.0  \n",
       "5                   0.0              0.0  \n",
       "\n",
       "[5 rows x 41 columns]"
      ]
     },
     "execution_count": 25,
     "metadata": {},
     "output_type": "execute_result"
    }
   ],
   "source": [
    "# your code for step 5\n",
    "df_imputed = pd.DataFrame(scaler.inverse_transform(df_imp_scaled), columns=df_imp_scaled.columns, index=df_imp_scaled.index)\n",
    "df_imputed.head()"
   ]
  },
  {
   "cell_type": "code",
   "execution_count": 26,
   "id": "af46c8b0",
   "metadata": {},
   "outputs": [
    {
     "data": {
      "text/plain": [
       "['BeginnerSlope',\n",
       " 'IntermediateSlope',\n",
       " 'DifficultSlope',\n",
       " 'TotalSlope',\n",
       " 'Snowparks',\n",
       " 'NightSki',\n",
       " 'SurfaceLifts',\n",
       " 'ChairLifts',\n",
       " 'GondolaLifts',\n",
       " 'TotalLifts',\n",
       " 'DayPassPriceAdult_cheap',\n",
       " 'DayPassPriceAdult_expensive',\n",
       " 'DayPassPriceAdult_medium',\n",
       " 'DayPassPriceAdult_nan',\n",
       " 'HighestPoint_(1000,1500]',\n",
       " 'HighestPoint_(1500,2000]',\n",
       " 'HighestPoint_(2000,2500]',\n",
       " 'HighestPoint_(2500,3000]',\n",
       " 'HighestPoint_(3000,3500]',\n",
       " 'HighestPoint_(3500,4000]',\n",
       " 'HighestPoint_(500,1000]',\n",
       " 'HighestPoint_[0,500]',\n",
       " 'HighestPoint_nan',\n",
       " 'LowestPoint_(1000,1500]',\n",
       " 'LowestPoint_(1500,2000]',\n",
       " 'LowestPoint_(2000,2500]',\n",
       " 'LowestPoint_(500,1000]',\n",
       " 'LowestPoint_[0,500]',\n",
       " 'LowestPoint_nan',\n",
       " 'LiftCapacity_(100000,150000]',\n",
       " 'LiftCapacity_(1500,50000]',\n",
       " 'LiftCapacity_(150000,300000]',\n",
       " 'LiftCapacity_(50000,100000]',\n",
       " 'LiftCapacity_[0,15000]',\n",
       " 'LiftCapacity_nan',\n",
       " 'SnowCannons_[0,49]',\n",
       " 'SnowCannons_[1000,1699]',\n",
       " 'SnowCannons_[1700,2400]',\n",
       " 'SnowCannons_[400,999]',\n",
       " 'SnowCannons_[50,399]',\n",
       " 'SnowCannons_nan']"
      ]
     },
     "execution_count": 26,
     "metadata": {},
     "output_type": "execute_result"
    }
   ],
   "source": [
    "df_imputed.columns.tolist()"
   ]
  },
  {
   "cell_type": "code",
   "execution_count": 27,
   "id": "6de8f607-4016-4a8c-966e-0bcd3ee086b9",
   "metadata": {
    "tags": []
   },
   "outputs": [
    {
     "data": {
      "text/html": [
       "<div>\n",
       "<style scoped>\n",
       "    .dataframe tbody tr th:only-of-type {\n",
       "        vertical-align: middle;\n",
       "    }\n",
       "\n",
       "    .dataframe tbody tr th {\n",
       "        vertical-align: top;\n",
       "    }\n",
       "\n",
       "    .dataframe thead th {\n",
       "        text-align: right;\n",
       "    }\n",
       "</style>\n",
       "<table border=\"1\" class=\"dataframe\">\n",
       "  <thead>\n",
       "    <tr style=\"text-align: right;\">\n",
       "      <th></th>\n",
       "      <th>BeginnerSlope</th>\n",
       "      <th>IntermediateSlope</th>\n",
       "      <th>DifficultSlope</th>\n",
       "      <th>TotalSlope</th>\n",
       "      <th>Snowparks</th>\n",
       "      <th>NightSki</th>\n",
       "      <th>SurfaceLifts</th>\n",
       "      <th>ChairLifts</th>\n",
       "      <th>GondolaLifts</th>\n",
       "      <th>TotalLifts</th>\n",
       "      <th>...</th>\n",
       "      <th>SnowCannons_nan</th>\n",
       "      <th>Resort</th>\n",
       "      <th>Country</th>\n",
       "      <th>Snowparks</th>\n",
       "      <th>NightSki</th>\n",
       "      <th>DayPassPriceAdult</th>\n",
       "      <th>HighestPoint</th>\n",
       "      <th>LowestPoint</th>\n",
       "      <th>LiftCapacity</th>\n",
       "      <th>SnowCannons</th>\n",
       "    </tr>\n",
       "  </thead>\n",
       "  <tbody>\n",
       "    <tr>\n",
       "      <th>1</th>\n",
       "      <td>30.0</td>\n",
       "      <td>81.0</td>\n",
       "      <td>4.0</td>\n",
       "      <td>115.0</td>\n",
       "      <td>1.0</td>\n",
       "      <td>1.0</td>\n",
       "      <td>22.0</td>\n",
       "      <td>16.0</td>\n",
       "      <td>11.0</td>\n",
       "      <td>49.0</td>\n",
       "      <td>...</td>\n",
       "      <td>0.0</td>\n",
       "      <td>Alpendorf (Ski amedé)</td>\n",
       "      <td>Austria</td>\n",
       "      <td>Yes</td>\n",
       "      <td>No</td>\n",
       "      <td>medium</td>\n",
       "      <td>(1500,2000]</td>\n",
       "      <td>(500,1000]</td>\n",
       "      <td>(50000,100000]</td>\n",
       "      <td>[400,999]</td>\n",
       "    </tr>\n",
       "    <tr>\n",
       "      <th>2</th>\n",
       "      <td>100.0</td>\n",
       "      <td>77.0</td>\n",
       "      <td>33.0</td>\n",
       "      <td>210.0</td>\n",
       "      <td>1.0</td>\n",
       "      <td>1.0</td>\n",
       "      <td>37.0</td>\n",
       "      <td>28.0</td>\n",
       "      <td>7.0</td>\n",
       "      <td>72.0</td>\n",
       "      <td>...</td>\n",
       "      <td>0.0</td>\n",
       "      <td>Soldeu-Pas de la Casa/​Grau Roig/​El Tarter/​C...</td>\n",
       "      <td>Andorra</td>\n",
       "      <td>Yes</td>\n",
       "      <td>Yes</td>\n",
       "      <td>medium</td>\n",
       "      <td>(2500,3000]</td>\n",
       "      <td>(1500,2000]</td>\n",
       "      <td>(50000,100000]</td>\n",
       "      <td>[1000,1699]</td>\n",
       "    </tr>\n",
       "    <tr>\n",
       "      <th>3</th>\n",
       "      <td>1.0</td>\n",
       "      <td>0.0</td>\n",
       "      <td>1.0</td>\n",
       "      <td>2.0</td>\n",
       "      <td>1.0</td>\n",
       "      <td>1.0</td>\n",
       "      <td>2.0</td>\n",
       "      <td>0.0</td>\n",
       "      <td>0.0</td>\n",
       "      <td>2.0</td>\n",
       "      <td>...</td>\n",
       "      <td>1.0</td>\n",
       "      <td>Oberau (Wildschönau)</td>\n",
       "      <td>Austria</td>\n",
       "      <td>No</td>\n",
       "      <td>No</td>\n",
       "      <td>medium</td>\n",
       "      <td>(1000,1500]</td>\n",
       "      <td>(500,1000]</td>\n",
       "      <td>[0,15000]</td>\n",
       "      <td>NaN</td>\n",
       "    </tr>\n",
       "    <tr>\n",
       "      <th>4</th>\n",
       "      <td>15.0</td>\n",
       "      <td>33.0</td>\n",
       "      <td>3.0</td>\n",
       "      <td>51.0</td>\n",
       "      <td>1.0</td>\n",
       "      <td>1.0</td>\n",
       "      <td>25.0</td>\n",
       "      <td>8.0</td>\n",
       "      <td>3.0</td>\n",
       "      <td>36.0</td>\n",
       "      <td>...</td>\n",
       "      <td>0.0</td>\n",
       "      <td>Dachstein West</td>\n",
       "      <td>Austria</td>\n",
       "      <td>Yes</td>\n",
       "      <td>Yes</td>\n",
       "      <td>medium</td>\n",
       "      <td>(1500,2000]</td>\n",
       "      <td>(500,1000]</td>\n",
       "      <td>(1500,50000]</td>\n",
       "      <td>[50,399]</td>\n",
       "    </tr>\n",
       "    <tr>\n",
       "      <th>5</th>\n",
       "      <td>30.0</td>\n",
       "      <td>26.0</td>\n",
       "      <td>21.0</td>\n",
       "      <td>77.0</td>\n",
       "      <td>1.0</td>\n",
       "      <td>1.0</td>\n",
       "      <td>6.0</td>\n",
       "      <td>11.0</td>\n",
       "      <td>10.0</td>\n",
       "      <td>27.0</td>\n",
       "      <td>...</td>\n",
       "      <td>0.0</td>\n",
       "      <td>Rosa Khutor</td>\n",
       "      <td>Southern Russia</td>\n",
       "      <td>Yes</td>\n",
       "      <td>No</td>\n",
       "      <td>cheap</td>\n",
       "      <td>(2000,2500]</td>\n",
       "      <td>(500,1000]</td>\n",
       "      <td>(1500,50000]</td>\n",
       "      <td>[400,999]</td>\n",
       "    </tr>\n",
       "  </tbody>\n",
       "</table>\n",
       "<p>5 rows × 50 columns</p>\n",
       "</div>"
      ],
      "text/plain": [
       "   BeginnerSlope  IntermediateSlope  DifficultSlope  TotalSlope  Snowparks  \\\n",
       "1           30.0               81.0             4.0       115.0        1.0   \n",
       "2          100.0               77.0            33.0       210.0        1.0   \n",
       "3            1.0                0.0             1.0         2.0        1.0   \n",
       "4           15.0               33.0             3.0        51.0        1.0   \n",
       "5           30.0               26.0            21.0        77.0        1.0   \n",
       "\n",
       "   NightSki  SurfaceLifts  ChairLifts  GondolaLifts  TotalLifts  ...  \\\n",
       "1       1.0          22.0        16.0          11.0        49.0  ...   \n",
       "2       1.0          37.0        28.0           7.0        72.0  ...   \n",
       "3       1.0           2.0         0.0           0.0         2.0  ...   \n",
       "4       1.0          25.0         8.0           3.0        36.0  ...   \n",
       "5       1.0           6.0        11.0          10.0        27.0  ...   \n",
       "\n",
       "   SnowCannons_nan                                             Resort  \\\n",
       "1              0.0                              Alpendorf (Ski amedé)   \n",
       "2              0.0  Soldeu-Pas de la Casa/​Grau Roig/​El Tarter/​C...   \n",
       "3              1.0                              Oberau (Wildschönau)   \n",
       "4              0.0                                     Dachstein West   \n",
       "5              0.0                                        Rosa Khutor   \n",
       "\n",
       "           Country  Snowparks  NightSki  DayPassPriceAdult  HighestPoint  \\\n",
       "1          Austria        Yes        No             medium   (1500,2000]   \n",
       "2          Andorra        Yes       Yes             medium   (2500,3000]   \n",
       "3          Austria         No        No             medium   (1000,1500]   \n",
       "4          Austria        Yes       Yes             medium   (1500,2000]   \n",
       "5  Southern Russia        Yes        No              cheap   (2000,2500]   \n",
       "\n",
       "   LowestPoint    LiftCapacity  SnowCannons  \n",
       "1   (500,1000]  (50000,100000]    [400,999]  \n",
       "2  (1500,2000]  (50000,100000]  [1000,1699]  \n",
       "3   (500,1000]       [0,15000]          NaN  \n",
       "4   (500,1000]    (1500,50000]     [50,399]  \n",
       "5   (500,1000]    (1500,50000]    [400,999]  \n",
       "\n",
       "[5 rows x 50 columns]"
      ]
     },
     "execution_count": 27,
     "metadata": {},
     "output_type": "execute_result"
    }
   ],
   "source": [
    "# your code for step 6\n",
    "non_num_col = ['Resort', 'Country','Snowparks', 'NightSki','DayPassPriceAdult','HighestPoint','LowestPoint','LiftCapacity','SnowCannons']\n",
    "df_complete_imp = pd.concat([df_imputed,df_cat[non_num_col]],axis=1)\n",
    "df_complete_imp.head()"
   ]
  },
  {
   "cell_type": "code",
   "execution_count": 28,
   "id": "7a5dd094-f496-4a98-81fb-1e941ee90472",
   "metadata": {
    "tags": []
   },
   "outputs": [
    {
     "data": {
      "text/plain": [
       "False"
      ]
     },
     "execution_count": 28,
     "metadata": {},
     "output_type": "execute_result"
    }
   ],
   "source": [
    "df_complete_imp.isna().sum().sum() == 0"
   ]
  },
  {
   "cell_type": "markdown",
   "id": "52685085-a3d3-4a40-a979-069ec578c01e",
   "metadata": {
    "tags": []
   },
   "source": [
    "## Question 2: Visualization (13 points)"
   ]
  },
  {
   "cell_type": "markdown",
   "id": "08fdcbdb-792d-4c66-b5ef-4e86d6a955b5",
   "metadata": {
    "jp-MarkdownHeadingCollapsed": true,
    "tags": []
   },
   "source": [
    "In this task, you will analyze the data using different means of visualization.\n",
    "\n",
    "Start with the following preprocessed and integrated dataframe `df_v`. \\\n",
    "Note that it has a similar structure to the dataframe that you should obtain from the previous task, however, the values have been modified."
   ]
  },
  {
   "cell_type": "code",
   "execution_count": null,
   "id": "620155fc-f0c9-4f49-b778-6379c949bb2c",
   "metadata": {},
   "outputs": [],
   "source": [
    "import pandas as pd\n",
    "import numpy as np\n",
    "import plotly.express as px\n",
    "from pandas.plotting import scatter_matrix\n",
    "import matplotlib.pyplot as plt\n",
    "import seaborn as sns"
   ]
  },
  {
   "cell_type": "code",
   "execution_count": null,
   "id": "570ecd50-427b-4203-bb2f-f2fcbd1052a7",
   "metadata": {},
   "outputs": [],
   "source": [
    "df_v = pd.read_csv(\"./datasets/ski_resorts_visual.csv\", index_col=0)\n",
    "df_num = df_v.copy()._get_numeric_data()    # df_v with only numeric colomns for a) and b)\n",
    "# df_num.head()"
   ]
  },
  {
   "cell_type": "markdown",
   "id": "9de753a8-98a9-4336-9e91-0acc1c73cf60",
   "metadata": {
    "tags": []
   },
   "source": [
    "### **a) (3pts)** \n",
    "To start the visual analysis, make a Scatter plot matrix to visually check if there are any correlations between the numerical attributes.\n",
    "\n",
    "*Hint: You can use the scatter_matrix from pandas.plotting or pairplot from seaborn to make the plot.*\n"
   ]
  },
  {
   "cell_type": "code",
   "execution_count": null,
   "id": "12a7b99e-a13f-42b0-862b-91968efe7542",
   "metadata": {},
   "outputs": [],
   "source": [
    "# your code\n",
    "sns.pairplot(df_num)      # automatically only uses numerical data columns"
   ]
  },
  {
   "cell_type": "markdown",
   "id": "d60f31f7-cba3-4c6d-be6f-fdefb5c6fb17",
   "metadata": {
    "tags": []
   },
   "source": [
    "### **b) (3pts)**\n",
    "Another way to detect correlation is to calculate the Pearson correlation coefficient. Calculate the correlation matrix for the numerical data and visualize the matrix using a heatmap. \n",
    "Briefly discuss your findings from the heatmap and the scatter plot you created in 2(a).\n",
    "\n",
    "Make sure to annotate the heatmap with the values of the correlation.\n",
    "\n",
    "*Hint: You can use the heatmap function from seaborn to make the plot.*"
   ]
  },
  {
   "cell_type": "code",
   "execution_count": null,
   "id": "9bd3d2ce-7a30-4fa6-a5e9-46cefd79e26f",
   "metadata": {},
   "outputs": [],
   "source": [
    "# your code\n",
    "corr_matrix = df_num.corr()\n",
    "# print(corr_matrix)\n",
    "\n",
    "sns.set(rc={\"figure.figsize\":(15, 15)})\n",
    "sns.heatmap(corr_matrix, annot=True, fmt=\".2f\")#, cmap=\"crest\")"
   ]
  },
  {
   "attachments": {},
   "cell_type": "markdown",
   "id": "f4bcf241",
   "metadata": {},
   "source": [
    "#### Oberservations:"
   ]
  },
  {
   "cell_type": "markdown",
   "id": "f387c1b8-4e34-4b68-88bf-774048366104",
   "metadata": {
    "tags": []
   },
   "source": [
    "### **c) (4pts)** \n",
    "We now want to have an overview of the attribute \"TotalSlope\" aggregated by different levels of hierarchy (Europe -> Country -> Resort). It seems that a tree map is suitable for this purpose.\n",
    "\n",
    "Make a tree map where\n",
    "- the root node represents Europe.\n",
    "- the child nodes of Europe are countries.\n",
    "- the child nodes of each country are the ski resorts.\n",
    "- the size of the rectangles is determined by the attribute \"TotalSlope\".\n",
    "\n",
    "Also, use the tree map to find out\n",
    "1. The sum of TotalSlopes of a country, list the top five countries and the corresponding values.\n",
    "2. The max value of TotalSlope of the five countries you identified in 1.\n",
    "\n",
    "*Hint: You can use the treemap function from plotly.express.*"
   ]
  },
  {
   "cell_type": "code",
   "execution_count": null,
   "id": "8c1b8c44",
   "metadata": {},
   "outputs": [],
   "source": [
    "# All countries are in Europe\n",
    "# df_v.Country.unique()"
   ]
  },
  {
   "cell_type": "code",
   "execution_count": null,
   "id": "eed294b7-8822-45fe-adfc-4a4e4d024124",
   "metadata": {},
   "outputs": [],
   "source": [
    "# your code\n",
    "fig = px.treemap(df_v, path=[px.Constant(\"Europe\"), 'Country', 'Resort'], values='TotalSlope')\n",
    "fig.update_traces(root_color=\"lightgrey\")\n",
    "fig.update_layout(margin = dict(t=50, l=25, r=25, b=25))\n",
    "fig.show()"
   ]
  },
  {
   "attachments": {},
   "cell_type": "markdown",
   "id": "6279cedc-ab47-4bc1-ac36-bdac4fb91f2b",
   "metadata": {},
   "source": [
    "**Your answer for...** \\\n",
    "*...  1. The sum of TotalSlopes of a country. List the top five countries and the corresponding values:* \n",
    "Top five countries in descending order with corresponting values of total slopes in brackets: France (12546), Austria (7005), Switzerland (5710), Italy (3742) and Andorra (723).\n",
    "\\\n",
    "*...  2. The max value of TotalSlope of the five countries you identified in 1:*\n",
    "France (600), Austria (304), Switzerland (412), Italy (400) and Andorra (210)."
   ]
  },
  {
   "cell_type": "markdown",
   "id": "8cd91227-df95-4371-8538-fac931bc4745",
   "metadata": {
    "tags": []
   },
   "source": [
    "### **d) (3pts)** \n",
    "\n",
    "An alternative to a tree map is a sunburst plot, the principle is similar to a tree map. \n",
    "\n",
    "Recall from the lecture that:\n",
    "- Each ring is a different level of the hierarchy\n",
    "- Each segment of a ring belongs to one categorical value\n",
    "- The size of a segment is either divided proportionally to a value\n",
    "\n",
    "Now, we would like to have an overview of the attribute \"TotalLifts\" aggregated by different level of hierarchy.\n",
    "\n",
    "Make a sunburst plot where\n",
    "- the first hierarchy(ring) is \"Country\"\n",
    "- the second hierarchy(ring) is \"Snowparks\" (whether the resort has snowparks)\n",
    "- the third hierarchy(ring) is \"Resort\"\n",
    "- the size of the segments is determined by the attribute \"TotalLifts\".\n",
    "\n",
    "Then, briefly discuss your findings from the plot.\n",
    "\n",
    "*Hint: You can use the sunburst function from plotly.express.*"
   ]
  },
  {
   "cell_type": "code",
   "execution_count": null,
   "id": "7203fa15-8f8b-4cb7-b836-de047bb6a2bf",
   "metadata": {},
   "outputs": [],
   "source": [
    "# your code\n",
    "fig = px.sunburst(df_v, path=['Country', 'Snowparks', 'Resort'], values='TotalLifts')\n",
    "fig.show()"
   ]
  },
  {
   "cell_type": "markdown",
   "id": "e24702c9-93a5-47d9-88ef-cbd018ae840b",
   "metadata": {},
   "source": [
    "**Your answer:**"
   ]
  },
  {
   "cell_type": "markdown",
   "id": "62eb1982-1fa7-4829-9dfa-df0922f8de3c",
   "metadata": {
    "tags": []
   },
   "source": [
    "## Question 3 - Frequent Item Sets and Association Rules (15 points)"
   ]
  },
  {
   "cell_type": "code",
   "execution_count": null,
   "id": "cc7d780a",
   "metadata": {},
   "outputs": [],
   "source": [
    "from mlxtend.preprocessing import TransactionEncoder\n",
    "from mlxtend.frequent_patterns import apriori\n",
    "from mlxtend.frequent_patterns import association_rules as arule"
   ]
  },
  {
   "cell_type": "markdown",
   "id": "f2e7e462-5ead-4531-a306-7bf6047647d5",
   "metadata": {
    "tags": []
   },
   "source": [
    "### A real online retail transaction data set of two years.\n",
    "\n",
    "Data Set Information:\n",
    "This Retail dataset contains all the transactions occurring for a UK-based and registered, non-store online retail between 01/12/2009 and 09/12/2011.The company mainly sells unique all-occasion gift ware. Many customers of the company are wholesalers.\n",
    "\n",
    "Attribute Information:\n",
    "- Invoice: Invoice number. Nominal. A 6-digit integral number is uniquely assigned to each transaction. If the number starts with 'C' it refers to a canceled transaction.\n",
    "- StockCode: Product (item) code. Nominal. A 5-digit integral number uniquely assigned to each distinct product.\n",
    "- Description: Product (item) name. Nominal.\n",
    "- Quantity: The quantities of each product (item) per transaction. Numeric.\n",
    "- InvoiceDate: Invoice date and time. Numeric. The day and time when a transaction was generated.\n",
    "- Price: Unit price. Numeric. Product price per unit in sterling (£).\n",
    "- CustomerID: Customer number. Nominal. A 5-digit integral number is uniquely assigned to each customer. This number has postfix 'n'.\n",
    "- Country: Country name. Nominal. The name of the country where a customer resides."
   ]
  },
  {
   "cell_type": "markdown",
   "id": "9794fa4d-e5c8-4699-be1b-389dbd32b9c4",
   "metadata": {},
   "source": [
    "### a) Loading, exploring and preprocessing the dataset (4 pts)"
   ]
  },
  {
   "cell_type": "markdown",
   "id": "27a2d2b7-4dda-4a52-a597-80fdfaae628f",
   "metadata": {},
   "source": [
    "#### **a(i)** \n",
    "Load the data from `retail.csv` and save it under the variable `retail_df`. Display the first few lines of the dataframe."
   ]
  },
  {
   "cell_type": "code",
   "execution_count": null,
   "id": "bc75ad8d-88bb-4ef3-ab32-ae5a1f38954e",
   "metadata": {},
   "outputs": [],
   "source": [
    "# your code"
   ]
  },
  {
   "cell_type": "markdown",
   "id": "eba06313-e9f1-43cd-ab08-07e56458234b",
   "metadata": {},
   "source": [
    "#### **a(ii)** \n",
    "To get to know the dataset, do the following:\n",
    "\n",
    "- Show the number of rows in the dataset.\n",
    "- Show the number of unique customers.\n",
    "- Show the number of unique product names.\n",
    "- Show the number of unique invoices.\n",
    "- Show the number and the list of all the countries where the customers reside."
   ]
  },
  {
   "cell_type": "code",
   "execution_count": null,
   "id": "eadfbf62-1e6b-4b5d-9556-46d9c2fc2614",
   "metadata": {},
   "outputs": [],
   "source": [
    "# your code"
   ]
  },
  {
   "cell_type": "markdown",
   "id": "071fc555-19fd-4488-8e2c-efdb0cb785be",
   "metadata": {},
   "source": [
    "#### **a(iii)** \n",
    "You are interested in analyzing itemsets that are frequently purchased together. Before continuing with that task, you have to make sure that the data are fit for such analysis. 1) More precisely, you want to make sure that there are no missing values in the data. 2) Moreover, you want to ensure that each item's name in the \"Description\" is consistent. E.g., you want \"Description\" values such as \" coffee black\", \"coffee &nbsp;black\", \" coffee black &nbsp;\", etc. to be mapped to the same value (e.g. \"coffee black\"). 3) Last but not least, you want to remove transactions that were canceled. Such transactions correspond to rows where the invoice number starts with letter 'C'.\n",
    "\n",
    "Apply these preprocessing steps to the dataset `retail_df` and apply them on the dataframe itself (e.g. set inplace=True)."
   ]
  },
  {
   "cell_type": "code",
   "execution_count": null,
   "id": "7bb891d0-6362-47c5-903d-4caf7333a2c5",
   "metadata": {},
   "outputs": [],
   "source": [
    "# your code"
   ]
  },
  {
   "cell_type": "markdown",
   "id": "1cdb88ce-11d8-405f-94b8-a0d670da853a",
   "metadata": {},
   "source": [
    "#### **a(iv)** \n",
    "After applying the preprocessing steps in **a(iii)** , repeat again the task **a(ii)**, that is:\n",
    "\n",
    "- Show the number of rows in the dataset.\n",
    "- Show the number of unique customers.\n",
    "- Show the number of all unique product names.\n",
    "- Show the list of all the countries where the customers reside.\n",
    "\n",
    "Which values changed?"
   ]
  },
  {
   "cell_type": "code",
   "execution_count": null,
   "id": "1ff1aab7-1048-4043-989b-cd97437f0ed8",
   "metadata": {},
   "outputs": [],
   "source": [
    "# your code"
   ]
  },
  {
   "cell_type": "markdown",
   "id": "51ace216-572c-47d9-977f-52c62d2cb26e",
   "metadata": {},
   "source": [
    "**Your answer:** "
   ]
  },
  {
   "cell_type": "markdown",
   "id": "105a9af7-a3c1-4d19-8cd8-778276106c52",
   "metadata": {},
   "source": [
    "### b) Frequent itemsets and Association rules (8 pts)"
   ]
  },
  {
   "cell_type": "markdown",
   "id": "9d55a65f-a5a3-4616-8365-d6a99f0b4386",
   "metadata": {},
   "source": [
    "#### **b(i)** \n",
    "Each invoice number in the dataset identifies a unique transaction. There are potentially many rows in the dataframe having the same invoice number. We want to analyze items that are frequently purchased together, that is, items that appear in the same transaction.\n",
    "\n",
    "Create a new dataframe named `transaction_df` with two columns: \"Invoice\" and \"Description\". Here the \"Invoice\" value is the index of the dataframe (the unique number identifying each row) and \"Description\" is the column containing all items (without duplicates) purchased within the transaction with that invoice number. Display the first few rows of your dataframe. How many rows does the `transaction_df` have?"
   ]
  },
  {
   "cell_type": "code",
   "execution_count": null,
   "id": "ec046573-e55d-4ea4-a9c6-7f9c82d8d5cd",
   "metadata": {},
   "outputs": [],
   "source": [
    "# your code"
   ]
  },
  {
   "cell_type": "markdown",
   "id": "97f7615d-f7f2-4881-b081-23505c0875d6",
   "metadata": {},
   "source": [
    "**Your answer:**"
   ]
  },
  {
   "cell_type": "markdown",
   "id": "8abcf0c1-0445-4701-874f-d7f8f600075f",
   "metadata": {},
   "source": [
    "#### **b(ii)** \n",
    "Next, we want to compute frequent itemsets and association rules based on the sets of items ordered together. Use the TransactionEncoder to transform `transaction_df` into a matrix such that the value in the i-th row and the j-th column is $True$ if the i-th itemset contains product j, and $False$ otherwise. Save the matrix into a dataframe named `transactions`. Display the shape of the matrix.\n",
    "\n",
    "*Hint: Note that your dataframe 'transactions' must contain as many rows as there are invoice numbers and as many columns as there are unique products.*"
   ]
  },
  {
   "cell_type": "code",
   "execution_count": null,
   "id": "c5c0b0e0-46c9-4b8d-873a-1d0d1136ebdf",
   "metadata": {},
   "outputs": [],
   "source": [
    "# your code"
   ]
  },
  {
   "cell_type": "markdown",
   "id": "2a718591-452e-4d69-be6f-f2e53e2060c7",
   "metadata": {},
   "source": [
    "#### **b(iii)** \n",
    "Use the apriori method on `transactions` to obtain all frequent itemsets using min_support=0.01. Display all frequent itemsets that have at least three items. What support count does an itemset have for our case if it satisfies min_support=0.01?"
   ]
  },
  {
   "cell_type": "code",
   "execution_count": null,
   "id": "1463627c-e2c3-43b0-b8c7-f1ad0591f9a8",
   "metadata": {},
   "outputs": [],
   "source": [
    "# your code"
   ]
  },
  {
   "cell_type": "markdown",
   "id": "f0ad89a8-70d2-4734-9780-c964e14fbf23",
   "metadata": {},
   "source": [
    "**Your answer:**"
   ]
  },
  {
   "cell_type": "markdown",
   "id": "14eb37dd-da50-4b68-988d-23500611955b",
   "metadata": {},
   "source": [
    "#### **b(iv)**\n",
    "Now we will discover association rules from the frequent itemsets. Using only the frequent itemsets with min_support=0.01 (the ones obtained in **b(iii)**), generate different association rules using min_conf=0.6 and min_conf=0.9 as thresholds. Show the association rules for each of the thresholds. What do you notice w.r.t. the number of association rules produced for the different thresholds?"
   ]
  },
  {
   "cell_type": "code",
   "execution_count": null,
   "id": "aba91aa5-f2ef-4e68-a70c-6f112c3b9ec6",
   "metadata": {},
   "outputs": [],
   "source": [
    "# your code"
   ]
  },
  {
   "cell_type": "markdown",
   "id": "47fca001-2e05-453a-970a-0155a1c83fbd",
   "metadata": {},
   "source": [
    "**Your answer:**"
   ]
  },
  {
   "cell_type": "markdown",
   "id": "1920ddaf-f961-4c50-b34b-d5d338223675",
   "metadata": {},
   "source": [
    "#### **b(v)** \n",
    "From the association rules that satisfy the confidence threshold 0.6, select and show the two rules with the highest lift. What do you notice if you compare the two rules with each other?"
   ]
  },
  {
   "cell_type": "code",
   "execution_count": null,
   "id": "4110f530-8c31-4be4-96f2-aaa5d4595130",
   "metadata": {},
   "outputs": [],
   "source": [
    "# your code"
   ]
  },
  {
   "cell_type": "markdown",
   "id": "743f10f9-2067-4d68-9510-33a5699e4ae8",
   "metadata": {},
   "source": [
    "**Your answer:**"
   ]
  },
  {
   "cell_type": "markdown",
   "id": "bcc2b990-3a2d-409c-907a-de7a812aa687",
   "metadata": {},
   "source": [
    "#### **b(vi)** \n",
    "\n",
    "In the analysis tasks in **b)**, an itemset consisted of items that had the same invoice number (same transaction items). Thus, if an itemset was frequent, it meant that the items in it were frequently purchased together.\n",
    "An association rule $A \\Rightarrow B$ meant that if items in $A$ are purchased, then the items in $B$ are also purchased in that same transaction.\n",
    "\n",
    "Suppose that we would repeat the analysis, but this time, the itemsets would consist of items having the same \"CustomerID\" (bought from the same customer). Interpret the meaning of the frequent itemsets and association rules for this kind of itemsets."
   ]
  },
  {
   "cell_type": "markdown",
   "id": "c7269908-782f-4900-a306-7507b7afd115",
   "metadata": {},
   "source": [
    "**Your answer:**"
   ]
  },
  {
   "cell_type": "markdown",
   "id": "8a438848-5297-4ca8-9e09-cf414903197b",
   "metadata": {},
   "source": [
    "### c) Sequence Mining (3 pts)"
   ]
  },
  {
   "cell_type": "markdown",
   "id": "71b2c05a-2fa5-4150-b5ce-895d9f1078cc",
   "metadata": {},
   "source": [
    "For this task, the dataset used is `retail_sequences.csv`. Run the cell below to save the dataset under the dataframe `retail_sequences`. Each row in the dataframe corresponds to a unique customer (from the retail dataset). The \"Customer\" column contains the customer ID, whereas the \"Sequence\" column contains the sequence of itemsets  purchased by that customer.  Each value of \"Sequence\" is a sequence (list) of itemsets $<I_1, I_2, ..., I_n>$. The items within the same itemset (list without duplicates) $I_i$ were purchased together (they had the same invoice number). The itemsets are ordered by the timestamp of the transaction (value of InvoiceDate)."
   ]
  },
  {
   "cell_type": "code",
   "execution_count": null,
   "id": "f5764854-1c5e-44a8-b83a-c1bed469e9fa",
   "metadata": {},
   "outputs": [],
   "source": [
    "import pandas as pd \n",
    "retail_sequences = pd.read_csv('datasets/retail_sequences.csv', converters={'Sequence': pd.eval})"
   ]
  },
  {
   "cell_type": "markdown",
   "id": "6769f289-6619-41f4-855d-d5a690009e7b",
   "metadata": {
    "tags": []
   },
   "source": [
    "Given is the sequence *s= <{'lunch bag cars blue'}, {'herb marker rosemary','herb marker thyme'}, {'wooden star christmas scandinavian'}>*. Compute the support count of that sequence, that is, compute the number of customers whose corresponding itemset sequence contains it. Display its support count and the IDs of those customers.\n",
    "\n",
    "*Hint: In the dataset provided, all product names are unified. They are all lowercase and have no trailing spaces.*"
   ]
  },
  {
   "cell_type": "code",
   "execution_count": null,
   "id": "2ff9fcd7-4dc8-48a9-8ae0-5c8f0e0d0f81",
   "metadata": {},
   "outputs": [],
   "source": [
    "s = [['lunch bag cars blue'], ['herb marker rosemary', 'herb marker thyme'] ,['wooden star christmas scandinavian']]"
   ]
  },
  {
   "cell_type": "code",
   "execution_count": null,
   "id": "006414b7-f6eb-4ea6-8d76-9ac57408501b",
   "metadata": {},
   "outputs": [],
   "source": [
    "# your code"
   ]
  },
  {
   "cell_type": "markdown",
   "id": "4bb34ba2-6c45-4dc7-97f1-0194de53b3f5",
   "metadata": {
    "jp-MarkdownHeadingCollapsed": true,
    "tags": []
   },
   "source": [
    "## Question 4: Text Mining (12 pts)"
   ]
  },
  {
   "cell_type": "code",
   "execution_count": null,
   "id": "abb4c2cb",
   "metadata": {},
   "outputs": [],
   "source": [
    "from sklearn.feature_extraction.text import CountVectorizer, TfidfVectorizer\n",
    "from gensim.models.doc2vec import Doc2Vec, TaggedDocument\n",
    "from nltk.lm.preprocessing import padded_everygram_pipeline"
   ]
  },
  {
   "cell_type": "markdown",
   "id": "85c87d2b-a192-496d-ae0e-52865d498d72",
   "metadata": {},
   "source": [
    "### F.R.I.E.N.D.S."
   ]
  },
  {
   "cell_type": "markdown",
   "id": "725586d9-d73b-40bd-938d-e62dcae05fee",
   "metadata": {},
   "source": [
    "In this task we will use the script from the well-known series \"F.R.I.E.N.D.S.\". We will apply feature extraction methods to map the line of each main character onto a vector of a vector space. Then we will train a classifier whose aim will be to predict the name of the character given a particular line from the script.\n",
    "In the end, we will train language models using N-grams and produce fake sentences for each of the main characters."
   ]
  },
  {
   "cell_type": "markdown",
   "id": "945cdb03-6f30-4b39-93b5-11ae64b60c4e",
   "metadata": {},
   "source": [
    "### a) Data Loading and Preprocessing (4 pts)"
   ]
  },
  {
   "cell_type": "markdown",
   "id": "172ce8b2-8381-4447-8c70-8a1f66fa4b17",
   "metadata": {},
   "source": [
    "#### **a(i)** \n",
    "Import the file `FRIENDS.csv` and save it into a dataframe named `friends_df`. Note that the dataframe must contain two columns: one indicating the character's name and one containing a line from the script. Display the first few lines from the dataframe.\n",
    "\n",
    "<i>FYI: The script has been filtered so that it only contains lines from the main characters. The order of the lines in the data is the same as the order of the lines in the original script. Metadata and scene descriptions have been removed. Your corpus consists of all the lines contained in the data. Each row's \"line\" value is a single document. </i>"
   ]
  },
  {
   "cell_type": "code",
   "execution_count": null,
   "id": "d249dbeb-b7c9-48f3-8fb8-546d052daac1",
   "metadata": {},
   "outputs": [],
   "source": [
    "# your code"
   ]
  },
  {
   "cell_type": "markdown",
   "id": "bf8ecf98-6140-4c73-9350-08060d26deee",
   "metadata": {},
   "source": [
    "#### **a(ii)**  \n",
    "Plot the line count distribution among the six main characters (the six possible values of the column \"character\"). For example, show a plot containing one bar for each character whose height reflects the number of lines in `friends_df`. Briefly comment on the plot."
   ]
  },
  {
   "cell_type": "code",
   "execution_count": null,
   "id": "534f1199-6f25-4e00-83c7-8aefbbe75250",
   "metadata": {},
   "outputs": [],
   "source": [
    "# your code"
   ]
  },
  {
   "cell_type": "markdown",
   "id": "fe800c4f-7a8b-4c45-9484-ffeedb161a2e",
   "metadata": {},
   "source": [
    "**Your answer:**"
   ]
  },
  {
   "cell_type": "markdown",
   "id": "56c20766-da32-4e64-99af-1f8eb1a466e1",
   "metadata": {},
   "source": [
    "#### **a(iii)**  \n",
    "Create a corpus named `corpus` such that each document in the corpus corresponds to exactly one row's \"line\" in `friends_df`."
   ]
  },
  {
   "cell_type": "code",
   "execution_count": null,
   "id": "a677e05f-51c6-431d-933f-961089327685",
   "metadata": {},
   "outputs": [],
   "source": [
    "# your code"
   ]
  },
  {
   "cell_type": "markdown",
   "id": "c6a5e192-46e1-4c64-92d2-387c83e8d4c2",
   "metadata": {},
   "source": [
    "#### **a(iv)**  \n",
    "Write a function called `my_preprocessor` which, given a string, returns another string after tokenization, stopword removal and lemmatization have been applied. The remaining terms (tokens after stopword removal and lemmatization has been applied) should be joined in the same string using space ' '."
   ]
  },
  {
   "cell_type": "code",
   "execution_count": null,
   "id": "5365fc69-a32d-4b8a-a142-0ec4ae8aa988",
   "metadata": {},
   "outputs": [],
   "source": [
    "# your code"
   ]
  },
  {
   "cell_type": "markdown",
   "id": "b173fb1e-44ef-4e72-a087-2cc67d5464b1",
   "metadata": {},
   "source": [
    "#### **a(v)**   \n",
    "You must apply your preprocessor `my_preprocessor` on each line contained in the `corpus`. Create a preprocessed corpus named `corpus_p` which contains the same lines as `corpus` after the preprocessor `my_preprocessor` has been applied."
   ]
  },
  {
   "cell_type": "code",
   "execution_count": null,
   "id": "d46ad877-6f7d-45af-902a-313efaf6e9b3",
   "metadata": {},
   "outputs": [],
   "source": [
    "# your code"
   ]
  },
  {
   "cell_type": "markdown",
   "id": "b89f6a33-d791-493d-b9a3-809cfad2d694",
   "metadata": {},
   "source": [
    "#### **a(vi)**   \n",
    "Split the `friends_df` dataset from the previous task into training (80%) and test (20%) data preserving the distribution based on the \"character\" value. "
   ]
  },
  {
   "cell_type": "code",
   "execution_count": null,
   "id": "ffae634d-d8d3-4057-84a8-aa4117cf73dd",
   "metadata": {},
   "outputs": [],
   "source": [
    "# your code"
   ]
  },
  {
   "cell_type": "markdown",
   "id": "d3d998c5-75fc-4673-bb69-2a4a644b8681",
   "metadata": {},
   "source": [
    "#### **a(vii)**   \n",
    "Similar to **a(iii)**, for the training data and the test data, create two corpora named `corpus_train` and `corpus_test` respectively. Each document in the training (test) corpus must correspond to exactly one row's \"line\" value in the corresponding training (test) dataframe."
   ]
  },
  {
   "cell_type": "code",
   "execution_count": null,
   "id": "ab8fa13d-599d-4c60-b747-bde77c9e99d6",
   "metadata": {},
   "outputs": [],
   "source": [
    "# your code"
   ]
  },
  {
   "cell_type": "markdown",
   "id": "8b8945a0-a108-4380-b0fa-aec46768c284",
   "metadata": {},
   "source": [
    "### b) Set of Words (4.5 pts)"
   ]
  },
  {
   "cell_type": "markdown",
   "id": "a862af1a-83a6-46fd-ab0e-48a55d2667e9",
   "metadata": {},
   "source": [
    "#### **b(i)**  \n",
    "We want to encode our text in such a way that for each word in the vocabulary, we are only interested in whether the word appears or not in a given document. Create such a Set of Words encoding for the whole corpus `corpus`. Use the previously defined preprocessor `my_preprocessor` as preprocessor."
   ]
  },
  {
   "cell_type": "code",
   "execution_count": null,
   "id": "000b068a-d85d-405a-a6b2-b463d63afa70",
   "metadata": {},
   "outputs": [],
   "source": [
    "# your code"
   ]
  },
  {
   "cell_type": "markdown",
   "id": "e607c40e-1b8a-4bda-9dc2-0cc4f5872452",
   "metadata": {},
   "source": [
    "#### **b(ii)**  \n",
    "Pick one (any) of the lines of the \"line\" column in the `friends_df` dataset. Display the line in:\n",
    "    1) its original form, \n",
    "    2) its preprocessed version (the result contained in `corpus_p` after applying `my_preprocessor`), and \n",
    "    3) its encoding computed by the Set of Words method. This can be either an array (a vector) or a scipy matrix. \n",
    "Briefly comment on the Set of Words encoding."
   ]
  },
  {
   "cell_type": "code",
   "execution_count": null,
   "id": "152e71ca-9019-47b1-a827-b7227e85a20d",
   "metadata": {},
   "outputs": [],
   "source": [
    "# your code"
   ]
  },
  {
   "cell_type": "markdown",
   "id": "16b431ce-c9ef-46fd-80f9-5c0ee685770b",
   "metadata": {},
   "source": [
    "**Your answer:**"
   ]
  },
  {
   "cell_type": "markdown",
   "id": "c704be66-78e8-40b5-9f88-3df1939000e6",
   "metadata": {},
   "source": [
    "#### **b(iii)**  \n",
    "Create a Set of Words encoding based only on the documents in `corpus_train`. Use the previously defined preprocessor `my_preprocessor` as a preprocessor."
   ]
  },
  {
   "cell_type": "code",
   "execution_count": null,
   "id": "bbedb7eb-192a-4f0d-b590-9cf3cf8a813d",
   "metadata": {},
   "outputs": [],
   "source": [
    "# your code"
   ]
  },
  {
   "cell_type": "markdown",
   "id": "d26cad99-701b-4e56-a020-5e2d1ef04a4d",
   "metadata": {},
   "source": [
    "#### **b(iv)**  \n",
    "In this task, we will use an SGD (Stochastic Gradient Descend) classifier to predict the character given a line from the corpus. Train the classifier on the Set of Words encoding of training corpus `corpus_train` using the character as the target feature and 'log_loss' as the loss function. Apply the classifier on the Set of Words encodings of both the training corpus and the test corpus `corpus_train`. Show its accuracy for both the training corpus and the test corpus."
   ]
  },
  {
   "cell_type": "code",
   "execution_count": null,
   "id": "5aeffa1d-bb0b-4112-846c-74cde3e217dd",
   "metadata": {},
   "outputs": [],
   "source": [
    "# your code"
   ]
  },
  {
   "cell_type": "markdown",
   "id": "c77974b1-4fb7-4fa9-9ef5-40764d4a0a28",
   "metadata": {},
   "source": [
    "#### **b(v)**  \n",
    "Briefly comment on the accuracy of the classifier compared to the expected accuracy of a random guesser (here: a model that simply guesses each character according to a distribution based on the line count). Use the line count distribution shown in **a(ii)** to reason about the approximate accuracy of the random guesser."
   ]
  },
  {
   "cell_type": "markdown",
   "id": "86b7d8d1-3375-49b1-b69e-a4e2da8c184e",
   "metadata": {},
   "source": [
    "**Your answer:**"
   ]
  },
  {
   "cell_type": "markdown",
   "id": "afe69290-07c2-4f7f-8693-d05884b98963",
   "metadata": {},
   "source": [
    "#### **b(vi)**  \n",
    "Pick two lines from the dataset `friends_df`. Predict their character by applying the SGD classifier from **b(iv)** to their Set of Words encodings. Show the original lines, their original characters and the predicted characters."
   ]
  },
  {
   "cell_type": "code",
   "execution_count": null,
   "id": "3a7621f1-8fc9-4606-9c19-0fb007e13b7b",
   "metadata": {},
   "outputs": [],
   "source": [
    "# your code"
   ]
  },
  {
   "cell_type": "markdown",
   "id": "eccc83fe-08a7-4109-a68d-765799874a83",
   "metadata": {},
   "source": [
    "### c) Doc2Vec (1.5 pts)"
   ]
  },
  {
   "cell_type": "markdown",
   "id": "7cca937f-cc73-496b-90df-3d571b4ebd3b",
   "metadata": {},
   "source": [
    "#### **c(i)**  \n",
    "In this part, we want to encode the lines using Doc2Vec. Create a Doc2Vec embedding based on the documents in the preprocessed corpus `corpus_p`. Set the vector dimension to 10 and min_count to 3."
   ]
  },
  {
   "cell_type": "code",
   "execution_count": null,
   "id": "9bcd41ee-d39a-43a3-a7c0-eb2e6f1c9a29",
   "metadata": {},
   "outputs": [],
   "source": [
    "# your code"
   ]
  },
  {
   "cell_type": "markdown",
   "id": "fee6650f-1ca5-47aa-adfd-56c33c6dc4fd",
   "metadata": {},
   "source": [
    "#### **c(ii)**  \n",
    "Pick one (any) line from the dataset `friends_df`. Display the line and the character saying it. Find its most similar line w.r.t. the Doc2Vec encoding and display the original line and its corresponding character. Do the lines belong to the same character?"
   ]
  },
  {
   "cell_type": "code",
   "execution_count": null,
   "id": "7f543244-67a5-4d00-aff1-9a5a05518ad8",
   "metadata": {},
   "outputs": [],
   "source": [
    "# your code"
   ]
  },
  {
   "cell_type": "markdown",
   "id": "437b009f-0d60-4f3c-857a-0ff2c62763af",
   "metadata": {},
   "source": [
    "**Your answer:**"
   ]
  },
  {
   "cell_type": "markdown",
   "id": "aae3f695-65a1-4477-8909-517ec5133e5c",
   "metadata": {},
   "source": [
    "### d) Language model using N-grams (2 pts)"
   ]
  },
  {
   "cell_type": "markdown",
   "id": "ba2d9dad-ffc3-4ae0-8c31-7ac550656871",
   "metadata": {},
   "source": [
    "#### For the following tasks, use the `friends_df` data."
   ]
  },
  {
   "cell_type": "markdown",
   "id": "5da82a84-2f4b-44e6-9138-deab47dbeb92",
   "metadata": {},
   "source": [
    "#### **d(i)**  \n",
    "For each character, create a corresponding corpus. Each corpus must be a list of documents. Each document corresponds to one \"line\" value of that character and it should be a list of terms. You must obtain this list of terms after applying preprocessing steps such as to lowercase, no punctuation, and tokenization to the original line. Do not perform stemming/lemmatization and/or stopword removal for this task.\n",
    "Display the corpus of one of the characters."
   ]
  },
  {
   "cell_type": "code",
   "execution_count": null,
   "id": "de295c77-0ef1-423e-ac2d-2dd4241d22c3",
   "metadata": {},
   "outputs": [],
   "source": [
    "# your code"
   ]
  },
  {
   "cell_type": "markdown",
   "id": "7e162de2-271d-4031-858b-40f5dcbc5506",
   "metadata": {},
   "source": [
    "#### **d(ii)**  \n",
    "For each character separately, build a trigram language model using MLE. Use both right and left padding and learn each language model using the character's corpus from **d(ii)**."
   ]
  },
  {
   "cell_type": "code",
   "execution_count": null,
   "id": "838f330b-20b3-4c1a-af32-6a84d45330fe",
   "metadata": {},
   "outputs": [],
   "source": [
    "# your code"
   ]
  },
  {
   "cell_type": "markdown",
   "id": "8e734c4b-2c31-4f19-9f43-4cf2983d8076",
   "metadata": {},
   "source": [
    "#### **d(iv)**  \n",
    "For each character, use the created trigram language model to generate a sentence of ten words. Display the sentences."
   ]
  },
  {
   "cell_type": "code",
   "execution_count": null,
   "id": "418add81-ad45-4712-905d-4ae71010f251",
   "metadata": {},
   "outputs": [],
   "source": [
    "# your code"
   ]
  },
  {
   "cell_type": "markdown",
   "id": "788da653-9059-4045-9341-da119995bc4c",
   "metadata": {
    "tags": []
   },
   "source": [
    "## Question 5: Process Mining (22pts)"
   ]
  },
  {
   "cell_type": "code",
   "execution_count": null,
   "id": "75571aa7-6567-44de-86e3-27aba8d5d03f",
   "metadata": {},
   "outputs": [],
   "source": [
    "import pandas as pd\n",
    "import pm4py"
   ]
  },
  {
   "cell_type": "code",
   "execution_count": null,
   "id": "470d33e5-5fea-4f90-baba-dfc4c7fc72bb",
   "metadata": {},
   "outputs": [],
   "source": [
    "from pm4py.statistics.traces.generic.log import case_statistics"
   ]
  },
  {
   "cell_type": "code",
   "execution_count": null,
   "id": "4472e969-94fb-47e1-bb32-6dcfd7f154b0",
   "metadata": {},
   "outputs": [],
   "source": [
    "from pm4py.algo.conformance.tokenreplay import algorithm as token_based_replay"
   ]
  },
  {
   "cell_type": "code",
   "execution_count": null,
   "id": "8da87cd3-a2f0-46ee-97e2-c3c3c9905140",
   "metadata": {},
   "outputs": [],
   "source": [
    "import matplotlib.pyplot as plt"
   ]
  },
  {
   "cell_type": "markdown",
   "id": "f1fd03f7-1c78-45be-9fb1-018779e47fd5",
   "metadata": {
    "tags": []
   },
   "source": [
    "### a) Loading the Data and Basic Statistics (9pts)"
   ]
  },
  {
   "cell_type": "markdown",
   "id": "1e696437-3c4a-4e5f-9725-b12d153d1688",
   "metadata": {
    "tags": []
   },
   "source": [
    "#### **a(i)** \n",
    "Load the data **reimburse.csv** and create a PM4Py event log. In doing so, use the following column mapping:\n",
    " - *Activity* is the activity key\n",
    " - *Case* is the case ID\n",
    " - *Timestamp* is the timestamp"
   ]
  },
  {
   "cell_type": "code",
   "execution_count": null,
   "id": "0d14d031-f77b-4b7c-807a-b352e2e4a7d8",
   "metadata": {},
   "outputs": [],
   "source": [
    "# your code"
   ]
  },
  {
   "cell_type": "markdown",
   "id": "b1cdcace-82db-451c-8d8a-2fe3d7033df2",
   "metadata": {
    "tags": []
   },
   "source": [
    "#### **a(ii)** \n",
    "Compute and print the following basic information:\n",
    "- Number of events\n",
    "- Number of cases\n",
    "- Earliest timestamp\n",
    "- Latest timestamp\n",
    "- Number of trace variants"
   ]
  },
  {
   "cell_type": "code",
   "execution_count": null,
   "id": "04d1b421-7308-4031-a5b2-bbf4cbfa18e8",
   "metadata": {},
   "outputs": [],
   "source": [
    "# your code"
   ]
  },
  {
   "cell_type": "markdown",
   "id": "9a45f421-ded8-4ebc-bfcd-bde5d3e3069b",
   "metadata": {
    "tags": []
   },
   "source": [
    "#### **a(iii)** \n",
    "In process mining, multiple events that have the same timestamp can cause problems because the ordering of events (or even activities) becomes unclear. Moreover, they can indicate batching (i.e., one activity is executed for multiple cases simultaneously). Therefore, during your analysis, it is good to keep that in mind. To this end, compute the following statistics/answer the following questions:\n",
    "\n",
    "1. How many events occur almost at the same time (i.e., within less than 100ms as the preceding event. (Proceeding event in the *entire* event log)?\n",
    "2. Are there resources that complete two activities at the same time (within less than 100ms)?\n",
    "3. How many cases are there in which two activities are executed at the same time (i.e., two events that belong to the same case occur within less than 100ms)?\n",
    "\n",
    "*Hint: Depending on how you find the answers, be careful about event orderings.*"
   ]
  },
  {
   "cell_type": "code",
   "execution_count": null,
   "id": "70064816-159a-4092-92ec-d7d59e21c89f",
   "metadata": {},
   "outputs": [],
   "source": [
    "# your code"
   ]
  },
  {
   "cell_type": "markdown",
   "id": "c75d70c8-9b9a-4444-bd50-3e6d78c25bc6",
   "metadata": {
    "tags": []
   },
   "source": [
    "#### **a(iv)** \n",
    "Provide a plot that shows the number of running cases (i.e., cases that have started but not yet finished) over time. You may assume that the log only contains complete traces. For each case that has started, its completion is the last observed event associated with that case. In case multiple cases start or end at the same time, you also generate multiple values."
   ]
  },
  {
   "cell_type": "code",
   "execution_count": null,
   "id": "522aaab1-e228-430a-bafd-3d1e82101aaa",
   "metadata": {},
   "outputs": [],
   "source": [
    "# your code"
   ]
  },
  {
   "cell_type": "markdown",
   "id": "5e9e3d73-265e-4161-8bfe-48a16643d42c",
   "metadata": {},
   "source": [
    "**Your answer**: *(Briefly describe the differences between the two models in about five sentences here.)*"
   ]
  },
  {
   "cell_type": "markdown",
   "id": "e71e62b5-cc4e-4f3c-b836-08455477b93f",
   "metadata": {
    "tags": []
   },
   "source": [
    "### b) Discovery and Conformance Checking (9pts)"
   ]
  },
  {
   "cell_type": "markdown",
   "id": "5fe3d450-49b1-479f-9e99-9760f8b9bd14",
   "metadata": {
    "tags": []
   },
   "source": [
    "#### **b(i)** \n",
    "Mine a Petri net using Inductive Miner and display it."
   ]
  },
  {
   "cell_type": "code",
   "execution_count": null,
   "id": "6417094f-6d92-4f1c-b63c-57588f16be5c",
   "metadata": {},
   "outputs": [],
   "source": [
    "# your code"
   ]
  },
  {
   "cell_type": "markdown",
   "id": "d32b33dd-e8f5-46a7-be13-4821fbbf9e56",
   "metadata": {
    "tags": []
   },
   "source": [
    "#### **b(ii)** \n",
    "Compute the fitness of the discovered Petri net using token-based replay.\n",
    "\n",
    "*Hint: PM4Py can directly (using the top-level API) compute the number of missing, remaining, consumed, and produced tokens. Based on these, you can, for example, compute the token-based replay fitness.*"
   ]
  },
  {
   "cell_type": "code",
   "execution_count": null,
   "id": "1aa42fb9-c4f2-4bec-a89a-308bef0b026c",
   "metadata": {},
   "outputs": [],
   "source": [
    "# your code"
   ]
  },
  {
   "cell_type": "markdown",
   "id": "16ab43b6-d08b-4b09-8b96-54b911b9c34f",
   "metadata": {
    "tags": []
   },
   "source": [
    "#### **b(iii)** \n",
    "Filter the log to contain only traces where *Register Low* occurs. How many traces does the resulting log `log_low` contain?\n"
   ]
  },
  {
   "cell_type": "code",
   "execution_count": null,
   "id": "faba7573-fcc6-46a7-ae70-35111ba8e5ba",
   "metadata": {},
   "outputs": [],
   "source": [
    "# your code"
   ]
  },
  {
   "attachments": {},
   "cell_type": "markdown",
   "id": "cc3ef414-44a5-4a73-906f-36f673cfb6d5",
   "metadata": {
    "tags": []
   },
   "source": [
    "#### **b(iv)** \n",
    "Discover a Petri net for `log_low` and compute its fitness. How does this model differ from the model you discovered in *b(i)*? \n",
    "\n",
    "Suppose each of your produced process models is considered a 2-class classifier: provided a trace, it returns \"Yes\" if and only if the trace can be replayed by the model. Based on this perspective, how would the two process models compare in terms of precision?"
   ]
  },
  {
   "cell_type": "code",
   "execution_count": null,
   "id": "3cc94f06-ad65-408d-ad9e-e8b114838b50",
   "metadata": {},
   "outputs": [],
   "source": [
    "# your code"
   ]
  },
  {
   "cell_type": "markdown",
   "id": "74965d2a-c969-438d-b1f7-a8123142b789",
   "metadata": {},
   "source": [
    "**Your answer:** *(Briefly describe the difference between the two models here. About two sentences can be enough.*)"
   ]
  },
  {
   "cell_type": "markdown",
   "id": "c9833080-54f8-4e1b-baea-810962a98281",
   "metadata": {},
   "source": [
    "**Your answer**: *(Relate your observations to precision here.)*"
   ]
  },
  {
   "cell_type": "markdown",
   "id": "d1c73b63-a4a4-4438-a8e4-d2ebfe276051",
   "metadata": {
    "tags": []
   },
   "source": [
    "### Conformance Diagnostics De-jure Model\n",
    "The process owner provides you a de-jure model (i.e., a model of the should-be process) and a slightly changed version of the so far considered event log. \n",
    "\n",
    "In this task, you will again apply conformance checking by means of token-based replay to provide diagnostics on deviations."
   ]
  },
  {
   "cell_type": "markdown",
   "id": "390eabfa-faab-4bea-88ae-7c39bcad1ba0",
   "metadata": {
    "tags": []
   },
   "source": [
    "#### **b(v)** \n",
    "Load the Petri net *pn_conf.apnml*, the event log *log_conf.xes*, and provide the overall (i.e., model-based) token-based replay fitness score.\n",
    "\n"
   ]
  },
  {
   "cell_type": "code",
   "execution_count": null,
   "id": "98673f6e-e70e-4bc5-969b-057e954c58e8",
   "metadata": {},
   "outputs": [],
   "source": [
    "# your code"
   ]
  },
  {
   "cell_type": "markdown",
   "id": "b4b101e2-9b42-481f-a5f2-3c066416a131",
   "metadata": {
    "tags": []
   },
   "source": [
    "#### **b(vi)** \n",
    "To provide additional diagnostics on the deviations, compute the missing, consumed, produced and remaining number of tokens for **each place**. \n",
    "To do so, use the following *pm4py* code:\n",
    "    \n",
    "    from pm4py.algo.conformance.tokenreplay import algorithm as token_based_replay\n",
    "\ttbr_results, place_fitness, transition_fitness, notexisting_activities_in_model =\n",
    "    token_based_replay.apply(log_conf, net_conf, im_conf, fm_conf, parameters={\"enable_pltr_fitness\": True, \"disable_variants\": True})\n",
    "\n",
    "After running this line for log `log_conf`, Petri net `net_conf` with initial marking `im_conf` and final marking `fm_conf`, the variable `place_fitness` will contain the token counts for each place and trace. Therefore, you will only need aggregate over the traces.\n",
    "Print a table of the token counts per place. \n"
   ]
  },
  {
   "cell_type": "code",
   "execution_count": null,
   "id": "f9a01c3b-4be6-4ea3-a0c7-3572d5bd696f",
   "metadata": {},
   "outputs": [],
   "source": [
    "# your code"
   ]
  },
  {
   "cell_type": "markdown",
   "id": "e098ac37-4978-4520-9d39-51462a1f5038",
   "metadata": {
    "tags": []
   },
   "source": [
    "#### **b(vii)** \n",
    "Consider the token counts per place and a few unfitting traces, which deviation(s) do you observe? Describe the deviation and briefly explain how it can be related to the token counts of the individual places. For example, activity *xy* is often missing resulting in a high number of missing tokens in place *p*.  \n"
   ]
  },
  {
   "cell_type": "code",
   "execution_count": null,
   "id": "02586824-a2d3-4d36-b181-6e70fc3e2b54",
   "metadata": {},
   "outputs": [],
   "source": [
    "# your code"
   ]
  },
  {
   "cell_type": "markdown",
   "id": "6cec26df-0110-41a8-a427-eeeea611fd7c",
   "metadata": {},
   "source": [
    "**Your answer:** *(Describe the deviation(s). One sentence can already be enough.)*"
   ]
  },
  {
   "cell_type": "markdown",
   "id": "49fdc361-bfa7-49d1-809f-4509b427d8da",
   "metadata": {},
   "source": [
    "**Your answer:** (*Relate the deviation(s) to the token counts of the individual places. Roughly five sentences can be enough for a precise description.*)"
   ]
  },
  {
   "cell_type": "markdown",
   "id": "58dcdf9d-c227-4436-b9c3-d45c5b6f7de4",
   "metadata": {
    "tags": []
   },
   "source": [
    "### c) Analyzing Fraud (4pts)"
   ]
  },
  {
   "cell_type": "markdown",
   "id": "2048349d-ebf9-48cc-af0b-9da5a2828b23",
   "metadata": {
    "tags": []
   },
   "source": [
    "#### **c(i)** \n",
    "Filter the event log so that it only contains traces where a fraud report is filled (occurrence of `Fill Fraud Report`). For theses traces, create a bar plot showing the number of products of a certain brand involved in the fraud. Describe the resulting plot.\n",
    "\n",
    "*Hint: Each case is associated with precisely one brand.*\n"
   ]
  },
  {
   "cell_type": "code",
   "execution_count": null,
   "id": "b55a45be-a26c-4098-b23a-29b85102a715",
   "metadata": {},
   "outputs": [],
   "source": [
    "# your code"
   ]
  },
  {
   "cell_type": "markdown",
   "id": "ca63f184-9cb3-48a0-abd4-b4146f1ebcaa",
   "metadata": {},
   "source": [
    "**Your answer:** (*Describe the plot in two to three sentences.*)"
   ]
  },
  {
   "cell_type": "markdown",
   "id": "c635a50b-a7d9-433c-96c8-aae526f9e459",
   "metadata": {
    "tags": []
   },
   "source": [
    "#### **c(ii)**  \n",
    "The plot shows differences between brands. Discuss the result. Consider what you learned in Lecture 11 (association rules). Try to provide additional analysis results to underpin your discussion.\n",
    "\n",
    "*Hint: A very short additional analysis (i.e., a few lines of code) might already be sufficient.*\n"
   ]
  },
  {
   "cell_type": "code",
   "execution_count": null,
   "id": "a32ba47d-c41f-418a-8b6b-b8176171b0a7",
   "metadata": {},
   "outputs": [],
   "source": [
    "# your code (for a short additional analysis)"
   ]
  },
  {
   "cell_type": "markdown",
   "id": "81d49c56-6d9e-4b11-9fa4-d623f87a2f9a",
   "metadata": {},
   "source": [
    "**Your answer:** *(Relate your results to Lecture 11, approximately one short paragraph)*"
   ]
  },
  {
   "cell_type": "markdown",
   "id": "63da1709-2452-4ac2-a162-ea5702d1694a",
   "metadata": {},
   "source": [
    "## Question 6 - Simpson's Paradox (3 pts)"
   ]
  },
  {
   "cell_type": "markdown",
   "id": "1dd0ddaa-03b6-4195-923b-6ce0e73b02f0",
   "metadata": {},
   "source": [
    "### Sex Bias in Berkeley Graduate Admissions?\n",
    "\n",
    "In the Fall of 1973, the University of California at Berkeley released data about their graduate class. The data showed the major the applicant applied to, their self-reported gender (Male or Female), and whether or not they were accepted or rejected. The acceptance rates between men and women were different. This caused immediate concern in the public as people thought that Berkeley was biased against women."
   ]
  },
  {
   "cell_type": "markdown",
   "id": "04df6ab4-e21f-4265-8d40-077bff5d5baa",
   "metadata": {},
   "source": [
    "The \"Berkeley Dataset\" contains all 12,763 applicants to UC-Berkeley's graduate programs in Fall 1973. This dataset was published by UC-Berkeley researchers in an analysis to understand the possible gender bias in admissions.\n",
    "\n",
    "Dataset Variables:\n",
    "\n",
    "Year : number ➜ The application year (this value is always 1973)\n",
    "\n",
    "Major : string ➜: An anonymized major code (either A, B, C, D, E, F, or Other). The specific majors are unknown except that A-F are the six majors with the most applicants in Fall 1973\n",
    "\n",
    "Gender : string ➜ Applicant self-reported gender (either M or F)\n",
    "\n",
    "Admission: string ➜ Admission decision (either Rejected or Accepted)"
   ]
  },
  {
   "cell_type": "markdown",
   "id": "058897ab-2f92-4f71-b00c-ec3109d63687",
   "metadata": {},
   "source": [
    "**a)**\n",
    "Upload the data from the `berkeley.csv` file and load it into a dataframe named `data`. Display the first few lines from the dataframe."
   ]
  },
  {
   "cell_type": "code",
   "execution_count": null,
   "id": "a34afacf-87c8-472b-86ae-728311145b18",
   "metadata": {},
   "outputs": [],
   "source": [
    "# your code"
   ]
  },
  {
   "cell_type": "markdown",
   "id": "9b5bd1eb-0c70-4e11-b0b9-fa132dbebdd3",
   "metadata": {},
   "source": [
    "**b)** Remove the \"Year\" column as it does not contain any information in this dataset (all years are 1973.)"
   ]
  },
  {
   "cell_type": "code",
   "execution_count": null,
   "id": "db47b833-2b21-473e-a2ae-93edceb1478c",
   "metadata": {},
   "outputs": [],
   "source": [
    "# your code"
   ]
  },
  {
   "cell_type": "markdown",
   "id": "ef777de3-cdcd-474d-ba69-d8c206bfd46e",
   "metadata": {},
   "source": [
    "**c)** For each of the values of column \"Gender\", compute the admission rate and compare them against each other."
   ]
  },
  {
   "cell_type": "code",
   "execution_count": null,
   "id": "f038e712-b3d7-4e28-a809-8506d0ff8847",
   "metadata": {},
   "outputs": [],
   "source": [
    "# your code"
   ]
  },
  {
   "cell_type": "markdown",
   "id": "3dc2a3b7-659b-4710-91b1-230e19206a82",
   "metadata": {},
   "source": [
    "**Your answer:**"
   ]
  },
  {
   "cell_type": "markdown",
   "id": "20439634-fed0-47fa-9ca6-68c9cf001f7c",
   "metadata": {},
   "source": [
    "**d)** For each value combination of the \"Gender\" and \"Major\" columns, compute the admission rate. Compare the admission rate of women against the admission rate of men for each of the majors."
   ]
  },
  {
   "cell_type": "code",
   "execution_count": null,
   "id": "480b4533-2741-4433-a74b-8ec7bb4bb494",
   "metadata": {},
   "outputs": [],
   "source": [
    "# your code"
   ]
  },
  {
   "cell_type": "markdown",
   "id": "9daa585b-c647-499b-9afb-78e1c3a2502e",
   "metadata": {},
   "source": [
    "**Your answer:**"
   ]
  },
  {
   "cell_type": "markdown",
   "id": "78625577-641f-4f34-a633-bae183fee886",
   "metadata": {},
   "source": [
    "**e)** Can you confirm there is a sex bias in the admission rates of the students?"
   ]
  },
  {
   "cell_type": "markdown",
   "id": "acf0d7eb-e486-4b0e-96e9-da24e9bc8b12",
   "metadata": {},
   "source": [
    "**Your answer:**"
   ]
  },
  {
   "cell_type": "markdown",
   "id": "927712ec-fd3c-4561-8732-c3babeb514f3",
   "metadata": {
    "tags": []
   },
   "source": [
    "## Question 7: Big Data (15pts)"
   ]
  },
  {
   "cell_type": "code",
   "execution_count": null,
   "id": "1e67686c-0788-4b91-bcf0-70b8e8738aab",
   "metadata": {},
   "outputs": [],
   "source": [
    "import pandas as pd"
   ]
  },
  {
   "cell_type": "markdown",
   "id": "193ba79e-e377-41e0-84b1-d61fc81f0bb1",
   "metadata": {
    "jp-MarkdownHeadingCollapsed": true,
    "tags": []
   },
   "source": [
    "You are a data scientist at NASA, an agency for civil space programs, and with your team you develop and maintain the software of the NASA Crew Exploration Vehicle (CEV).  Your task is to analyze the performance of the software, and as a first exploratory step, you would like to **compute the mean execution times** of function calls within that software. Since the running vehicle will generate a high throughput of observable events in a stream, you decide to set up a MapReduce pipeline in Hadoop. \n",
    "\n",
    "The file **nasa-cev-software-tests.tsv** records timestamped events of the vehicle's software tests. The log contains the columns *Case*, *Activity* and *Timestamp*, denoting the case ID, the activity key (method call) and timestamp of the event record in nanoseconds, respectively. Furthermore, the log contains the columns *Lifecycle Transition* and *Execution ID*. The lifecycle transition takes either of the values *start* and *complete*, stating whether the corresponding activity (method call) in that row is being started or completed at the specified timestamp. The execution ID relates each event to a concrete method call, i.e., for each execution ID, there are exactly two entries (namely a *start* and a *complete* event) in the log."
   ]
  },
  {
   "cell_type": "markdown",
   "id": "e5686ba3-56fa-4e35-9423-5374e47e7acf",
   "metadata": {
    "tags": []
   },
   "source": [
    "### a) Plan the Maths (2pt):"
   ]
  },
  {
   "cell_type": "markdown",
   "id": "6c24cce6",
   "metadata": {},
   "source": [
    "The mean $\\mu_n$ over numerical values $v_1,...,v_n$ is well-known to be computed as $\\mu_n = \\frac{1}{n}\\sum_{i=1}^{n} v_i$.\\\n",
    "One may also use the alternative recursive formalization $\\mu_{n+m} = \\frac{n\\cdot\\mu_{n} + m\\cdot\\mu_{m}}{n+m}$. \\\n",
    "What is the advantage of using the alternative formalization when you think of handling streaming data or distributed data? Briefly explain.\n"
   ]
  },
  {
   "cell_type": "markdown",
   "id": "4816e8fb-3968-4f34-8307-a2544fd551dc",
   "metadata": {},
   "source": [
    "**Your answer:**"
   ]
  },
  {
   "cell_type": "markdown",
   "id": "76ab1e45-757c-4dc4-a962-882fb3d6d95f",
   "metadata": {
    "tags": []
   },
   "source": [
    "### b) Set up MapReduce (10pts)"
   ]
  },
  {
   "cell_type": "markdown",
   "id": "d10d054f-512e-49a6-b935-85c80880368b",
   "metadata": {
    "tags": []
   },
   "source": [
    "Realize the computation of the mean execution times of activities as a MapReduce job. \n",
    "You need to implement this a cascaded MapReduced job. This means that the output of the first job will serve as the input of the second job. In the first job, derive the execution times of each activity execution, i.e. the time difference between the *complete* and the *start* lifecycle transition of each activity execution. In the second step, aggregate this timing information to compute the mean."
   ]
  },
  {
   "cell_type": "markdown",
   "id": "d6653ff4-8c18-44d4-9de5-98ad8715425a",
   "metadata": {
    "tags": []
   },
   "source": [
    "#### **b(i)** \n",
    "Specify the *function signatures* of the map functions and the reduce functions that you are going to use.\\\n",
    "I.e., find concrete sets to substitute $K_1, V_1, ... $ in the general signatures for map and reduce functions \\\n",
    "\n",
    "$ map:  K_1 \\times V_1 \\rightarrow (K_2 \\times V_2)^* $\\\n",
    "$ reduce: K_2 \\times (V_2)^* \\rightarrow (V_3)^*$ (or a singleton $V_3$) \n",
    "\n",
    "*Hint: You may introduce symbols to denote sets, e.g. $Act$ for the set of activities.\\\n",
    "You may also first implement the solution (b(ii)) to get an idea about the underlying signatures.\\\n",
    "Mind that you need two map and two reduce functions.*"
   ]
  },
  {
   "cell_type": "markdown",
   "id": "4d24616b-2f62-4317-950c-20956c8a50bc",
   "metadata": {
    "tags": []
   },
   "source": [
    "**Your answer:**"
   ]
  },
  {
   "cell_type": "markdown",
   "id": "d7511e48-b42e-4236-8232-aef6fccec140",
   "metadata": {},
   "source": [
    "#### **b(ii)**: \n",
    "Specify map functions and reduce functions to compute the mean execution time per activity as python scripts."
   ]
  },
  {
   "cell_type": "code",
   "execution_count": null,
   "id": "b833afd8-718b-41aa-b54b-4193404477fb",
   "metadata": {},
   "outputs": [],
   "source": [
    "# your code (nasa_mapper1.py)"
   ]
  },
  {
   "cell_type": "code",
   "execution_count": null,
   "id": "eac87097-d200-4871-a3a3-513ea6a635a8",
   "metadata": {},
   "outputs": [],
   "source": [
    "# your code (nasa_reducer1.py)"
   ]
  },
  {
   "cell_type": "code",
   "execution_count": null,
   "id": "191be80c-2ba2-45af-90fa-cff451bb656d",
   "metadata": {},
   "outputs": [],
   "source": [
    "# your code (nasa_mapper2.py)"
   ]
  },
  {
   "cell_type": "code",
   "execution_count": null,
   "id": "5f15c173-dd64-4d9f-b477-c20e16ae265f",
   "metadata": {},
   "outputs": [],
   "source": [
    "# your code (nasa_reducer2.py)"
   ]
  },
  {
   "cell_type": "markdown",
   "id": "4b2739a1-c55f-4e7e-b0d2-12bcee4f3333",
   "metadata": {},
   "source": []
  },
  {
   "cell_type": "markdown",
   "id": "9109b6f2-cc6f-41b1-8274-f651f7b663bc",
   "metadata": {
    "tags": []
   },
   "source": [
    "### c) Run MapReduce (3pts)"
   ]
  },
  {
   "cell_type": "markdown",
   "id": "0de07da6-979f-4f2a-a331-843259636a0c",
   "metadata": {},
   "source": [
    "In the following, please use one of your team members' matriculation number as an identifier."
   ]
  },
  {
   "cell_type": "markdown",
   "id": "94b8fbac-5766-420a-9595-423f0b092d73",
   "metadata": {
    "tags": []
   },
   "source": [
    "#### **c(i) (Randomization)**: \n",
    "Before applying your functions from the previous step to the dataset, please insert the matriculation number and run the following lines to randomly filter out a few of the traces in the event log, and continue working with the filtered log. \n"
   ]
  },
  {
   "cell_type": "code",
   "execution_count": null,
   "id": "4e139cb0-b347-46be-a070-ae9447fe010a",
   "metadata": {},
   "outputs": [],
   "source": [
    "# your matriculation number here\n",
    "matr_nb = # ... #\n",
    "\n",
    "# utility code (do not change)\n",
    "import random\n",
    "random.seed(matr_nb)\n",
    "\n",
    "full_df = pd.read_csv(\"datasets/nasa-cev-software-tests.tsv\", sep=\"\\t\")\n",
    "\n",
    "case_ids = list(set(full_df[\"Case\"].values))\n",
    "case_ids.sort()\n",
    "filtered_out_case_ids = random.sample(case_ids, 10)\n",
    "filtered_case_ids = [case_id for case_id in case_ids if case_id not in filtered_out_case_ids]\n",
    "randomized_df = full_df[full_df[\"Case\"].isin(filtered_case_ids)]\n",
    "\n",
    "randomized_df.to_csv(\"datasets/nasa-cev-software-tests-randomized-\" + str(matr_nb) + \".tsv\",\n",
    "          columns=[\"Activity\", \"Timestamp\", \"Lifecycle Transition\", \"Execution ID\"],\n",
    "          sep=\"\\t\", index=False, header=False)"
   ]
  },
  {
   "cell_type": "markdown",
   "id": "7aa8989a-1d2e-4360-888a-732a269525dd",
   "metadata": {
    "tags": []
   },
   "source": [
    "#### **c(ii)**:\n",
    "Now, it is time to work with the Hadoop Distributed File System (HDFS). Follow the instructions below and show your results in each step (screenshots of the command line).\n",
    "\n",
    "    1) Import the event log to your Docker engine (at /usr/local/hadoop/(your_matr_nb)-event-log/). You also need to import the python scripts, but only document the event log import here.\n",
    "    2) Upload the files to the running HDFS (at /input/(your_matr_nb)-event-log/).\n",
    "\t3) Run Hadoop commands for the MapReduce computation.\n",
    "    4) Show the final output (computed mean execution times)."
   ]
  },
  {
   "cell_type": "code",
   "execution_count": null,
   "id": "6d3b0d41-bf64-43a8-a297-94da3a389f37",
   "metadata": {},
   "outputs": [],
   "source": [
    "from IPython.display import Image\n",
    "# your code\n",
    "# Image(filename='filename_screenshot_of_a1')"
   ]
  },
  {
   "cell_type": "code",
   "execution_count": null,
   "id": "6ca0a837-d297-4bb9-b377-d9744764fc52",
   "metadata": {},
   "outputs": [],
   "source": [
    "# your code\n",
    "# Image(filename='filename_screenshot_of_a2')"
   ]
  },
  {
   "cell_type": "code",
   "execution_count": null,
   "id": "9fcbd059-5813-4bf8-95ca-a5a06c3e32c5",
   "metadata": {},
   "outputs": [],
   "source": [
    "# your code\n",
    "# Image(filename='filename_screenshot_of_a3')"
   ]
  },
  {
   "cell_type": "code",
   "execution_count": null,
   "id": "d7141831-06ce-41a8-a6e2-c31de6e775af",
   "metadata": {},
   "outputs": [],
   "source": [
    "# your code\n",
    "# Image(filename='filename_screenshot_of_a4')"
   ]
  }
 ],
 "metadata": {
  "kernelspec": {
   "display_name": "env-IDS2022-23",
   "language": "python",
   "name": "python3"
  },
  "language_info": {
   "codemirror_mode": {
    "name": "ipython",
    "version": 3
   },
   "file_extension": ".py",
   "mimetype": "text/x-python",
   "name": "python",
   "nbconvert_exporter": "python",
   "pygments_lexer": "ipython3",
   "version": "3.9.12"
  },
  "vscode": {
   "interpreter": {
    "hash": "c7a10ad168661c547681ac105106e9af30308b6854d2c8dd17691541f9ee989d"
   }
  }
 },
 "nbformat": 4,
 "nbformat_minor": 5
}
