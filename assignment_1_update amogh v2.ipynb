{
 "cells": [
  {
   "cell_type": "markdown",
   "id": "3c531158",
   "metadata": {},
   "source": [
    "# IDS Assignment Part 1 - <font color=\"red\"><h7>Deadline: 18/12/2022 23:59</h7></font>\n",
    "This is the first part of the assignments in IDS 2022/2023. \n",
    "Please use this Jupyter notebook to work on the questions posed in the assignment. When you are done, upload the notebook in Moodle at the designated activity. This is the _only_ file that is required. A separate report is _not_ needed and will not be considered for grading. \n",
    "\n",
    "Give your commented Python code and answers in the corresponding provided cells. Make sure to answer all questions in a clear and explicit manner and discuss your outputs. _Please do not change the general structure of this notebook_. You can, however, add additional markdown or code cells if necessary. <b>Please DO NOT CLEAR THE OUTPUT of the notebook you are submitting! </b>\n",
    "\n",
    "<font color=\"red\"> *Please make sure to include the names and matriculation numbers of all group members in the slot provided below.* </font> If a name or a student id is missing, the student will not receive any points.\n",
    "\n",
    "Hint 1: While working on the assignment, you will get a better understanding of the dataset. Feel free to generate additional results and visualizations to support your answers. For example, this might be useful regarding data modification, data simplification, or output interpretation. <font color=\"red\">Ensure that all your claims are supported.</font>\n",
    "\n",
    "Hint 2: <font color=\"red\">Plan your time wisely. </font> A few parts of this assignment may take some time to run. It might be necessary to consider time management when you plan your group work. Also, do not attempt to upload your assignment at the last minute before the deadline. This often does not work, and you will miss the deadline. Late submissions will not be considered.\n",
    "\n",
    "Hint 3: RWTHmoodle allows multiple submissions, with every new submission overwriting the previous one. <b>Partial submissions are therefore possible and encouraged. </b> This might be helpful in case of technical issues with RWTHMoodle, which may occur close to the deadline."
   ]
  },
  {
   "cell_type": "markdown",
   "id": "9e826e43",
   "metadata": {},
   "source": [
    "<font color=\"red\"><b>Student Names and IDs:\n",
    "    \n",
    "    1. \n",
    "    \n",
    "    2. \n",
    "    \n",
    "    3."
   ]
  },
  {
   "cell_type": "markdown",
   "id": "171c05f0",
   "metadata": {},
   "source": [
    "For those using Jupyter Notebook in your local environments, please install the following library in your environment:\n",
    "```pip install umap-learn==0.5.3```"
   ]
  },
  {
   "cell_type": "code",
   "execution_count": 72,
   "id": "ab570761-1a8a-4c62-8de2-534f88604bb8",
   "metadata": {
    "colab": {
     "base_uri": "https://localhost:8080/"
    },
    "id": "ab570761-1a8a-4c62-8de2-534f88604bb8",
    "outputId": "a8278aa6-aa87-4cea-c7f7-10ab381b364f"
   },
   "outputs": [],
   "source": [
    "# your imports (only use libraries provided in the environment)\n",
    "import numpy as np\n",
    "import pandas as pd\n",
    "from matplotlib import pyplot as plt\n",
    "import seaborn as sns\n",
    "\n",
    "from p_decision_tree.DecisionTree import DecisionTree\n",
    "\n",
    "import pydotplus\n",
    "import networkx\n",
    "\n",
    "from sklearn.preprocessing import OneHotEncoder, MinMaxScaler\n",
    "from sklearn.linear_model import LinearRegression\n",
    "from sklearn.svm import LinearSVR, SVR\n",
    "from sklearn.model_selection import train_test_split\n",
    "from sklearn.metrics import mean_squared_error, mean_absolute_error\n",
    "\n",
    "from sklearn.compose import make_column_transformer\n",
    "\n",
    "from sklearn.neural_network import MLPClassifier"
   ]
  },
  {
   "cell_type": "markdown",
   "id": "le9qm43wNPGY",
   "metadata": {
    "id": "le9qm43wNPGY"
   },
   "source": [
    "# Pricing your AirBnB"
   ]
  },
  {
   "cell_type": "markdown",
   "id": "8dfa8631-4eba-4472-b981-510d243e1b2b",
   "metadata": {
    "id": "8dfa8631-4eba-4472-b981-510d243e1b2b"
   },
   "source": [
    "You finally made it! Working as a data scientist at an established process mining company in New York, you earned so much money that you can buy a flat for yourself. You decide to buy a 2-room apartment in Manhattan. Congratulations!\n",
    "\n",
    "Currently, you are still living in your rental apartment and are tied to a long-running rental contract. You can only use the apartment in 5 years from now. Therefore, you want to use the apartment as an AirBnB in the meantime, generating some consistent income. \n",
    "\n",
    "\n",
    "You have no clue how you should price your AirBnB per night (you are living in New York, so you never needed to book an AirBnB). You decide to leverage your unique skill set and perform a data-driven, informed decision. You collect all the data you can get your hands on by traversing all New York apartments. The retrieved data set **AirBnB_original.csv** is your starting point for investigation."
   ]
  },
  {
   "cell_type": "markdown",
   "id": "7e21b607-828f-47b4-a57a-18b6ccab6322",
   "metadata": {
    "id": "7e21b607-828f-47b4-a57a-18b6ccab6322"
   },
   "source": [
    "## Question 1: Exploring the Data Set (18 points)"
   ]
  },
  {
   "cell_type": "markdown",
   "id": "3a79e889",
   "metadata": {
    "id": "3a79e889"
   },
   "source": [
    "As with every data set, you first want to know what you are dealing with. You perform some exploratory data analysis and clean the data along the way."
   ]
  },
  {
   "cell_type": "markdown",
   "id": "8L8J85EfPRoZ",
   "metadata": {
    "id": "8L8J85EfPRoZ"
   },
   "source": [
    "Show a few data points contained in the data set. Include all attributes. **(0.5 point)**"
   ]
  },
  {
   "cell_type": "code",
   "execution_count": 9,
   "id": "ly3THPi7PdLJ",
   "metadata": {
    "id": "ly3THPi7PdLJ"
   },
   "outputs": [
    {
     "data": {
      "text/html": [
       "<div>\n",
       "<style scoped>\n",
       "    .dataframe tbody tr th:only-of-type {\n",
       "        vertical-align: middle;\n",
       "    }\n",
       "\n",
       "    .dataframe tbody tr th {\n",
       "        vertical-align: top;\n",
       "    }\n",
       "\n",
       "    .dataframe thead th {\n",
       "        text-align: right;\n",
       "    }\n",
       "</style>\n",
       "<table border=\"1\" class=\"dataframe\">\n",
       "  <thead>\n",
       "    <tr style=\"text-align: right;\">\n",
       "      <th></th>\n",
       "      <th>id</th>\n",
       "      <th>host id</th>\n",
       "      <th>neighborhood group</th>\n",
       "      <th>neighborhood</th>\n",
       "      <th>lat</th>\n",
       "      <th>long</th>\n",
       "      <th>country</th>\n",
       "      <th>country code</th>\n",
       "      <th>instant bookable</th>\n",
       "      <th>cancellation policy</th>\n",
       "      <th>room type</th>\n",
       "      <th>construction year</th>\n",
       "      <th>price</th>\n",
       "      <th>service fee</th>\n",
       "      <th>minimum nights</th>\n",
       "      <th>number of reviews</th>\n",
       "      <th>review rate number</th>\n",
       "      <th>calculated host listings count</th>\n",
       "      <th>number rooms</th>\n",
       "    </tr>\n",
       "  </thead>\n",
       "  <tbody>\n",
       "    <tr>\n",
       "      <th>0</th>\n",
       "      <td>1001254</td>\n",
       "      <td>80014485718</td>\n",
       "      <td>Brooklyn</td>\n",
       "      <td>Kensington</td>\n",
       "      <td>40.64749</td>\n",
       "      <td>-73.97237</td>\n",
       "      <td>United States</td>\n",
       "      <td>US</td>\n",
       "      <td>0</td>\n",
       "      <td>strict</td>\n",
       "      <td>Private room</td>\n",
       "      <td>2020.0</td>\n",
       "      <td>966</td>\n",
       "      <td>193.0</td>\n",
       "      <td>7.0</td>\n",
       "      <td>9.0</td>\n",
       "      <td>4.0</td>\n",
       "      <td>6.0</td>\n",
       "      <td>1</td>\n",
       "    </tr>\n",
       "    <tr>\n",
       "      <th>1</th>\n",
       "      <td>1002102</td>\n",
       "      <td>52335172823</td>\n",
       "      <td>Manhattan</td>\n",
       "      <td>Midtown</td>\n",
       "      <td>40.75362</td>\n",
       "      <td>-73.98377</td>\n",
       "      <td>United States</td>\n",
       "      <td>US</td>\n",
       "      <td>0</td>\n",
       "      <td>moderate</td>\n",
       "      <td>Entire home/apt</td>\n",
       "      <td>2007.0</td>\n",
       "      <td>142</td>\n",
       "      <td>28.0</td>\n",
       "      <td>7.0</td>\n",
       "      <td>45.0</td>\n",
       "      <td>4.0</td>\n",
       "      <td>2.0</td>\n",
       "      <td>2</td>\n",
       "    </tr>\n",
       "    <tr>\n",
       "      <th>2</th>\n",
       "      <td>1002403</td>\n",
       "      <td>78829239556</td>\n",
       "      <td>Manhattan</td>\n",
       "      <td>Harlem</td>\n",
       "      <td>40.80902</td>\n",
       "      <td>-73.94190</td>\n",
       "      <td>United States</td>\n",
       "      <td>US</td>\n",
       "      <td>0</td>\n",
       "      <td>flexible</td>\n",
       "      <td>Private room</td>\n",
       "      <td>2005.0</td>\n",
       "      <td>620</td>\n",
       "      <td>124.0</td>\n",
       "      <td>3.0</td>\n",
       "      <td>0.0</td>\n",
       "      <td>5.0</td>\n",
       "      <td>1.0</td>\n",
       "      <td>1</td>\n",
       "    </tr>\n",
       "    <tr>\n",
       "      <th>3</th>\n",
       "      <td>1002755</td>\n",
       "      <td>85098326012</td>\n",
       "      <td>Brooklyn</td>\n",
       "      <td>Clinton Hill</td>\n",
       "      <td>40.68514</td>\n",
       "      <td>-73.95976</td>\n",
       "      <td>United States</td>\n",
       "      <td>US</td>\n",
       "      <td>0</td>\n",
       "      <td>moderate</td>\n",
       "      <td>Entire home/apt</td>\n",
       "      <td>2005.0</td>\n",
       "      <td>368</td>\n",
       "      <td>74.0</td>\n",
       "      <td>7.0</td>\n",
       "      <td>270.0</td>\n",
       "      <td>4.0</td>\n",
       "      <td>1.0</td>\n",
       "      <td>2</td>\n",
       "    </tr>\n",
       "    <tr>\n",
       "      <th>4</th>\n",
       "      <td>1003689</td>\n",
       "      <td>92037596077</td>\n",
       "      <td>Manhattan</td>\n",
       "      <td>East Harlem</td>\n",
       "      <td>40.79851</td>\n",
       "      <td>-73.94399</td>\n",
       "      <td>United States</td>\n",
       "      <td>US</td>\n",
       "      <td>0</td>\n",
       "      <td>moderate</td>\n",
       "      <td>Entire home/apt</td>\n",
       "      <td>2009.0</td>\n",
       "      <td>204</td>\n",
       "      <td>41.0</td>\n",
       "      <td>7.0</td>\n",
       "      <td>9.0</td>\n",
       "      <td>3.0</td>\n",
       "      <td>1.0</td>\n",
       "      <td>1</td>\n",
       "    </tr>\n",
       "  </tbody>\n",
       "</table>\n",
       "</div>"
      ],
      "text/plain": [
       "        id      host id neighborhood group  neighborhood       lat      long  \\\n",
       "0  1001254  80014485718           Brooklyn    Kensington  40.64749 -73.97237   \n",
       "1  1002102  52335172823          Manhattan       Midtown  40.75362 -73.98377   \n",
       "2  1002403  78829239556          Manhattan        Harlem  40.80902 -73.94190   \n",
       "3  1002755  85098326012           Brooklyn  Clinton Hill  40.68514 -73.95976   \n",
       "4  1003689  92037596077          Manhattan   East Harlem  40.79851 -73.94399   \n",
       "\n",
       "         country country code  instant bookable cancellation policy  \\\n",
       "0  United States           US                 0              strict   \n",
       "1  United States           US                 0            moderate   \n",
       "2  United States           US                 0            flexible   \n",
       "3  United States           US                 0            moderate   \n",
       "4  United States           US                 0            moderate   \n",
       "\n",
       "         room type  construction year  price  service fee  minimum nights  \\\n",
       "0     Private room             2020.0    966        193.0             7.0   \n",
       "1  Entire home/apt             2007.0    142         28.0             7.0   \n",
       "2     Private room             2005.0    620        124.0             3.0   \n",
       "3  Entire home/apt             2005.0    368         74.0             7.0   \n",
       "4  Entire home/apt             2009.0    204         41.0             7.0   \n",
       "\n",
       "   number of reviews  review rate number  calculated host listings count  \\\n",
       "0                9.0                 4.0                             6.0   \n",
       "1               45.0                 4.0                             2.0   \n",
       "2                0.0                 5.0                             1.0   \n",
       "3              270.0                 4.0                             1.0   \n",
       "4                9.0                 3.0                             1.0   \n",
       "\n",
       "   number rooms  \n",
       "0             1  \n",
       "1             2  \n",
       "2             1  \n",
       "3             2  \n",
       "4             1  "
      ]
     },
     "execution_count": 9,
     "metadata": {},
     "output_type": "execute_result"
    }
   ],
   "source": [
    "# Your answer goes here\n",
    "airbnb_data = pd.read_csv(\"AirBnB_original.csv\")\n",
    "airbnb_data.head()"
   ]
  },
  {
   "cell_type": "markdown",
   "id": "9_9aEzu5PI1h",
   "metadata": {
    "id": "9_9aEzu5PI1h"
   },
   "source": [
    "### Basic Cleaning (4 points)"
   ]
  },
  {
   "cell_type": "markdown",
   "id": "38360b13",
   "metadata": {
    "id": "38360b13"
   },
   "source": [
    "First, you have to remove NaN entries across the data set such that we only keep rows without any NaN value. How many rows did you remove? **(0.5 points)**"
   ]
  },
  {
   "cell_type": "code",
   "execution_count": 10,
   "id": "d8b96e7f",
   "metadata": {
    "id": "ly3THPi7PdLJ"
   },
   "outputs": [
    {
     "name": "stdout",
     "output_type": "stream",
     "text": [
      "We removed 1477 rows!\n"
     ]
    }
   ],
   "source": [
    "# Your answer goes here\n",
    "airbnb_nan_removed_data = airbnb_data.dropna().reset_index(drop=True)\n",
    "dropped_rows = airbnb_data.shape[0] - airbnb_nan_removed_data.shape[0]\n",
    "print(f\"We removed {dropped_rows} rows!\")"
   ]
  },
  {
   "cell_type": "markdown",
   "id": "1dee5fbc",
   "metadata": {
    "id": "1dee5fbc"
   },
   "source": [
    "Since duplicated entries are misleading, we want to remove duplicate flats (identified by their id), such that we only keep them once and create a new dataset. How many duplicates are removed? **(0.5 point)**"
   ]
  },
  {
   "cell_type": "code",
   "execution_count": 11,
   "id": "403479a7",
   "metadata": {
    "id": "ly3THPi7PdLJ"
   },
   "outputs": [
    {
     "name": "stdout",
     "output_type": "stream",
     "text": [
      "We removed 389 duplicate rows!\n"
     ]
    }
   ],
   "source": [
    "# Your answer goes here\n",
    "airbnb_duplicate_removed_data = airbnb_nan_removed_data.drop_duplicates(\n",
    "    subset=[\"id\"]\n",
    ").reset_index(drop=True)\n",
    "dropped_duplicates = (\n",
    "    airbnb_nan_removed_data.shape[0] - airbnb_duplicate_removed_data.shape[0]\n",
    ")\n",
    "print(f\"We removed {dropped_duplicates} duplicate rows!\")"
   ]
  },
  {
   "cell_type": "markdown",
   "id": "Yty_b-ftfTPc",
   "metadata": {
    "id": "Yty_b-ftfTPc"
   },
   "source": [
    "From now on, you work with the dataset **AirBnB_cleaned.csv**."
   ]
  },
  {
   "cell_type": "markdown",
   "id": "g-rLfHOoEGuz",
   "metadata": {
    "id": "g-rLfHOoEGuz"
   },
   "source": [
    "To get a feeling for nightly prices in New York, you take a look at the price attribute. Calculate the average price, the first and third quantiles, and the standard deviation. **(1 point)**"
   ]
  },
  {
   "cell_type": "code",
   "execution_count": 12,
   "id": "76bb6f5a",
   "metadata": {
    "id": "ly3THPi7PdLJ"
   },
   "outputs": [
    {
     "name": "stdout",
     "output_type": "stream",
     "text": [
      "Average price of AirBnBs in New York is: 625.4636797380085\n",
      "First quantile of price of AirBnBs in New York is: 340.0\n",
      "Third quantile of price of AirBnBs in New York is: 913.0\n",
      "Standard deviation of price of AirBnBs in New York is: 331.23624102553555\n"
     ]
    }
   ],
   "source": [
    "# Your answer goes here\n",
    "airbnb_cleaned = pd.read_csv(\"AirBnB_cleaned.csv\")\n",
    "avg_price = airbnb_cleaned[\"price\"].mean()\n",
    "first_quantile_price = airbnb_cleaned[\"price\"].quantile(0.25)\n",
    "third_quantile_price = airbnb_cleaned[\"price\"].quantile(0.75)\n",
    "std_price = airbnb_cleaned[\"price\"].std()\n",
    "\n",
    "print(f\"Average price of AirBnBs in New York is: {avg_price}\")\n",
    "print(f\"First quantile of price of AirBnBs in New York is: {first_quantile_price}\")\n",
    "print(f\"Third quantile of price of AirBnBs in New York is: {third_quantile_price}\")\n",
    "print(f\"Standard deviation of price of AirBnBs in New York is: {std_price}\")"
   ]
  },
  {
   "cell_type": "markdown",
   "id": "eqDy9wQIElfF",
   "metadata": {
    "id": "eqDy9wQIElfF"
   },
   "source": [
    "You want to get a more visual picture of the price range. Use a histogram and boxplot to show the distribution of prices on the entire dataset. **(2 points)**"
   ]
  },
  {
   "cell_type": "code",
   "execution_count": 13,
   "id": "efc0714e",
   "metadata": {
    "id": "ly3THPi7PdLJ"
   },
   "outputs": [
    {
     "data": {
      "text/plain": [
       "{'whiskers': [<matplotlib.lines.Line2D at 0x1d017b78cd0>,\n",
       "  <matplotlib.lines.Line2D at 0x1d017b78f70>],\n",
       " 'caps': [<matplotlib.lines.Line2D at 0x1d01766e250>,\n",
       "  <matplotlib.lines.Line2D at 0x1d01766e4f0>],\n",
       " 'boxes': [<matplotlib.lines.Line2D at 0x1d017b781f0>],\n",
       " 'medians': [<matplotlib.lines.Line2D at 0x1d01766e790>],\n",
       " 'fliers': [<matplotlib.lines.Line2D at 0x1d01766ea30>],\n",
       " 'means': []}"
      ]
     },
     "execution_count": 13,
     "metadata": {},
     "output_type": "execute_result"
    },
    {
     "data": {
      "image/png": "[encoded data removed]",
      "text/plain": [
       "<Figure size 1440x720 with 2 Axes>"
      ]
     },
     "metadata": {
      "needs_background": "light"
     },
     "output_type": "display_data"
    }
   ],
   "source": [
    "# Your answer goes here\n",
    "fig, (ax1, ax2) = plt.subplots(1, 2, figsize=(20, 10))\n",
    "ax1.hist(airbnb_cleaned[\"price\"], bins=50)\n",
    "ax2.boxplot(airbnb_cleaned[\"price\"])"
   ]
  },
  {
   "cell_type": "markdown",
   "id": "3RkQxNBpQ7mC",
   "metadata": {
    "id": "3RkQxNBpQ7mC"
   },
   "source": [
    "### Exploring Price Relationships (3 points)"
   ]
  },
  {
   "cell_type": "markdown",
   "id": "lKi9SkO1RF56",
   "metadata": {
    "id": "lKi9SkO1RF56"
   },
   "source": [
    "To inform our pricing decision, we want to investigate some differentiating factors for pricing apartments."
   ]
  },
  {
   "cell_type": "markdown",
   "id": "nClcY_FV_AKv",
   "metadata": {
    "id": "nClcY_FV_AKv"
   },
   "source": [
    "Since you have an overview of the prices and their distribution, you want to investigate which features of your dataset you might use to make your pricing decision. To do so, discuss each feature of the dataset and already rule out features that will definitely not impact the pricing decision. Below you can find a brief description of each feature: \n",
    "\n",
    "- id: Unique identifier for an apartment\n",
    "- host id: Identifier of the host offering a certain apartment\n",
    "- neighborhood group: Name of a neighborhood group in which an apartment is located\n",
    "- neighborhood: More fine-grained view on neighborhoods than neighborhood group\n",
    "- lat: Latitude coordinate of an apartment\n",
    "- long: Longitude coordinate of an apartment\n",
    "- country: The country in which an apartment is located\n",
    "- country code: Code of the country in which an apartment is located\n",
    "- instant bookable: Boolean values if an apartment is instantly bookable\n",
    "- cancellation policy: Policy for cancellation of booking\n",
    "- room type: Type of apartment/room\n",
    "- construction year: Year of construction of apartment\n",
    "- price: Price for renting an apartment\n",
    "- service fee: Fee of service\n",
    "- minimum nights: Number of minimum nights to rent an apartment\n",
    "- number of reviews: Number of reviews for an apartment\n",
    "- review rate number:  Review rate for an apartment (1 to 5)\n",
    "- calculated host listings count: Number of listings a host has\n",
    "- number rooms: Number of rooms in an apartment\n"
   ]
  },
  {
   "cell_type": "code",
   "execution_count": 14,
   "id": "2146a915",
   "metadata": {
    "id": "ly3THPi7PdLJ"
   },
   "outputs": [
    {
     "data": {
      "text/html": [
       "<div>\n",
       "<style scoped>\n",
       "    .dataframe tbody tr th:only-of-type {\n",
       "        vertical-align: middle;\n",
       "    }\n",
       "\n",
       "    .dataframe tbody tr th {\n",
       "        vertical-align: top;\n",
       "    }\n",
       "\n",
       "    .dataframe thead th {\n",
       "        text-align: right;\n",
       "    }\n",
       "</style>\n",
       "<table border=\"1\" class=\"dataframe\">\n",
       "  <thead>\n",
       "    <tr style=\"text-align: right;\">\n",
       "      <th></th>\n",
       "      <th>id</th>\n",
       "      <th>host id</th>\n",
       "      <th>lat</th>\n",
       "      <th>long</th>\n",
       "      <th>instant bookable</th>\n",
       "      <th>construction year</th>\n",
       "      <th>price</th>\n",
       "      <th>service fee</th>\n",
       "      <th>minimum nights</th>\n",
       "      <th>number of reviews</th>\n",
       "      <th>review rate number</th>\n",
       "      <th>calculated host listings count</th>\n",
       "      <th>number rooms</th>\n",
       "    </tr>\n",
       "  </thead>\n",
       "  <tbody>\n",
       "    <tr>\n",
       "      <th>count</th>\n",
       "      <td>7.084200e+04</td>\n",
       "      <td>7.084200e+04</td>\n",
       "      <td>70842.000000</td>\n",
       "      <td>70842.000000</td>\n",
       "      <td>70842.0</td>\n",
       "      <td>70842.000000</td>\n",
       "      <td>70842.000000</td>\n",
       "      <td>70842.000000</td>\n",
       "      <td>70842.000000</td>\n",
       "      <td>70842.000000</td>\n",
       "      <td>70842.000000</td>\n",
       "      <td>70842.000000</td>\n",
       "      <td>70842.000000</td>\n",
       "    </tr>\n",
       "    <tr>\n",
       "      <th>mean</th>\n",
       "      <td>2.827925e+07</td>\n",
       "      <td>4.916018e+10</td>\n",
       "      <td>40.727639</td>\n",
       "      <td>-73.948111</td>\n",
       "      <td>0.0</td>\n",
       "      <td>2012.494410</td>\n",
       "      <td>625.463680</td>\n",
       "      <td>125.093024</td>\n",
       "      <td>3.398408</td>\n",
       "      <td>33.021146</td>\n",
       "      <td>3.292129</td>\n",
       "      <td>9.905282</td>\n",
       "      <td>1.449804</td>\n",
       "    </tr>\n",
       "    <tr>\n",
       "      <th>std</th>\n",
       "      <td>1.593962e+07</td>\n",
       "      <td>2.853323e+10</td>\n",
       "      <td>0.057022</td>\n",
       "      <td>0.052435</td>\n",
       "      <td>0.0</td>\n",
       "      <td>5.769029</td>\n",
       "      <td>331.236241</td>\n",
       "      <td>66.249538</td>\n",
       "      <td>2.275040</td>\n",
       "      <td>53.645844</td>\n",
       "      <td>1.277966</td>\n",
       "      <td>37.165627</td>\n",
       "      <td>0.802218</td>\n",
       "    </tr>\n",
       "    <tr>\n",
       "      <th>min</th>\n",
       "      <td>1.002102e+06</td>\n",
       "      <td>1.297566e+08</td>\n",
       "      <td>40.499790</td>\n",
       "      <td>-74.249840</td>\n",
       "      <td>0.0</td>\n",
       "      <td>2003.000000</td>\n",
       "      <td>50.000000</td>\n",
       "      <td>10.000000</td>\n",
       "      <td>1.000000</td>\n",
       "      <td>0.000000</td>\n",
       "      <td>1.000000</td>\n",
       "      <td>1.000000</td>\n",
       "      <td>1.000000</td>\n",
       "    </tr>\n",
       "    <tr>\n",
       "      <th>25%</th>\n",
       "      <td>1.470114e+07</td>\n",
       "      <td>2.447529e+10</td>\n",
       "      <td>40.687730</td>\n",
       "      <td>-73.983110</td>\n",
       "      <td>0.0</td>\n",
       "      <td>2008.000000</td>\n",
       "      <td>340.000000</td>\n",
       "      <td>68.000000</td>\n",
       "      <td>1.000000</td>\n",
       "      <td>2.000000</td>\n",
       "      <td>2.000000</td>\n",
       "      <td>1.000000</td>\n",
       "      <td>1.000000</td>\n",
       "    </tr>\n",
       "    <tr>\n",
       "      <th>50%</th>\n",
       "      <td>2.845755e+07</td>\n",
       "      <td>4.890466e+10</td>\n",
       "      <td>40.722470</td>\n",
       "      <td>-73.953960</td>\n",
       "      <td>0.0</td>\n",
       "      <td>2012.000000</td>\n",
       "      <td>625.000000</td>\n",
       "      <td>125.000000</td>\n",
       "      <td>3.000000</td>\n",
       "      <td>11.000000</td>\n",
       "      <td>3.000000</td>\n",
       "      <td>1.000000</td>\n",
       "      <td>1.000000</td>\n",
       "    </tr>\n",
       "    <tr>\n",
       "      <th>75%</th>\n",
       "      <td>4.149280e+07</td>\n",
       "      <td>7.383586e+10</td>\n",
       "      <td>40.762880</td>\n",
       "      <td>-73.929800</td>\n",
       "      <td>0.0</td>\n",
       "      <td>2018.000000</td>\n",
       "      <td>913.000000</td>\n",
       "      <td>183.000000</td>\n",
       "      <td>5.000000</td>\n",
       "      <td>41.000000</td>\n",
       "      <td>4.000000</td>\n",
       "      <td>3.000000</td>\n",
       "      <td>2.000000</td>\n",
       "    </tr>\n",
       "    <tr>\n",
       "      <th>max</th>\n",
       "      <td>5.736024e+07</td>\n",
       "      <td>9.876268e+10</td>\n",
       "      <td>40.916970</td>\n",
       "      <td>-73.705220</td>\n",
       "      <td>0.0</td>\n",
       "      <td>2022.000000</td>\n",
       "      <td>1200.000000</td>\n",
       "      <td>240.000000</td>\n",
       "      <td>7.000000</td>\n",
       "      <td>1010.000000</td>\n",
       "      <td>5.000000</td>\n",
       "      <td>332.000000</td>\n",
       "      <td>4.000000</td>\n",
       "    </tr>\n",
       "  </tbody>\n",
       "</table>\n",
       "</div>"
      ],
      "text/plain": [
       "                 id       host id           lat          long  \\\n",
       "count  7.084200e+04  7.084200e+04  70842.000000  70842.000000   \n",
       "mean   2.827925e+07  4.916018e+10     40.727639    -73.948111   \n",
       "std    1.593962e+07  2.853323e+10      0.057022      0.052435   \n",
       "min    1.002102e+06  1.297566e+08     40.499790    -74.249840   \n",
       "25%    1.470114e+07  2.447529e+10     40.687730    -73.983110   \n",
       "50%    2.845755e+07  4.890466e+10     40.722470    -73.953960   \n",
       "75%    4.149280e+07  7.383586e+10     40.762880    -73.929800   \n",
       "max    5.736024e+07  9.876268e+10     40.916970    -73.705220   \n",
       "\n",
       "       instant bookable  construction year         price   service fee  \\\n",
       "count           70842.0       70842.000000  70842.000000  70842.000000   \n",
       "mean                0.0        2012.494410    625.463680    125.093024   \n",
       "std                 0.0           5.769029    331.236241     66.249538   \n",
       "min                 0.0        2003.000000     50.000000     10.000000   \n",
       "25%                 0.0        2008.000000    340.000000     68.000000   \n",
       "50%                 0.0        2012.000000    625.000000    125.000000   \n",
       "75%                 0.0        2018.000000    913.000000    183.000000   \n",
       "max                 0.0        2022.000000   1200.000000    240.000000   \n",
       "\n",
       "       minimum nights  number of reviews  review rate number  \\\n",
       "count    70842.000000       70842.000000        70842.000000   \n",
       "mean         3.398408          33.021146            3.292129   \n",
       "std          2.275040          53.645844            1.277966   \n",
       "min          1.000000           0.000000            1.000000   \n",
       "25%          1.000000           2.000000            2.000000   \n",
       "50%          3.000000          11.000000            3.000000   \n",
       "75%          5.000000          41.000000            4.000000   \n",
       "max          7.000000        1010.000000            5.000000   \n",
       "\n",
       "       calculated host listings count  number rooms  \n",
       "count                    70842.000000  70842.000000  \n",
       "mean                         9.905282      1.449804  \n",
       "std                         37.165627      0.802218  \n",
       "min                          1.000000      1.000000  \n",
       "25%                          1.000000      1.000000  \n",
       "50%                          1.000000      1.000000  \n",
       "75%                          3.000000      2.000000  \n",
       "max                        332.000000      4.000000  "
      ]
     },
     "execution_count": 14,
     "metadata": {},
     "output_type": "execute_result"
    }
   ],
   "source": [
    "# Your answer goes here\n",
    "airbnb_cleaned.describe()"
   ]
  },
  {
   "cell_type": "markdown",
   "id": "1aac44c1",
   "metadata": {},
   "source": [
    "_Answer:_ \n"
   ]
  },
  {
   "cell_type": "markdown",
   "id": "QlBJgLSjh2l5",
   "metadata": {
    "id": "QlBJgLSjh2l5"
   },
   "source": [
    "### Univariate Analysis (4.5 points)"
   ]
  },
  {
   "cell_type": "markdown",
   "id": "X0phX-tc_txX",
   "metadata": {
    "id": "X0phX-tc_txX"
   },
   "source": [
    "In the following, you want to analyze which features influence the price. You do this univariately, i.e., look at the relationship between one feature and the price individually. No matter which features you concluded to be useful in the last task, **you will consider the following seven features: service fee, minimum nights, neighborhood group, room type, cancellation policy, construction year, and the number of rooms.**"
   ]
  },
  {
   "cell_type": "markdown",
   "id": "ymD1OuKhE58B",
   "metadata": {
    "id": "ymD1OuKhE58B"
   },
   "source": [
    "First, we look closely at the relationship between price and service fee. To do so, create a joint plot for these two attributes. What is your finding? Is this a helpful feature for our pricing decision? **(1 point)**"
   ]
  },
  {
   "cell_type": "code",
   "execution_count": 15,
   "id": "7d5c1da7",
   "metadata": {
    "id": "ly3THPi7PdLJ"
   },
   "outputs": [
    {
     "data": {
      "text/plain": [
       "<seaborn.axisgrid.JointGrid at 0x1d0176ca280>"
      ]
     },
     "execution_count": 15,
     "metadata": {},
     "output_type": "execute_result"
    },
    {
     "data": {
      "image/png": "[encoded data removed]",
      "text/plain": [
       "<Figure size 432x432 with 3 Axes>"
      ]
     },
     "metadata": {
      "needs_background": "light"
     },
     "output_type": "display_data"
    }
   ],
   "source": [
    "# Your answer goes here\n",
    "sns.jointplot(data=airbnb_cleaned[[\"service fee\", \"price\"]], x=\"service fee\", y=\"price\")"
   ]
  },
  {
   "cell_type": "markdown",
   "id": "d7262980",
   "metadata": {},
   "source": [
    "_Answer:_\n",
    "\n"
   ]
  },
  {
   "cell_type": "markdown",
   "id": "2rcPfXMcGk1M",
   "metadata": {
    "id": "2rcPfXMcGk1M"
   },
   "source": [
    "Next, we are interested in the relationship between the number of minimum nights and the price. To analyze it, create a joint plot with a regression. Describe your observation. **(1 point)**"
   ]
  },
  {
   "cell_type": "code",
   "execution_count": 16,
   "id": "b028e83e",
   "metadata": {
    "id": "ly3THPi7PdLJ"
   },
   "outputs": [
    {
     "data": {
      "text/plain": [
       "<seaborn.axisgrid.JointGrid at 0x1d0181f8ac0>"
      ]
     },
     "execution_count": 16,
     "metadata": {},
     "output_type": "execute_result"
    },
    {
     "data": {
      "image/png": "[encoded data removed]",
      "text/plain": [
       "<Figure size 432x432 with 3 Axes>"
      ]
     },
     "metadata": {
      "needs_background": "light"
     },
     "output_type": "display_data"
    }
   ],
   "source": [
    "# Your answer goes here\n",
    "sns.jointplot(\n",
    "    data=airbnb_cleaned[[\"minimum nights\", \"price\"]],\n",
    "    x=\"minimum nights\",\n",
    "    y=\"price\",\n",
    "    kind=\"reg\",\n",
    ")"
   ]
  },
  {
   "cell_type": "markdown",
   "id": "f4cd05bf",
   "metadata": {},
   "source": [
    "_Answer:_\n",
    "\n"
   ]
  },
  {
   "cell_type": "markdown",
   "id": "6MIVIHji_tG1",
   "metadata": {
    "id": "6MIVIHji_tG1"
   },
   "source": [
    "To further investigate the pricing decision, you look at the remaining five features: neighborhood group, room type, cancellation policy, construction year, and the number of rooms.\n",
    "To get an overview, you decide to create box plots (including the mean) for each of these features to visualize their influence on the price. Describe your findings. Which values of the features influence the price? **(2.5 point)**"
   ]
  },
  {
   "cell_type": "code",
   "execution_count": 18,
   "id": "301f080d",
   "metadata": {
    "id": "ly3THPi7PdLJ"
   },
   "outputs": [
    {
     "data": {
      "image/png": "[encoded data removed]",
      "text/plain": [
       "<Figure size 360x360 with 1 Axes>"
      ]
     },
     "metadata": {
      "needs_background": "light"
     },
     "output_type": "display_data"
    },
    {
     "data": {
      "image/png": "[encoded data removed]",
      "text/plain": [
       "<Figure size 360x360 with 1 Axes>"
      ]
     },
     "metadata": {
      "needs_background": "light"
     },
     "output_type": "display_data"
    },
    {
     "data": {
      "image/png": "[encoded data removed]",
      "text/plain": [
       "<Figure size 360x360 with 1 Axes>"
      ]
     },
     "metadata": {
      "needs_background": "light"
     },
     "output_type": "display_data"
    },
    {
     "data": {
      "image/png": "[encoded data removed]",
      "text/plain": [
       "<Figure size 360x360 with 1 Axes>"
      ]
     },
     "metadata": {
      "needs_background": "light"
     },
     "output_type": "display_data"
    },
    {
     "data": {
      "image/png": "[encoded data removed]",
      "text/plain": [
       "<Figure size 360x360 with 1 Axes>"
      ]
     },
     "metadata": {
      "needs_background": "light"
     },
     "output_type": "display_data"
    }
   ],
   "source": [
    "# Your answer goes here\n",
    "# Your answer goes here\n",
    "for feature in [\n",
    "    \"neighborhood group\",\n",
    "    \"room type\",\n",
    "    \"cancellation policy\",\n",
    "    \"construction year\",\n",
    "    \"number rooms\",\n",
    "]:\n",
    "    sns.catplot(\n",
    "        data=airbnb_cleaned[[feature, \"price\"]], x=feature, y=\"price\", kind=\"box\"\n",
    "    )\n",
    "    plt.show()"
   ]
  },
  {
   "cell_type": "markdown",
   "id": "16206993",
   "metadata": {},
   "source": [
    "_Answer:_\n",
    "\n"
   ]
  },
  {
   "cell_type": "markdown",
   "id": "1Bs51U6ch9Ka",
   "metadata": {
    "id": "1Bs51U6ch9Ka"
   },
   "source": [
    "### Multivariate Analysis (5 points)"
   ]
  },
  {
   "cell_type": "markdown",
   "id": "LZJDkd6xiJuy",
   "metadata": {
    "id": "LZJDkd6xiJuy"
   },
   "source": [
    "As the univariate analysis of price relationships provided only limited insights, you decide to visualize some multivariate investigations of the price. **No matter what you concluded in the last section, you will use the features construction year, number of rooms, cancellation policy, room type, and neighborhood group in the multivariate analysis.**\n",
    "For each pair of features, create a grouped boxplot (using the hue argument) and investigate whether the two features together allow for an explanation of price differences. In the end, conclude which combination of features should be used to make your pricing decision. "
   ]
  },
  {
   "cell_type": "markdown",
   "id": "a1af70ad",
   "metadata": {},
   "source": [
    "#### Multivariate Analysis for Neighborhood Group "
   ]
  },
  {
   "cell_type": "code",
   "execution_count": 19,
   "id": "19b4a749",
   "metadata": {
    "id": "ly3THPi7PdLJ"
   },
   "outputs": [
    {
     "data": {
      "image/png": "[encoded data removed]",
      "text/plain": [
       "<Figure size 432x288 with 1 Axes>"
      ]
     },
     "metadata": {
      "needs_background": "light"
     },
     "output_type": "display_data"
    },
    {
     "data": {
      "image/png": "[encoded data removed]",
      "text/plain": [
       "<Figure size 432x288 with 1 Axes>"
      ]
     },
     "metadata": {
      "needs_background": "light"
     },
     "output_type": "display_data"
    },
    {
     "data": {
      "image/png": "[encoded data removed]",
      "text/plain": [
       "<Figure size 432x288 with 1 Axes>"
      ]
     },
     "metadata": {
      "needs_background": "light"
     },
     "output_type": "display_data"
    },
    {
     "data": {
      "image/png": "[encoded data removed]",
      "text/plain": [
       "<Figure size 432x288 with 1 Axes>"
      ]
     },
     "metadata": {
      "needs_background": "light"
     },
     "output_type": "display_data"
    }
   ],
   "source": [
    "# Your answer goes here\n",
    "for feature in [\n",
    "    \"room type\",\n",
    "    \"cancellation policy\",\n",
    "    \"construction year\",\n",
    "    \"number rooms\",\n",
    "]:\n",
    "    sns.boxplot(\n",
    "        y=\"price\",\n",
    "        x=feature,\n",
    "        data=airbnb_cleaned,\n",
    "        palette=\"colorblind\",\n",
    "        hue=\"neighborhood group\",\n",
    "    )\n",
    "    plt.show()"
   ]
  },
  {
   "cell_type": "markdown",
   "id": "e8b80c4f",
   "metadata": {},
   "source": [
    "_Answer:_\n",
    "\n"
   ]
  },
  {
   "cell_type": "markdown",
   "id": "ddbbd25d",
   "metadata": {},
   "source": [
    "#### Multivariate Analysis for Room Type"
   ]
  },
  {
   "cell_type": "code",
   "execution_count": 20,
   "id": "809668e7",
   "metadata": {},
   "outputs": [
    {
     "data": {
      "image/png": "[encoded data removed]",
      "text/plain": [
       "<Figure size 432x288 with 1 Axes>"
      ]
     },
     "metadata": {
      "needs_background": "light"
     },
     "output_type": "display_data"
    },
    {
     "data": {
      "image/png": "[encoded data removed]",
      "text/plain": [
       "<Figure size 432x288 with 1 Axes>"
      ]
     },
     "metadata": {
      "needs_background": "light"
     },
     "output_type": "display_data"
    },
    {
     "data": {
      "image/png": "[encoded data removed]",
      "text/plain": [
       "<Figure size 432x288 with 1 Axes>"
      ]
     },
     "metadata": {
      "needs_background": "light"
     },
     "output_type": "display_data"
    },
    {
     "data": {
      "image/png": "[encoded data removed]",
      "text/plain": [
       "<Figure size 432x288 with 1 Axes>"
      ]
     },
     "metadata": {
      "needs_background": "light"
     },
     "output_type": "display_data"
    }
   ],
   "source": [
    "# Your answer goes here\n",
    "for feature in [\n",
    "    \"neighborhood group\",\n",
    "    \"cancellation policy\",\n",
    "    \"construction year\",\n",
    "    \"number rooms\",\n",
    "]:\n",
    "    sns.boxplot(\n",
    "        y=\"price\", x=feature, data=airbnb_cleaned, palette=\"colorblind\", hue=\"room type\"\n",
    "    )\n",
    "    plt.show()"
   ]
  },
  {
   "cell_type": "markdown",
   "id": "72041142",
   "metadata": {},
   "source": [
    "_Answer:_\n"
   ]
  },
  {
   "cell_type": "markdown",
   "id": "e11db5c3",
   "metadata": {},
   "source": [
    "#### Multivariate Analysis for Number of Rooms"
   ]
  },
  {
   "cell_type": "code",
   "execution_count": 21,
   "id": "512f825d",
   "metadata": {},
   "outputs": [
    {
     "data": {
      "image/png": "[encoded data removed]",
      "text/plain": [
       "<Figure size 432x288 with 1 Axes>"
      ]
     },
     "metadata": {
      "needs_background": "light"
     },
     "output_type": "display_data"
    },
    {
     "data": {
      "image/png": "[encoded data removed]",
      "text/plain": [
       "<Figure size 432x288 with 1 Axes>"
      ]
     },
     "metadata": {
      "needs_background": "light"
     },
     "output_type": "display_data"
    },
    {
     "data": {
      "image/png": "[encoded data removed]",
      "text/plain": [
       "<Figure size 432x288 with 1 Axes>"
      ]
     },
     "metadata": {
      "needs_background": "light"
     },
     "output_type": "display_data"
    },
    {
     "data": {
      "image/png": "[encoded data removed]",
      "text/plain": [
       "<Figure size 432x288 with 1 Axes>"
      ]
     },
     "metadata": {
      "needs_background": "light"
     },
     "output_type": "display_data"
    }
   ],
   "source": [
    "# Your answer goes here\n",
    "for feature in [\n",
    "    \"neighborhood group\",\n",
    "    \"room type\",\n",
    "    \"cancellation policy\",\n",
    "    \"construction year\",\n",
    "]:\n",
    "    sns.boxplot(\n",
    "        y=\"price\",\n",
    "        x=feature,\n",
    "        data=airbnb_cleaned,\n",
    "        palette=\"colorblind\",\n",
    "        hue=\"number rooms\",\n",
    "    )\n",
    "    plt.show()"
   ]
  },
  {
   "cell_type": "markdown",
   "id": "5c95f5b1",
   "metadata": {},
   "source": [
    "_Answer:_\n",
    "\n"
   ]
  },
  {
   "cell_type": "markdown",
   "id": "419042f2",
   "metadata": {},
   "source": [
    "#### Multivariate Analysis for Construction Year"
   ]
  },
  {
   "cell_type": "code",
   "execution_count": 22,
   "id": "43469f1b",
   "metadata": {},
   "outputs": [
    {
     "data": {
      "image/png": "[encoded data removed]",
      "text/plain": [
       "<Figure size 432x288 with 1 Axes>"
      ]
     },
     "metadata": {
      "needs_background": "light"
     },
     "output_type": "display_data"
    },
    {
     "data": {
      "image/png": "[encoded data removed]",
      "text/plain": [
       "<Figure size 432x288 with 1 Axes>"
      ]
     },
     "metadata": {
      "needs_background": "light"
     },
     "output_type": "display_data"
    },
    {
     "data": {
      "image/png": "[encoded data removed]",
      "text/plain": [
       "<Figure size 432x288 with 1 Axes>"
      ]
     },
     "metadata": {
      "needs_background": "light"
     },
     "output_type": "display_data"
    },
    {
     "data": {
      "image/png": "[encoded data removed]",
      "text/plain": [
       "<Figure size 432x288 with 1 Axes>"
      ]
     },
     "metadata": {
      "needs_background": "light"
     },
     "output_type": "display_data"
    }
   ],
   "source": [
    "# Your answer goes here\n",
    "for feature in [\n",
    "    \"neighborhood group\",\n",
    "    \"room type\",\n",
    "    \"cancellation policy\",\n",
    "    \"number rooms\",\n",
    "]:\n",
    "    sns.boxplot(\n",
    "        y=\"price\",\n",
    "        x=feature,\n",
    "        data=airbnb_cleaned,\n",
    "        palette=\"colorblind\",\n",
    "        hue=\"construction year\",\n",
    "    )\n",
    "    plt.show()"
   ]
  },
  {
   "cell_type": "markdown",
   "id": "e77ae423",
   "metadata": {},
   "source": [
    "_Answer:_\n",
    "\n"
   ]
  },
  {
   "cell_type": "markdown",
   "id": "2kZI5CkIbahY",
   "metadata": {
    "id": "2kZI5CkIbahY"
   },
   "source": [
    "### Selection of Variables (1 point)"
   ]
  },
  {
   "cell_type": "markdown",
   "id": "UUkY4fg4emGQ",
   "metadata": {
    "id": "UUkY4fg4emGQ"
   },
   "source": [
    "Please argue: Which combinations of variables would you consider for pricing your AirBnB?"
   ]
  },
  {
   "cell_type": "markdown",
   "id": "e5808a47-1108-43c8-b371-aeb1f893e511",
   "metadata": {},
   "source": [
    "_Answer:_\n"
   ]
  },
  {
   "cell_type": "markdown",
   "id": "9fb5625b-7666-447e-848b-6a7d239a6d0b",
   "metadata": {
    "id": "9fb5625b-7666-447e-848b-6a7d239a6d0b",
    "tags": []
   },
   "source": [
    "## Question 2: Setting the Price (45 points)"
   ]
  },
  {
   "cell_type": "markdown",
   "id": "UVRItjgwQSNb",
   "metadata": {
    "id": "UVRItjgwQSNb"
   },
   "source": [
    "No matter what you have deducted from your analysis, from now on, you will continue only with three features: **The number of rooms, the neighborhood group, and the room type.**"
   ]
  },
  {
   "cell_type": "markdown",
   "id": "c7128fc0-c9cc-4ecb-bc37-147ea4bfbf07",
   "metadata": {
    "id": "c7128fc0-c9cc-4ecb-bc37-147ea4bfbf07"
   },
   "source": [
    "**Enter Toby**: Toby is your long-term friend back from studying at RWTH. While you studied computer science, Toby studied business administration to become a big shot at Wall Street. He currently works in the back office of some swiss credit institute just across the corner from your office. You decide to drop by and get some of his input for your pricing decision. \n",
    "\n",
    "Toby proposes to first use comparables pricing to price your apartment. Comparables pricing is an established concept in economics and means that you price your apartment close to similar apartments. \n",
    "You will use different techniques to find similar apartments and set a price."
   ]
  },
  {
   "cell_type": "markdown",
   "id": "b139f2fd-5b7e-4086-8a1f-6098df4f6d25",
   "metadata": {
    "id": "b139f2fd-5b7e-4086-8a1f-6098df4f6d25"
   },
   "source": [
    "## Baseline (5 points)"
   ]
  },
  {
   "cell_type": "markdown",
   "id": "tD6hGWmni8eA",
   "metadata": {
    "id": "tD6hGWmni8eA"
   },
   "source": [
    "First, you want to set a baseline to compare against. You use the mean absolute error as metric. The baseline should always use the average price of all apartments as a recommended price. Evaluate on a test set of 5%. The same test set should also be used later (you can use the random_state argument in scikit learn's train_test_split, but you need to stay consistent for different questions)."
   ]
  },
  {
   "cell_type": "code",
   "execution_count": 29,
   "id": "119dd20f",
   "metadata": {
    "id": "ly3THPi7PdLJ"
   },
   "outputs": [
    {
     "name": "stdout",
     "output_type": "stream",
     "text": [
      "110625.41878134765\n"
     ]
    }
   ],
   "source": [
    "# Your answer goes here\n",
    "airbnb_dt = airbnb_cleaned[[\"number rooms\", \"neighborhood group\", \"room type\", \"price\"]]\n",
    "airbnb_dtX = airbnb_dt[[\"number rooms\", \"neighborhood group\", \"room type\"]].values\n",
    "airbnd_dty = airbnb_dt[\"price\"].values\n",
    "\n",
    "airbnbX_train, airbnbX_test, airbnby_train, airbnby_test = train_test_split(\n",
    "    airbnb_dtX, airbnd_dty, test_size=0.05, random_state=0\n",
    ")\n",
    "\n",
    "# avg_price = airbnb_cleaned[\"price\"].mean()\n",
    "\n",
    "avg_predicted = np.array([avg_price for i in range(len(airbnby_test))])\n",
    "mean_squared_error_avg = mean_squared_error(airbnby_test, avg_predicted)\n",
    "print(mean_squared_error_avg)"
   ]
  },
  {
   "cell_type": "markdown",
   "id": "ddc1e5ce",
   "metadata": {
    "id": "ddc1e5ce"
   },
   "source": [
    "## Decision Tree (15 points)"
   ]
  },
  {
   "cell_type": "markdown",
   "id": "8y3FUe5paWrY",
   "metadata": {
    "id": "8y3FUe5paWrY"
   },
   "source": [
    "Using a decision tree, you try to price your apartment according to similar apartments. "
   ]
  },
  {
   "cell_type": "markdown",
   "id": "0a06ecc8",
   "metadata": {
    "id": "0a06ecc8"
   },
   "source": [
    "In the following, we want to know the price ranges for renting AirBnBs. To use decision trees, you need to discretize prices. We use the following price bins:\n",
    "\n",
    "\n",
    "- [50, 200]\n",
    "- (200, 400]\n",
    "- (400, 600]\n",
    "- (600, 800]\n",
    "- (800, 1000]\n",
    "- (1000, 1200]\n",
    "\n",
    "We add the attribute \"Price_Bins\" using the discretization mentioned above for each apartment. For example, if an apartment costs 404, it is put into the bin (400, 600]. **(2 points)**"
   ]
  },
  {
   "cell_type": "code",
   "execution_count": 31,
   "id": "f13ec0f0",
   "metadata": {
    "id": "ly3THPi7PdLJ"
   },
   "outputs": [
    {
     "name": "stderr",
     "output_type": "stream",
     "text": [
      "C:\\Users\\Amogh\\AppData\\Local\\Temp\\ipykernel_18388\\1582458447.py:17: SettingWithCopyWarning: \n",
      "A value is trying to be set on a copy of a slice from a DataFrame.\n",
      "Try using .loc[row_indexer,col_indexer] = value instead\n",
      "\n",
      "See the caveats in the documentation: https://pandas.pydata.org/pandas-docs/stable/user_guide/indexing.html#returning-a-view-versus-a-copy\n",
      "  airbnb_dt[\"Price_Bins\"] = airbnb_dt[\"price\"].apply(lambda x: priceBinning(x))\n"
     ]
    },
    {
     "data": {
      "text/html": [
       "<div>\n",
       "<style scoped>\n",
       "    .dataframe tbody tr th:only-of-type {\n",
       "        vertical-align: middle;\n",
       "    }\n",
       "\n",
       "    .dataframe tbody tr th {\n",
       "        vertical-align: top;\n",
       "    }\n",
       "\n",
       "    .dataframe thead th {\n",
       "        text-align: right;\n",
       "    }\n",
       "</style>\n",
       "<table border=\"1\" class=\"dataframe\">\n",
       "  <thead>\n",
       "    <tr style=\"text-align: right;\">\n",
       "      <th></th>\n",
       "      <th>number rooms</th>\n",
       "      <th>neighborhood group</th>\n",
       "      <th>room type</th>\n",
       "      <th>price</th>\n",
       "      <th>Price_Bins</th>\n",
       "    </tr>\n",
       "  </thead>\n",
       "  <tbody>\n",
       "    <tr>\n",
       "      <th>0</th>\n",
       "      <td>2</td>\n",
       "      <td>Manhattan</td>\n",
       "      <td>Entire home/apt</td>\n",
       "      <td>142</td>\n",
       "      <td>[50, 200]</td>\n",
       "    </tr>\n",
       "    <tr>\n",
       "      <th>1</th>\n",
       "      <td>1</td>\n",
       "      <td>Manhattan</td>\n",
       "      <td>Private room</td>\n",
       "      <td>620</td>\n",
       "      <td>(600, 800]</td>\n",
       "    </tr>\n",
       "    <tr>\n",
       "      <th>2</th>\n",
       "      <td>2</td>\n",
       "      <td>Brooklyn</td>\n",
       "      <td>Entire home/apt</td>\n",
       "      <td>368</td>\n",
       "      <td>(200, 400]</td>\n",
       "    </tr>\n",
       "    <tr>\n",
       "      <th>3</th>\n",
       "      <td>1</td>\n",
       "      <td>Manhattan</td>\n",
       "      <td>Entire home/apt</td>\n",
       "      <td>204</td>\n",
       "      <td>(200, 400]</td>\n",
       "    </tr>\n",
       "    <tr>\n",
       "      <th>4</th>\n",
       "      <td>1</td>\n",
       "      <td>Brooklyn</td>\n",
       "      <td>Private room</td>\n",
       "      <td>71</td>\n",
       "      <td>[50, 200]</td>\n",
       "    </tr>\n",
       "  </tbody>\n",
       "</table>\n",
       "</div>"
      ],
      "text/plain": [
       "   number rooms neighborhood group        room type  price  Price_Bins\n",
       "0             2          Manhattan  Entire home/apt    142   [50, 200]\n",
       "1             1          Manhattan     Private room    620  (600, 800]\n",
       "2             2           Brooklyn  Entire home/apt    368  (200, 400]\n",
       "3             1          Manhattan  Entire home/apt    204  (200, 400]\n",
       "4             1           Brooklyn     Private room     71   [50, 200]"
      ]
     },
     "execution_count": 31,
     "metadata": {},
     "output_type": "execute_result"
    }
   ],
   "source": [
    "# Your answer goes here\n",
    "def priceBinning(price):\n",
    "    if 50 <= price <= 200:\n",
    "        return \"[50, 200]\"\n",
    "    elif 200 < price <= 400:\n",
    "        return \"(200, 400]\"\n",
    "    elif 400 < price <= 600:\n",
    "        return \"(400, 600]\"\n",
    "    elif 600 < price <= 800:\n",
    "        return \"(600, 800]\"\n",
    "    elif 800 < price <= 1000:\n",
    "        return \"(800, 1000]\"\n",
    "    else:\n",
    "        return \"(1000, 1200]\"\n",
    "\n",
    "\n",
    "airbnb_dt[\"Price_Bins\"] = airbnb_dt[\"price\"].apply(lambda x: priceBinning(x))\n",
    "airbnb_dt.head()"
   ]
  },
  {
   "cell_type": "markdown",
   "id": "9a15a3f0",
   "metadata": {
    "id": "9a15a3f0"
   },
   "source": [
    "Consider the extended dataset from the previous task. Use 'number rooms,' 'room type,' and 'neighborhood group' as descriptive features and \"Price_Bins\" as the target feature. Create a test and training set like before. **(0.5 point)**"
   ]
  },
  {
   "cell_type": "code",
   "execution_count": 32,
   "id": "dc234682",
   "metadata": {
    "id": "ly3THPi7PdLJ"
   },
   "outputs": [
    {
     "name": "stderr",
     "output_type": "stream",
     "text": [
      "C:\\Users\\Amogh\\AppData\\Local\\Temp\\ipykernel_18388\\103222722.py:2: SettingWithCopyWarning: \n",
      "A value is trying to be set on a copy of a slice from a DataFrame\n",
      "\n",
      "See the caveats in the documentation: https://pandas.pydata.org/pandas-docs/stable/user_guide/indexing.html#returning-a-view-versus-a-copy\n",
      "  airbnb_dt.drop(\"price\", axis=1, inplace=True)\n",
      "C:\\Users\\Amogh\\AppData\\Local\\Temp\\ipykernel_18388\\103222722.py:6: SettingWithCopyWarning: \n",
      "A value is trying to be set on a copy of a slice from a DataFrame.\n",
      "Try using .loc[row_indexer,col_indexer] = value instead\n",
      "\n",
      "See the caveats in the documentation: https://pandas.pydata.org/pandas-docs/stable/user_guide/indexing.html#returning-a-view-versus-a-copy\n",
      "  airbnb_dt[column] = airbnb_dt[column].astype(str)\n"
     ]
    }
   ],
   "source": [
    "# Your answer goes here\n",
    "airbnb_dt.drop(\"price\", axis=1, inplace=True)\n",
    "columns = airbnb_dt.columns\n",
    "\n",
    "for column in columns:\n",
    "    airbnb_dt[column] = airbnb_dt[column].astype(str)\n",
    "    \n",
    "dt_X = airbnb_dt[[\"number rooms\", \"neighborhood group\", \"room type\"]].values\n",
    "dt_y = airbnb_dt[\"Price_Bins\"].values\n",
    "dtX_train, dtX_test, dty_train, dty_test = train_test_split(\n",
    "    dt_X, dt_y, test_size=0.05, random_state=0\n",
    ")"
   ]
  },
  {
   "cell_type": "markdown",
   "id": "WJuVU61pfuAU",
   "metadata": {
    "id": "WJuVU61pfuAU"
   },
   "source": [
    "Generate a decision tree in which the minimum number of samples for splitting is ten and use entropy. What is the system's entropy? **(5 points)**\n",
    "\n",
    "Note: For this task, you must use the p_decision_tree library."
   ]
  },
  {
   "cell_type": "code",
   "execution_count": 33,
   "id": "6a779d60",
   "metadata": {
    "id": "ly3THPi7PdLJ"
   },
   "outputs": [
    {
     "data": {
      "image/svg+xml": [
       "<?xml version=\"1.0\" encoding=\"UTF-8\" standalone=\"no\"?>\n",
       "<!DOCTYPE svg PUBLIC \"-//W3C//DTD SVG 1.1//EN\"\n",
       " \"http://www.w3.org/Graphics/SVG/1.1/DTD/svg11.dtd\">\n",
       "<!-- Generated by graphviz version 7.0.4 (20221203.1631)\n",
       " -->\n",
       "<!-- Pages: 1 -->\n",
       "<svg width=\"4364pt\" height=\"476pt\"\n",
       " viewBox=\"0.00 0.00 4363.69 476.00\" xmlns=\"http://www.w3.org/2000/svg\" xmlns:xlink=\"http://www.w3.org/1999/xlink\">\n",
       "<g id=\"graph0\" class=\"graph\" transform=\"scale(1 1) rotate(0) translate(4 472)\">\n",
       "<polygon fill=\"white\" stroke=\"none\" points=\"-4,4 -4,-472 4359.69,-472 4359.69,4 -4,4\"/>\n",
       "<!-- root -->\n",
       "<g id=\"node1\" class=\"node\">\n",
       "<title>root</title>\n",
       "<ellipse fill=\"none\" stroke=\"black\" cx=\"2696.1\" cy=\"-450\" rx=\"63.89\" ry=\"18\"/>\n",
       "<text text-anchor=\"middle\" x=\"2696.1\" y=\"-446.3\" font-family=\"Times New Roman,serif\" font-size=\"14.00\">number rooms</text>\n",
       "</g>\n",
       "<!-- 0.19003305839651863 -->\n",
       "<g id=\"node2\" class=\"node\">\n",
       "<title>0.19003305839651863</title>\n",
       "<ellipse fill=\"none\" stroke=\"black\" cx=\"2124.1\" cy=\"-378\" rx=\"27\" ry=\"18\"/>\n",
       "<text text-anchor=\"middle\" x=\"2124.1\" y=\"-374.3\" font-family=\"Times New Roman,serif\" font-size=\"14.00\">1</text>\n",
       "</g>\n",
       "<!-- root&#45;&gt;0.19003305839651863 -->\n",
       "<g id=\"edge1\" class=\"edge\">\n",
       "<title>root&#45;&gt;0.19003305839651863</title>\n",
       "<path fill=\"none\" stroke=\"black\" d=\"M2638.37,-441.94C2521.55,-427.64 2259.94,-395.62 2162.04,-383.64\"/>\n",
       "<polygon fill=\"black\" stroke=\"black\" points=\"2162.52,-380.18 2152.17,-382.44 2161.67,-387.12 2162.52,-380.18\"/>\n",
       "</g>\n",
       "<!-- 0.47956833901397855 -->\n",
       "<g id=\"node4\" class=\"node\">\n",
       "<title>0.47956833901397855</title>\n",
       "<ellipse fill=\"none\" stroke=\"black\" cx=\"2660.1\" cy=\"-378\" rx=\"27\" ry=\"18\"/>\n",
       "<text text-anchor=\"middle\" x=\"2660.1\" y=\"-374.3\" font-family=\"Times New Roman,serif\" font-size=\"14.00\">3</text>\n",
       "</g>\n",
       "<!-- root&#45;&gt;0.47956833901397855 -->\n",
       "<g id=\"edge3\" class=\"edge\">\n",
       "<title>root&#45;&gt;0.47956833901397855</title>\n",
       "<path fill=\"none\" stroke=\"black\" d=\"M2687.2,-431.7C2683.11,-423.75 2678.18,-414.16 2673.64,-405.34\"/>\n",
       "<polygon fill=\"black\" stroke=\"black\" points=\"2676.78,-403.78 2669.09,-396.49 2670.55,-406.98 2676.78,-403.78\"/>\n",
       "</g>\n",
       "<!-- 0.5464526351857197 -->\n",
       "<g id=\"node6\" class=\"node\">\n",
       "<title>0.5464526351857197</title>\n",
       "<ellipse fill=\"none\" stroke=\"black\" cx=\"3002.1\" cy=\"-378\" rx=\"27\" ry=\"18\"/>\n",
       "<text text-anchor=\"middle\" x=\"3002.1\" y=\"-374.3\" font-family=\"Times New Roman,serif\" font-size=\"14.00\">2</text>\n",
       "</g>\n",
       "<!-- root&#45;&gt;0.5464526351857197 -->\n",
       "<g id=\"edge5\" class=\"edge\">\n",
       "<title>root&#45;&gt;0.5464526351857197</title>\n",
       "<path fill=\"none\" stroke=\"black\" d=\"M2744.58,-437.91C2806.1,-423.84 2910.79,-399.89 2965.83,-387.3\"/>\n",
       "<polygon fill=\"black\" stroke=\"black\" points=\"2966.34,-390.77 2975.31,-385.13 2964.78,-383.95 2966.34,-390.77\"/>\n",
       "</g>\n",
       "<!-- 0.5645765694205477 -->\n",
       "<g id=\"node8\" class=\"node\">\n",
       "<title>0.5645765694205477</title>\n",
       "<ellipse fill=\"none\" stroke=\"black\" cx=\"3555.1\" cy=\"-378\" rx=\"27\" ry=\"18\"/>\n",
       "<text text-anchor=\"middle\" x=\"3555.1\" y=\"-374.3\" font-family=\"Times New Roman,serif\" font-size=\"14.00\">4</text>\n",
       "</g>\n",
       "<!-- root&#45;&gt;0.5645765694205477 -->\n",
       "<g id=\"edge7\" class=\"edge\">\n",
       "<title>root&#45;&gt;0.5645765694205477</title>\n",
       "<path fill=\"none\" stroke=\"black\" d=\"M2756.84,-444.05C2922.85,-430.52 3380.79,-393.2 3516.63,-382.13\"/>\n",
       "<polygon fill=\"black\" stroke=\"black\" points=\"3516.84,-385.63 3526.53,-381.33 3516.27,-378.65 3516.84,-385.63\"/>\n",
       "</g>\n",
       "<!-- 0.18878290177118573 -->\n",
       "<g id=\"node3\" class=\"node\">\n",
       "<title>0.18878290177118573</title>\n",
       "<ellipse fill=\"none\" stroke=\"black\" cx=\"1434.1\" cy=\"-306\" rx=\"48.19\" ry=\"18\"/>\n",
       "<text text-anchor=\"middle\" x=\"1434.1\" y=\"-302.3\" font-family=\"Times New Roman,serif\" font-size=\"14.00\">room type</text>\n",
       "</g>\n",
       "<!-- 0.19003305839651863&#45;&gt;0.18878290177118573 -->\n",
       "<g id=\"edge2\" class=\"edge\">\n",
       "<title>0.19003305839651863&#45;&gt;0.18878290177118573</title>\n",
       "<path fill=\"none\" stroke=\"black\" d=\"M2097.47,-374.3C1996.17,-364.02 1633.39,-327.22 1491.53,-312.83\"/>\n",
       "<polygon fill=\"black\" stroke=\"black\" points=\"1491.91,-309.35 1481.61,-311.82 1491.21,-316.31 1491.91,-309.35\"/>\n",
       "</g>\n",
       "<!-- 0.7031335134865953 -->\n",
       "<g id=\"node10\" class=\"node\">\n",
       "<title>0.7031335134865953</title>\n",
       "<ellipse fill=\"none\" stroke=\"black\" cx=\"602.1\" cy=\"-234\" rx=\"67.69\" ry=\"18\"/>\n",
       "<text text-anchor=\"middle\" x=\"602.1\" y=\"-230.3\" font-family=\"Times New Roman,serif\" font-size=\"14.00\">Entire home/apt</text>\n",
       "</g>\n",
       "<!-- 0.18878290177118573&#45;&gt;0.7031335134865953 -->\n",
       "<g id=\"edge9\" class=\"edge\">\n",
       "<title>0.18878290177118573&#45;&gt;0.7031335134865953</title>\n",
       "<path fill=\"none\" stroke=\"black\" d=\"M1387.28,-301.06C1249.65,-289.48 845.44,-255.47 677.06,-241.31\"/>\n",
       "<polygon fill=\"black\" stroke=\"black\" points=\"677.6,-237.84 667.34,-240.49 677.01,-244.82 677.6,-237.84\"/>\n",
       "</g>\n",
       "<!-- 0.9297781279617002 -->\n",
       "<g id=\"node12\" class=\"node\">\n",
       "<title>0.9297781279617002</title>\n",
       "<ellipse fill=\"none\" stroke=\"black\" cx=\"1128.1\" cy=\"-234\" rx=\"57.69\" ry=\"18\"/>\n",
       "<text text-anchor=\"middle\" x=\"1128.1\" y=\"-230.3\" font-family=\"Times New Roman,serif\" font-size=\"14.00\">Private room</text>\n",
       "</g>\n",
       "<!-- 0.18878290177118573&#45;&gt;0.9297781279617002 -->\n",
       "<g id=\"edge11\" class=\"edge\">\n",
       "<title>0.18878290177118573&#45;&gt;0.9297781279617002</title>\n",
       "<path fill=\"none\" stroke=\"black\" d=\"M1393.78,-295.78C1340.23,-283.53 1245.35,-261.82 1184.66,-247.94\"/>\n",
       "<polygon fill=\"black\" stroke=\"black\" points=\"1185.75,-244.6 1175.22,-245.78 1184.19,-251.42 1185.75,-244.6\"/>\n",
       "</g>\n",
       "<!-- 0.8467738946844537 -->\n",
       "<g id=\"node14\" class=\"node\">\n",
       "<title>0.8467738946844537</title>\n",
       "<ellipse fill=\"none\" stroke=\"black\" cx=\"1434.1\" cy=\"-234\" rx=\"57.69\" ry=\"18\"/>\n",
       "<text text-anchor=\"middle\" x=\"1434.1\" y=\"-230.3\" font-family=\"Times New Roman,serif\" font-size=\"14.00\">Shared room</text>\n",
       "</g>\n",
       "<!-- 0.18878290177118573&#45;&gt;0.8467738946844537 -->\n",
       "<g id=\"edge13\" class=\"edge\">\n",
       "<title>0.18878290177118573&#45;&gt;0.8467738946844537</title>\n",
       "<path fill=\"none\" stroke=\"black\" d=\"M1434.1,-287.7C1434.1,-280.41 1434.1,-271.73 1434.1,-263.54\"/>\n",
       "<polygon fill=\"black\" stroke=\"black\" points=\"1437.6,-263.62 1434.1,-253.62 1430.6,-263.62 1437.6,-263.62\"/>\n",
       "</g>\n",
       "<!-- 0.7306753872028849 -->\n",
       "<g id=\"node16\" class=\"node\">\n",
       "<title>0.7306753872028849</title>\n",
       "<ellipse fill=\"none\" stroke=\"black\" cx=\"1681.1\" cy=\"-234\" rx=\"51.99\" ry=\"18\"/>\n",
       "<text text-anchor=\"middle\" x=\"1681.1\" y=\"-230.3\" font-family=\"Times New Roman,serif\" font-size=\"14.00\">Hotel room</text>\n",
       "</g>\n",
       "<!-- 0.18878290177118573&#45;&gt;0.7306753872028849 -->\n",
       "<g id=\"edge15\" class=\"edge\">\n",
       "<title>0.18878290177118573&#45;&gt;0.7306753872028849</title>\n",
       "<path fill=\"none\" stroke=\"black\" d=\"M1471.61,-294.37C1514.21,-282.29 1583.92,-262.54 1631.11,-249.17\"/>\n",
       "<polygon fill=\"black\" stroke=\"black\" points=\"1631.88,-252.59 1640.55,-246.49 1629.97,-245.85 1631.88,-252.59\"/>\n",
       "</g>\n",
       "<!-- 0.4303602329623626 -->\n",
       "<g id=\"node5\" class=\"node\">\n",
       "<title>0.4303602329623626</title>\n",
       "<ellipse fill=\"none\" stroke=\"black\" cx=\"2525.1\" cy=\"-306\" rx=\"85.29\" ry=\"18\"/>\n",
       "<text text-anchor=\"middle\" x=\"2525.1\" y=\"-302.3\" font-family=\"Times New Roman,serif\" font-size=\"14.00\">neighborhood group</text>\n",
       "</g>\n",
       "<!-- 0.47956833901397855&#45;&gt;0.4303602329623626 -->\n",
       "<g id=\"edge4\" class=\"edge\">\n",
       "<title>0.47956833901397855&#45;&gt;0.4303602329623626</title>\n",
       "<path fill=\"none\" stroke=\"black\" d=\"M2639.3,-366.22C2619.88,-356.15 2590.36,-340.84 2566.19,-328.31\"/>\n",
       "<polygon fill=\"black\" stroke=\"black\" points=\"2568.04,-325.32 2557.55,-323.83 2564.82,-331.54 2568.04,-325.32\"/>\n",
       "</g>\n",
       "<!-- 0.33391671673411916 -->\n",
       "<g id=\"node18\" class=\"node\">\n",
       "<title>0.33391671673411916</title>\n",
       "<ellipse fill=\"none\" stroke=\"black\" cx=\"2203.1\" cy=\"-234\" rx=\"38.19\" ry=\"18\"/>\n",
       "<text text-anchor=\"middle\" x=\"2203.1\" y=\"-230.3\" font-family=\"Times New Roman,serif\" font-size=\"14.00\">Queens</text>\n",
       "</g>\n",
       "<!-- 0.4303602329623626&#45;&gt;0.33391671673411916 -->\n",
       "<g id=\"edge17\" class=\"edge\">\n",
       "<title>0.4303602329623626&#45;&gt;0.33391671673411916</title>\n",
       "<path fill=\"none\" stroke=\"black\" d=\"M2465.15,-292.82C2414.24,-282.35 2339.27,-266.68 2274.1,-252 2265.4,-250.04 2256.13,-247.88 2247.25,-245.77\"/>\n",
       "<polygon fill=\"black\" stroke=\"black\" points=\"2248.3,-242.42 2237.76,-243.49 2246.67,-249.23 2248.3,-242.42\"/>\n",
       "</g>\n",
       "<!-- 0.6398720732441625 -->\n",
       "<g id=\"node20\" class=\"node\">\n",
       "<title>0.6398720732441625</title>\n",
       "<ellipse fill=\"none\" stroke=\"black\" cx=\"2331.1\" cy=\"-234\" rx=\"48.19\" ry=\"18\"/>\n",
       "<text text-anchor=\"middle\" x=\"2331.1\" y=\"-230.3\" font-family=\"Times New Roman,serif\" font-size=\"14.00\">Manhattan</text>\n",
       "</g>\n",
       "<!-- 0.4303602329623626&#45;&gt;0.6398720732441625 -->\n",
       "<g id=\"edge19\" class=\"edge\">\n",
       "<title>0.4303602329623626&#45;&gt;0.6398720732441625</title>\n",
       "<path fill=\"none\" stroke=\"black\" d=\"M2483.48,-289.98C2451.67,-278.51 2407.91,-262.72 2375.44,-251\"/>\n",
       "<polygon fill=\"black\" stroke=\"black\" points=\"2376.92,-247.81 2366.32,-247.71 2374.54,-254.4 2376.92,-247.81\"/>\n",
       "</g>\n",
       "<!-- 0.9658573457546978 -->\n",
       "<g id=\"node22\" class=\"node\">\n",
       "<title>0.9658573457546978</title>\n",
       "<ellipse fill=\"none\" stroke=\"black\" cx=\"2458.1\" cy=\"-234\" rx=\"44.39\" ry=\"18\"/>\n",
       "<text text-anchor=\"middle\" x=\"2458.1\" y=\"-230.3\" font-family=\"Times New Roman,serif\" font-size=\"14.00\">Brooklyn</text>\n",
       "</g>\n",
       "<!-- 0.4303602329623626&#45;&gt;0.9658573457546978 -->\n",
       "<g id=\"edge21\" class=\"edge\">\n",
       "<title>0.4303602329623626&#45;&gt;0.9658573457546978</title>\n",
       "<path fill=\"none\" stroke=\"black\" d=\"M2508.88,-288.05C2500.69,-279.5 2490.61,-268.97 2481.6,-259.56\"/>\n",
       "<polygon fill=\"black\" stroke=\"black\" points=\"2484.19,-257.2 2474.75,-252.4 2479.14,-262.04 2484.19,-257.2\"/>\n",
       "</g>\n",
       "<!-- 0.9778891740146948 -->\n",
       "<g id=\"node24\" class=\"node\">\n",
       "<title>0.9778891740146948</title>\n",
       "<ellipse fill=\"none\" stroke=\"black\" cx=\"2581.1\" cy=\"-234\" rx=\"57.69\" ry=\"18\"/>\n",
       "<text text-anchor=\"middle\" x=\"2581.1\" y=\"-230.3\" font-family=\"Times New Roman,serif\" font-size=\"14.00\">Staten Island</text>\n",
       "</g>\n",
       "<!-- 0.4303602329623626&#45;&gt;0.9778891740146948 -->\n",
       "<g id=\"edge23\" class=\"edge\">\n",
       "<title>0.4303602329623626&#45;&gt;0.9778891740146948</title>\n",
       "<path fill=\"none\" stroke=\"black\" d=\"M2538.65,-288.05C2545.26,-279.8 2553.33,-269.7 2560.67,-260.54\"/>\n",
       "<polygon fill=\"black\" stroke=\"black\" points=\"2563.21,-262.97 2566.72,-252.97 2557.74,-258.59 2563.21,-262.97\"/>\n",
       "</g>\n",
       "<!-- 0.024979582301914216 -->\n",
       "<g id=\"node26\" class=\"node\">\n",
       "<title>0.024979582301914216</title>\n",
       "<ellipse fill=\"none\" stroke=\"black\" cx=\"2713.1\" cy=\"-234\" rx=\"33.29\" ry=\"18\"/>\n",
       "<text text-anchor=\"middle\" x=\"2713.1\" y=\"-230.3\" font-family=\"Times New Roman,serif\" font-size=\"14.00\">Bronx</text>\n",
       "</g>\n",
       "<!-- 0.4303602329623626&#45;&gt;0.024979582301914216 -->\n",
       "<g id=\"edge25\" class=\"edge\">\n",
       "<title>0.4303602329623626&#45;&gt;0.024979582301914216</title>\n",
       "<path fill=\"none\" stroke=\"black\" d=\"M2565.89,-289.81C2598.54,-277.65 2643.96,-260.74 2675.69,-248.93\"/>\n",
       "<polygon fill=\"black\" stroke=\"black\" points=\"2676.73,-252.28 2684.88,-245.51 2674.28,-245.72 2676.73,-252.28\"/>\n",
       "</g>\n",
       "<!-- 0.32687698008078103 -->\n",
       "<g id=\"node7\" class=\"node\">\n",
       "<title>0.32687698008078103</title>\n",
       "<ellipse fill=\"none\" stroke=\"black\" cx=\"3130.1\" cy=\"-306\" rx=\"85.29\" ry=\"18\"/>\n",
       "<text text-anchor=\"middle\" x=\"3130.1\" y=\"-302.3\" font-family=\"Times New Roman,serif\" font-size=\"14.00\">neighborhood group</text>\n",
       "</g>\n",
       "<!-- 0.5464526351857197&#45;&gt;0.32687698008078103 -->\n",
       "<g id=\"edge6\" class=\"edge\">\n",
       "<title>0.5464526351857197&#45;&gt;0.32687698008078103</title>\n",
       "<path fill=\"none\" stroke=\"black\" d=\"M3022.66,-365.75C3040.92,-355.77 3068.12,-340.89 3090.58,-328.61\"/>\n",
       "<polygon fill=\"black\" stroke=\"black\" points=\"3092.09,-331.77 3099.19,-323.9 3088.74,-325.63 3092.09,-331.77\"/>\n",
       "</g>\n",
       "<!-- 0.334430449954903 -->\n",
       "<g id=\"node28\" class=\"node\">\n",
       "<title>0.334430449954903</title>\n",
       "<ellipse fill=\"none\" stroke=\"black\" cx=\"2943.1\" cy=\"-234\" rx=\"44.39\" ry=\"18\"/>\n",
       "<text text-anchor=\"middle\" x=\"2943.1\" y=\"-230.3\" font-family=\"Times New Roman,serif\" font-size=\"14.00\">Brooklyn</text>\n",
       "</g>\n",
       "<!-- 0.32687698008078103&#45;&gt;0.334430449954903 -->\n",
       "<g id=\"edge27\" class=\"edge\">\n",
       "<title>0.32687698008078103&#45;&gt;0.334430449954903</title>\n",
       "<path fill=\"none\" stroke=\"black\" d=\"M3089.52,-289.81C3058.77,-278.3 3016.64,-262.53 2985.46,-250.86\"/>\n",
       "<polygon fill=\"black\" stroke=\"black\" points=\"2986.93,-247.67 2976.34,-247.44 2984.48,-254.23 2986.93,-247.67\"/>\n",
       "</g>\n",
       "<!-- 0.42803051809679704 -->\n",
       "<g id=\"node30\" class=\"node\">\n",
       "<title>0.42803051809679704</title>\n",
       "<ellipse fill=\"none\" stroke=\"black\" cx=\"3074.1\" cy=\"-234\" rx=\"48.19\" ry=\"18\"/>\n",
       "<text text-anchor=\"middle\" x=\"3074.1\" y=\"-230.3\" font-family=\"Times New Roman,serif\" font-size=\"14.00\">Manhattan</text>\n",
       "</g>\n",
       "<!-- 0.32687698008078103&#45;&gt;0.42803051809679704 -->\n",
       "<g id=\"edge29\" class=\"edge\">\n",
       "<title>0.32687698008078103&#45;&gt;0.42803051809679704</title>\n",
       "<path fill=\"none\" stroke=\"black\" d=\"M3116.54,-288.05C3109.84,-279.68 3101.62,-269.4 3094.2,-260.13\"/>\n",
       "<polygon fill=\"black\" stroke=\"black\" points=\"3097.07,-258.11 3088.09,-252.49 3091.6,-262.48 3097.07,-258.11\"/>\n",
       "</g>\n",
       "<!-- 0.7583848555180601 -->\n",
       "<g id=\"node32\" class=\"node\">\n",
       "<title>0.7583848555180601</title>\n",
       "<ellipse fill=\"none\" stroke=\"black\" cx=\"3177.1\" cy=\"-234\" rx=\"33.29\" ry=\"18\"/>\n",
       "<text text-anchor=\"middle\" x=\"3177.1\" y=\"-230.3\" font-family=\"Times New Roman,serif\" font-size=\"14.00\">Bronx</text>\n",
       "</g>\n",
       "<!-- 0.32687698008078103&#45;&gt;0.7583848555180601 -->\n",
       "<g id=\"edge31\" class=\"edge\">\n",
       "<title>0.32687698008078103&#45;&gt;0.7583848555180601</title>\n",
       "<path fill=\"none\" stroke=\"black\" d=\"M3141.71,-287.7C3147.22,-279.49 3153.92,-269.52 3159.99,-260.48\"/>\n",
       "<polygon fill=\"black\" stroke=\"black\" points=\"3162.74,-262.65 3165.41,-252.4 3156.93,-258.75 3162.74,-262.65\"/>\n",
       "</g>\n",
       "<!-- 0.717518421399641 -->\n",
       "<g id=\"node34\" class=\"node\">\n",
       "<title>0.717518421399641</title>\n",
       "<ellipse fill=\"none\" stroke=\"black\" cx=\"3305.1\" cy=\"-234\" rx=\"38.19\" ry=\"18\"/>\n",
       "<text text-anchor=\"middle\" x=\"3305.1\" y=\"-230.3\" font-family=\"Times New Roman,serif\" font-size=\"14.00\">Queens</text>\n",
       "</g>\n",
       "<!-- 0.32687698008078103&#45;&gt;0.717518421399641 -->\n",
       "<g id=\"edge33\" class=\"edge\">\n",
       "<title>0.32687698008078103&#45;&gt;0.717518421399641</title>\n",
       "<path fill=\"none\" stroke=\"black\" d=\"M3168.5,-289.64C3197.41,-278.08 3236.88,-262.29 3265.96,-250.65\"/>\n",
       "<polygon fill=\"black\" stroke=\"black\" points=\"3267.17,-253.94 3275.15,-246.98 3264.57,-247.44 3267.17,-253.94\"/>\n",
       "</g>\n",
       "<!-- 0.18728891916366341 -->\n",
       "<g id=\"node36\" class=\"node\">\n",
       "<title>0.18728891916366341</title>\n",
       "<ellipse fill=\"none\" stroke=\"black\" cx=\"3462.1\" cy=\"-234\" rx=\"57.69\" ry=\"18\"/>\n",
       "<text text-anchor=\"middle\" x=\"3462.1\" y=\"-230.3\" font-family=\"Times New Roman,serif\" font-size=\"14.00\">Staten Island</text>\n",
       "</g>\n",
       "<!-- 0.32687698008078103&#45;&gt;0.18728891916366341 -->\n",
       "<g id=\"edge35\" class=\"edge\">\n",
       "<title>0.32687698008078103&#45;&gt;0.18728891916366341</title>\n",
       "<path fill=\"none\" stroke=\"black\" d=\"M3189.07,-292.57C3249.72,-279.78 3343.61,-259.98 3403.96,-247.26\"/>\n",
       "<polygon fill=\"black\" stroke=\"black\" points=\"3404.65,-250.69 3413.71,-245.2 3403.21,-243.84 3404.65,-250.69\"/>\n",
       "</g>\n",
       "<!-- 0.9385130700827042 -->\n",
       "<g id=\"node9\" class=\"node\">\n",
       "<title>0.9385130700827042</title>\n",
       "<ellipse fill=\"none\" stroke=\"black\" cx=\"3905.1\" cy=\"-306\" rx=\"85.29\" ry=\"18\"/>\n",
       "<text text-anchor=\"middle\" x=\"3905.1\" y=\"-302.3\" font-family=\"Times New Roman,serif\" font-size=\"14.00\">neighborhood group</text>\n",
       "</g>\n",
       "<!-- 0.5645765694205477&#45;&gt;0.9385130700827042 -->\n",
       "<g id=\"edge8\" class=\"edge\">\n",
       "<title>0.5645765694205477&#45;&gt;0.9385130700827042</title>\n",
       "<path fill=\"none\" stroke=\"black\" d=\"M3580.83,-371.85C3633.5,-361.32 3755.19,-336.98 3833.6,-321.3\"/>\n",
       "<polygon fill=\"black\" stroke=\"black\" points=\"3834.24,-324.74 3843.36,-319.35 3832.87,-317.88 3834.24,-324.74\"/>\n",
       "</g>\n",
       "<!-- 0.184439285966306 -->\n",
       "<g id=\"node38\" class=\"node\">\n",
       "<title>0.184439285966306</title>\n",
       "<ellipse fill=\"none\" stroke=\"black\" cx=\"3714.1\" cy=\"-234\" rx=\"48.19\" ry=\"18\"/>\n",
       "<text text-anchor=\"middle\" x=\"3714.1\" y=\"-230.3\" font-family=\"Times New Roman,serif\" font-size=\"14.00\">Manhattan</text>\n",
       "</g>\n",
       "<!-- 0.9385130700827042&#45;&gt;0.184439285966306 -->\n",
       "<g id=\"edge37\" class=\"edge\">\n",
       "<title>0.9385130700827042&#45;&gt;0.184439285966306</title>\n",
       "<path fill=\"none\" stroke=\"black\" d=\"M3863.65,-289.81C3832.54,-278.41 3790.02,-262.82 3758.26,-251.19\"/>\n",
       "<polygon fill=\"black\" stroke=\"black\" points=\"3759.53,-247.92 3748.94,-247.77 3757.12,-254.5 3759.53,-247.92\"/>\n",
       "</g>\n",
       "<!-- 0.6449078406442664 -->\n",
       "<g id=\"node40\" class=\"node\">\n",
       "<title>0.6449078406442664</title>\n",
       "<ellipse fill=\"none\" stroke=\"black\" cx=\"3852.1\" cy=\"-234\" rx=\"44.39\" ry=\"18\"/>\n",
       "<text text-anchor=\"middle\" x=\"3852.1\" y=\"-230.3\" font-family=\"Times New Roman,serif\" font-size=\"14.00\">Brooklyn</text>\n",
       "</g>\n",
       "<!-- 0.9385130700827042&#45;&gt;0.6449078406442664 -->\n",
       "<g id=\"edge39\" class=\"edge\">\n",
       "<title>0.9385130700827042&#45;&gt;0.6449078406442664</title>\n",
       "<path fill=\"none\" stroke=\"black\" d=\"M3892.27,-288.05C3885.99,-279.77 3878.31,-269.62 3871.35,-260.42\"/>\n",
       "<polygon fill=\"black\" stroke=\"black\" points=\"3874.18,-258.37 3865.36,-252.51 3868.6,-262.6 3874.18,-258.37\"/>\n",
       "</g>\n",
       "<!-- 0.2733924621758389 -->\n",
       "<g id=\"node42\" class=\"node\">\n",
       "<title>0.2733924621758389</title>\n",
       "<ellipse fill=\"none\" stroke=\"black\" cx=\"3959.1\" cy=\"-234\" rx=\"38.19\" ry=\"18\"/>\n",
       "<text text-anchor=\"middle\" x=\"3959.1\" y=\"-230.3\" font-family=\"Times New Roman,serif\" font-size=\"14.00\">Queens</text>\n",
       "</g>\n",
       "<!-- 0.9385130700827042&#45;&gt;0.2733924621758389 -->\n",
       "<g id=\"edge41\" class=\"edge\">\n",
       "<title>0.9385130700827042&#45;&gt;0.2733924621758389</title>\n",
       "<path fill=\"none\" stroke=\"black\" d=\"M3918.17,-288.05C3924.63,-279.68 3932.56,-269.4 3939.71,-260.13\"/>\n",
       "<polygon fill=\"black\" stroke=\"black\" points=\"3942.25,-262.56 3945.59,-252.51 3936.71,-258.29 3942.25,-262.56\"/>\n",
       "</g>\n",
       "<!-- 0.8850140936025316 -->\n",
       "<g id=\"node44\" class=\"node\">\n",
       "<title>0.8850140936025316</title>\n",
       "<ellipse fill=\"none\" stroke=\"black\" cx=\"4064.1\" cy=\"-234\" rx=\"33.29\" ry=\"18\"/>\n",
       "<text text-anchor=\"middle\" x=\"4064.1\" y=\"-230.3\" font-family=\"Times New Roman,serif\" font-size=\"14.00\">Bronx</text>\n",
       "</g>\n",
       "<!-- 0.9385130700827042&#45;&gt;0.8850140936025316 -->\n",
       "<g id=\"edge43\" class=\"edge\">\n",
       "<title>0.9385130700827042&#45;&gt;0.8850140936025316</title>\n",
       "<path fill=\"none\" stroke=\"black\" d=\"M3940.78,-289.29C3967.01,-277.74 4002.5,-262.12 4028.68,-250.59\"/>\n",
       "<polygon fill=\"black\" stroke=\"black\" points=\"4029.79,-253.93 4037.53,-246.7 4026.97,-247.52 4029.79,-253.93\"/>\n",
       "</g>\n",
       "<!-- 0.08347229993944671 -->\n",
       "<g id=\"node46\" class=\"node\">\n",
       "<title>0.08347229993944671</title>\n",
       "<ellipse fill=\"none\" stroke=\"black\" cx=\"4183.1\" cy=\"-234\" rx=\"57.69\" ry=\"18\"/>\n",
       "<text text-anchor=\"middle\" x=\"4183.1\" y=\"-230.3\" font-family=\"Times New Roman,serif\" font-size=\"14.00\">Staten Island</text>\n",
       "</g>\n",
       "<!-- 0.9385130700827042&#45;&gt;0.08347229993944671 -->\n",
       "<g id=\"edge45\" class=\"edge\">\n",
       "<title>0.9385130700827042&#45;&gt;0.08347229993944671</title>\n",
       "<path fill=\"none\" stroke=\"black\" d=\"M3958.37,-291.59C4007.07,-279.32 4078.82,-261.26 4128.07,-248.85\"/>\n",
       "<polygon fill=\"black\" stroke=\"black\" points=\"4128.84,-252.27 4137.68,-246.44 4127.13,-245.48 4128.84,-252.27\"/>\n",
       "</g>\n",
       "<!-- 0.614402057508561 -->\n",
       "<g id=\"node11\" class=\"node\">\n",
       "<title>0.614402057508561</title>\n",
       "<ellipse fill=\"none\" stroke=\"black\" cx=\"340.1\" cy=\"-162\" rx=\"85.29\" ry=\"18\"/>\n",
       "<text text-anchor=\"middle\" x=\"340.1\" y=\"-158.3\" font-family=\"Times New Roman,serif\" font-size=\"14.00\">neighborhood group</text>\n",
       "</g>\n",
       "<!-- 0.7031335134865953&#45;&gt;0.614402057508561 -->\n",
       "<g id=\"edge10\" class=\"edge\">\n",
       "<title>0.7031335134865953&#45;&gt;0.614402057508561</title>\n",
       "<path fill=\"none\" stroke=\"black\" d=\"M555.56,-220.57C512.95,-209.18 449.55,-192.24 402.55,-179.69\"/>\n",
       "<polygon fill=\"black\" stroke=\"black\" points=\"403.61,-176.35 393.04,-177.15 401.8,-183.11 403.61,-176.35\"/>\n",
       "</g>\n",
       "<!-- 0.9515790260181233 -->\n",
       "<g id=\"node48\" class=\"node\">\n",
       "<title>0.9515790260181233</title>\n",
       "<ellipse fill=\"none\" stroke=\"black\" cx=\"50.1\" cy=\"-90\" rx=\"44.39\" ry=\"18\"/>\n",
       "<text text-anchor=\"middle\" x=\"50.1\" y=\"-86.3\" font-family=\"Times New Roman,serif\" font-size=\"14.00\">Brooklyn</text>\n",
       "</g>\n",
       "<!-- 0.614402057508561&#45;&gt;0.9515790260181233 -->\n",
       "<g id=\"edge47\" class=\"edge\">\n",
       "<title>0.614402057508561&#45;&gt;0.9515790260181233</title>\n",
       "<path fill=\"none\" stroke=\"black\" d=\"M284.33,-148.13C238.96,-137.58 173.32,-122.14 116.1,-108 110.14,-106.53 103.88,-104.95 97.7,-103.38\"/>\n",
       "<polygon fill=\"black\" stroke=\"black\" points=\"98.74,-100.03 88.19,-100.95 97.01,-106.82 98.74,-100.03\"/>\n",
       "</g>\n",
       "<!-- 0.6376028785526069 -->\n",
       "<g id=\"node50\" class=\"node\">\n",
       "<title>0.6376028785526069</title>\n",
       "<ellipse fill=\"none\" stroke=\"black\" cx=\"173.1\" cy=\"-90\" rx=\"48.19\" ry=\"18\"/>\n",
       "<text text-anchor=\"middle\" x=\"173.1\" y=\"-86.3\" font-family=\"Times New Roman,serif\" font-size=\"14.00\">Manhattan</text>\n",
       "</g>\n",
       "<!-- 0.614402057508561&#45;&gt;0.6376028785526069 -->\n",
       "<g id=\"edge49\" class=\"edge\">\n",
       "<title>0.614402057508561&#45;&gt;0.6376028785526069</title>\n",
       "<path fill=\"none\" stroke=\"black\" d=\"M303.03,-145.46C276.9,-134.51 241.88,-119.83 214.78,-108.47\"/>\n",
       "<polygon fill=\"black\" stroke=\"black\" points=\"216.42,-105.36 205.84,-104.73 213.71,-111.82 216.42,-105.36\"/>\n",
       "</g>\n",
       "<!-- 0.8515845043604879 -->\n",
       "<g id=\"node52\" class=\"node\">\n",
       "<title>0.8515845043604879</title>\n",
       "<ellipse fill=\"none\" stroke=\"black\" cx=\"283.1\" cy=\"-90\" rx=\"38.19\" ry=\"18\"/>\n",
       "<text text-anchor=\"middle\" x=\"283.1\" y=\"-86.3\" font-family=\"Times New Roman,serif\" font-size=\"14.00\">Queens</text>\n",
       "</g>\n",
       "<!-- 0.614402057508561&#45;&gt;0.8515845043604879 -->\n",
       "<g id=\"edge51\" class=\"edge\">\n",
       "<title>0.614402057508561&#45;&gt;0.8515845043604879</title>\n",
       "<path fill=\"none\" stroke=\"black\" d=\"M326.3,-144.05C319.48,-135.68 311.11,-125.4 303.56,-116.13\"/>\n",
       "<polygon fill=\"black\" stroke=\"black\" points=\"306.36,-114.03 297.33,-108.48 300.93,-118.45 306.36,-114.03\"/>\n",
       "</g>\n",
       "<!-- 0.7468042783298665 -->\n",
       "<g id=\"node54\" class=\"node\">\n",
       "<title>0.7468042783298665</title>\n",
       "<ellipse fill=\"none\" stroke=\"black\" cx=\"384.1\" cy=\"-90\" rx=\"33.29\" ry=\"18\"/>\n",
       "<text text-anchor=\"middle\" x=\"384.1\" y=\"-86.3\" font-family=\"Times New Roman,serif\" font-size=\"14.00\">Bronx</text>\n",
       "</g>\n",
       "<!-- 0.614402057508561&#45;&gt;0.7468042783298665 -->\n",
       "<g id=\"edge53\" class=\"edge\">\n",
       "<title>0.614402057508561&#45;&gt;0.7468042783298665</title>\n",
       "<path fill=\"none\" stroke=\"black\" d=\"M350.97,-143.7C356.08,-135.58 362.26,-125.74 367.9,-116.76\"/>\n",
       "<polygon fill=\"black\" stroke=\"black\" points=\"370.78,-118.75 373.14,-108.43 364.86,-115.03 370.78,-118.75\"/>\n",
       "</g>\n",
       "<!-- 0.029906130277269627 -->\n",
       "<g id=\"node56\" class=\"node\">\n",
       "<title>0.029906130277269627</title>\n",
       "<ellipse fill=\"none\" stroke=\"black\" cx=\"495.1\" cy=\"-90\" rx=\"57.69\" ry=\"18\"/>\n",
       "<text text-anchor=\"middle\" x=\"495.1\" y=\"-86.3\" font-family=\"Times New Roman,serif\" font-size=\"14.00\">Staten Island</text>\n",
       "</g>\n",
       "<!-- 0.614402057508561&#45;&gt;0.029906130277269627 -->\n",
       "<g id=\"edge55\" class=\"edge\">\n",
       "<title>0.614402057508561&#45;&gt;0.029906130277269627</title>\n",
       "<path fill=\"none\" stroke=\"black\" d=\"M374.88,-145.29C397.97,-134.86 428.42,-121.11 452.9,-110.06\"/>\n",
       "<polygon fill=\"black\" stroke=\"black\" points=\"454.28,-113.28 461.95,-105.97 451.39,-106.9 454.28,-113.28\"/>\n",
       "</g>\n",
       "<!-- 0.6336840061828432 -->\n",
       "<g id=\"node13\" class=\"node\">\n",
       "<title>0.6336840061828432</title>\n",
       "<ellipse fill=\"none\" stroke=\"black\" cx=\"903.1\" cy=\"-162\" rx=\"85.29\" ry=\"18\"/>\n",
       "<text text-anchor=\"middle\" x=\"903.1\" y=\"-158.3\" font-family=\"Times New Roman,serif\" font-size=\"14.00\">neighborhood group</text>\n",
       "</g>\n",
       "<!-- 0.9297781279617002&#45;&gt;0.6336840061828432 -->\n",
       "<g id=\"edge12\" class=\"edge\">\n",
       "<title>0.9297781279617002&#45;&gt;0.6336840061828432</title>\n",
       "<path fill=\"none\" stroke=\"black\" d=\"M1088.13,-220.57C1052.69,-209.54 1000.52,-193.31 960.6,-180.89\"/>\n",
       "<polygon fill=\"black\" stroke=\"black\" points=\"961.72,-177.57 951.13,-177.94 959.64,-184.26 961.72,-177.57\"/>\n",
       "</g>\n",
       "<!-- 0.4583071515293341 -->\n",
       "<g id=\"node58\" class=\"node\">\n",
       "<title>0.4583071515293341</title>\n",
       "<ellipse fill=\"none\" stroke=\"black\" cx=\"630.1\" cy=\"-90\" rx=\"48.19\" ry=\"18\"/>\n",
       "<text text-anchor=\"middle\" x=\"630.1\" y=\"-86.3\" font-family=\"Times New Roman,serif\" font-size=\"14.00\">Manhattan</text>\n",
       "</g>\n",
       "<!-- 0.6336840061828432&#45;&gt;0.4583071515293341 -->\n",
       "<g id=\"edge57\" class=\"edge\">\n",
       "<title>0.6336840061828432&#45;&gt;0.4583071515293341</title>\n",
       "<path fill=\"none\" stroke=\"black\" d=\"M850.07,-147.59C808.02,-136.93 747.78,-121.6 695.1,-108 690,-106.68 684.68,-105.3 679.37,-103.92\"/>\n",
       "<polygon fill=\"black\" stroke=\"black\" points=\"680.6,-100.63 670.04,-101.49 678.84,-107.4 680.6,-100.63\"/>\n",
       "</g>\n",
       "<!-- 0.08389053440522731 -->\n",
       "<g id=\"node60\" class=\"node\">\n",
       "<title>0.08389053440522731</title>\n",
       "<ellipse fill=\"none\" stroke=\"black\" cx=\"748.1\" cy=\"-90\" rx=\"44.39\" ry=\"18\"/>\n",
       "<text text-anchor=\"middle\" x=\"748.1\" y=\"-86.3\" font-family=\"Times New Roman,serif\" font-size=\"14.00\">Brooklyn</text>\n",
       "</g>\n",
       "<!-- 0.6336840061828432&#45;&gt;0.08389053440522731 -->\n",
       "<g id=\"edge59\" class=\"edge\">\n",
       "<title>0.6336840061828432&#45;&gt;0.08389053440522731</title>\n",
       "<path fill=\"none\" stroke=\"black\" d=\"M868.31,-145.29C844.26,-134.43 812.22,-119.96 787.26,-108.69\"/>\n",
       "<polygon fill=\"black\" stroke=\"black\" points=\"788.98,-105.62 778.43,-104.7 786.1,-112 788.98,-105.62\"/>\n",
       "</g>\n",
       "<!-- 0.8003321210772306 -->\n",
       "<g id=\"node62\" class=\"node\">\n",
       "<title>0.8003321210772306</title>\n",
       "<ellipse fill=\"none\" stroke=\"black\" cx=\"847.1\" cy=\"-90\" rx=\"33.29\" ry=\"18\"/>\n",
       "<text text-anchor=\"middle\" x=\"847.1\" y=\"-86.3\" font-family=\"Times New Roman,serif\" font-size=\"14.00\">Bronx</text>\n",
       "</g>\n",
       "<!-- 0.6336840061828432&#45;&gt;0.8003321210772306 -->\n",
       "<g id=\"edge61\" class=\"edge\">\n",
       "<title>0.6336840061828432&#45;&gt;0.8003321210772306</title>\n",
       "<path fill=\"none\" stroke=\"black\" d=\"M889.54,-144.05C882.74,-135.56 874.38,-125.11 866.88,-115.73\"/>\n",
       "<polygon fill=\"black\" stroke=\"black\" points=\"869.68,-113.63 860.7,-108.01 864.22,-118.01 869.68,-113.63\"/>\n",
       "</g>\n",
       "<!-- 0.3651940408030878 -->\n",
       "<g id=\"node64\" class=\"node\">\n",
       "<title>0.3651940408030878</title>\n",
       "<ellipse fill=\"none\" stroke=\"black\" cx=\"958.1\" cy=\"-90\" rx=\"57.69\" ry=\"18\"/>\n",
       "<text text-anchor=\"middle\" x=\"958.1\" y=\"-86.3\" font-family=\"Times New Roman,serif\" font-size=\"14.00\">Staten Island</text>\n",
       "</g>\n",
       "<!-- 0.6336840061828432&#45;&gt;0.3651940408030878 -->\n",
       "<g id=\"edge63\" class=\"edge\">\n",
       "<title>0.6336840061828432&#45;&gt;0.3651940408030878</title>\n",
       "<path fill=\"none\" stroke=\"black\" d=\"M916.41,-144.05C922.83,-135.89 930.67,-125.91 937.81,-116.82\"/>\n",
       "<polygon fill=\"black\" stroke=\"black\" points=\"940.54,-119 943.97,-108.98 935.04,-114.68 940.54,-119\"/>\n",
       "</g>\n",
       "<!-- 0.08302357995179799 -->\n",
       "<g id=\"node66\" class=\"node\">\n",
       "<title>0.08302357995179799</title>\n",
       "<ellipse fill=\"none\" stroke=\"black\" cx=\"1077.1\" cy=\"-90\" rx=\"38.19\" ry=\"18\"/>\n",
       "<text text-anchor=\"middle\" x=\"1077.1\" y=\"-86.3\" font-family=\"Times New Roman,serif\" font-size=\"14.00\">Queens</text>\n",
       "</g>\n",
       "<!-- 0.6336840061828432&#45;&gt;0.08302357995179799 -->\n",
       "<g id=\"edge65\" class=\"edge\">\n",
       "<title>0.6336840061828432&#45;&gt;0.08302357995179799</title>\n",
       "<path fill=\"none\" stroke=\"black\" d=\"M941.28,-145.64C970.02,-134.08 1009.27,-118.29 1038.19,-106.65\"/>\n",
       "<polygon fill=\"black\" stroke=\"black\" points=\"1039.34,-109.96 1047.31,-102.98 1036.73,-103.47 1039.34,-109.96\"/>\n",
       "</g>\n",
       "<!-- 0.20755594101939445 -->\n",
       "<g id=\"node15\" class=\"node\">\n",
       "<title>0.20755594101939445</title>\n",
       "<ellipse fill=\"none\" stroke=\"black\" cx=\"1434.1\" cy=\"-162\" rx=\"85.29\" ry=\"18\"/>\n",
       "<text text-anchor=\"middle\" x=\"1434.1\" y=\"-158.3\" font-family=\"Times New Roman,serif\" font-size=\"14.00\">neighborhood group</text>\n",
       "</g>\n",
       "<!-- 0.8467738946844537&#45;&gt;0.20755594101939445 -->\n",
       "<g id=\"edge14\" class=\"edge\">\n",
       "<title>0.8467738946844537&#45;&gt;0.20755594101939445</title>\n",
       "<path fill=\"none\" stroke=\"black\" d=\"M1434.1,-215.7C1434.1,-208.41 1434.1,-199.73 1434.1,-191.54\"/>\n",
       "<polygon fill=\"black\" stroke=\"black\" points=\"1437.6,-191.62 1434.1,-181.62 1430.6,-191.62 1437.6,-191.62\"/>\n",
       "</g>\n",
       "<!-- 0.9421523416224065 -->\n",
       "<g id=\"node68\" class=\"node\">\n",
       "<title>0.9421523416224065</title>\n",
       "<ellipse fill=\"none\" stroke=\"black\" cx=\"1215.1\" cy=\"-90\" rx=\"44.39\" ry=\"18\"/>\n",
       "<text text-anchor=\"middle\" x=\"1215.1\" y=\"-86.3\" font-family=\"Times New Roman,serif\" font-size=\"14.00\">Brooklyn</text>\n",
       "</g>\n",
       "<!-- 0.20755594101939445&#45;&gt;0.9421523416224065 -->\n",
       "<g id=\"edge67\" class=\"edge\">\n",
       "<title>0.20755594101939445&#45;&gt;0.9421523416224065</title>\n",
       "<path fill=\"none\" stroke=\"black\" d=\"M1388.45,-146.41C1350.69,-134.34 1297.35,-117.29 1259.83,-105.3\"/>\n",
       "<polygon fill=\"black\" stroke=\"black\" points=\"1261.25,-102.08 1250.66,-102.37 1259.12,-108.75 1261.25,-102.08\"/>\n",
       "</g>\n",
       "<!-- 0.7576274134860921 -->\n",
       "<g id=\"node70\" class=\"node\">\n",
       "<title>0.7576274134860921</title>\n",
       "<ellipse fill=\"none\" stroke=\"black\" cx=\"1327.1\" cy=\"-90\" rx=\"33.29\" ry=\"18\"/>\n",
       "<text text-anchor=\"middle\" x=\"1327.1\" y=\"-86.3\" font-family=\"Times New Roman,serif\" font-size=\"14.00\">Bronx</text>\n",
       "</g>\n",
       "<!-- 0.20755594101939445&#45;&gt;0.7576274134860921 -->\n",
       "<g id=\"edge69\" class=\"edge\">\n",
       "<title>0.20755594101939445&#45;&gt;0.7576274134860921</title>\n",
       "<path fill=\"none\" stroke=\"black\" d=\"M1408.74,-144.41C1393.28,-134.3 1373.45,-121.32 1357.2,-110.69\"/>\n",
       "<polygon fill=\"black\" stroke=\"black\" points=\"1359.16,-107.8 1348.88,-105.25 1355.33,-113.66 1359.16,-107.8\"/>\n",
       "</g>\n",
       "<!-- 0.474092027593106 -->\n",
       "<g id=\"node72\" class=\"node\">\n",
       "<title>0.474092027593106</title>\n",
       "<ellipse fill=\"none\" stroke=\"black\" cx=\"1434.1\" cy=\"-90\" rx=\"48.19\" ry=\"18\"/>\n",
       "<text text-anchor=\"middle\" x=\"1434.1\" y=\"-86.3\" font-family=\"Times New Roman,serif\" font-size=\"14.00\">Manhattan</text>\n",
       "</g>\n",
       "<!-- 0.20755594101939445&#45;&gt;0.474092027593106 -->\n",
       "<g id=\"edge71\" class=\"edge\">\n",
       "<title>0.20755594101939445&#45;&gt;0.474092027593106</title>\n",
       "<path fill=\"none\" stroke=\"black\" d=\"M1434.1,-143.7C1434.1,-136.41 1434.1,-127.73 1434.1,-119.54\"/>\n",
       "<polygon fill=\"black\" stroke=\"black\" points=\"1437.6,-119.62 1434.1,-109.62 1430.6,-119.62 1437.6,-119.62\"/>\n",
       "</g>\n",
       "<!-- 0.818612199650866 -->\n",
       "<g id=\"node74\" class=\"node\">\n",
       "<title>0.818612199650866</title>\n",
       "<ellipse fill=\"none\" stroke=\"black\" cx=\"1547.1\" cy=\"-90\" rx=\"38.19\" ry=\"18\"/>\n",
       "<text text-anchor=\"middle\" x=\"1547.1\" y=\"-86.3\" font-family=\"Times New Roman,serif\" font-size=\"14.00\">Queens</text>\n",
       "</g>\n",
       "<!-- 0.20755594101939445&#45;&gt;0.818612199650866 -->\n",
       "<g id=\"edge73\" class=\"edge\">\n",
       "<title>0.20755594101939445&#45;&gt;0.818612199650866</title>\n",
       "<path fill=\"none\" stroke=\"black\" d=\"M1460.59,-144.59C1476.84,-134.52 1497.75,-121.57 1514.95,-110.91\"/>\n",
       "<polygon fill=\"black\" stroke=\"black\" points=\"1516.63,-113.99 1523.29,-105.75 1512.95,-108.04 1516.63,-113.99\"/>\n",
       "</g>\n",
       "<!-- 0.06006373267046616 -->\n",
       "<g id=\"node76\" class=\"node\">\n",
       "<title>0.06006373267046616</title>\n",
       "<ellipse fill=\"none\" stroke=\"black\" cx=\"1668.1\" cy=\"-90\" rx=\"57.69\" ry=\"18\"/>\n",
       "<text text-anchor=\"middle\" x=\"1668.1\" y=\"-86.3\" font-family=\"Times New Roman,serif\" font-size=\"14.00\">Staten Island</text>\n",
       "</g>\n",
       "<!-- 0.20755594101939445&#45;&gt;0.06006373267046616 -->\n",
       "<g id=\"edge75\" class=\"edge\">\n",
       "<title>0.20755594101939445&#45;&gt;0.06006373267046616</title>\n",
       "<path fill=\"none\" stroke=\"black\" d=\"M1482.01,-146.67C1521.25,-134.93 1576.62,-118.36 1616.76,-106.36\"/>\n",
       "<polygon fill=\"black\" stroke=\"black\" points=\"1617.62,-109.75 1626.2,-103.53 1615.61,-103.05 1617.62,-109.75\"/>\n",
       "</g>\n",
       "<!-- 0.9238753905257281 -->\n",
       "<g id=\"node17\" class=\"node\">\n",
       "<title>0.9238753905257281</title>\n",
       "<ellipse fill=\"none\" stroke=\"black\" cx=\"1851.1\" cy=\"-162\" rx=\"85.29\" ry=\"18\"/>\n",
       "<text text-anchor=\"middle\" x=\"1851.1\" y=\"-158.3\" font-family=\"Times New Roman,serif\" font-size=\"14.00\">neighborhood group</text>\n",
       "</g>\n",
       "<!-- 0.7306753872028849&#45;&gt;0.9238753905257281 -->\n",
       "<g id=\"edge16\" class=\"edge\">\n",
       "<title>0.7306753872028849&#45;&gt;0.9238753905257281</title>\n",
       "<path fill=\"none\" stroke=\"black\" d=\"M1713.47,-219.67C1738.76,-209.26 1774.28,-194.63 1802.91,-182.84\"/>\n",
       "<polygon fill=\"black\" stroke=\"black\" points=\"1804.19,-186.1 1812.11,-179.05 1801.53,-179.63 1804.19,-186.1\"/>\n",
       "</g>\n",
       "<!-- 0.1974989623989114 -->\n",
       "<g id=\"node78\" class=\"node\">\n",
       "<title>0.1974989623989114</title>\n",
       "<ellipse fill=\"none\" stroke=\"black\" cx=\"1796.1\" cy=\"-90\" rx=\"48.19\" ry=\"18\"/>\n",
       "<text text-anchor=\"middle\" x=\"1796.1\" y=\"-86.3\" font-family=\"Times New Roman,serif\" font-size=\"14.00\">Manhattan</text>\n",
       "</g>\n",
       "<!-- 0.9238753905257281&#45;&gt;0.1974989623989114 -->\n",
       "<g id=\"edge77\" class=\"edge\">\n",
       "<title>0.9238753905257281&#45;&gt;0.1974989623989114</title>\n",
       "<path fill=\"none\" stroke=\"black\" d=\"M1837.78,-144.05C1831.36,-135.89 1823.53,-125.91 1816.39,-116.82\"/>\n",
       "<polygon fill=\"black\" stroke=\"black\" points=\"1819.15,-114.68 1810.22,-108.98 1813.65,-119 1819.15,-114.68\"/>\n",
       "</g>\n",
       "<!-- 0.4791071366349793 -->\n",
       "<g id=\"node80\" class=\"node\">\n",
       "<title>0.4791071366349793</title>\n",
       "<ellipse fill=\"none\" stroke=\"black\" cx=\"1905.1\" cy=\"-90\" rx=\"38.19\" ry=\"18\"/>\n",
       "<text text-anchor=\"middle\" x=\"1905.1\" y=\"-86.3\" font-family=\"Times New Roman,serif\" font-size=\"14.00\">Queens</text>\n",
       "</g>\n",
       "<!-- 0.9238753905257281&#45;&gt;0.4791071366349793 -->\n",
       "<g id=\"edge79\" class=\"edge\">\n",
       "<title>0.9238753905257281&#45;&gt;0.4791071366349793</title>\n",
       "<path fill=\"none\" stroke=\"black\" d=\"M1864.17,-144.05C1870.63,-135.68 1878.56,-125.4 1885.71,-116.13\"/>\n",
       "<polygon fill=\"black\" stroke=\"black\" points=\"1888.25,-118.56 1891.59,-108.51 1882.71,-114.29 1888.25,-118.56\"/>\n",
       "</g>\n",
       "<!-- 0.9533101377805995 -->\n",
       "<g id=\"node82\" class=\"node\">\n",
       "<title>0.9533101377805995</title>\n",
       "<ellipse fill=\"none\" stroke=\"black\" cx=\"2013.1\" cy=\"-90\" rx=\"44.39\" ry=\"18\"/>\n",
       "<text text-anchor=\"middle\" x=\"2013.1\" y=\"-86.3\" font-family=\"Times New Roman,serif\" font-size=\"14.00\">Brooklyn</text>\n",
       "</g>\n",
       "<!-- 0.9238753905257281&#45;&gt;0.9533101377805995 -->\n",
       "<g id=\"edge81\" class=\"edge\">\n",
       "<title>0.9238753905257281&#45;&gt;0.9533101377805995</title>\n",
       "<path fill=\"none\" stroke=\"black\" d=\"M1887.45,-145.29C1912.87,-134.31 1946.81,-119.64 1973.01,-108.32\"/>\n",
       "<polygon fill=\"black\" stroke=\"black\" points=\"1974.18,-111.63 1981.97,-104.45 1971.4,-105.2 1974.18,-111.63\"/>\n",
       "</g>\n",
       "<!-- 0.3003338732563182 -->\n",
       "<g id=\"node19\" class=\"node\">\n",
       "<title>0.3003338732563182</title>\n",
       "<ellipse fill=\"none\" stroke=\"black\" cx=\"2158.1\" cy=\"-162\" rx=\"48.19\" ry=\"18\"/>\n",
       "<text text-anchor=\"middle\" x=\"2158.1\" y=\"-158.3\" font-family=\"Times New Roman,serif\" font-size=\"14.00\">room type</text>\n",
       "</g>\n",
       "<!-- 0.33391671673411916&#45;&gt;0.3003338732563182 -->\n",
       "<g id=\"edge18\" class=\"edge\">\n",
       "<title>0.33391671673411916&#45;&gt;0.3003338732563182</title>\n",
       "<path fill=\"none\" stroke=\"black\" d=\"M2192.43,-216.41C2187.24,-208.34 2180.87,-198.43 2175.04,-189.35\"/>\n",
       "<polygon fill=\"black\" stroke=\"black\" points=\"2178.17,-187.75 2169.81,-181.23 2172.28,-191.53 2178.17,-187.75\"/>\n",
       "</g>\n",
       "<!-- 0.5322518146372675 -->\n",
       "<g id=\"node84\" class=\"node\">\n",
       "<title>0.5322518146372675</title>\n",
       "<ellipse fill=\"none\" stroke=\"black\" cx=\"2146.1\" cy=\"-90\" rx=\"67.69\" ry=\"18\"/>\n",
       "<text text-anchor=\"middle\" x=\"2146.1\" y=\"-86.3\" font-family=\"Times New Roman,serif\" font-size=\"14.00\">Entire home/apt</text>\n",
       "</g>\n",
       "<!-- 0.3003338732563182&#45;&gt;0.5322518146372675 -->\n",
       "<g id=\"edge83\" class=\"edge\">\n",
       "<title>0.3003338732563182&#45;&gt;0.5322518146372675</title>\n",
       "<path fill=\"none\" stroke=\"black\" d=\"M2155.13,-143.7C2153.87,-136.32 2152.36,-127.52 2150.94,-119.25\"/>\n",
       "<polygon fill=\"black\" stroke=\"black\" points=\"2154.42,-118.86 2149.28,-109.6 2147.52,-120.04 2154.42,-118.86\"/>\n",
       "</g>\n",
       "<!-- 0.5271785963829038 -->\n",
       "<g id=\"node21\" class=\"node\">\n",
       "<title>0.5271785963829038</title>\n",
       "<ellipse fill=\"none\" stroke=\"black\" cx=\"2310.1\" cy=\"-162\" rx=\"48.19\" ry=\"18\"/>\n",
       "<text text-anchor=\"middle\" x=\"2310.1\" y=\"-158.3\" font-family=\"Times New Roman,serif\" font-size=\"14.00\">room type</text>\n",
       "</g>\n",
       "<!-- 0.6398720732441625&#45;&gt;0.5271785963829038 -->\n",
       "<g id=\"edge20\" class=\"edge\">\n",
       "<title>0.6398720732441625&#45;&gt;0.5271785963829038</title>\n",
       "<path fill=\"none\" stroke=\"black\" d=\"M2325.9,-215.7C2323.67,-208.24 2320.99,-199.32 2318.49,-190.97\"/>\n",
       "<polygon fill=\"black\" stroke=\"black\" points=\"2321.89,-190.13 2315.66,-181.55 2315.18,-192.14 2321.89,-190.13\"/>\n",
       "</g>\n",
       "<!-- 0.20589055754257812 -->\n",
       "<g id=\"node86\" class=\"node\">\n",
       "<title>0.20589055754257812</title>\n",
       "<ellipse fill=\"none\" stroke=\"black\" cx=\"2299.1\" cy=\"-90\" rx=\"67.69\" ry=\"18\"/>\n",
       "<text text-anchor=\"middle\" x=\"2299.1\" y=\"-86.3\" font-family=\"Times New Roman,serif\" font-size=\"14.00\">Entire home/apt</text>\n",
       "</g>\n",
       "<!-- 0.5271785963829038&#45;&gt;0.20589055754257812 -->\n",
       "<g id=\"edge85\" class=\"edge\">\n",
       "<title>0.5271785963829038&#45;&gt;0.20589055754257812</title>\n",
       "<path fill=\"none\" stroke=\"black\" d=\"M2307.38,-143.7C2306.22,-136.32 2304.84,-127.52 2303.54,-119.25\"/>\n",
       "<polygon fill=\"black\" stroke=\"black\" points=\"2307.03,-118.93 2302.02,-109.6 2300.11,-120.02 2307.03,-118.93\"/>\n",
       "</g>\n",
       "<!-- 0.6522958759553604 -->\n",
       "<g id=\"node23\" class=\"node\">\n",
       "<title>0.6522958759553604</title>\n",
       "<ellipse fill=\"none\" stroke=\"black\" cx=\"2454.1\" cy=\"-162\" rx=\"48.19\" ry=\"18\"/>\n",
       "<text text-anchor=\"middle\" x=\"2454.1\" y=\"-158.3\" font-family=\"Times New Roman,serif\" font-size=\"14.00\">room type</text>\n",
       "</g>\n",
       "<!-- 0.9658573457546978&#45;&gt;0.6522958759553604 -->\n",
       "<g id=\"edge22\" class=\"edge\">\n",
       "<title>0.9658573457546978&#45;&gt;0.6522958759553604</title>\n",
       "<path fill=\"none\" stroke=\"black\" d=\"M2457.11,-215.7C2456.69,-208.41 2456.19,-199.73 2455.73,-191.54\"/>\n",
       "<polygon fill=\"black\" stroke=\"black\" points=\"2459.22,-191.4 2455.16,-181.62 2452.24,-191.8 2459.22,-191.4\"/>\n",
       "</g>\n",
       "<!-- 0.9217632855299084 -->\n",
       "<g id=\"node88\" class=\"node\">\n",
       "<title>0.9217632855299084</title>\n",
       "<ellipse fill=\"none\" stroke=\"black\" cx=\"2452.1\" cy=\"-90\" rx=\"67.69\" ry=\"18\"/>\n",
       "<text text-anchor=\"middle\" x=\"2452.1\" y=\"-86.3\" font-family=\"Times New Roman,serif\" font-size=\"14.00\">Entire home/apt</text>\n",
       "</g>\n",
       "<!-- 0.6522958759553604&#45;&gt;0.9217632855299084 -->\n",
       "<g id=\"edge87\" class=\"edge\">\n",
       "<title>0.6522958759553604&#45;&gt;0.9217632855299084</title>\n",
       "<path fill=\"none\" stroke=\"black\" d=\"M2453.6,-143.7C2453.39,-136.41 2453.15,-127.73 2452.91,-119.54\"/>\n",
       "<polygon fill=\"black\" stroke=\"black\" points=\"2456.41,-119.51 2452.63,-109.62 2449.41,-119.71 2456.41,-119.51\"/>\n",
       "</g>\n",
       "<!-- 0.7943914838375694 -->\n",
       "<g id=\"node25\" class=\"node\">\n",
       "<title>0.7943914838375694</title>\n",
       "<ellipse fill=\"none\" stroke=\"black\" cx=\"2589.1\" cy=\"-162\" rx=\"48.19\" ry=\"18\"/>\n",
       "<text text-anchor=\"middle\" x=\"2589.1\" y=\"-158.3\" font-family=\"Times New Roman,serif\" font-size=\"14.00\">room type</text>\n",
       "</g>\n",
       "<!-- 0.9778891740146948&#45;&gt;0.7943914838375694 -->\n",
       "<g id=\"edge24\" class=\"edge\">\n",
       "<title>0.9778891740146948&#45;&gt;0.7943914838375694</title>\n",
       "<path fill=\"none\" stroke=\"black\" d=\"M2583.07,-215.7C2583.91,-208.41 2584.9,-199.73 2585.83,-191.54\"/>\n",
       "<polygon fill=\"black\" stroke=\"black\" points=\"2589.31,-191.94 2586.97,-181.61 2582.36,-191.15 2589.31,-191.94\"/>\n",
       "</g>\n",
       "<!-- 0.1949674932783062 -->\n",
       "<g id=\"node90\" class=\"node\">\n",
       "<title>0.1949674932783062</title>\n",
       "<ellipse fill=\"none\" stroke=\"black\" cx=\"2605.1\" cy=\"-90\" rx=\"67.69\" ry=\"18\"/>\n",
       "<text text-anchor=\"middle\" x=\"2605.1\" y=\"-86.3\" font-family=\"Times New Roman,serif\" font-size=\"14.00\">Entire home/apt</text>\n",
       "</g>\n",
       "<!-- 0.7943914838375694&#45;&gt;0.1949674932783062 -->\n",
       "<g id=\"edge89\" class=\"edge\">\n",
       "<title>0.7943914838375694&#45;&gt;0.1949674932783062</title>\n",
       "<path fill=\"none\" stroke=\"black\" d=\"M2593.05,-143.7C2594.74,-136.32 2596.75,-127.52 2598.64,-119.25\"/>\n",
       "<polygon fill=\"black\" stroke=\"black\" points=\"2602.03,-120.11 2600.85,-109.58 2595.21,-118.55 2602.03,-120.11\"/>\n",
       "</g>\n",
       "<!-- 0.5867270027672878 -->\n",
       "<g id=\"node27\" class=\"node\">\n",
       "<title>0.5867270027672878</title>\n",
       "<ellipse fill=\"none\" stroke=\"black\" cx=\"2743.1\" cy=\"-162\" rx=\"48.19\" ry=\"18\"/>\n",
       "<text text-anchor=\"middle\" x=\"2743.1\" y=\"-158.3\" font-family=\"Times New Roman,serif\" font-size=\"14.00\">room type</text>\n",
       "</g>\n",
       "<!-- 0.024979582301914216&#45;&gt;0.5867270027672878 -->\n",
       "<g id=\"edge26\" class=\"edge\">\n",
       "<title>0.024979582301914216&#45;&gt;0.5867270027672878</title>\n",
       "<path fill=\"none\" stroke=\"black\" d=\"M2720.36,-216.05C2723.63,-208.43 2727.57,-199.23 2731.25,-190.65\"/>\n",
       "<polygon fill=\"black\" stroke=\"black\" points=\"2734.37,-192.24 2735.1,-181.67 2727.94,-189.48 2734.37,-192.24\"/>\n",
       "</g>\n",
       "<!-- 0.6973617917646386 -->\n",
       "<g id=\"node92\" class=\"node\">\n",
       "<title>0.6973617917646386</title>\n",
       "<ellipse fill=\"none\" stroke=\"black\" cx=\"2758.1\" cy=\"-90\" rx=\"67.69\" ry=\"18\"/>\n",
       "<text text-anchor=\"middle\" x=\"2758.1\" y=\"-86.3\" font-family=\"Times New Roman,serif\" font-size=\"14.00\">Entire home/apt</text>\n",
       "</g>\n",
       "<!-- 0.5867270027672878&#45;&gt;0.6973617917646386 -->\n",
       "<g id=\"edge91\" class=\"edge\">\n",
       "<title>0.5867270027672878&#45;&gt;0.6973617917646386</title>\n",
       "<path fill=\"none\" stroke=\"black\" d=\"M2746.8,-143.7C2748.38,-136.32 2750.27,-127.52 2752.04,-119.25\"/>\n",
       "<polygon fill=\"black\" stroke=\"black\" points=\"2755.44,-120.1 2754.11,-109.58 2748.6,-118.63 2755.44,-120.1\"/>\n",
       "</g>\n",
       "<!-- 0.70478449467831 -->\n",
       "<g id=\"node29\" class=\"node\">\n",
       "<title>0.70478449467831</title>\n",
       "<ellipse fill=\"none\" stroke=\"black\" cx=\"2922.1\" cy=\"-162\" rx=\"48.19\" ry=\"18\"/>\n",
       "<text text-anchor=\"middle\" x=\"2922.1\" y=\"-158.3\" font-family=\"Times New Roman,serif\" font-size=\"14.00\">room type</text>\n",
       "</g>\n",
       "<!-- 0.334430449954903&#45;&gt;0.70478449467831 -->\n",
       "<g id=\"edge28\" class=\"edge\">\n",
       "<title>0.334430449954903&#45;&gt;0.70478449467831</title>\n",
       "<path fill=\"none\" stroke=\"black\" d=\"M2937.9,-215.7C2935.67,-208.24 2932.99,-199.32 2930.49,-190.97\"/>\n",
       "<polygon fill=\"black\" stroke=\"black\" points=\"2933.89,-190.13 2927.66,-181.55 2927.18,-192.14 2933.89,-190.13\"/>\n",
       "</g>\n",
       "<!-- 0.4172847207393795 -->\n",
       "<g id=\"node94\" class=\"node\">\n",
       "<title>0.4172847207393795</title>\n",
       "<ellipse fill=\"none\" stroke=\"black\" cx=\"2911.1\" cy=\"-90\" rx=\"67.69\" ry=\"18\"/>\n",
       "<text text-anchor=\"middle\" x=\"2911.1\" y=\"-86.3\" font-family=\"Times New Roman,serif\" font-size=\"14.00\">Entire home/apt</text>\n",
       "</g>\n",
       "<!-- 0.70478449467831&#45;&gt;0.4172847207393795 -->\n",
       "<g id=\"edge93\" class=\"edge\">\n",
       "<title>0.70478449467831&#45;&gt;0.4172847207393795</title>\n",
       "<path fill=\"none\" stroke=\"black\" d=\"M2919.38,-143.7C2918.22,-136.32 2916.84,-127.52 2915.54,-119.25\"/>\n",
       "<polygon fill=\"black\" stroke=\"black\" points=\"2919.03,-118.93 2914.02,-109.6 2912.11,-120.02 2919.03,-118.93\"/>\n",
       "</g>\n",
       "<!-- 0.3157588758886969 -->\n",
       "<g id=\"node31\" class=\"node\">\n",
       "<title>0.3157588758886969</title>\n",
       "<ellipse fill=\"none\" stroke=\"black\" cx=\"3067.1\" cy=\"-162\" rx=\"48.19\" ry=\"18\"/>\n",
       "<text text-anchor=\"middle\" x=\"3067.1\" y=\"-158.3\" font-family=\"Times New Roman,serif\" font-size=\"14.00\">room type</text>\n",
       "</g>\n",
       "<!-- 0.42803051809679704&#45;&gt;0.3157588758886969 -->\n",
       "<g id=\"edge30\" class=\"edge\">\n",
       "<title>0.42803051809679704&#45;&gt;0.3157588758886969</title>\n",
       "<path fill=\"none\" stroke=\"black\" d=\"M3072.37,-215.7C3071.64,-208.41 3070.77,-199.73 3069.95,-191.54\"/>\n",
       "<polygon fill=\"black\" stroke=\"black\" points=\"3073.43,-191.21 3068.96,-181.61 3066.47,-191.91 3073.43,-191.21\"/>\n",
       "</g>\n",
       "<!-- 0.6047867774764003 -->\n",
       "<g id=\"node96\" class=\"node\">\n",
       "<title>0.6047867774764003</title>\n",
       "<ellipse fill=\"none\" stroke=\"black\" cx=\"3064.1\" cy=\"-90\" rx=\"67.69\" ry=\"18\"/>\n",
       "<text text-anchor=\"middle\" x=\"3064.1\" y=\"-86.3\" font-family=\"Times New Roman,serif\" font-size=\"14.00\">Entire home/apt</text>\n",
       "</g>\n",
       "<!-- 0.3157588758886969&#45;&gt;0.6047867774764003 -->\n",
       "<g id=\"edge95\" class=\"edge\">\n",
       "<title>0.3157588758886969&#45;&gt;0.6047867774764003</title>\n",
       "<path fill=\"none\" stroke=\"black\" d=\"M3066.35,-143.7C3066.04,-136.41 3065.67,-127.73 3065.32,-119.54\"/>\n",
       "<polygon fill=\"black\" stroke=\"black\" points=\"3068.82,-119.46 3064.89,-109.62 3061.83,-119.76 3068.82,-119.46\"/>\n",
       "</g>\n",
       "<!-- 0.4025546283767347 -->\n",
       "<g id=\"node33\" class=\"node\">\n",
       "<title>0.4025546283767347</title>\n",
       "<ellipse fill=\"none\" stroke=\"black\" cx=\"3204.1\" cy=\"-162\" rx=\"48.19\" ry=\"18\"/>\n",
       "<text text-anchor=\"middle\" x=\"3204.1\" y=\"-158.3\" font-family=\"Times New Roman,serif\" font-size=\"14.00\">room type</text>\n",
       "</g>\n",
       "<!-- 0.7583848555180601&#45;&gt;0.4025546283767347 -->\n",
       "<g id=\"edge32\" class=\"edge\">\n",
       "<title>0.7583848555180601&#45;&gt;0.4025546283767347</title>\n",
       "<path fill=\"none\" stroke=\"black\" d=\"M3183.63,-216.05C3186.54,-208.52 3190.04,-199.44 3193.32,-190.94\"/>\n",
       "<polygon fill=\"black\" stroke=\"black\" points=\"3196.55,-192.28 3196.89,-181.69 3190.02,-189.76 3196.55,-192.28\"/>\n",
       "</g>\n",
       "<!-- 0.2827252972844675 -->\n",
       "<g id=\"node98\" class=\"node\">\n",
       "<title>0.2827252972844675</title>\n",
       "<ellipse fill=\"none\" stroke=\"black\" cx=\"3217.1\" cy=\"-90\" rx=\"67.69\" ry=\"18\"/>\n",
       "<text text-anchor=\"middle\" x=\"3217.1\" y=\"-86.3\" font-family=\"Times New Roman,serif\" font-size=\"14.00\">Entire home/apt</text>\n",
       "</g>\n",
       "<!-- 0.4025546283767347&#45;&gt;0.2827252972844675 -->\n",
       "<g id=\"edge97\" class=\"edge\">\n",
       "<title>0.4025546283767347&#45;&gt;0.2827252972844675</title>\n",
       "<path fill=\"none\" stroke=\"black\" d=\"M3207.31,-143.7C3208.68,-136.32 3210.31,-127.52 3211.85,-119.25\"/>\n",
       "<polygon fill=\"black\" stroke=\"black\" points=\"3215.26,-120.06 3213.64,-109.59 3208.38,-118.79 3215.26,-120.06\"/>\n",
       "</g>\n",
       "<!-- 0.5236364521896242 -->\n",
       "<g id=\"node35\" class=\"node\">\n",
       "<title>0.5236364521896242</title>\n",
       "<ellipse fill=\"none\" stroke=\"black\" cx=\"3344.1\" cy=\"-162\" rx=\"48.19\" ry=\"18\"/>\n",
       "<text text-anchor=\"middle\" x=\"3344.1\" y=\"-158.3\" font-family=\"Times New Roman,serif\" font-size=\"14.00\">room type</text>\n",
       "</g>\n",
       "<!-- 0.717518421399641&#45;&gt;0.5236364521896242 -->\n",
       "<g id=\"edge34\" class=\"edge\">\n",
       "<title>0.717518421399641&#45;&gt;0.5236364521896242</title>\n",
       "<path fill=\"none\" stroke=\"black\" d=\"M3314.34,-216.41C3318.74,-208.51 3324.12,-198.85 3329.09,-189.94\"/>\n",
       "<polygon fill=\"black\" stroke=\"black\" points=\"3332.1,-191.72 3333.91,-181.28 3325.99,-188.31 3332.1,-191.72\"/>\n",
       "</g>\n",
       "<!-- 0.14943082325557488 -->\n",
       "<g id=\"node100\" class=\"node\">\n",
       "<title>0.14943082325557488</title>\n",
       "<ellipse fill=\"none\" stroke=\"black\" cx=\"3370.1\" cy=\"-90\" rx=\"67.69\" ry=\"18\"/>\n",
       "<text text-anchor=\"middle\" x=\"3370.1\" y=\"-86.3\" font-family=\"Times New Roman,serif\" font-size=\"14.00\">Entire home/apt</text>\n",
       "</g>\n",
       "<!-- 0.5236364521896242&#45;&gt;0.14943082325557488 -->\n",
       "<g id=\"edge99\" class=\"edge\">\n",
       "<title>0.5236364521896242&#45;&gt;0.14943082325557488</title>\n",
       "<path fill=\"none\" stroke=\"black\" d=\"M3350.52,-143.7C3353.32,-136.15 3356.68,-127.12 3359.81,-118.68\"/>\n",
       "<polygon fill=\"black\" stroke=\"black\" points=\"3363.01,-120.12 3363.22,-109.52 3356.45,-117.68 3363.01,-120.12\"/>\n",
       "</g>\n",
       "<!-- 0.5488719412003207 -->\n",
       "<g id=\"node37\" class=\"node\">\n",
       "<title>0.5488719412003207</title>\n",
       "<ellipse fill=\"none\" stroke=\"black\" cx=\"3504.1\" cy=\"-162\" rx=\"48.19\" ry=\"18\"/>\n",
       "<text text-anchor=\"middle\" x=\"3504.1\" y=\"-158.3\" font-family=\"Times New Roman,serif\" font-size=\"14.00\">room type</text>\n",
       "</g>\n",
       "<!-- 0.18728891916366341&#45;&gt;0.5488719412003207 -->\n",
       "<g id=\"edge36\" class=\"edge\">\n",
       "<title>0.18728891916366341&#45;&gt;0.5488719412003207</title>\n",
       "<path fill=\"none\" stroke=\"black\" d=\"M3472.26,-216.05C3477.06,-208.06 3482.9,-198.33 3488.26,-189.4\"/>\n",
       "<polygon fill=\"black\" stroke=\"black\" points=\"3491.1,-191.46 3493.24,-181.09 3485.1,-187.86 3491.1,-191.46\"/>\n",
       "</g>\n",
       "<!-- 0.5801747696900943 -->\n",
       "<g id=\"node102\" class=\"node\">\n",
       "<title>0.5801747696900943</title>\n",
       "<ellipse fill=\"none\" stroke=\"black\" cx=\"3523.1\" cy=\"-90\" rx=\"67.69\" ry=\"18\"/>\n",
       "<text text-anchor=\"middle\" x=\"3523.1\" y=\"-86.3\" font-family=\"Times New Roman,serif\" font-size=\"14.00\">Entire home/apt</text>\n",
       "</g>\n",
       "<!-- 0.5488719412003207&#45;&gt;0.5801747696900943 -->\n",
       "<g id=\"edge101\" class=\"edge\">\n",
       "<title>0.5488719412003207&#45;&gt;0.5801747696900943</title>\n",
       "<path fill=\"none\" stroke=\"black\" d=\"M3508.79,-143.7C3510.82,-136.24 3513.24,-127.32 3515.51,-118.97\"/>\n",
       "<polygon fill=\"black\" stroke=\"black\" points=\"3518.81,-120.13 3518.06,-109.57 3512.06,-118.3 3518.81,-120.13\"/>\n",
       "</g>\n",
       "<!-- 0.6520656744354417 -->\n",
       "<g id=\"node39\" class=\"node\">\n",
       "<title>0.6520656744354417</title>\n",
       "<ellipse fill=\"none\" stroke=\"black\" cx=\"3693.1\" cy=\"-162\" rx=\"48.19\" ry=\"18\"/>\n",
       "<text text-anchor=\"middle\" x=\"3693.1\" y=\"-158.3\" font-family=\"Times New Roman,serif\" font-size=\"14.00\">room type</text>\n",
       "</g>\n",
       "<!-- 0.184439285966306&#45;&gt;0.6520656744354417 -->\n",
       "<g id=\"edge38\" class=\"edge\">\n",
       "<title>0.184439285966306&#45;&gt;0.6520656744354417</title>\n",
       "<path fill=\"none\" stroke=\"black\" d=\"M3708.9,-215.7C3706.67,-208.24 3703.99,-199.32 3701.49,-190.97\"/>\n",
       "<polygon fill=\"black\" stroke=\"black\" points=\"3704.89,-190.13 3698.66,-181.55 3698.18,-192.14 3704.89,-190.13\"/>\n",
       "</g>\n",
       "<!-- 0.6116247268687942 -->\n",
       "<g id=\"node104\" class=\"node\">\n",
       "<title>0.6116247268687942</title>\n",
       "<ellipse fill=\"none\" stroke=\"black\" cx=\"3676.1\" cy=\"-90\" rx=\"67.69\" ry=\"18\"/>\n",
       "<text text-anchor=\"middle\" x=\"3676.1\" y=\"-86.3\" font-family=\"Times New Roman,serif\" font-size=\"14.00\">Entire home/apt</text>\n",
       "</g>\n",
       "<!-- 0.6520656744354417&#45;&gt;0.6116247268687942 -->\n",
       "<g id=\"edge103\" class=\"edge\">\n",
       "<title>0.6520656744354417&#45;&gt;0.6116247268687942</title>\n",
       "<path fill=\"none\" stroke=\"black\" d=\"M3688.89,-143.7C3687.1,-136.32 3684.97,-127.52 3682.96,-119.25\"/>\n",
       "<polygon fill=\"black\" stroke=\"black\" points=\"3686.37,-118.47 3680.61,-109.58 3679.57,-120.12 3686.37,-118.47\"/>\n",
       "</g>\n",
       "<!-- 0.8488404739887756 -->\n",
       "<g id=\"node41\" class=\"node\">\n",
       "<title>0.8488404739887756</title>\n",
       "<ellipse fill=\"none\" stroke=\"black\" cx=\"3839.1\" cy=\"-162\" rx=\"48.19\" ry=\"18\"/>\n",
       "<text text-anchor=\"middle\" x=\"3839.1\" y=\"-158.3\" font-family=\"Times New Roman,serif\" font-size=\"14.00\">room type</text>\n",
       "</g>\n",
       "<!-- 0.6449078406442664&#45;&gt;0.8488404739887756 -->\n",
       "<g id=\"edge40\" class=\"edge\">\n",
       "<title>0.6449078406442664&#45;&gt;0.8488404739887756</title>\n",
       "<path fill=\"none\" stroke=\"black\" d=\"M3848.88,-215.7C3847.51,-208.32 3845.88,-199.52 3844.34,-191.25\"/>\n",
       "<polygon fill=\"black\" stroke=\"black\" points=\"3847.82,-190.79 3842.55,-181.59 3840.93,-192.06 3847.82,-190.79\"/>\n",
       "</g>\n",
       "<!-- 0.5714705122886893 -->\n",
       "<g id=\"node106\" class=\"node\">\n",
       "<title>0.5714705122886893</title>\n",
       "<ellipse fill=\"none\" stroke=\"black\" cx=\"3829.1\" cy=\"-90\" rx=\"67.69\" ry=\"18\"/>\n",
       "<text text-anchor=\"middle\" x=\"3829.1\" y=\"-86.3\" font-family=\"Times New Roman,serif\" font-size=\"14.00\">Entire home/apt</text>\n",
       "</g>\n",
       "<!-- 0.8488404739887756&#45;&gt;0.5714705122886893 -->\n",
       "<g id=\"edge105\" class=\"edge\">\n",
       "<title>0.8488404739887756&#45;&gt;0.5714705122886893</title>\n",
       "<path fill=\"none\" stroke=\"black\" d=\"M3836.62,-143.7C3835.57,-136.32 3834.31,-127.52 3833.13,-119.25\"/>\n",
       "<polygon fill=\"black\" stroke=\"black\" points=\"3836.63,-119.01 3831.75,-109.6 3829.7,-120 3836.63,-119.01\"/>\n",
       "</g>\n",
       "<!-- 0.3697751177091144 -->\n",
       "<g id=\"node43\" class=\"node\">\n",
       "<title>0.3697751177091144</title>\n",
       "<ellipse fill=\"none\" stroke=\"black\" cx=\"3972.1\" cy=\"-162\" rx=\"48.19\" ry=\"18\"/>\n",
       "<text text-anchor=\"middle\" x=\"3972.1\" y=\"-158.3\" font-family=\"Times New Roman,serif\" font-size=\"14.00\">room type</text>\n",
       "</g>\n",
       "<!-- 0.2733924621758389&#45;&gt;0.3697751177091144 -->\n",
       "<g id=\"edge42\" class=\"edge\">\n",
       "<title>0.2733924621758389&#45;&gt;0.3697751177091144</title>\n",
       "<path fill=\"none\" stroke=\"black\" d=\"M3962.31,-215.7C3963.68,-208.32 3965.31,-199.52 3966.85,-191.25\"/>\n",
       "<polygon fill=\"black\" stroke=\"black\" points=\"3970.26,-192.06 3968.64,-181.59 3963.38,-190.79 3970.26,-192.06\"/>\n",
       "</g>\n",
       "<!-- 0.46312431271053756 -->\n",
       "<g id=\"node108\" class=\"node\">\n",
       "<title>0.46312431271053756</title>\n",
       "<ellipse fill=\"none\" stroke=\"black\" cx=\"3982.1\" cy=\"-90\" rx=\"67.69\" ry=\"18\"/>\n",
       "<text text-anchor=\"middle\" x=\"3982.1\" y=\"-86.3\" font-family=\"Times New Roman,serif\" font-size=\"14.00\">Entire home/apt</text>\n",
       "</g>\n",
       "<!-- 0.3697751177091144&#45;&gt;0.46312431271053756 -->\n",
       "<g id=\"edge107\" class=\"edge\">\n",
       "<title>0.3697751177091144&#45;&gt;0.46312431271053756</title>\n",
       "<path fill=\"none\" stroke=\"black\" d=\"M3974.57,-143.7C3975.62,-136.32 3976.88,-127.52 3978.06,-119.25\"/>\n",
       "<polygon fill=\"black\" stroke=\"black\" points=\"3981.49,-120 3979.44,-109.6 3974.56,-119.01 3981.49,-120\"/>\n",
       "</g>\n",
       "<!-- 0.5101012633392942 -->\n",
       "<g id=\"node45\" class=\"node\">\n",
       "<title>0.5101012633392942</title>\n",
       "<ellipse fill=\"none\" stroke=\"black\" cx=\"4115.1\" cy=\"-162\" rx=\"48.19\" ry=\"18\"/>\n",
       "<text text-anchor=\"middle\" x=\"4115.1\" y=\"-158.3\" font-family=\"Times New Roman,serif\" font-size=\"14.00\">room type</text>\n",
       "</g>\n",
       "<!-- 0.8850140936025316&#45;&gt;0.5101012633392942 -->\n",
       "<g id=\"edge44\" class=\"edge\">\n",
       "<title>0.8850140936025316&#45;&gt;0.5101012633392942</title>\n",
       "<path fill=\"none\" stroke=\"black\" d=\"M4075.92,-216.76C4081.95,-208.49 4089.43,-198.23 4096.23,-188.9\"/>\n",
       "<polygon fill=\"black\" stroke=\"black\" points=\"4099.03,-191 4102.09,-180.86 4093.37,-186.88 4099.03,-191\"/>\n",
       "</g>\n",
       "<!-- 0.2532499385566791 -->\n",
       "<g id=\"node110\" class=\"node\">\n",
       "<title>0.2532499385566791</title>\n",
       "<ellipse fill=\"none\" stroke=\"black\" cx=\"4135.1\" cy=\"-90\" rx=\"67.69\" ry=\"18\"/>\n",
       "<text text-anchor=\"middle\" x=\"4135.1\" y=\"-86.3\" font-family=\"Times New Roman,serif\" font-size=\"14.00\">Entire home/apt</text>\n",
       "</g>\n",
       "<!-- 0.5101012633392942&#45;&gt;0.2532499385566791 -->\n",
       "<g id=\"edge109\" class=\"edge\">\n",
       "<title>0.5101012633392942&#45;&gt;0.2532499385566791</title>\n",
       "<path fill=\"none\" stroke=\"black\" d=\"M4120.04,-143.7C4122.17,-136.24 4124.72,-127.32 4127.11,-118.97\"/>\n",
       "<polygon fill=\"black\" stroke=\"black\" points=\"4130.41,-120.14 4129.79,-109.56 4123.68,-118.21 4130.41,-120.14\"/>\n",
       "</g>\n",
       "<!-- 0.28080672072125223 -->\n",
       "<g id=\"node47\" class=\"node\">\n",
       "<title>0.28080672072125223</title>\n",
       "<ellipse fill=\"none\" stroke=\"black\" cx=\"4263.1\" cy=\"-162\" rx=\"48.19\" ry=\"18\"/>\n",
       "<text text-anchor=\"middle\" x=\"4263.1\" y=\"-158.3\" font-family=\"Times New Roman,serif\" font-size=\"14.00\">room type</text>\n",
       "</g>\n",
       "<!-- 0.08347229993944671&#45;&gt;0.28080672072125223 -->\n",
       "<g id=\"edge46\" class=\"edge\">\n",
       "<title>0.08347229993944671&#45;&gt;0.28080672072125223</title>\n",
       "<path fill=\"none\" stroke=\"black\" d=\"M4201.65,-216.76C4212.02,-207.69 4225.13,-196.22 4236.57,-186.21\"/>\n",
       "<polygon fill=\"black\" stroke=\"black\" points=\"4238.56,-189.12 4243.78,-179.9 4233.95,-183.85 4238.56,-189.12\"/>\n",
       "</g>\n",
       "<!-- 0.187878315941444 -->\n",
       "<g id=\"node112\" class=\"node\">\n",
       "<title>0.187878315941444</title>\n",
       "<ellipse fill=\"none\" stroke=\"black\" cx=\"4288.1\" cy=\"-90\" rx=\"67.69\" ry=\"18\"/>\n",
       "<text text-anchor=\"middle\" x=\"4288.1\" y=\"-86.3\" font-family=\"Times New Roman,serif\" font-size=\"14.00\">Entire home/apt</text>\n",
       "</g>\n",
       "<!-- 0.28080672072125223&#45;&gt;0.187878315941444 -->\n",
       "<g id=\"edge111\" class=\"edge\">\n",
       "<title>0.28080672072125223&#45;&gt;0.187878315941444</title>\n",
       "<path fill=\"none\" stroke=\"black\" d=\"M4269.28,-143.7C4271.97,-136.15 4275.2,-127.12 4278.21,-118.68\"/>\n",
       "<polygon fill=\"black\" stroke=\"black\" points=\"4281.41,-120.12 4281.48,-109.53 4274.82,-117.77 4281.41,-120.12\"/>\n",
       "</g>\n",
       "<!-- 0.8215154172931005 -->\n",
       "<g id=\"node49\" class=\"node\">\n",
       "<title>0.8215154172931005</title>\n",
       "<ellipse fill=\"none\" stroke=\"black\" cx=\"48.1\" cy=\"-18\" rx=\"48.19\" ry=\"18\"/>\n",
       "<text text-anchor=\"middle\" x=\"48.1\" y=\"-14.3\" font-family=\"Times New Roman,serif\" font-size=\"14.00\">(200, 400]</text>\n",
       "</g>\n",
       "<!-- 0.9515790260181233&#45;&gt;0.8215154172931005 -->\n",
       "<g id=\"edge48\" class=\"edge\">\n",
       "<title>0.9515790260181233&#45;&gt;0.8215154172931005</title>\n",
       "<path fill=\"none\" stroke=\"black\" d=\"M49.6,-71.7C49.39,-64.41 49.15,-55.73 48.91,-47.54\"/>\n",
       "<polygon fill=\"black\" stroke=\"black\" points=\"52.41,-47.51 48.63,-37.62 45.41,-47.71 52.41,-47.51\"/>\n",
       "</g>\n",
       "<!-- 0.8794285721534154 -->\n",
       "<g id=\"node51\" class=\"node\">\n",
       "<title>0.8794285721534154</title>\n",
       "<ellipse fill=\"none\" stroke=\"black\" cx=\"162.1\" cy=\"-18\" rx=\"48.19\" ry=\"18\"/>\n",
       "<text text-anchor=\"middle\" x=\"162.1\" y=\"-14.3\" font-family=\"Times New Roman,serif\" font-size=\"14.00\">(200, 400]</text>\n",
       "</g>\n",
       "<!-- 0.6376028785526069&#45;&gt;0.8794285721534154 -->\n",
       "<g id=\"edge50\" class=\"edge\">\n",
       "<title>0.6376028785526069&#45;&gt;0.8794285721534154</title>\n",
       "<path fill=\"none\" stroke=\"black\" d=\"M170.38,-71.7C169.22,-64.32 167.84,-55.52 166.54,-47.25\"/>\n",
       "<polygon fill=\"black\" stroke=\"black\" points=\"170.03,-46.93 165.02,-37.6 163.11,-48.02 170.03,-46.93\"/>\n",
       "</g>\n",
       "<!-- 0.4972055570227414 -->\n",
       "<g id=\"node53\" class=\"node\">\n",
       "<title>0.4972055570227414</title>\n",
       "<ellipse fill=\"none\" stroke=\"black\" cx=\"276.1\" cy=\"-18\" rx=\"48.19\" ry=\"18\"/>\n",
       "<text text-anchor=\"middle\" x=\"276.1\" y=\"-14.3\" font-family=\"Times New Roman,serif\" font-size=\"14.00\">(200, 400]</text>\n",
       "</g>\n",
       "<!-- 0.8515845043604879&#45;&gt;0.4972055570227414 -->\n",
       "<g id=\"edge52\" class=\"edge\">\n",
       "<title>0.8515845043604879&#45;&gt;0.4972055570227414</title>\n",
       "<path fill=\"none\" stroke=\"black\" d=\"M281.37,-71.7C280.64,-64.41 279.77,-55.73 278.95,-47.54\"/>\n",
       "<polygon fill=\"black\" stroke=\"black\" points=\"282.43,-47.21 277.96,-37.61 275.47,-47.91 282.43,-47.21\"/>\n",
       "</g>\n",
       "<!-- 0.12457331667773364 -->\n",
       "<g id=\"node55\" class=\"node\">\n",
       "<title>0.12457331667773364</title>\n",
       "<ellipse fill=\"none\" stroke=\"black\" cx=\"390.1\" cy=\"-18\" rx=\"48.19\" ry=\"18\"/>\n",
       "<text text-anchor=\"middle\" x=\"390.1\" y=\"-14.3\" font-family=\"Times New Roman,serif\" font-size=\"14.00\">(200, 400]</text>\n",
       "</g>\n",
       "<!-- 0.7468042783298665&#45;&gt;0.12457331667773364 -->\n",
       "<g id=\"edge54\" class=\"edge\">\n",
       "<title>0.7468042783298665&#45;&gt;0.12457331667773364</title>\n",
       "<path fill=\"none\" stroke=\"black\" d=\"M385.58,-71.7C386.2,-64.41 386.95,-55.73 387.65,-47.54\"/>\n",
       "<polygon fill=\"black\" stroke=\"black\" points=\"391.13,-47.87 388.5,-37.61 384.16,-47.28 391.13,-47.87\"/>\n",
       "</g>\n",
       "<!-- 0.7865632496961058 -->\n",
       "<g id=\"node57\" class=\"node\">\n",
       "<title>0.7865632496961058</title>\n",
       "<ellipse fill=\"none\" stroke=\"black\" cx=\"504.1\" cy=\"-18\" rx=\"48.19\" ry=\"18\"/>\n",
       "<text text-anchor=\"middle\" x=\"504.1\" y=\"-14.3\" font-family=\"Times New Roman,serif\" font-size=\"14.00\">(200, 400]</text>\n",
       "</g>\n",
       "<!-- 0.029906130277269627&#45;&gt;0.7865632496961058 -->\n",
       "<g id=\"edge56\" class=\"edge\">\n",
       "<title>0.029906130277269627&#45;&gt;0.7865632496961058</title>\n",
       "<path fill=\"none\" stroke=\"black\" d=\"M497.32,-71.7C498.27,-64.32 499.4,-55.52 500.46,-47.25\"/>\n",
       "<polygon fill=\"black\" stroke=\"black\" points=\"503.9,-47.97 501.7,-37.61 496.96,-47.08 503.9,-47.97\"/>\n",
       "</g>\n",
       "<!-- 0.8654839758945465 -->\n",
       "<g id=\"node59\" class=\"node\">\n",
       "<title>0.8654839758945465</title>\n",
       "<ellipse fill=\"none\" stroke=\"black\" cx=\"618.1\" cy=\"-18\" rx=\"48.19\" ry=\"18\"/>\n",
       "<text text-anchor=\"middle\" x=\"618.1\" y=\"-14.3\" font-family=\"Times New Roman,serif\" font-size=\"14.00\">(400, 600]</text>\n",
       "</g>\n",
       "<!-- 0.4583071515293341&#45;&gt;0.8654839758945465 -->\n",
       "<g id=\"edge58\" class=\"edge\">\n",
       "<title>0.4583071515293341&#45;&gt;0.8654839758945465</title>\n",
       "<path fill=\"none\" stroke=\"black\" d=\"M627.13,-71.7C625.87,-64.32 624.36,-55.52 622.94,-47.25\"/>\n",
       "<polygon fill=\"black\" stroke=\"black\" points=\"626.42,-46.86 621.28,-37.6 619.52,-48.04 626.42,-46.86\"/>\n",
       "</g>\n",
       "<!-- 0.2333926913117389 -->\n",
       "<g id=\"node61\" class=\"node\">\n",
       "<title>0.2333926913117389</title>\n",
       "<ellipse fill=\"none\" stroke=\"black\" cx=\"732.1\" cy=\"-18\" rx=\"48.19\" ry=\"18\"/>\n",
       "<text text-anchor=\"middle\" x=\"732.1\" y=\"-14.3\" font-family=\"Times New Roman,serif\" font-size=\"14.00\">(400, 600]</text>\n",
       "</g>\n",
       "<!-- 0.08389053440522731&#45;&gt;0.2333926913117389 -->\n",
       "<g id=\"edge60\" class=\"edge\">\n",
       "<title>0.08389053440522731&#45;&gt;0.2333926913117389</title>\n",
       "<path fill=\"none\" stroke=\"black\" d=\"M744.14,-71.7C742.45,-64.32 740.44,-55.52 738.55,-47.25\"/>\n",
       "<polygon fill=\"black\" stroke=\"black\" points=\"741.98,-46.55 736.34,-37.58 735.16,-48.11 741.98,-46.55\"/>\n",
       "</g>\n",
       "<!-- 0.33607300088739356 -->\n",
       "<g id=\"node63\" class=\"node\">\n",
       "<title>0.33607300088739356</title>\n",
       "<ellipse fill=\"none\" stroke=\"black\" cx=\"846.1\" cy=\"-18\" rx=\"48.19\" ry=\"18\"/>\n",
       "<text text-anchor=\"middle\" x=\"846.1\" y=\"-14.3\" font-family=\"Times New Roman,serif\" font-size=\"14.00\">(400, 600]</text>\n",
       "</g>\n",
       "<!-- 0.8003321210772306&#45;&gt;0.33607300088739356 -->\n",
       "<g id=\"edge62\" class=\"edge\">\n",
       "<title>0.8003321210772306&#45;&gt;0.33607300088739356</title>\n",
       "<path fill=\"none\" stroke=\"black\" d=\"M846.85,-71.7C846.74,-64.41 846.62,-55.73 846.5,-47.54\"/>\n",
       "<polygon fill=\"black\" stroke=\"black\" points=\"850,-47.57 846.36,-37.62 843,-47.67 850,-47.57\"/>\n",
       "</g>\n",
       "<!-- 0.39069085089021915 -->\n",
       "<g id=\"node65\" class=\"node\">\n",
       "<title>0.39069085089021915</title>\n",
       "<ellipse fill=\"none\" stroke=\"black\" cx=\"960.1\" cy=\"-18\" rx=\"48.19\" ry=\"18\"/>\n",
       "<text text-anchor=\"middle\" x=\"960.1\" y=\"-14.3\" font-family=\"Times New Roman,serif\" font-size=\"14.00\">(400, 600]</text>\n",
       "</g>\n",
       "<!-- 0.3651940408030878&#45;&gt;0.39069085089021915 -->\n",
       "<g id=\"edge64\" class=\"edge\">\n",
       "<title>0.3651940408030878&#45;&gt;0.39069085089021915</title>\n",
       "<path fill=\"none\" stroke=\"black\" d=\"M958.59,-71.7C958.8,-64.41 959.05,-55.73 959.28,-47.54\"/>\n",
       "<polygon fill=\"black\" stroke=\"black\" points=\"962.78,-47.71 959.56,-37.62 955.78,-47.51 962.78,-47.71\"/>\n",
       "</g>\n",
       "<!-- 0.5840470769396691 -->\n",
       "<g id=\"node67\" class=\"node\">\n",
       "<title>0.5840470769396691</title>\n",
       "<ellipse fill=\"none\" stroke=\"black\" cx=\"1083.1\" cy=\"-18\" rx=\"56.59\" ry=\"18\"/>\n",
       "<text text-anchor=\"middle\" x=\"1083.1\" y=\"-14.3\" font-family=\"Times New Roman,serif\" font-size=\"14.00\">(1000, 1200]</text>\n",
       "</g>\n",
       "<!-- 0.08302357995179799&#45;&gt;0.5840470769396691 -->\n",
       "<g id=\"edge66\" class=\"edge\">\n",
       "<title>0.08302357995179799&#45;&gt;0.5840470769396691</title>\n",
       "<path fill=\"none\" stroke=\"black\" d=\"M1078.58,-71.7C1079.2,-64.41 1079.95,-55.73 1080.65,-47.54\"/>\n",
       "<polygon fill=\"black\" stroke=\"black\" points=\"1084.13,-47.87 1081.5,-37.61 1077.16,-47.28 1084.13,-47.87\"/>\n",
       "</g>\n",
       "<!-- 0.6728303882482779 -->\n",
       "<g id=\"node69\" class=\"node\">\n",
       "<title>0.6728303882482779</title>\n",
       "<ellipse fill=\"none\" stroke=\"black\" cx=\"1206.1\" cy=\"-18\" rx=\"48.19\" ry=\"18\"/>\n",
       "<text text-anchor=\"middle\" x=\"1206.1\" y=\"-14.3\" font-family=\"Times New Roman,serif\" font-size=\"14.00\">(200, 400]</text>\n",
       "</g>\n",
       "<!-- 0.9421523416224065&#45;&gt;0.6728303882482779 -->\n",
       "<g id=\"edge68\" class=\"edge\">\n",
       "<title>0.9421523416224065&#45;&gt;0.6728303882482779</title>\n",
       "<path fill=\"none\" stroke=\"black\" d=\"M1212.87,-71.7C1211.92,-64.32 1210.79,-55.52 1209.73,-47.25\"/>\n",
       "<polygon fill=\"black\" stroke=\"black\" points=\"1213.23,-47.08 1208.49,-37.61 1206.29,-47.97 1213.23,-47.08\"/>\n",
       "</g>\n",
       "<!-- 0.8807572400715542 -->\n",
       "<g id=\"node71\" class=\"node\">\n",
       "<title>0.8807572400715542</title>\n",
       "<ellipse fill=\"none\" stroke=\"black\" cx=\"1320.1\" cy=\"-18\" rx=\"48.19\" ry=\"18\"/>\n",
       "<text text-anchor=\"middle\" x=\"1320.1\" y=\"-14.3\" font-family=\"Times New Roman,serif\" font-size=\"14.00\">(200, 400]</text>\n",
       "</g>\n",
       "<!-- 0.7576274134860921&#45;&gt;0.8807572400715542 -->\n",
       "<g id=\"edge70\" class=\"edge\">\n",
       "<title>0.7576274134860921&#45;&gt;0.8807572400715542</title>\n",
       "<path fill=\"none\" stroke=\"black\" d=\"M1325.37,-71.7C1324.64,-64.41 1323.77,-55.73 1322.95,-47.54\"/>\n",
       "<polygon fill=\"black\" stroke=\"black\" points=\"1326.43,-47.21 1321.96,-37.61 1319.47,-47.91 1326.43,-47.21\"/>\n",
       "</g>\n",
       "<!-- 0.6561674490015729 -->\n",
       "<g id=\"node73\" class=\"node\">\n",
       "<title>0.6561674490015729</title>\n",
       "<ellipse fill=\"none\" stroke=\"black\" cx=\"1434.1\" cy=\"-18\" rx=\"48.19\" ry=\"18\"/>\n",
       "<text text-anchor=\"middle\" x=\"1434.1\" y=\"-14.3\" font-family=\"Times New Roman,serif\" font-size=\"14.00\">(600, 800]</text>\n",
       "</g>\n",
       "<!-- 0.474092027593106&#45;&gt;0.6561674490015729 -->\n",
       "<g id=\"edge72\" class=\"edge\">\n",
       "<title>0.474092027593106&#45;&gt;0.6561674490015729</title>\n",
       "<path fill=\"none\" stroke=\"black\" d=\"M1434.1,-71.7C1434.1,-64.41 1434.1,-55.73 1434.1,-47.54\"/>\n",
       "<polygon fill=\"black\" stroke=\"black\" points=\"1437.6,-47.62 1434.1,-37.62 1430.6,-47.62 1437.6,-47.62\"/>\n",
       "</g>\n",
       "<!-- 0.03036462361545078 -->\n",
       "<g id=\"node75\" class=\"node\">\n",
       "<title>0.03036462361545078</title>\n",
       "<ellipse fill=\"none\" stroke=\"black\" cx=\"1557.1\" cy=\"-18\" rx=\"56.59\" ry=\"18\"/>\n",
       "<text text-anchor=\"middle\" x=\"1557.1\" y=\"-14.3\" font-family=\"Times New Roman,serif\" font-size=\"14.00\">(1000, 1200]</text>\n",
       "</g>\n",
       "<!-- 0.818612199650866&#45;&gt;0.03036462361545078 -->\n",
       "<g id=\"edge74\" class=\"edge\">\n",
       "<title>0.818612199650866&#45;&gt;0.03036462361545078</title>\n",
       "<path fill=\"none\" stroke=\"black\" d=\"M1549.57,-71.7C1550.62,-64.32 1551.88,-55.52 1553.06,-47.25\"/>\n",
       "<polygon fill=\"black\" stroke=\"black\" points=\"1556.49,-48 1554.44,-37.6 1549.56,-47.01 1556.49,-48\"/>\n",
       "</g>\n",
       "<!-- 0.5195296986106358 -->\n",
       "<g id=\"node77\" class=\"node\">\n",
       "<title>0.5195296986106358</title>\n",
       "<ellipse fill=\"none\" stroke=\"black\" cx=\"1680.1\" cy=\"-18\" rx=\"48.19\" ry=\"18\"/>\n",
       "<text text-anchor=\"middle\" x=\"1680.1\" y=\"-14.3\" font-family=\"Times New Roman,serif\" font-size=\"14.00\">(600, 800]</text>\n",
       "</g>\n",
       "<!-- 0.06006373267046616&#45;&gt;0.5195296986106358 -->\n",
       "<g id=\"edge76\" class=\"edge\">\n",
       "<title>0.06006373267046616&#45;&gt;0.5195296986106358</title>\n",
       "<path fill=\"none\" stroke=\"black\" d=\"M1671.06,-71.7C1672.33,-64.32 1673.83,-55.52 1675.25,-47.25\"/>\n",
       "<polygon fill=\"black\" stroke=\"black\" points=\"1678.67,-48.04 1676.91,-37.6 1671.77,-46.86 1678.67,-48.04\"/>\n",
       "</g>\n",
       "<!-- 0.3596519981537426 -->\n",
       "<g id=\"node79\" class=\"node\">\n",
       "<title>0.3596519981537426</title>\n",
       "<ellipse fill=\"none\" stroke=\"black\" cx=\"1794.1\" cy=\"-18\" rx=\"48.19\" ry=\"18\"/>\n",
       "<text text-anchor=\"middle\" x=\"1794.1\" y=\"-14.3\" font-family=\"Times New Roman,serif\" font-size=\"14.00\">(400, 600]</text>\n",
       "</g>\n",
       "<!-- 0.1974989623989114&#45;&gt;0.3596519981537426 -->\n",
       "<g id=\"edge78\" class=\"edge\">\n",
       "<title>0.1974989623989114&#45;&gt;0.3596519981537426</title>\n",
       "<path fill=\"none\" stroke=\"black\" d=\"M1795.6,-71.7C1795.39,-64.41 1795.15,-55.73 1794.91,-47.54\"/>\n",
       "<polygon fill=\"black\" stroke=\"black\" points=\"1798.41,-47.51 1794.63,-37.62 1791.41,-47.71 1798.41,-47.51\"/>\n",
       "</g>\n",
       "<!-- 0.6765345081425208 -->\n",
       "<g id=\"node81\" class=\"node\">\n",
       "<title>0.6765345081425208</title>\n",
       "<ellipse fill=\"none\" stroke=\"black\" cx=\"1908.1\" cy=\"-18\" rx=\"48.19\" ry=\"18\"/>\n",
       "<text text-anchor=\"middle\" x=\"1908.1\" y=\"-14.3\" font-family=\"Times New Roman,serif\" font-size=\"14.00\">(200, 400]</text>\n",
       "</g>\n",
       "<!-- 0.4791071366349793&#45;&gt;0.6765345081425208 -->\n",
       "<g id=\"edge80\" class=\"edge\">\n",
       "<title>0.4791071366349793&#45;&gt;0.6765345081425208</title>\n",
       "<path fill=\"none\" stroke=\"black\" d=\"M1905.84,-71.7C1906.15,-64.41 1906.52,-55.73 1906.87,-47.54\"/>\n",
       "<polygon fill=\"black\" stroke=\"black\" points=\"1910.37,-47.76 1907.3,-37.62 1903.37,-47.46 1910.37,-47.76\"/>\n",
       "</g>\n",
       "<!-- 0.9023437641844928 -->\n",
       "<g id=\"node83\" class=\"node\">\n",
       "<title>0.9023437641844928</title>\n",
       "<ellipse fill=\"none\" stroke=\"black\" cx=\"2026.1\" cy=\"-18\" rx=\"51.99\" ry=\"18\"/>\n",
       "<text text-anchor=\"middle\" x=\"2026.1\" y=\"-14.3\" font-family=\"Times New Roman,serif\" font-size=\"14.00\">(800, 1000]</text>\n",
       "</g>\n",
       "<!-- 0.9533101377805995&#45;&gt;0.9023437641844928 -->\n",
       "<g id=\"edge82\" class=\"edge\">\n",
       "<title>0.9533101377805995&#45;&gt;0.9023437641844928</title>\n",
       "<path fill=\"none\" stroke=\"black\" d=\"M2016.31,-71.7C2017.68,-64.32 2019.31,-55.52 2020.85,-47.25\"/>\n",
       "<polygon fill=\"black\" stroke=\"black\" points=\"2024.26,-48.06 2022.64,-37.59 2017.38,-46.79 2024.26,-48.06\"/>\n",
       "</g>\n",
       "<!-- 0.8838062353737481 -->\n",
       "<g id=\"node85\" class=\"node\">\n",
       "<title>0.8838062353737481</title>\n",
       "<ellipse fill=\"none\" stroke=\"black\" cx=\"2148.1\" cy=\"-18\" rx=\"51.99\" ry=\"18\"/>\n",
       "<text text-anchor=\"middle\" x=\"2148.1\" y=\"-14.3\" font-family=\"Times New Roman,serif\" font-size=\"14.00\">(800, 1000]</text>\n",
       "</g>\n",
       "<!-- 0.5322518146372675&#45;&gt;0.8838062353737481 -->\n",
       "<g id=\"edge84\" class=\"edge\">\n",
       "<title>0.5322518146372675&#45;&gt;0.8838062353737481</title>\n",
       "<path fill=\"none\" stroke=\"black\" d=\"M2146.59,-71.7C2146.8,-64.41 2147.05,-55.73 2147.28,-47.54\"/>\n",
       "<polygon fill=\"black\" stroke=\"black\" points=\"2150.78,-47.71 2147.56,-37.62 2143.78,-47.51 2150.78,-47.71\"/>\n",
       "</g>\n",
       "<!-- 0.6523897292001611 -->\n",
       "<g id=\"node87\" class=\"node\">\n",
       "<title>0.6523897292001611</title>\n",
       "<ellipse fill=\"none\" stroke=\"black\" cx=\"2299.1\" cy=\"-18\" rx=\"56.59\" ry=\"18\"/>\n",
       "<text text-anchor=\"middle\" x=\"2299.1\" y=\"-14.3\" font-family=\"Times New Roman,serif\" font-size=\"14.00\">(1000, 1200]</text>\n",
       "</g>\n",
       "<!-- 0.20589055754257812&#45;&gt;0.6523897292001611 -->\n",
       "<g id=\"edge86\" class=\"edge\">\n",
       "<title>0.20589055754257812&#45;&gt;0.6523897292001611</title>\n",
       "<path fill=\"none\" stroke=\"black\" d=\"M2299.1,-71.7C2299.1,-64.41 2299.1,-55.73 2299.1,-47.54\"/>\n",
       "<polygon fill=\"black\" stroke=\"black\" points=\"2302.6,-47.62 2299.1,-37.62 2295.6,-47.62 2302.6,-47.62\"/>\n",
       "</g>\n",
       "<!-- 0.03432250009648585 -->\n",
       "<g id=\"node89\" class=\"node\">\n",
       "<title>0.03432250009648585</title>\n",
       "<ellipse fill=\"none\" stroke=\"black\" cx=\"2452.1\" cy=\"-18\" rx=\"51.99\" ry=\"18\"/>\n",
       "<text text-anchor=\"middle\" x=\"2452.1\" y=\"-14.3\" font-family=\"Times New Roman,serif\" font-size=\"14.00\">(800, 1000]</text>\n",
       "</g>\n",
       "<!-- 0.9217632855299084&#45;&gt;0.03432250009648585 -->\n",
       "<g id=\"edge88\" class=\"edge\">\n",
       "<title>0.9217632855299084&#45;&gt;0.03432250009648585</title>\n",
       "<path fill=\"none\" stroke=\"black\" d=\"M2452.1,-71.7C2452.1,-64.41 2452.1,-55.73 2452.1,-47.54\"/>\n",
       "<polygon fill=\"black\" stroke=\"black\" points=\"2455.6,-47.62 2452.1,-37.62 2448.6,-47.62 2455.6,-47.62\"/>\n",
       "</g>\n",
       "<!-- 0.2827440893870711 -->\n",
       "<g id=\"node91\" class=\"node\">\n",
       "<title>0.2827440893870711</title>\n",
       "<ellipse fill=\"none\" stroke=\"black\" cx=\"2605.1\" cy=\"-18\" rx=\"51.99\" ry=\"18\"/>\n",
       "<text text-anchor=\"middle\" x=\"2605.1\" y=\"-14.3\" font-family=\"Times New Roman,serif\" font-size=\"14.00\">(800, 1000]</text>\n",
       "</g>\n",
       "<!-- 0.1949674932783062&#45;&gt;0.2827440893870711 -->\n",
       "<g id=\"edge90\" class=\"edge\">\n",
       "<title>0.1949674932783062&#45;&gt;0.2827440893870711</title>\n",
       "<path fill=\"none\" stroke=\"black\" d=\"M2605.1,-71.7C2605.1,-64.41 2605.1,-55.73 2605.1,-47.54\"/>\n",
       "<polygon fill=\"black\" stroke=\"black\" points=\"2608.6,-47.62 2605.1,-37.62 2601.6,-47.62 2608.6,-47.62\"/>\n",
       "</g>\n",
       "<!-- 0.3921291469030854 -->\n",
       "<g id=\"node93\" class=\"node\">\n",
       "<title>0.3921291469030854</title>\n",
       "<ellipse fill=\"none\" stroke=\"black\" cx=\"2758.1\" cy=\"-18\" rx=\"51.99\" ry=\"18\"/>\n",
       "<text text-anchor=\"middle\" x=\"2758.1\" y=\"-14.3\" font-family=\"Times New Roman,serif\" font-size=\"14.00\">(800, 1000]</text>\n",
       "</g>\n",
       "<!-- 0.6973617917646386&#45;&gt;0.3921291469030854 -->\n",
       "<g id=\"edge92\" class=\"edge\">\n",
       "<title>0.6973617917646386&#45;&gt;0.3921291469030854</title>\n",
       "<path fill=\"none\" stroke=\"black\" d=\"M2758.1,-71.7C2758.1,-64.41 2758.1,-55.73 2758.1,-47.54\"/>\n",
       "<polygon fill=\"black\" stroke=\"black\" points=\"2761.6,-47.62 2758.1,-37.62 2754.6,-47.62 2761.6,-47.62\"/>\n",
       "</g>\n",
       "<!-- 0.18970766135677675 -->\n",
       "<g id=\"node95\" class=\"node\">\n",
       "<title>0.18970766135677675</title>\n",
       "<ellipse fill=\"none\" stroke=\"black\" cx=\"2911.1\" cy=\"-18\" rx=\"48.19\" ry=\"18\"/>\n",
       "<text text-anchor=\"middle\" x=\"2911.1\" y=\"-14.3\" font-family=\"Times New Roman,serif\" font-size=\"14.00\">(600, 800]</text>\n",
       "</g>\n",
       "<!-- 0.4172847207393795&#45;&gt;0.18970766135677675 -->\n",
       "<g id=\"edge94\" class=\"edge\">\n",
       "<title>0.4172847207393795&#45;&gt;0.18970766135677675</title>\n",
       "<path fill=\"none\" stroke=\"black\" d=\"M2911.1,-71.7C2911.1,-64.41 2911.1,-55.73 2911.1,-47.54\"/>\n",
       "<polygon fill=\"black\" stroke=\"black\" points=\"2914.6,-47.62 2911.1,-37.62 2907.6,-47.62 2914.6,-47.62\"/>\n",
       "</g>\n",
       "<!-- 0.6684235052958668 -->\n",
       "<g id=\"node97\" class=\"node\">\n",
       "<title>0.6684235052958668</title>\n",
       "<ellipse fill=\"none\" stroke=\"black\" cx=\"3064.1\" cy=\"-18\" rx=\"48.19\" ry=\"18\"/>\n",
       "<text text-anchor=\"middle\" x=\"3064.1\" y=\"-14.3\" font-family=\"Times New Roman,serif\" font-size=\"14.00\">(600, 800]</text>\n",
       "</g>\n",
       "<!-- 0.6047867774764003&#45;&gt;0.6684235052958668 -->\n",
       "<g id=\"edge96\" class=\"edge\">\n",
       "<title>0.6047867774764003&#45;&gt;0.6684235052958668</title>\n",
       "<path fill=\"none\" stroke=\"black\" d=\"M3064.1,-71.7C3064.1,-64.41 3064.1,-55.73 3064.1,-47.54\"/>\n",
       "<polygon fill=\"black\" stroke=\"black\" points=\"3067.6,-47.62 3064.1,-37.62 3060.6,-47.62 3067.6,-47.62\"/>\n",
       "</g>\n",
       "<!-- 0.2655118305948063 -->\n",
       "<g id=\"node99\" class=\"node\">\n",
       "<title>0.2655118305948063</title>\n",
       "<ellipse fill=\"none\" stroke=\"black\" cx=\"3217.1\" cy=\"-18\" rx=\"48.19\" ry=\"18\"/>\n",
       "<text text-anchor=\"middle\" x=\"3217.1\" y=\"-14.3\" font-family=\"Times New Roman,serif\" font-size=\"14.00\">(400, 600]</text>\n",
       "</g>\n",
       "<!-- 0.2827252972844675&#45;&gt;0.2655118305948063 -->\n",
       "<g id=\"edge98\" class=\"edge\">\n",
       "<title>0.2827252972844675&#45;&gt;0.2655118305948063</title>\n",
       "<path fill=\"none\" stroke=\"black\" d=\"M3217.1,-71.7C3217.1,-64.41 3217.1,-55.73 3217.1,-47.54\"/>\n",
       "<polygon fill=\"black\" stroke=\"black\" points=\"3220.6,-47.62 3217.1,-37.62 3213.6,-47.62 3220.6,-47.62\"/>\n",
       "</g>\n",
       "<!-- 0.6673283210686943 -->\n",
       "<g id=\"node101\" class=\"node\">\n",
       "<title>0.6673283210686943</title>\n",
       "<ellipse fill=\"none\" stroke=\"black\" cx=\"3370.1\" cy=\"-18\" rx=\"48.19\" ry=\"18\"/>\n",
       "<text text-anchor=\"middle\" x=\"3370.1\" y=\"-14.3\" font-family=\"Times New Roman,serif\" font-size=\"14.00\">(600, 800]</text>\n",
       "</g>\n",
       "<!-- 0.14943082325557488&#45;&gt;0.6673283210686943 -->\n",
       "<g id=\"edge100\" class=\"edge\">\n",
       "<title>0.14943082325557488&#45;&gt;0.6673283210686943</title>\n",
       "<path fill=\"none\" stroke=\"black\" d=\"M3370.1,-71.7C3370.1,-64.41 3370.1,-55.73 3370.1,-47.54\"/>\n",
       "<polygon fill=\"black\" stroke=\"black\" points=\"3373.6,-47.62 3370.1,-37.62 3366.6,-47.62 3373.6,-47.62\"/>\n",
       "</g>\n",
       "<!-- 0.9300923224935389 -->\n",
       "<g id=\"node103\" class=\"node\">\n",
       "<title>0.9300923224935389</title>\n",
       "<ellipse fill=\"none\" stroke=\"black\" cx=\"3523.1\" cy=\"-18\" rx=\"48.19\" ry=\"18\"/>\n",
       "<text text-anchor=\"middle\" x=\"3523.1\" y=\"-14.3\" font-family=\"Times New Roman,serif\" font-size=\"14.00\">(600, 800]</text>\n",
       "</g>\n",
       "<!-- 0.5801747696900943&#45;&gt;0.9300923224935389 -->\n",
       "<g id=\"edge102\" class=\"edge\">\n",
       "<title>0.5801747696900943&#45;&gt;0.9300923224935389</title>\n",
       "<path fill=\"none\" stroke=\"black\" d=\"M3523.1,-71.7C3523.1,-64.41 3523.1,-55.73 3523.1,-47.54\"/>\n",
       "<polygon fill=\"black\" stroke=\"black\" points=\"3526.6,-47.62 3523.1,-37.62 3519.6,-47.62 3526.6,-47.62\"/>\n",
       "</g>\n",
       "<!-- 0.7172771703890595 -->\n",
       "<g id=\"node105\" class=\"node\">\n",
       "<title>0.7172771703890595</title>\n",
       "<ellipse fill=\"none\" stroke=\"black\" cx=\"3676.1\" cy=\"-18\" rx=\"56.59\" ry=\"18\"/>\n",
       "<text text-anchor=\"middle\" x=\"3676.1\" y=\"-14.3\" font-family=\"Times New Roman,serif\" font-size=\"14.00\">(1000, 1200]</text>\n",
       "</g>\n",
       "<!-- 0.6116247268687942&#45;&gt;0.7172771703890595 -->\n",
       "<g id=\"edge104\" class=\"edge\">\n",
       "<title>0.6116247268687942&#45;&gt;0.7172771703890595</title>\n",
       "<path fill=\"none\" stroke=\"black\" d=\"M3676.1,-71.7C3676.1,-64.41 3676.1,-55.73 3676.1,-47.54\"/>\n",
       "<polygon fill=\"black\" stroke=\"black\" points=\"3679.6,-47.62 3676.1,-37.62 3672.6,-47.62 3679.6,-47.62\"/>\n",
       "</g>\n",
       "<!-- 0.07708060921158821 -->\n",
       "<g id=\"node107\" class=\"node\">\n",
       "<title>0.07708060921158821</title>\n",
       "<ellipse fill=\"none\" stroke=\"black\" cx=\"3829.1\" cy=\"-18\" rx=\"56.59\" ry=\"18\"/>\n",
       "<text text-anchor=\"middle\" x=\"3829.1\" y=\"-14.3\" font-family=\"Times New Roman,serif\" font-size=\"14.00\">(1000, 1200]</text>\n",
       "</g>\n",
       "<!-- 0.5714705122886893&#45;&gt;0.07708060921158821 -->\n",
       "<g id=\"edge106\" class=\"edge\">\n",
       "<title>0.5714705122886893&#45;&gt;0.07708060921158821</title>\n",
       "<path fill=\"none\" stroke=\"black\" d=\"M3829.1,-71.7C3829.1,-64.41 3829.1,-55.73 3829.1,-47.54\"/>\n",
       "<polygon fill=\"black\" stroke=\"black\" points=\"3832.6,-47.62 3829.1,-37.62 3825.6,-47.62 3832.6,-47.62\"/>\n",
       "</g>\n",
       "<!-- 0.34915680057980514 -->\n",
       "<g id=\"node109\" class=\"node\">\n",
       "<title>0.34915680057980514</title>\n",
       "<ellipse fill=\"none\" stroke=\"black\" cx=\"3982.1\" cy=\"-18\" rx=\"56.59\" ry=\"18\"/>\n",
       "<text text-anchor=\"middle\" x=\"3982.1\" y=\"-14.3\" font-family=\"Times New Roman,serif\" font-size=\"14.00\">(1000, 1200]</text>\n",
       "</g>\n",
       "<!-- 0.46312431271053756&#45;&gt;0.34915680057980514 -->\n",
       "<g id=\"edge108\" class=\"edge\">\n",
       "<title>0.46312431271053756&#45;&gt;0.34915680057980514</title>\n",
       "<path fill=\"none\" stroke=\"black\" d=\"M3982.1,-71.7C3982.1,-64.41 3982.1,-55.73 3982.1,-47.54\"/>\n",
       "<polygon fill=\"black\" stroke=\"black\" points=\"3985.6,-47.62 3982.1,-37.62 3978.6,-47.62 3985.6,-47.62\"/>\n",
       "</g>\n",
       "<!-- 0.9777877888778127 -->\n",
       "<g id=\"node111\" class=\"node\">\n",
       "<title>0.9777877888778127</title>\n",
       "<ellipse fill=\"none\" stroke=\"black\" cx=\"4135.1\" cy=\"-18\" rx=\"56.59\" ry=\"18\"/>\n",
       "<text text-anchor=\"middle\" x=\"4135.1\" y=\"-14.3\" font-family=\"Times New Roman,serif\" font-size=\"14.00\">(1000, 1200]</text>\n",
       "</g>\n",
       "<!-- 0.2532499385566791&#45;&gt;0.9777877888778127 -->\n",
       "<g id=\"edge110\" class=\"edge\">\n",
       "<title>0.2532499385566791&#45;&gt;0.9777877888778127</title>\n",
       "<path fill=\"none\" stroke=\"black\" d=\"M4135.1,-71.7C4135.1,-64.41 4135.1,-55.73 4135.1,-47.54\"/>\n",
       "<polygon fill=\"black\" stroke=\"black\" points=\"4138.6,-47.62 4135.1,-37.62 4131.6,-47.62 4138.6,-47.62\"/>\n",
       "</g>\n",
       "<!-- 0.5271173702844915 -->\n",
       "<g id=\"node113\" class=\"node\">\n",
       "<title>0.5271173702844915</title>\n",
       "<ellipse fill=\"none\" stroke=\"black\" cx=\"4288.1\" cy=\"-18\" rx=\"56.59\" ry=\"18\"/>\n",
       "<text text-anchor=\"middle\" x=\"4288.1\" y=\"-14.3\" font-family=\"Times New Roman,serif\" font-size=\"14.00\">(1000, 1200]</text>\n",
       "</g>\n",
       "<!-- 0.187878315941444&#45;&gt;0.5271173702844915 -->\n",
       "<g id=\"edge112\" class=\"edge\">\n",
       "<title>0.187878315941444&#45;&gt;0.5271173702844915</title>\n",
       "<path fill=\"none\" stroke=\"black\" d=\"M4288.1,-71.7C4288.1,-64.41 4288.1,-55.73 4288.1,-47.54\"/>\n",
       "<polygon fill=\"black\" stroke=\"black\" points=\"4291.6,-47.62 4288.1,-37.62 4284.6,-47.62 4291.6,-47.62\"/>\n",
       "</g>\n",
       "</g>\n",
       "</svg>\n"
      ],
      "text/plain": [
       "<graphviz.graphs.Digraph at 0x1d0655be730>"
      ]
     },
     "metadata": {},
     "output_type": "display_data"
    },
    {
     "name": "stdout",
     "output_type": "stream",
     "text": [
      "System entropy:  2.57676858393624\n"
     ]
    }
   ],
   "source": [
    "# Your answer goes here\n",
    "# Your answer goes here\n",
    "# All columns except the last one are descriptive by default\n",
    "features = columns[:-1]\n",
    "\n",
    "# Calling DecisionTree constructor\n",
    "decisionTree = DecisionTree(\n",
    "    dtX_train.tolist(), features.tolist(), dty_train.tolist(), \"entropy\"\n",
    ")\n",
    "\n",
    "# Here you can pass pruning features (gain_threshold and minimum_samples)\n",
    "decisionTree.id3(0, 10)\n",
    "\n",
    "# Visualizing decision tree by Graphviz\n",
    "dot = decisionTree.print_visualTree(render=True)\n",
    "\n",
    "# When using Jupyter\n",
    "display(dot)\n",
    "\n",
    "print(\"System entropy: \", format(decisionTree.entropy))"
   ]
  },
  {
   "cell_type": "markdown",
   "id": "ddc5527b",
   "metadata": {
    "id": "ddc5527b"
   },
   "source": [
    "What is the first feature the decision tree splits on? **(0.5 point)**"
   ]
  },
  {
   "cell_type": "markdown",
   "id": "dedb90c3",
   "metadata": {
    "id": "dedb90c3"
   },
   "source": [
    "_Answer:_\n",
    "\n"
   ]
  },
  {
   "cell_type": "markdown",
   "id": "604f3229",
   "metadata": {
    "id": "604f3229"
   },
   "source": [
    "Since it doesn't make sense to set a price range for renting a room, we need to fix a price. For simplicity, we use the means of the bins, i.e., 125, 300, 500, 700, 900, and 1100. For example, if a room were categorized in the bin (200, 400], it would have the price of 300.\n",
    "\n",
    "What prices are possible given your decision tree for:\n",
    "\n",
    "- Manhattan, 1-room, Private room\n",
    "- Staten Island, 1-room, Shared room\n",
    "\n",
    "**(1 point)**"
   ]
  },
  {
   "cell_type": "markdown",
   "id": "75fc9049",
   "metadata": {
    "id": "dedb90c3"
   },
   "source": [
    "_Answer:_\n",
    "\n"
   ]
  },
  {
   "cell_type": "markdown",
   "id": "gXRYGEa5QwCC",
   "metadata": {
    "id": "gXRYGEa5QwCC"
   },
   "source": [
    "What is the proposed price of the decision tree for our apartment? Store it in a variable for later usage. **(1 point)**"
   ]
  },
  {
   "cell_type": "code",
   "execution_count": null,
   "id": "e2a17248",
   "metadata": {
    "id": "ly3THPi7PdLJ"
   },
   "outputs": [],
   "source": [
    "# Your answer goes here"
   ]
  },
  {
   "cell_type": "markdown",
   "id": "d7b71ded",
   "metadata": {
    "id": "d7b71ded"
   },
   "source": [
    "To evaluate how good our decision tree is for determining price categories, we want to measure the error of the predictions on the test set. To do so, the IDS team provided you helper functions below."
   ]
  },
  {
   "cell_type": "code",
   "execution_count": 34,
   "id": "ywjosLTaa8sY",
   "metadata": {
    "id": "ywjosLTaa8sY"
   },
   "outputs": [],
   "source": [
    "def get_name_value_dict(graph):\n",
    "    id_label_dict = {}\n",
    "    root = decisionTree.root\n",
    "    visited = set()  # Set to keep track of visited nodes of graph.\n",
    "\n",
    "    def dfs(visited, graph, node):  # function for dfs\n",
    "        id_label_dict[node.name] = node.value\n",
    "        if node not in visited:\n",
    "            if node.next:\n",
    "                id_label_dict[node.next.name] = node.next.value\n",
    "            visited.add(node)\n",
    "            if node.childs:\n",
    "                for child in node.childs:\n",
    "                    if child is not None:\n",
    "                        dfs(visited, graph, child)\n",
    "            elif node.next:\n",
    "                if node.next.childs:\n",
    "                    for child in node.next.childs:\n",
    "                        if child is not None:\n",
    "                            dfs(visited, graph, child)\n",
    "\n",
    "    dfs(visited, graph, root)\n",
    "    return id_label_dict\n",
    "\n",
    "\n",
    "def get_predictor(tree):\n",
    "    id_label_dict = get_name_value_dict(tree)\n",
    "    dotplus = pydotplus.graph_from_dot_data(tree.source)\n",
    "    G = networkx.nx_pydot.from_pydot(dotplus)\n",
    "    root = [n for n, d in G.in_degree() if d == 0][0]\n",
    "    paths = []\n",
    "    for node in G:\n",
    "        if G.out_degree(node) == 0:  # it's a leaf\n",
    "            paths.append(networkx.shortest_path(G, root, node))\n",
    "    new_paths = []\n",
    "    for path in paths:\n",
    "        for name, value in id_label_dict.items():\n",
    "            path = [p.replace(name, value) for p in path]\n",
    "        new_paths.append(path)\n",
    "    predictor = {}\n",
    "    for path in new_paths.copy():\n",
    "        target = path[-1]\n",
    "        classification = tuple(path[:-1])\n",
    "        predictor[classification] = target\n",
    "    return predictor\n",
    "\n",
    "\n",
    "def get_prediction_features(predictor):\n",
    "    features = set()\n",
    "    for key in predictor:\n",
    "        i = 0\n",
    "        while i <= len(key) - 2:\n",
    "            features.add(key[i])\n",
    "            i += 2\n",
    "    return features\n",
    "\n",
    "\n",
    "def get_predicted_bin(instance, features, predictor):\n",
    "    feature_values = {}\n",
    "    for feature in features:\n",
    "        feature_values[feature] = instance[feature]\n",
    "    possible_paths = predictor.keys()\n",
    "    i = 0\n",
    "    while i < 2 * len(feature_values):\n",
    "        attribute = [path[i] for path in possible_paths][0]\n",
    "        if attribute in predictor.values():\n",
    "            break\n",
    "        feature_value = feature_values[attribute]\n",
    "        candidates = []\n",
    "        for el in possible_paths:\n",
    "            if str(el[i + 1]) == str(feature_value):\n",
    "                candidates.append(el)\n",
    "        possible_paths = candidates.copy()\n",
    "        i += 2\n",
    "    return predictor[possible_paths[0]]\n",
    "\n",
    "\n",
    "### Dot is your visual decision tree. Adjust the naming if needed\n",
    "predictor = get_predictor(dot)\n",
    "features = get_prediction_features(predictor)"
   ]
  },
  {
   "cell_type": "markdown",
   "id": "05b8fad0",
   "metadata": {},
   "source": [
    "To predict the price bin for each instance of your test set, apply the function get_predicted_bin using the variables *predictor* and *features* provided above. **(2 points)**"
   ]
  },
  {
   "cell_type": "code",
   "execution_count": null,
   "id": "04a9c317",
   "metadata": {},
   "outputs": [],
   "source": [
    "# Your answer goes here"
   ]
  },
  {
   "cell_type": "markdown",
   "id": "tErBbNh62NdR",
   "metadata": {
    "id": "tErBbNh62NdR"
   },
   "source": [
    "You predicted a price range for AirBnBs in your test set. However, since you cannot enter a price range for renting an apartment, we have to map the range of bins to one value. To do so, we use the mean of bins, as explained before, to predict the price. Given that, compute the mean absolute error between the prediction from the decision tree and the real price provided in the dataset. What is the mean absolute error? **(3 points)**"
   ]
  },
  {
   "cell_type": "code",
   "execution_count": null,
   "id": "4e4a988f",
   "metadata": {
    "id": "ly3THPi7PdLJ"
   },
   "outputs": [],
   "source": [
    "# Your answer goes here"
   ]
  },
  {
   "cell_type": "markdown",
   "id": "4e0d4040-8285-41d8-9da7-547127f999ce",
   "metadata": {
    "id": "4e0d4040-8285-41d8-9da7-547127f999ce"
   },
   "source": [
    "## Clustering (23 points)"
   ]
  },
  {
   "cell_type": "markdown",
   "id": "8bae6185",
   "metadata": {
    "id": "8bae6185"
   },
   "source": [
    "Another way to do comparables pricing is to find similar apartments using clustering. Each calculated cluster represents one or more similar apartments in the dataset. For each cluster, you calculate the mean price as a representative price. To predict the price for new apartments, you assign them to an existing cluster and give the mean price as prediction.\n",
    "\n",
    "Use the same features you used in the decision tree for the clustering as well (**number rooms, neighborhood group, room type**), and remember that your dataset is still split into a training and test set.\n",
    "\n",
    "In this task, you will use the k-means algorithm.\n",
    "*Note: To keep results comparable, please use 100 for random state and n_init when initializing the clustering algorithm. Also, remember to use the same test and training set as in the previous tasks to compare performances.*"
   ]
  },
  {
   "cell_type": "markdown",
   "id": "bHmkuRpS-pjY",
   "metadata": {
    "id": "bHmkuRpS-pjY"
   },
   "source": [
    "### Encoding (2 points)"
   ]
  },
  {
   "cell_type": "markdown",
   "id": "TjuIWkKM1ylm",
   "metadata": {
    "id": "TjuIWkKM1ylm"
   },
   "source": [
    "K-means tries to calculate the distance between different data points. Since some of the features you want to use are not numeric, apply one-hot encoding to be able to use distance measures. Use the preprocessing module of sklearn to prepare your dataset for clustering."
   ]
  },
  {
   "cell_type": "code",
   "execution_count": 47,
   "id": "f1a38c37",
   "metadata": {},
   "outputs": [
    {
     "name": "stderr",
     "output_type": "stream",
     "text": [
      "C:\\Users\\Amogh\\AppData\\Local\\Temp\\ipykernel_18388\\1653409374.py:21: SettingWithCopyWarning: \n",
      "A value is trying to be set on a copy of a slice from a DataFrame.\n",
      "Try using .loc[row_indexer,col_indexer] = value instead\n",
      "\n",
      "See the caveats in the documentation: https://pandas.pydata.org/pandas-docs/stable/user_guide/indexing.html#returning-a-view-versus-a-copy\n",
      "  airbnb_dt[\"Price_Mean\"] = airbnb_dt[\"price\"].apply(lambda x: priceMean(x))\n",
      "C:\\Users\\Amogh\\AppData\\Local\\Temp\\ipykernel_18388\\1653409374.py:22: SettingWithCopyWarning: \n",
      "A value is trying to be set on a copy of a slice from a DataFrame\n",
      "\n",
      "See the caveats in the documentation: https://pandas.pydata.org/pandas-docs/stable/user_guide/indexing.html#returning-a-view-versus-a-copy\n",
      "  airbnb_dt.drop(\"price\", axis=1, inplace=True)\n"
     ]
    }
   ],
   "source": [
    "airbnb_dt = airbnb_cleaned[[\"number rooms\", \"neighborhood group\", \"room type\", \"price\"]]\n",
    "airbnb_dtX = airbnb_dt[[\"number rooms\", \"neighborhood group\", \"room type\"]].values\n",
    "airbnd_dty = airbnb_dt[\"price\"].values\n",
    "\n",
    "# Your answer goes here\n",
    "def priceMean(price):\n",
    "    if 50 <= price <= 200:\n",
    "        return (50+200)/2\n",
    "    elif 200 < price <= 400:\n",
    "        return (200+400)/2\n",
    "    elif 400 < price <= 600:\n",
    "        return (400+600)/2\n",
    "    elif 600 < price <= 800:\n",
    "        return (600+800)/2\n",
    "    elif 800 < price <= 1000:\n",
    "        return (800+1000)/2\n",
    "    else:\n",
    "        return (1000+1200)/2\n",
    "\n",
    "\n",
    "airbnb_dt[\"Price_Mean\"] = airbnb_dt[\"price\"].apply(lambda x: priceMean(x))\n",
    "airbnb_dt.drop(\"price\", axis=1, inplace=True)\n",
    "airbnb_dt.head()\n",
    "columns = airbnb_dt.columns\n",
    "\n",
    "# for column in columns:\n",
    "#     airbnb_dt[column] = airbnb_dt[column].astype(str)\n",
    "    \n",
    "dt_X = airbnb_dt[[\"number rooms\", \"neighborhood group\", \"room type\"]].values\n",
    "dt_y = airbnb_dt[\"Price_Mean\"].values\n",
    "dtX_train, dtX_test, dty_train, dty_test = train_test_split(\n",
    "    dt_X, dt_y, test_size=0.05, random_state=0\n",
    ")"
   ]
  },
  {
   "cell_type": "code",
   "execution_count": 49,
   "id": "ca92cc61",
   "metadata": {},
   "outputs": [
    {
     "data": {
      "text/plain": [
       "(array([[1, 'Brooklyn', 'Entire home/apt'],\n",
       "        [3, 'Queens', 'Entire home/apt'],\n",
       "        [2, 'Brooklyn', 'Entire home/apt'],\n",
       "        ...,\n",
       "        [1, 'Queens', 'Private room'],\n",
       "        [1, 'Manhattan', 'Entire home/apt'],\n",
       "        [3, 'Brooklyn', 'Entire home/apt']], dtype=object),\n",
       " array([[1, 'Brooklyn', 'Private room'],\n",
       "        [1, 'Manhattan', 'Entire home/apt'],\n",
       "        [1, 'Brooklyn', 'Private room'],\n",
       "        ...,\n",
       "        [1, 'Manhattan', 'Entire home/apt'],\n",
       "        [1, 'Manhattan', 'Private room'],\n",
       "        [1, 'Brooklyn', 'Private room']], dtype=object),\n",
       " array([ 125., 1100., 1100., ...,  500.,  300.,  900.]),\n",
       " array([1100.,  300.,  900., ...,  300.,  125.,  125.]))"
      ]
     },
     "execution_count": 49,
     "metadata": {},
     "output_type": "execute_result"
    }
   ],
   "source": [
    "dtX_train, dtX_test, dty_train, dty_test"
   ]
  },
  {
   "cell_type": "code",
   "execution_count": null,
   "id": "131d9dd3",
   "metadata": {},
   "outputs": [],
   "source": []
  },
  {
   "cell_type": "code",
   "execution_count": 50,
   "id": "99d3652a",
   "metadata": {},
   "outputs": [
    {
     "data": {
      "text/html": [
       "<div>\n",
       "<style scoped>\n",
       "    .dataframe tbody tr th:only-of-type {\n",
       "        vertical-align: middle;\n",
       "    }\n",
       "\n",
       "    .dataframe tbody tr th {\n",
       "        vertical-align: top;\n",
       "    }\n",
       "\n",
       "    .dataframe thead th {\n",
       "        text-align: right;\n",
       "    }\n",
       "</style>\n",
       "<table border=\"1\" class=\"dataframe\">\n",
       "  <thead>\n",
       "    <tr style=\"text-align: right;\">\n",
       "      <th></th>\n",
       "      <th>Price_Mean</th>\n",
       "    </tr>\n",
       "  </thead>\n",
       "  <tbody>\n",
       "    <tr>\n",
       "      <th>0</th>\n",
       "      <td>1100.0</td>\n",
       "    </tr>\n",
       "    <tr>\n",
       "      <th>1</th>\n",
       "      <td>300.0</td>\n",
       "    </tr>\n",
       "    <tr>\n",
       "      <th>2</th>\n",
       "      <td>900.0</td>\n",
       "    </tr>\n",
       "    <tr>\n",
       "      <th>3</th>\n",
       "      <td>1100.0</td>\n",
       "    </tr>\n",
       "    <tr>\n",
       "      <th>4</th>\n",
       "      <td>900.0</td>\n",
       "    </tr>\n",
       "    <tr>\n",
       "      <th>...</th>\n",
       "      <td>...</td>\n",
       "    </tr>\n",
       "    <tr>\n",
       "      <th>3538</th>\n",
       "      <td>300.0</td>\n",
       "    </tr>\n",
       "    <tr>\n",
       "      <th>3539</th>\n",
       "      <td>125.0</td>\n",
       "    </tr>\n",
       "    <tr>\n",
       "      <th>3540</th>\n",
       "      <td>300.0</td>\n",
       "    </tr>\n",
       "    <tr>\n",
       "      <th>3541</th>\n",
       "      <td>125.0</td>\n",
       "    </tr>\n",
       "    <tr>\n",
       "      <th>3542</th>\n",
       "      <td>125.0</td>\n",
       "    </tr>\n",
       "  </tbody>\n",
       "</table>\n",
       "<p>3543 rows × 1 columns</p>\n",
       "</div>"
      ],
      "text/plain": [
       "      Price_Mean\n",
       "0         1100.0\n",
       "1          300.0\n",
       "2          900.0\n",
       "3         1100.0\n",
       "4          900.0\n",
       "...          ...\n",
       "3538       300.0\n",
       "3539       125.0\n",
       "3540       300.0\n",
       "3541       125.0\n",
       "3542       125.0\n",
       "\n",
       "[3543 rows x 1 columns]"
      ]
     },
     "execution_count": 50,
     "metadata": {},
     "output_type": "execute_result"
    }
   ],
   "source": [
    "pd.DataFrame(dtX_train, columns = [\"number rooms\", \"neighborhood group\", \"room type\"])\n",
    "pd.DataFrame(dty_train, columns = [\"Price_Mean\"])\n",
    "pd.DataFrame(dtX_test, columns = [\"number rooms\", \"neighborhood group\", \"room type\"])\n",
    "pd.DataFrame(dty_test, columns = [\"Price_Mean\"])"
   ]
  },
  {
   "cell_type": "code",
   "execution_count": 63,
   "id": "a8f3f619",
   "metadata": {},
   "outputs": [
    {
     "data": {
      "text/html": [
       "<div>\n",
       "<style scoped>\n",
       "    .dataframe tbody tr th:only-of-type {\n",
       "        vertical-align: middle;\n",
       "    }\n",
       "\n",
       "    .dataframe tbody tr th {\n",
       "        vertical-align: top;\n",
       "    }\n",
       "\n",
       "    .dataframe thead th {\n",
       "        text-align: right;\n",
       "    }\n",
       "</style>\n",
       "<table border=\"1\" class=\"dataframe\">\n",
       "  <thead>\n",
       "    <tr style=\"text-align: right;\">\n",
       "      <th></th>\n",
       "      <th>number rooms</th>\n",
       "      <th>neighborhood group</th>\n",
       "      <th>room type</th>\n",
       "      <th>Price_Mean</th>\n",
       "    </tr>\n",
       "  </thead>\n",
       "  <tbody>\n",
       "    <tr>\n",
       "      <th>0</th>\n",
       "      <td>2</td>\n",
       "      <td>Manhattan</td>\n",
       "      <td>Entire home/apt</td>\n",
       "      <td>125.0</td>\n",
       "    </tr>\n",
       "    <tr>\n",
       "      <th>1</th>\n",
       "      <td>1</td>\n",
       "      <td>Manhattan</td>\n",
       "      <td>Private room</td>\n",
       "      <td>700.0</td>\n",
       "    </tr>\n",
       "    <tr>\n",
       "      <th>2</th>\n",
       "      <td>2</td>\n",
       "      <td>Brooklyn</td>\n",
       "      <td>Entire home/apt</td>\n",
       "      <td>300.0</td>\n",
       "    </tr>\n",
       "    <tr>\n",
       "      <th>3</th>\n",
       "      <td>1</td>\n",
       "      <td>Manhattan</td>\n",
       "      <td>Entire home/apt</td>\n",
       "      <td>300.0</td>\n",
       "    </tr>\n",
       "    <tr>\n",
       "      <th>4</th>\n",
       "      <td>1</td>\n",
       "      <td>Brooklyn</td>\n",
       "      <td>Private room</td>\n",
       "      <td>125.0</td>\n",
       "    </tr>\n",
       "    <tr>\n",
       "      <th>...</th>\n",
       "      <td>...</td>\n",
       "      <td>...</td>\n",
       "      <td>...</td>\n",
       "      <td>...</td>\n",
       "    </tr>\n",
       "    <tr>\n",
       "      <th>70837</th>\n",
       "      <td>1</td>\n",
       "      <td>Queens</td>\n",
       "      <td>Private room</td>\n",
       "      <td>125.0</td>\n",
       "    </tr>\n",
       "    <tr>\n",
       "      <th>70838</th>\n",
       "      <td>1</td>\n",
       "      <td>Queens</td>\n",
       "      <td>Private room</td>\n",
       "      <td>900.0</td>\n",
       "    </tr>\n",
       "    <tr>\n",
       "      <th>70839</th>\n",
       "      <td>1</td>\n",
       "      <td>Queens</td>\n",
       "      <td>Private room</td>\n",
       "      <td>900.0</td>\n",
       "    </tr>\n",
       "    <tr>\n",
       "      <th>70840</th>\n",
       "      <td>1</td>\n",
       "      <td>Manhattan</td>\n",
       "      <td>Entire home/apt</td>\n",
       "      <td>1100.0</td>\n",
       "    </tr>\n",
       "    <tr>\n",
       "      <th>70841</th>\n",
       "      <td>1</td>\n",
       "      <td>Brooklyn</td>\n",
       "      <td>Entire home/apt</td>\n",
       "      <td>900.0</td>\n",
       "    </tr>\n",
       "  </tbody>\n",
       "</table>\n",
       "<p>70842 rows × 4 columns</p>\n",
       "</div>"
      ],
      "text/plain": [
       "       number rooms neighborhood group        room type  Price_Mean\n",
       "0                 2          Manhattan  Entire home/apt       125.0\n",
       "1                 1          Manhattan     Private room       700.0\n",
       "2                 2           Brooklyn  Entire home/apt       300.0\n",
       "3                 1          Manhattan  Entire home/apt       300.0\n",
       "4                 1           Brooklyn     Private room       125.0\n",
       "...             ...                ...              ...         ...\n",
       "70837             1             Queens     Private room       125.0\n",
       "70838             1             Queens     Private room       900.0\n",
       "70839             1             Queens     Private room       900.0\n",
       "70840             1          Manhattan  Entire home/apt      1100.0\n",
       "70841             1           Brooklyn  Entire home/apt       900.0\n",
       "\n",
       "[70842 rows x 4 columns]"
      ]
     },
     "execution_count": 63,
     "metadata": {},
     "output_type": "execute_result"
    }
   ],
   "source": [
    "airbnb_dt"
   ]
  },
  {
   "cell_type": "code",
   "execution_count": 66,
   "id": "d1b9e1ea",
   "metadata": {},
   "outputs": [],
   "source": [
    "airbnb_dt = pd.get_dummies(df, columns=[\"neighborhood group\", \"room type\"])"
   ]
  },
  {
   "cell_type": "code",
   "execution_count": 67,
   "id": "79a804b6",
   "metadata": {},
   "outputs": [
    {
     "data": {
      "text/html": [
       "<div>\n",
       "<style scoped>\n",
       "    .dataframe tbody tr th:only-of-type {\n",
       "        vertical-align: middle;\n",
       "    }\n",
       "\n",
       "    .dataframe tbody tr th {\n",
       "        vertical-align: top;\n",
       "    }\n",
       "\n",
       "    .dataframe thead th {\n",
       "        text-align: right;\n",
       "    }\n",
       "</style>\n",
       "<table border=\"1\" class=\"dataframe\">\n",
       "  <thead>\n",
       "    <tr style=\"text-align: right;\">\n",
       "      <th></th>\n",
       "      <th>number rooms</th>\n",
       "      <th>neighborhood group_Bronx</th>\n",
       "      <th>neighborhood group_Brooklyn</th>\n",
       "      <th>neighborhood group_Manhattan</th>\n",
       "      <th>neighborhood group_Queens</th>\n",
       "      <th>neighborhood group_Staten Island</th>\n",
       "      <th>room type_Entire home/apt</th>\n",
       "      <th>room type_Hotel room</th>\n",
       "      <th>room type_Private room</th>\n",
       "      <th>room type_Shared room</th>\n",
       "    </tr>\n",
       "  </thead>\n",
       "  <tbody>\n",
       "    <tr>\n",
       "      <th>0</th>\n",
       "      <td>2</td>\n",
       "      <td>0</td>\n",
       "      <td>0</td>\n",
       "      <td>1</td>\n",
       "      <td>0</td>\n",
       "      <td>0</td>\n",
       "      <td>1</td>\n",
       "      <td>0</td>\n",
       "      <td>0</td>\n",
       "      <td>0</td>\n",
       "    </tr>\n",
       "    <tr>\n",
       "      <th>1</th>\n",
       "      <td>1</td>\n",
       "      <td>0</td>\n",
       "      <td>0</td>\n",
       "      <td>1</td>\n",
       "      <td>0</td>\n",
       "      <td>0</td>\n",
       "      <td>0</td>\n",
       "      <td>0</td>\n",
       "      <td>1</td>\n",
       "      <td>0</td>\n",
       "    </tr>\n",
       "    <tr>\n",
       "      <th>2</th>\n",
       "      <td>2</td>\n",
       "      <td>0</td>\n",
       "      <td>1</td>\n",
       "      <td>0</td>\n",
       "      <td>0</td>\n",
       "      <td>0</td>\n",
       "      <td>1</td>\n",
       "      <td>0</td>\n",
       "      <td>0</td>\n",
       "      <td>0</td>\n",
       "    </tr>\n",
       "    <tr>\n",
       "      <th>3</th>\n",
       "      <td>1</td>\n",
       "      <td>0</td>\n",
       "      <td>0</td>\n",
       "      <td>1</td>\n",
       "      <td>0</td>\n",
       "      <td>0</td>\n",
       "      <td>1</td>\n",
       "      <td>0</td>\n",
       "      <td>0</td>\n",
       "      <td>0</td>\n",
       "    </tr>\n",
       "    <tr>\n",
       "      <th>4</th>\n",
       "      <td>1</td>\n",
       "      <td>0</td>\n",
       "      <td>1</td>\n",
       "      <td>0</td>\n",
       "      <td>0</td>\n",
       "      <td>0</td>\n",
       "      <td>0</td>\n",
       "      <td>0</td>\n",
       "      <td>1</td>\n",
       "      <td>0</td>\n",
       "    </tr>\n",
       "    <tr>\n",
       "      <th>...</th>\n",
       "      <td>...</td>\n",
       "      <td>...</td>\n",
       "      <td>...</td>\n",
       "      <td>...</td>\n",
       "      <td>...</td>\n",
       "      <td>...</td>\n",
       "      <td>...</td>\n",
       "      <td>...</td>\n",
       "      <td>...</td>\n",
       "      <td>...</td>\n",
       "    </tr>\n",
       "    <tr>\n",
       "      <th>70837</th>\n",
       "      <td>1</td>\n",
       "      <td>0</td>\n",
       "      <td>0</td>\n",
       "      <td>0</td>\n",
       "      <td>1</td>\n",
       "      <td>0</td>\n",
       "      <td>0</td>\n",
       "      <td>0</td>\n",
       "      <td>1</td>\n",
       "      <td>0</td>\n",
       "    </tr>\n",
       "    <tr>\n",
       "      <th>70838</th>\n",
       "      <td>1</td>\n",
       "      <td>0</td>\n",
       "      <td>0</td>\n",
       "      <td>0</td>\n",
       "      <td>1</td>\n",
       "      <td>0</td>\n",
       "      <td>0</td>\n",
       "      <td>0</td>\n",
       "      <td>1</td>\n",
       "      <td>0</td>\n",
       "    </tr>\n",
       "    <tr>\n",
       "      <th>70839</th>\n",
       "      <td>1</td>\n",
       "      <td>0</td>\n",
       "      <td>0</td>\n",
       "      <td>0</td>\n",
       "      <td>1</td>\n",
       "      <td>0</td>\n",
       "      <td>0</td>\n",
       "      <td>0</td>\n",
       "      <td>1</td>\n",
       "      <td>0</td>\n",
       "    </tr>\n",
       "    <tr>\n",
       "      <th>70840</th>\n",
       "      <td>1</td>\n",
       "      <td>0</td>\n",
       "      <td>0</td>\n",
       "      <td>1</td>\n",
       "      <td>0</td>\n",
       "      <td>0</td>\n",
       "      <td>1</td>\n",
       "      <td>0</td>\n",
       "      <td>0</td>\n",
       "      <td>0</td>\n",
       "    </tr>\n",
       "    <tr>\n",
       "      <th>70841</th>\n",
       "      <td>1</td>\n",
       "      <td>0</td>\n",
       "      <td>1</td>\n",
       "      <td>0</td>\n",
       "      <td>0</td>\n",
       "      <td>0</td>\n",
       "      <td>1</td>\n",
       "      <td>0</td>\n",
       "      <td>0</td>\n",
       "      <td>0</td>\n",
       "    </tr>\n",
       "  </tbody>\n",
       "</table>\n",
       "<p>70842 rows × 10 columns</p>\n",
       "</div>"
      ],
      "text/plain": [
       "       number rooms  neighborhood group_Bronx  neighborhood group_Brooklyn  \\\n",
       "0                 2                         0                            0   \n",
       "1                 1                         0                            0   \n",
       "2                 2                         0                            1   \n",
       "3                 1                         0                            0   \n",
       "4                 1                         0                            1   \n",
       "...             ...                       ...                          ...   \n",
       "70837             1                         0                            0   \n",
       "70838             1                         0                            0   \n",
       "70839             1                         0                            0   \n",
       "70840             1                         0                            0   \n",
       "70841             1                         0                            1   \n",
       "\n",
       "       neighborhood group_Manhattan  neighborhood group_Queens  \\\n",
       "0                                 1                          0   \n",
       "1                                 1                          0   \n",
       "2                                 0                          0   \n",
       "3                                 1                          0   \n",
       "4                                 0                          0   \n",
       "...                             ...                        ...   \n",
       "70837                             0                          1   \n",
       "70838                             0                          1   \n",
       "70839                             0                          1   \n",
       "70840                             1                          0   \n",
       "70841                             0                          0   \n",
       "\n",
       "       neighborhood group_Staten Island  room type_Entire home/apt  \\\n",
       "0                                     0                          1   \n",
       "1                                     0                          0   \n",
       "2                                     0                          1   \n",
       "3                                     0                          1   \n",
       "4                                     0                          0   \n",
       "...                                 ...                        ...   \n",
       "70837                                 0                          0   \n",
       "70838                                 0                          0   \n",
       "70839                                 0                          0   \n",
       "70840                                 0                          1   \n",
       "70841                                 0                          1   \n",
       "\n",
       "       room type_Hotel room  room type_Private room  room type_Shared room  \n",
       "0                         0                       0                      0  \n",
       "1                         0                       1                      0  \n",
       "2                         0                       0                      0  \n",
       "3                         0                       0                      0  \n",
       "4                         0                       1                      0  \n",
       "...                     ...                     ...                    ...  \n",
       "70837                     0                       1                      0  \n",
       "70838                     0                       1                      0  \n",
       "70839                     0                       1                      0  \n",
       "70840                     0                       0                      0  \n",
       "70841                     0                       0                      0  \n",
       "\n",
       "[70842 rows x 10 columns]"
      ]
     },
     "execution_count": 67,
     "metadata": {},
     "output_type": "execute_result"
    }
   ],
   "source": [
    "airbnb_dt"
   ]
  },
  {
   "cell_type": "code",
   "execution_count": 68,
   "id": "923a3595",
   "metadata": {},
   "outputs": [],
   "source": [
    "from sklearn.cluster import KMeans\n",
    "\n",
    "kmeans = KMeans(3)\n",
    "clusters = kmeans.fit_predict(airbnb_dt)\n",
    "labels = pd.DataFrame(clusters)"
   ]
  },
  {
   "cell_type": "code",
   "execution_count": 69,
   "id": "1154c0ef",
   "metadata": {},
   "outputs": [
    {
     "data": {
      "text/plain": [
       "array([2, 1, 2, ..., 1, 2, 2])"
      ]
     },
     "execution_count": 69,
     "metadata": {},
     "output_type": "execute_result"
    }
   ],
   "source": [
    "clusters"
   ]
  },
  {
   "cell_type": "code",
   "execution_count": null,
   "id": "269b88b4",
   "metadata": {},
   "outputs": [],
   "source": []
  },
  {
   "cell_type": "code",
   "execution_count": null,
   "id": "0cc2391e",
   "metadata": {},
   "outputs": [],
   "source": []
  },
  {
   "cell_type": "code",
   "execution_count": null,
   "id": "56263fa1",
   "metadata": {},
   "outputs": [],
   "source": []
  },
  {
   "cell_type": "code",
   "execution_count": null,
   "id": "99553134",
   "metadata": {},
   "outputs": [],
   "source": []
  },
  {
   "cell_type": "markdown",
   "id": "LYtN1tb8-0Yf",
   "metadata": {
    "id": "LYtN1tb8-0Yf"
   },
   "source": [
    "### Choosing number of clusters (8 points)"
   ]
  },
  {
   "cell_type": "markdown",
   "id": "a58f00cf",
   "metadata": {
    "id": "a58f00cf"
   },
   "source": [
    "In k-means, the number of wanted clusters is a parameter one can decide on. Since this is information you do not have at this time, you choose to use the data to decide.\n",
    "\n",
    "You cluster on the training dataset by using `k` number of clusters where `k` is between 4 and 15. Since you are interested in the price, for each clustering, you calculate the **standard deviation of the mean prices for the clusters**. Therefore, for each clustering:\n",
    "1. Calculate the mean price for each of the resulting clusters.\n",
    "2. Calculate the standard deviation of the mean prices calculated in 1.\n",
    "\n",
    "Plot a diagram where on the `x-axis` you will have the *number of clusters used* and on the `y-axis` the *standard deviation of the means*.\n",
    "\n",
    "In your opinion, which amount of clusters makes more sense? Explain your answer."
   ]
  },
  {
   "cell_type": "code",
   "execution_count": null,
   "id": "cf32d53e",
   "metadata": {
    "id": "ly3THPi7PdLJ"
   },
   "outputs": [],
   "source": [
    "# Your answer goes here"
   ]
  },
  {
   "cell_type": "markdown",
   "id": "79a62a5b",
   "metadata": {},
   "source": [
    "_Answer:_\n",
    "\n"
   ]
  },
  {
   "cell_type": "markdown",
   "id": "8047129d",
   "metadata": {
    "id": "8047129d"
   },
   "source": [
    "**Note:** No matter the conclusion made in the previous task, from now on, you use the clustering model with **9 clusters** for predicting the price for your apartment and evaluating the clustering technique."
   ]
  },
  {
   "cell_type": "markdown",
   "id": "cd39a5ea",
   "metadata": {},
   "source": [
    "### Pricing your apartment (3 points)\n",
    "\n",
    "To predict the price for your apartment, calculate in which cluster your apartment would be and use the mean value of the cluster as a possible price."
   ]
  },
  {
   "cell_type": "code",
   "execution_count": null,
   "id": "50a772aa",
   "metadata": {
    "id": "ly3THPi7PdLJ"
   },
   "outputs": [],
   "source": [
    "# Your answer goes here\n",
    "# cluster for 9 clusters"
   ]
  },
  {
   "cell_type": "markdown",
   "id": "_MyMuKLPVihY",
   "metadata": {
    "id": "_MyMuKLPVihY"
   },
   "source": [
    "### Evaluating clustering (10 points)\n",
    "\n",
    "You want to evaluate how well your clustering worked. In your case, two things can be evaluated:\n",
    "\n",
    "1.   Whether the clustering technique can group similar apartments together\n",
    "2.   Whether other people determine the price of their apartment as you did, meaning whether similar apartments get a similar price"
   ]
  },
  {
   "cell_type": "markdown",
   "id": "O3VJSoR9VseI",
   "metadata": {
    "id": "O3VJSoR9VseI"
   },
   "source": [
    "You are going to evaluate the clustering technique visually. The IDS team provides you with the following fancy code that reduces your input to two dimensions."
   ]
  },
  {
   "cell_type": "code",
   "execution_count": null,
   "id": "IaMFg-ogVvpZ",
   "metadata": {
    "colab": {
     "base_uri": "https://localhost:8080/"
    },
    "id": "IaMFg-ogVvpZ",
    "outputId": "36e6a0f2-75fb-4331-8337-c3c9fa893e02"
   },
   "outputs": [],
   "source": [
    "import umap.umap_ as umap\n",
    "\n",
    "# Preprocessing numerical\n",
    "full_data = x_train  # use the train dataset here\n",
    "numerical = full_data.select_dtypes(exclude=\"object\")\n",
    "\n",
    "for c in numerical.columns:\n",
    "    pt = sklearn.preprocessing.PowerTransformer()\n",
    "    numerical.loc[:, c] = pt.fit_transform(np.array(numerical[c]).reshape(-1, 1))\n",
    "\n",
    "##preprocessing categorical\n",
    "categorical = full_data.select_dtypes(include=\"object\")\n",
    "categorical = pd.get_dummies(categorical)\n",
    "\n",
    "# Percentage of columns which are categorical is used as weight parameter in embeddings later\n",
    "categorical_weight = (\n",
    "    len(full_data.select_dtypes(include=\"object\").columns) / full_data.shape[1]\n",
    ")\n",
    "\n",
    "# Embedding numerical & categorical\n",
    "fit1 = umap.UMAP(metric=\"l2\").fit(numerical)\n",
    "fit2 = umap.UMAP(metric=\"dice\").fit(categorical)\n",
    "\n",
    "# Augmenting the numerical embedding with categorical\n",
    "intersection = umap.general_simplicial_set_intersection(\n",
    "    fit1.graph_, fit2.graph_, weight=categorical_weight\n",
    ")\n",
    "intersection = umap.reset_local_connectivity(intersection)\n",
    "embedding = umap.simplicial_set_embedding(\n",
    "    fit1._raw_data,\n",
    "    intersection,\n",
    "    fit1.n_components,\n",
    "    fit1._initial_alpha,\n",
    "    fit1._a,\n",
    "    fit1._b,\n",
    "    fit1.repulsion_strength,\n",
    "    fit1.negative_sample_rate,\n",
    "    200,\n",
    "    \"random\",\n",
    "    np.random,\n",
    "    fit1.metric,\n",
    "    fit1._metric_kwds,\n",
    "    False,\n",
    "    {},\n",
    "    False,\n",
    ")\n",
    "\n",
    "# Extracting the resulting dimensions\n",
    "dimension1 = embedding[0].T[0]\n",
    "dimension2 = embedding[0].T[1]"
   ]
  },
  {
   "cell_type": "markdown",
   "id": "1ea842d4",
   "metadata": {},
   "source": [
    "Create a scatter plot from the two dimensions and use the cluster labels for coloring the data points. Use the train set for the visualization. Discuss the result. **(5 points)**"
   ]
  },
  {
   "cell_type": "code",
   "execution_count": null,
   "id": "f319f3d2",
   "metadata": {
    "id": "ly3THPi7PdLJ"
   },
   "outputs": [],
   "source": [
    "# Your answer goes here"
   ]
  },
  {
   "cell_type": "markdown",
   "id": "1c822564",
   "metadata": {},
   "source": [
    "_Answer:_\n",
    "\n"
   ]
  },
  {
   "cell_type": "markdown",
   "id": "EFNtFLuyV7yQ",
   "metadata": {
    "id": "EFNtFLuyV7yQ"
   },
   "source": [
    "We next evaluate whether similar apartments (considering the attributes we chose) get similar prices. To do this, we use our test set. Assign each apartment of the test set to the nearest centroid. Predict the price of the apartments in the test set by taking the mean price of the cluster they was assigned to. Calculate the mean absolute error between the predicted and real prices. **(5 points)**"
   ]
  },
  {
   "cell_type": "code",
   "execution_count": null,
   "id": "cf6ae627",
   "metadata": {
    "id": "ly3THPi7PdLJ"
   },
   "outputs": [],
   "source": [
    "# Your answer goes here"
   ]
  },
  {
   "cell_type": "markdown",
   "id": "qxrtlduTBkRQ",
   "metadata": {
    "id": "qxrtlduTBkRQ"
   },
   "source": [
    "## Final comments on the price prediction (2 points)\n",
    "\n",
    "Please compare the three approaches used for determining the price. Do they provide a good way of determining the price?"
   ]
  },
  {
   "cell_type": "markdown",
   "id": "93dedc80",
   "metadata": {},
   "source": [
    "_Answer:_\n",
    "\n"
   ]
  },
  {
   "cell_type": "markdown",
   "id": "a6797ffe-8983-42d2-891d-7df7d8f9fc85",
   "metadata": {
    "id": "a6797ffe-8983-42d2-891d-7df7d8f9fc85"
   },
   "source": [
    "## Question 3: Investigating Price Elasticity (32 Points)"
   ]
  },
  {
   "cell_type": "markdown",
   "id": "88ca941f-cdf0-45fa-b930-b55a21c71e86",
   "metadata": {
    "id": "88ca941f-cdf0-45fa-b930-b55a21c71e86"
   },
   "source": [
    "You show your results to Toby, excited about the price suggestions you got from the decision tree and clustering. You decide to take the higher price, which naturally means more income.\n",
    "\n",
    "However, he points you to one central flaw in your thinking: The number of bookings is not independent of the price. Therefore, you can not just take any price and assume that this will lead to more income than a lower price, as the demand (utilization) for your apartment might decrease. This is called **price elasticity**.\n",
    "\n",
    "You want to verify what Toby has been telling you. You extracted the utilization column of your dataset by grabbing the available data from AirBnB's calendar (smart!). The utilization values are contained in dataset **AirBnB_utilization.csv**. **Show several graphs investigating price elasticity.** For example, you might plot the utilization in relation to the price and color according to different variable values. \n",
    "After you have verified Toby's statements, you want to learn price elasticity from the dataset (the utilization of an apartment given the price, the number of rooms, the room type, and the neighborhood group, i.e., the same features as before). With the learned price elasticity, you want to evaluate which of the proposed prices (decision tree or clustering) is the better choice. **(2 points)**"
   ]
  },
  {
   "cell_type": "code",
   "execution_count": null,
   "id": "14e26b23",
   "metadata": {
    "id": "ly3THPi7PdLJ"
   },
   "outputs": [],
   "source": [
    "# Your answer goes here\n",
    "util = pd.read_csv(\"AirBnB_utilization.csv\")\n",
    "sns.pairplot(\n",
    "    util[[\"price\", \"utilization\", \"room type\"]],\n",
    "    hue=\"room type\",\n",
    "    plot_kws={\"alpha\": 0.1},\n",
    ")\n",
    "sns.pairplot(\n",
    "    util[[\"price\", \"utilization\", \"neighborhood group\"]],\n",
    "    hue=\"neighborhood group\",\n",
    "    plot_kws={\"alpha\": 0.1},\n",
    ")\n",
    "sns.pairplot(\n",
    "    util[[\"price\", \"utilization\", \"number rooms\"]],\n",
    "    hue=\"number rooms\",\n",
    "    plot_kws={\"alpha\": 0.1},\n",
    ")\n",
    "plt.show()"
   ]
  },
  {
   "cell_type": "markdown",
   "id": "3014ad7a-a391-4485-9395-b69c3f081ee8",
   "metadata": {
    "id": "3014ad7a-a391-4485-9395-b69c3f081ee8"
   },
   "source": [
    "You will investigate the relationship between price and utilization in this subtask. First, you will train different models and choose the one that best predicts utilization for an apartment. Second, you will evaluate which of the proposed prices of decision tree and clustering prices were better, assuming that your model provides the correct utilization. Third, you will conclude your investigation and provide a pricing decision."
   ]
  },
  {
   "cell_type": "markdown",
   "id": "dc64c4de-fa5c-41fe-8bbe-3bb3c9008534",
   "metadata": {
    "id": "dc64c4de-fa5c-41fe-8bbe-3bb3c9008534"
   },
   "source": [
    "### Learning price elasticity (25 points)\n",
    "You want to use different supervised learning techniques to learn price elasticity. You decide on linear regression, SVM, and multilayer perceptrons. However, you have to preprocess the data. Use the features of the neighborhood group, the room type, the number of rooms, and the price to predict the utilization. Split into training and testing data (test size 5%)."
   ]
  },
  {
   "cell_type": "markdown",
   "id": "UjOJNxt_UrQr",
   "metadata": {
    "id": "UjOJNxt_UrQr"
   },
   "source": [
    "#### Prepare the data set by splitting, one-hot encoding, and normalizing. (5 points)"
   ]
  },
  {
   "cell_type": "code",
   "execution_count": 76,
   "id": "7522c215",
   "metadata": {
    "id": "ly3THPi7PdLJ"
   },
   "outputs": [
    {
     "data": {
      "text/plain": [
       "array([0.        , 1.        , 0.        , 0.        , 0.        ,\n",
       "       0.        , 0.        , 1.        , 0.        , 0.        ,\n",
       "       0.91652174])"
      ]
     },
     "execution_count": 76,
     "metadata": {},
     "output_type": "execute_result"
    }
   ],
   "source": [
    "# Your answer goes here\n",
    "columns = [\"neighborhood group\", \"room type\", \"number rooms\", \"price\", \"utilization\"]\n",
    "util_data = util[columns]\n",
    "features = columns[:-1]\n",
    "predicted = columns[-1]\n",
    "feature_data = util_data[features].values\n",
    "labeled_data = util_data[predicted].values\n",
    "train_feature, test_feature, train_label, test_label = train_test_split(\n",
    "    feature_data, labeled_data, test_size=0.05, random_state=0\n",
    ")\n",
    "\n",
    "onehotencoder = OneHotEncoder()\n",
    "encoded_train_data = onehotencoder.fit_transform(train_feature[:, :2]).toarray()\n",
    "encoded_train_data = np.append(encoded_train_data, train_feature[:, 2:], axis=1)\n",
    "\n",
    "scaler = MinMaxScaler()\n",
    "normalized_train_data = scaler.fit_transform(encoded_train_data)\n",
    "\n",
    "encoded_test_data = onehotencoder.transform(test_feature[:, :2]).toarray()\n",
    "encoded_test_data = np.append(encoded_test_data, test_feature[:, 2:], axis=1)\n",
    "normalized_test_data = scaler.transform(encoded_test_data)\n",
    "\n",
    "scaler_label = MinMaxScaler()\n",
    "normalized_train_label = scaler_label.fit_transform(train_label.reshape(-1, 1))\n",
    "# normalized_test_label = scaler_label.transform(test_label.reshape(-1,1))\n",
    "encoded_test_data = onehotencoder.transform(test_feature[:, :2]).toarray()\n",
    "encoded_test_data = np.append(encoded_test_data, test_feature[:, 2:], axis=1)\n",
    "normalized_test_data = scaler.transform(encoded_test_data)\n",
    "normalized_test_data[0]"
   ]
  },
  {
   "cell_type": "markdown",
   "id": "JEKOoD10VF9y",
   "metadata": {
    "id": "JEKOoD10VF9y"
   },
   "source": [
    "For each technique, use 5-cross-fold validation for hyperparameter optimization and assess the performance on the test set. "
   ]
  },
  {
   "cell_type": "markdown",
   "id": "c24bef91-6a16-4b09-a0e7-3069a687ed07",
   "metadata": {
    "id": "c24bef91-6a16-4b09-a0e7-3069a687ed07"
   },
   "source": [
    "#### Regression (5 points)"
   ]
  },
  {
   "cell_type": "markdown",
   "id": "jK-Rpzm2kBEu",
   "metadata": {
    "id": "jK-Rpzm2kBEu"
   },
   "source": [
    "Learn a linear regression to predict the utilization of an AirBnB."
   ]
  },
  {
   "cell_type": "code",
   "execution_count": null,
   "id": "37d648e1",
   "metadata": {
    "id": "ly3THPi7PdLJ"
   },
   "outputs": [],
   "source": [
    "# Your answer goes here\n",
    "lr = LinearRegression()\n",
    "lr.fit(normalized_train_data, normalized_train_label)\n",
    "predicted_lr_normalized = lr.predict(normalized_test_data)\n",
    "predicted_lr_original = scaler_label.inverse_transform(predicted_lr_normalized)"
   ]
  },
  {
   "cell_type": "markdown",
   "id": "KXaCxzVRkQT9",
   "metadata": {
    "id": "KXaCxzVRkQT9"
   },
   "source": [
    "What is the mean absolute error achieved on the test data?"
   ]
  },
  {
   "cell_type": "code",
   "execution_count": null,
   "id": "f11f7bf2",
   "metadata": {
    "id": "ly3THPi7PdLJ"
   },
   "outputs": [],
   "source": [
    "# Your answer goes here\n",
    "print(mean_absolute_error(test_label, predicted_lr_original))"
   ]
  },
  {
   "cell_type": "markdown",
   "id": "Qod_TrT-kW8H",
   "metadata": {
    "id": "Qod_TrT-kW8H"
   },
   "source": [
    "Show (draw!) the price elasticity for your apartment. "
   ]
  },
  {
   "cell_type": "code",
   "execution_count": null,
   "id": "5ee85945",
   "metadata": {
    "id": "ly3THPi7PdLJ"
   },
   "outputs": [],
   "source": [
    "# Your answer goes here\n",
    "plt.scatter(test_label, predicted_lr_original)\n",
    "plt.show()"
   ]
  },
  {
   "cell_type": "markdown",
   "id": "ae77f7d2-4752-49f8-b5e8-5bffda6e64d2",
   "metadata": {
    "id": "ae77f7d2-4752-49f8-b5e8-5bffda6e64d2"
   },
   "source": [
    "#### Linear SVR (5 points)"
   ]
  },
  {
   "cell_type": "markdown",
   "id": "s0NzpYCzs8y9",
   "metadata": {
    "id": "s0NzpYCzs8y9"
   },
   "source": [
    "Train and evaluate a Linear SVR (Support Vector Regression) model."
   ]
  },
  {
   "cell_type": "code",
   "execution_count": null,
   "id": "385ccf8e",
   "metadata": {
    "id": "ly3THPi7PdLJ"
   },
   "outputs": [],
   "source": [
    "# Your answer goes here\n",
    "lsvr = LinearSVR()\n",
    "lsvr.fit(normalized_train_data, normalized_train_label)\n",
    "predicted_lsvr_normalized = lsvr.predict(normalized_test_data)\n",
    "predicted_lsvr_original = scaler_label.inverse_transform(\n",
    "    predicted_lsvr_normalized.reshape(-1, 1)\n",
    ")\n",
    "predicted_lsvr_original"
   ]
  },
  {
   "cell_type": "markdown",
   "id": "YCccX3ZOdiiQ",
   "metadata": {
    "id": "YCccX3ZOdiiQ"
   },
   "source": [
    "What is the mean absolute error achieved on the test data?"
   ]
  },
  {
   "cell_type": "code",
   "execution_count": null,
   "id": "2bbfe034",
   "metadata": {
    "id": "ly3THPi7PdLJ"
   },
   "outputs": [],
   "source": [
    "# Your answer goes here\n",
    "print(mean_absolute_error(test_label, predicted_lsvr_original))"
   ]
  },
  {
   "cell_type": "markdown",
   "id": "akKwnMMgdrQX",
   "metadata": {
    "id": "akKwnMMgdrQX"
   },
   "source": [
    "Show (draw!) the price elasticity for your apartment. "
   ]
  },
  {
   "cell_type": "code",
   "execution_count": null,
   "id": "48c2acb0",
   "metadata": {
    "id": "ly3THPi7PdLJ"
   },
   "outputs": [],
   "source": [
    "# Your answer goes here\n",
    "plt.scatter(test_label, predicted_lsvr_original)\n",
    "plt.show()"
   ]
  },
  {
   "cell_type": "markdown",
   "id": "d9737709-05dc-43e3-ad50-34d0bd89606c",
   "metadata": {},
   "source": [
    "#### Learning Non-Linear Relationships"
   ]
  },
  {
   "cell_type": "markdown",
   "id": "c50c7b78-3bf4-40cd-a8ca-1b6ca399df9f",
   "metadata": {},
   "source": [
    "You realize that learning linear relationships only provides limited performance. You want to learn non-linear relationships. First, you will learn non-linear relationships using linear regression and kernels. Second, you will use non-linear kernels in the Support Vector Regression. Third, you will use neural networks."
   ]
  },
  {
   "cell_type": "markdown",
   "id": "3f6422fa-115f-441e-a3bc-abdea38f4b25",
   "metadata": {},
   "source": [
    "#### Kernels in Regression (2.5 points)"
   ]
  },
  {
   "cell_type": "markdown",
   "id": "e016dd91-0b6d-47d6-bf86-7485b3cd623c",
   "metadata": {},
   "source": [
    "Use a transformation of the price and a regression to incorporate non-linear relationships, as learned in the lecture. You can try different kernel functions, but at least you should use one quadratic kernel."
   ]
  },
  {
   "cell_type": "code",
   "execution_count": null,
   "id": "02440e18-d727-4fb2-a8e5-aa3d0b79d58d",
   "metadata": {},
   "outputs": [],
   "source": [
    "# Your answer goes here\n",
    "qksvr = SVR(kernel=\"poly\", C=100, gamma=\"auto\", degree=2)\n",
    "qksvr.fit(normalized_train_data, normalized_train_label)\n",
    "predicted_qksvr_normalized = qksvr.predict(normalized_test_data)\n",
    "predicted_qksvr_original = scaler_label.inverse_transform(\n",
    "    predicted_qksvr_normalized.reshape(-1, 1)\n",
    ")\n",
    "predicted_qksvr_original"
   ]
  },
  {
   "cell_type": "markdown",
   "id": "2e28b4fb-b9f2-4408-983a-1053034003bc",
   "metadata": {},
   "source": [
    "What is the mean absolute error achieved on the test data?"
   ]
  },
  {
   "cell_type": "code",
   "execution_count": null,
   "id": "f0e3ca24-6c5e-40c2-ad2d-e9d09670f573",
   "metadata": {},
   "outputs": [],
   "source": [
    "# Your answer goes here\n",
    "print(mean_absolute_error(test_label, predicted_qksvr_original))"
   ]
  },
  {
   "cell_type": "markdown",
   "id": "dca155df-d2e2-4d0e-b8d0-db8e780828aa",
   "metadata": {},
   "source": [
    "Show (draw!) the price elasticity for your apartment. "
   ]
  },
  {
   "cell_type": "code",
   "execution_count": null,
   "id": "d462859b-ae69-4799-bbb3-42ba65609b90",
   "metadata": {},
   "outputs": [],
   "source": [
    "# Your answer goes here\n",
    "plt.scatter(test_label, predicted_qksvr_original)\n",
    "plt.show()"
   ]
  },
  {
   "cell_type": "markdown",
   "id": "39ad54ac-0056-4204-bae4-f4098e5f1175",
   "metadata": {
    "id": "ae77f7d2-4752-49f8-b5e8-5bffda6e64d2"
   },
   "source": [
    "#### Kernels in SVR (2.5 points)"
   ]
  },
  {
   "cell_type": "markdown",
   "id": "61e205a3-ed09-4dfd-9d38-95cf7ef048e5",
   "metadata": {
    "id": "s0NzpYCzs8y9"
   },
   "source": [
    "Train and evaluate an SVR (Support Vector Regression) model with different, non-linear kernels. You can limit the size of your training set to 25000 samples to make the problem feasible in computation time."
   ]
  },
  {
   "cell_type": "code",
   "execution_count": null,
   "id": "8fc03286-feeb-413e-8389-fede8fe8d11a",
   "metadata": {
    "id": "ly3THPi7PdLJ"
   },
   "outputs": [],
   "source": [
    "# Your answer goes here\n",
    "qksvr = SVR(kernel=\"poly\", C=100, gamma=\"auto\", degree=3)\n",
    "qksvr.fit(normalized_train_data, normalized_train_label)\n",
    "predicted_qksvr_normalized = qksvr.predict(normalized_test_data)\n",
    "predicted_qksvr_original = scaler_label.inverse_transform(\n",
    "    predicted_qksvr_normalized.reshape(-1, 1)\n",
    ")\n",
    "predicted_qksvr_original"
   ]
  },
  {
   "cell_type": "markdown",
   "id": "53fb862b-97c2-42fa-9f44-f58cdbb95cba",
   "metadata": {
    "id": "YCccX3ZOdiiQ"
   },
   "source": [
    "What is the mean absolute error achieved on the test data?"
   ]
  },
  {
   "cell_type": "code",
   "execution_count": null,
   "id": "05343b84-1597-41b7-b7b6-4fa7bc5e7e82",
   "metadata": {
    "id": "ly3THPi7PdLJ"
   },
   "outputs": [],
   "source": [
    "# Your answer goes here\n",
    "print(mean_absolute_error(test_label, predicted_qksvr_original))"
   ]
  },
  {
   "cell_type": "markdown",
   "id": "3f9f3d21-40ab-4aa5-9b0b-e40e7fcc00e8",
   "metadata": {
    "id": "akKwnMMgdrQX"
   },
   "source": [
    "Show (draw!) the price elasticity for your apartment. "
   ]
  },
  {
   "cell_type": "code",
   "execution_count": null,
   "id": "42c2da55-efb6-410a-8c37-56bf4abaf043",
   "metadata": {
    "id": "ly3THPi7PdLJ"
   },
   "outputs": [],
   "source": [
    "# Your answer goes here\n",
    "plt.scatter(test_label, predicted_qksvr_original)\n",
    "plt.show()"
   ]
  },
  {
   "cell_type": "markdown",
   "id": "d43359b3-a2a4-4cda-90a8-0f66b04aa3fb",
   "metadata": {},
   "source": [
    "What is your conclusion on using kernels?"
   ]
  },
  {
   "cell_type": "markdown",
   "id": "a01dafcb-ce55-453c-a158-a46ab8bbfd1e",
   "metadata": {},
   "source": [
    "_Answer:_\n",
    "\n"
   ]
  },
  {
   "cell_type": "code",
   "execution_count": 70,
   "id": "122f8421",
   "metadata": {},
   "outputs": [],
   "source": [
    "util = pd.read_csv(\"AirBnB_utilization.csv\")"
   ]
  },
  {
   "cell_type": "code",
   "execution_count": 71,
   "id": "950bc687",
   "metadata": {},
   "outputs": [
    {
     "data": {
      "text/html": [
       "<div>\n",
       "<style scoped>\n",
       "    .dataframe tbody tr th:only-of-type {\n",
       "        vertical-align: middle;\n",
       "    }\n",
       "\n",
       "    .dataframe tbody tr th {\n",
       "        vertical-align: top;\n",
       "    }\n",
       "\n",
       "    .dataframe thead th {\n",
       "        text-align: right;\n",
       "    }\n",
       "</style>\n",
       "<table border=\"1\" class=\"dataframe\">\n",
       "  <thead>\n",
       "    <tr style=\"text-align: right;\">\n",
       "      <th></th>\n",
       "      <th>id</th>\n",
       "      <th>number rooms</th>\n",
       "      <th>room type</th>\n",
       "      <th>neighborhood group</th>\n",
       "      <th>price</th>\n",
       "      <th>utilization</th>\n",
       "    </tr>\n",
       "  </thead>\n",
       "  <tbody>\n",
       "    <tr>\n",
       "      <th>0</th>\n",
       "      <td>1002102</td>\n",
       "      <td>1</td>\n",
       "      <td>Entire home/apt</td>\n",
       "      <td>Manhattan</td>\n",
       "      <td>142</td>\n",
       "      <td>305.263673</td>\n",
       "    </tr>\n",
       "    <tr>\n",
       "      <th>1</th>\n",
       "      <td>1002403</td>\n",
       "      <td>1</td>\n",
       "      <td>Private room</td>\n",
       "      <td>Manhattan</td>\n",
       "      <td>620</td>\n",
       "      <td>86.294663</td>\n",
       "    </tr>\n",
       "    <tr>\n",
       "      <th>2</th>\n",
       "      <td>1002755</td>\n",
       "      <td>2</td>\n",
       "      <td>Entire home/apt</td>\n",
       "      <td>Brooklyn</td>\n",
       "      <td>368</td>\n",
       "      <td>129.287482</td>\n",
       "    </tr>\n",
       "    <tr>\n",
       "      <th>3</th>\n",
       "      <td>1003689</td>\n",
       "      <td>1</td>\n",
       "      <td>Entire home/apt</td>\n",
       "      <td>Manhattan</td>\n",
       "      <td>204</td>\n",
       "      <td>206.579601</td>\n",
       "    </tr>\n",
       "    <tr>\n",
       "      <th>4</th>\n",
       "      <td>1004650</td>\n",
       "      <td>1</td>\n",
       "      <td>Private room</td>\n",
       "      <td>Brooklyn</td>\n",
       "      <td>71</td>\n",
       "      <td>361.000000</td>\n",
       "    </tr>\n",
       "    <tr>\n",
       "      <th>...</th>\n",
       "      <td>...</td>\n",
       "      <td>...</td>\n",
       "      <td>...</td>\n",
       "      <td>...</td>\n",
       "      <td>...</td>\n",
       "      <td>...</td>\n",
       "    </tr>\n",
       "    <tr>\n",
       "      <th>70837</th>\n",
       "      <td>57353610</td>\n",
       "      <td>1</td>\n",
       "      <td>Private room</td>\n",
       "      <td>Queens</td>\n",
       "      <td>103</td>\n",
       "      <td>256.254940</td>\n",
       "    </tr>\n",
       "    <tr>\n",
       "      <th>70838</th>\n",
       "      <td>57358028</td>\n",
       "      <td>1</td>\n",
       "      <td>Private room</td>\n",
       "      <td>Queens</td>\n",
       "      <td>982</td>\n",
       "      <td>53.849882</td>\n",
       "    </tr>\n",
       "    <tr>\n",
       "      <th>70839</th>\n",
       "      <td>57358580</td>\n",
       "      <td>1</td>\n",
       "      <td>Private room</td>\n",
       "      <td>Queens</td>\n",
       "      <td>946</td>\n",
       "      <td>59.483494</td>\n",
       "    </tr>\n",
       "    <tr>\n",
       "      <th>70840</th>\n",
       "      <td>57359685</td>\n",
       "      <td>3</td>\n",
       "      <td>Entire home/apt</td>\n",
       "      <td>Manhattan</td>\n",
       "      <td>1043</td>\n",
       "      <td>128.349359</td>\n",
       "    </tr>\n",
       "    <tr>\n",
       "      <th>70841</th>\n",
       "      <td>57360237</td>\n",
       "      <td>3</td>\n",
       "      <td>Entire home/apt</td>\n",
       "      <td>Brooklyn</td>\n",
       "      <td>809</td>\n",
       "      <td>90.275969</td>\n",
       "    </tr>\n",
       "  </tbody>\n",
       "</table>\n",
       "<p>70842 rows × 6 columns</p>\n",
       "</div>"
      ],
      "text/plain": [
       "             id  number rooms        room type neighborhood group  price  \\\n",
       "0       1002102             1  Entire home/apt          Manhattan    142   \n",
       "1       1002403             1     Private room          Manhattan    620   \n",
       "2       1002755             2  Entire home/apt           Brooklyn    368   \n",
       "3       1003689             1  Entire home/apt          Manhattan    204   \n",
       "4       1004650             1     Private room           Brooklyn     71   \n",
       "...         ...           ...              ...                ...    ...   \n",
       "70837  57353610             1     Private room             Queens    103   \n",
       "70838  57358028             1     Private room             Queens    982   \n",
       "70839  57358580             1     Private room             Queens    946   \n",
       "70840  57359685             3  Entire home/apt          Manhattan   1043   \n",
       "70841  57360237             3  Entire home/apt           Brooklyn    809   \n",
       "\n",
       "       utilization  \n",
       "0       305.263673  \n",
       "1        86.294663  \n",
       "2       129.287482  \n",
       "3       206.579601  \n",
       "4       361.000000  \n",
       "...            ...  \n",
       "70837   256.254940  \n",
       "70838    53.849882  \n",
       "70839    59.483494  \n",
       "70840   128.349359  \n",
       "70841    90.275969  \n",
       "\n",
       "[70842 rows x 6 columns]"
      ]
     },
     "execution_count": 71,
     "metadata": {},
     "output_type": "execute_result"
    }
   ],
   "source": [
    "util"
   ]
  },
  {
   "cell_type": "code",
   "execution_count": null,
   "id": "69b90d0a",
   "metadata": {},
   "outputs": [],
   "source": []
  },
  {
   "cell_type": "code",
   "execution_count": null,
   "id": "da969654",
   "metadata": {},
   "outputs": [],
   "source": []
  },
  {
   "cell_type": "code",
   "execution_count": null,
   "id": "8ab0f2b2",
   "metadata": {},
   "outputs": [],
   "source": []
  },
  {
   "cell_type": "code",
   "execution_count": null,
   "id": "6b4e9bc2",
   "metadata": {},
   "outputs": [],
   "source": []
  },
  {
   "cell_type": "markdown",
   "id": "39ea35b3-b236-429d-81cb-17fd6877aed4",
   "metadata": {
    "id": "39ea35b3-b236-429d-81cb-17fd6877aed4"
   },
   "source": [
    "#### Neural Network (5 points)"
   ]
  },
  {
   "cell_type": "markdown",
   "id": "79IHOFdbkmN-",
   "metadata": {
    "id": "79IHOFdbkmN-"
   },
   "source": [
    "Learn a neural network (multilayer perceptron) to predict the utilization of an AirBnB."
   ]
  },
  {
   "cell_type": "code",
   "execution_count": 78,
   "id": "d963fd7e",
   "metadata": {
    "id": "ly3THPi7PdLJ"
   },
   "outputs": [
    {
     "ename": "ValueError",
     "evalue": "Unknown label type: (array([365.        ,  36.38064841, 113.8789545 , ..., 109.6167179 ,\n       184.7174809 ,  92.42208856]),)",
     "output_type": "error",
     "traceback": [
      "\u001b[1;31m---------------------------------------------------------------------------\u001b[0m",
      "\u001b[1;31mValueError\u001b[0m                                Traceback (most recent call last)",
      "Input \u001b[1;32mIn [78]\u001b[0m, in \u001b[0;36m<cell line: 3>\u001b[1;34m()\u001b[0m\n\u001b[0;32m      1\u001b[0m \u001b[38;5;66;03m# Your answer goes here\u001b[39;00m\n\u001b[0;32m      2\u001b[0m mlp \u001b[38;5;241m=\u001b[39m MLPClassifier(random_state\u001b[38;5;241m=\u001b[39m\u001b[38;5;241m1\u001b[39m, max_iter\u001b[38;5;241m=\u001b[39m\u001b[38;5;241m300\u001b[39m)\n\u001b[1;32m----> 3\u001b[0m \u001b[43mmlp\u001b[49m\u001b[38;5;241;43m.\u001b[39;49m\u001b[43mfit\u001b[49m\u001b[43m(\u001b[49m\u001b[43mencoded_train_data\u001b[49m\u001b[43m,\u001b[49m\u001b[43m \u001b[49m\u001b[43mtrain_label\u001b[49m\u001b[43m)\u001b[49m\n\u001b[0;32m      4\u001b[0m predicted_mlp_normalized \u001b[38;5;241m=\u001b[39m mlp\u001b[38;5;241m.\u001b[39mpredict(test_feature)\n\u001b[0;32m      5\u001b[0m predicted_mlp_original \u001b[38;5;241m=\u001b[39m scaler_label\u001b[38;5;241m.\u001b[39minverse_transform(\n\u001b[0;32m      6\u001b[0m     predicted_mlp_normalized\u001b[38;5;241m.\u001b[39mreshape(\u001b[38;5;241m-\u001b[39m\u001b[38;5;241m1\u001b[39m, \u001b[38;5;241m1\u001b[39m)\n\u001b[0;32m      7\u001b[0m )\n",
      "File \u001b[1;32m~\\.conda\\envs\\ids\\lib\\site-packages\\sklearn\\neural_network\\_multilayer_perceptron.py:762\u001b[0m, in \u001b[0;36mBaseMultilayerPerceptron.fit\u001b[1;34m(self, X, y)\u001b[0m\n\u001b[0;32m    745\u001b[0m \u001b[38;5;28;01mdef\u001b[39;00m \u001b[38;5;21mfit\u001b[39m(\u001b[38;5;28mself\u001b[39m, X, y):\n\u001b[0;32m    746\u001b[0m     \u001b[38;5;124;03m\"\"\"Fit the model to data matrix X and target(s) y.\u001b[39;00m\n\u001b[0;32m    747\u001b[0m \n\u001b[0;32m    748\u001b[0m \u001b[38;5;124;03m    Parameters\u001b[39;00m\n\u001b[1;32m   (...)\u001b[0m\n\u001b[0;32m    760\u001b[0m \u001b[38;5;124;03m        Returns a trained MLP model.\u001b[39;00m\n\u001b[0;32m    761\u001b[0m \u001b[38;5;124;03m    \"\"\"\u001b[39;00m\n\u001b[1;32m--> 762\u001b[0m     \u001b[38;5;28;01mreturn\u001b[39;00m \u001b[38;5;28;43mself\u001b[39;49m\u001b[38;5;241;43m.\u001b[39;49m\u001b[43m_fit\u001b[49m\u001b[43m(\u001b[49m\u001b[43mX\u001b[49m\u001b[43m,\u001b[49m\u001b[43m \u001b[49m\u001b[43my\u001b[49m\u001b[43m,\u001b[49m\u001b[43m \u001b[49m\u001b[43mincremental\u001b[49m\u001b[38;5;241;43m=\u001b[39;49m\u001b[38;5;28;43;01mFalse\u001b[39;49;00m\u001b[43m)\u001b[49m\n",
      "File \u001b[1;32m~\\.conda\\envs\\ids\\lib\\site-packages\\sklearn\\neural_network\\_multilayer_perceptron.py:394\u001b[0m, in \u001b[0;36mBaseMultilayerPerceptron._fit\u001b[1;34m(self, X, y, incremental)\u001b[0m\n\u001b[0;32m    387\u001b[0m     \u001b[38;5;28;01mraise\u001b[39;00m \u001b[38;5;167;01mValueError\u001b[39;00m(\n\u001b[0;32m    388\u001b[0m         \u001b[38;5;124m\"\u001b[39m\u001b[38;5;124mhidden_layer_sizes must be > 0, got \u001b[39m\u001b[38;5;132;01m%s\u001b[39;00m\u001b[38;5;124m.\u001b[39m\u001b[38;5;124m\"\u001b[39m \u001b[38;5;241m%\u001b[39m hidden_layer_sizes\n\u001b[0;32m    389\u001b[0m     )\n\u001b[0;32m    390\u001b[0m first_pass \u001b[38;5;241m=\u001b[39m \u001b[38;5;129;01mnot\u001b[39;00m \u001b[38;5;28mhasattr\u001b[39m(\u001b[38;5;28mself\u001b[39m, \u001b[38;5;124m\"\u001b[39m\u001b[38;5;124mcoefs_\u001b[39m\u001b[38;5;124m\"\u001b[39m) \u001b[38;5;129;01mor\u001b[39;00m (\n\u001b[0;32m    391\u001b[0m     \u001b[38;5;129;01mnot\u001b[39;00m \u001b[38;5;28mself\u001b[39m\u001b[38;5;241m.\u001b[39mwarm_start \u001b[38;5;129;01mand\u001b[39;00m \u001b[38;5;129;01mnot\u001b[39;00m incremental\n\u001b[0;32m    392\u001b[0m )\n\u001b[1;32m--> 394\u001b[0m X, y \u001b[38;5;241m=\u001b[39m \u001b[38;5;28;43mself\u001b[39;49m\u001b[38;5;241;43m.\u001b[39;49m\u001b[43m_validate_input\u001b[49m\u001b[43m(\u001b[49m\u001b[43mX\u001b[49m\u001b[43m,\u001b[49m\u001b[43m \u001b[49m\u001b[43my\u001b[49m\u001b[43m,\u001b[49m\u001b[43m \u001b[49m\u001b[43mincremental\u001b[49m\u001b[43m,\u001b[49m\u001b[43m \u001b[49m\u001b[43mreset\u001b[49m\u001b[38;5;241;43m=\u001b[39;49m\u001b[43mfirst_pass\u001b[49m\u001b[43m)\u001b[49m\n\u001b[0;32m    396\u001b[0m n_samples, n_features \u001b[38;5;241m=\u001b[39m X\u001b[38;5;241m.\u001b[39mshape\n\u001b[0;32m    398\u001b[0m \u001b[38;5;66;03m# Ensure y is 2D\u001b[39;00m\n",
      "File \u001b[1;32m~\\.conda\\envs\\ids\\lib\\site-packages\\sklearn\\neural_network\\_multilayer_perceptron.py:1140\u001b[0m, in \u001b[0;36mMLPClassifier._validate_input\u001b[1;34m(self, X, y, incremental, reset)\u001b[0m\n\u001b[0;32m   1138\u001b[0m \u001b[38;5;28;01mif\u001b[39;00m (\u001b[38;5;129;01mnot\u001b[39;00m \u001b[38;5;28mhasattr\u001b[39m(\u001b[38;5;28mself\u001b[39m, \u001b[38;5;124m\"\u001b[39m\u001b[38;5;124mclasses_\u001b[39m\u001b[38;5;124m\"\u001b[39m)) \u001b[38;5;129;01mor\u001b[39;00m (\u001b[38;5;129;01mnot\u001b[39;00m \u001b[38;5;28mself\u001b[39m\u001b[38;5;241m.\u001b[39mwarm_start \u001b[38;5;129;01mand\u001b[39;00m \u001b[38;5;129;01mnot\u001b[39;00m incremental):\n\u001b[0;32m   1139\u001b[0m     \u001b[38;5;28mself\u001b[39m\u001b[38;5;241m.\u001b[39m_label_binarizer \u001b[38;5;241m=\u001b[39m LabelBinarizer()\n\u001b[1;32m-> 1140\u001b[0m     \u001b[38;5;28;43mself\u001b[39;49m\u001b[38;5;241;43m.\u001b[39;49m\u001b[43m_label_binarizer\u001b[49m\u001b[38;5;241;43m.\u001b[39;49m\u001b[43mfit\u001b[49m\u001b[43m(\u001b[49m\u001b[43my\u001b[49m\u001b[43m)\u001b[49m\n\u001b[0;32m   1141\u001b[0m     \u001b[38;5;28mself\u001b[39m\u001b[38;5;241m.\u001b[39mclasses_ \u001b[38;5;241m=\u001b[39m \u001b[38;5;28mself\u001b[39m\u001b[38;5;241m.\u001b[39m_label_binarizer\u001b[38;5;241m.\u001b[39mclasses_\n\u001b[0;32m   1142\u001b[0m \u001b[38;5;28;01melse\u001b[39;00m:\n",
      "File \u001b[1;32m~\\.conda\\envs\\ids\\lib\\site-packages\\sklearn\\preprocessing\\_label.py:302\u001b[0m, in \u001b[0;36mLabelBinarizer.fit\u001b[1;34m(self, y)\u001b[0m\n\u001b[0;32m    299\u001b[0m     \u001b[38;5;28;01mraise\u001b[39;00m \u001b[38;5;167;01mValueError\u001b[39;00m(\u001b[38;5;124m\"\u001b[39m\u001b[38;5;124my has 0 samples: \u001b[39m\u001b[38;5;132;01m%r\u001b[39;00m\u001b[38;5;124m\"\u001b[39m \u001b[38;5;241m%\u001b[39m y)\n\u001b[0;32m    301\u001b[0m \u001b[38;5;28mself\u001b[39m\u001b[38;5;241m.\u001b[39msparse_input_ \u001b[38;5;241m=\u001b[39m sp\u001b[38;5;241m.\u001b[39missparse(y)\n\u001b[1;32m--> 302\u001b[0m \u001b[38;5;28mself\u001b[39m\u001b[38;5;241m.\u001b[39mclasses_ \u001b[38;5;241m=\u001b[39m \u001b[43munique_labels\u001b[49m\u001b[43m(\u001b[49m\u001b[43my\u001b[49m\u001b[43m)\u001b[49m\n\u001b[0;32m    303\u001b[0m \u001b[38;5;28;01mreturn\u001b[39;00m \u001b[38;5;28mself\u001b[39m\n",
      "File \u001b[1;32m~\\.conda\\envs\\ids\\lib\\site-packages\\sklearn\\utils\\multiclass.py:103\u001b[0m, in \u001b[0;36munique_labels\u001b[1;34m(*ys)\u001b[0m\n\u001b[0;32m    101\u001b[0m _unique_labels \u001b[38;5;241m=\u001b[39m _FN_UNIQUE_LABELS\u001b[38;5;241m.\u001b[39mget(label_type, \u001b[38;5;28;01mNone\u001b[39;00m)\n\u001b[0;32m    102\u001b[0m \u001b[38;5;28;01mif\u001b[39;00m \u001b[38;5;129;01mnot\u001b[39;00m _unique_labels:\n\u001b[1;32m--> 103\u001b[0m     \u001b[38;5;28;01mraise\u001b[39;00m \u001b[38;5;167;01mValueError\u001b[39;00m(\u001b[38;5;124m\"\u001b[39m\u001b[38;5;124mUnknown label type: \u001b[39m\u001b[38;5;132;01m%s\u001b[39;00m\u001b[38;5;124m\"\u001b[39m \u001b[38;5;241m%\u001b[39m \u001b[38;5;28mrepr\u001b[39m(ys))\n\u001b[0;32m    105\u001b[0m ys_labels \u001b[38;5;241m=\u001b[39m \u001b[38;5;28mset\u001b[39m(chain\u001b[38;5;241m.\u001b[39mfrom_iterable(_unique_labels(y) \u001b[38;5;28;01mfor\u001b[39;00m y \u001b[38;5;129;01min\u001b[39;00m ys))\n\u001b[0;32m    107\u001b[0m \u001b[38;5;66;03m# Check that we don't mix string type with number type\u001b[39;00m\n",
      "\u001b[1;31mValueError\u001b[0m: Unknown label type: (array([365.        ,  36.38064841, 113.8789545 , ..., 109.6167179 ,\n       184.7174809 ,  92.42208856]),)"
     ]
    }
   ],
   "source": [
    "# Your answer goes here\n",
    "mlp = MLPClassifier(random_state=1, max_iter=300)\n",
    "mlp.fit(encoded_train_data, train_label)\n",
    "predicted_mlp_normalized = mlp.predict(test_feature)\n",
    "predicted_mlp_original = scaler_label.inverse_transform(\n",
    "    predicted_mlp_normalized.reshape(-1, 1)\n",
    ")\n",
    "predicted_mlp_original"
   ]
  },
  {
   "cell_type": "markdown",
   "id": "NEh_vR3gkyZG",
   "metadata": {
    "id": "NEh_vR3gkyZG"
   },
   "source": [
    "What is the mean absolute error achieved on the test data?"
   ]
  },
  {
   "cell_type": "code",
   "execution_count": null,
   "id": "3660d9c1",
   "metadata": {
    "id": "ly3THPi7PdLJ"
   },
   "outputs": [],
   "source": [
    "# Your answer goes here"
   ]
  },
  {
   "cell_type": "markdown",
   "id": "PUwlWri4kzze",
   "metadata": {
    "id": "PUwlWri4kzze"
   },
   "source": [
    "Show (draw!) the price elasticity for your apartment. "
   ]
  },
  {
   "cell_type": "code",
   "execution_count": null,
   "id": "9d42d222",
   "metadata": {
    "id": "ly3THPi7PdLJ"
   },
   "outputs": [],
   "source": [
    "# Your answer goes here"
   ]
  },
  {
   "cell_type": "markdown",
   "id": "7e9c469a-9ef3-45b5-a225-ff4109086d16",
   "metadata": {
    "id": "7e9c469a-9ef3-45b5-a225-ff4109086d16"
   },
   "source": [
    "### Profit discrepencies when incorporating price elasticity (5 points)"
   ]
  },
  {
   "cell_type": "markdown",
   "id": "OmfvMMkWk-Dt",
   "metadata": {
    "id": "OmfvMMkWk-Dt"
   },
   "source": [
    "Use the model that best captures price elasticity on the testing set. You can assume that this model accurately captures price elasticity, i.e., is the ground truth. What is the better of the two proposed prices? Is the better price the optimal price?"
   ]
  },
  {
   "cell_type": "code",
   "execution_count": null,
   "id": "d0b855ae",
   "metadata": {
    "id": "ly3THPi7PdLJ"
   },
   "outputs": [],
   "source": [
    "# Your answer goes here"
   ]
  },
  {
   "cell_type": "markdown",
   "id": "4878657a",
   "metadata": {},
   "source": [
    "_Answer:_\n",
    "\n"
   ]
  },
  {
   "cell_type": "markdown",
   "id": "8827d79d-7f99-4e6c-af6c-9ba7ff7509bc",
   "metadata": {
    "id": "8827d79d-7f99-4e6c-af6c-9ba7ff7509bc"
   },
   "source": [
    "# Question 4: Conclusion (5 points)"
   ]
  },
  {
   "cell_type": "markdown",
   "id": "38a971e0-7b6b-414f-a845-5379cd705838",
   "metadata": {
    "id": "38a971e0-7b6b-414f-a845-5379cd705838"
   },
   "source": [
    "Summarize your findings and discuss limitations."
   ]
  },
  {
   "cell_type": "markdown",
   "id": "d5c1c314",
   "metadata": {},
   "source": [
    "_Answer:_ \n",
    "\n"
   ]
  }
 ],
 "metadata": {
  "colab": {
   "collapsed_sections": [],
   "provenance": []
  },
  "kernelspec": {
   "display_name": "Python 3 (ipykernel)",
   "language": "python",
   "name": "python3"
  },
  "language_info": {
   "codemirror_mode": {
    "name": "ipython",
    "version": 3
   },
   "file_extension": ".py",
   "mimetype": "text/x-python",
   "name": "python",
   "nbconvert_exporter": "python",
   "pygments_lexer": "ipython3",
   "version": "3.9.12"
  }
 },
 "nbformat": 4,
 "nbformat_minor": 5
}
