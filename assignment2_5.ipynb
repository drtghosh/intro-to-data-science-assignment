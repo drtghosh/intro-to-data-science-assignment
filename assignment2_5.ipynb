{
 "cells": [
  {
   "cell_type": "markdown",
   "id": "788da653-9059-4045-9341-da119995bc4c",
   "metadata": {
    "tags": []
   },
   "source": [
    "## Question 5: Process Mining (22pts)"
   ]
  },
  {
   "cell_type": "code",
   "execution_count": 14,
   "id": "75571aa7-6567-44de-86e3-27aba8d5d03f",
   "metadata": {},
   "outputs": [],
   "source": [
    "import pandas as pd\n",
    "import pm4py"
   ]
  },
  {
   "cell_type": "code",
   "execution_count": 15,
   "id": "470d33e5-5fea-4f90-baba-dfc4c7fc72bb",
   "metadata": {},
   "outputs": [],
   "source": [
    "from pm4py.statistics.traces.generic.log import case_statistics"
   ]
  },
  {
   "cell_type": "code",
   "execution_count": 16,
   "id": "4472e969-94fb-47e1-bb32-6dcfd7f154b0",
   "metadata": {},
   "outputs": [],
   "source": [
    "from pm4py.algo.conformance.tokenreplay import algorithm as token_based_replay"
   ]
  },
  {
   "cell_type": "code",
   "execution_count": 17,
   "id": "8da87cd3-a2f0-46ee-97e2-c3c3c9905140",
   "metadata": {},
   "outputs": [],
   "source": [
    "import matplotlib.pyplot as plt"
   ]
  },
  {
   "cell_type": "markdown",
   "id": "f1fd03f7-1c78-45be-9fb1-018779e47fd5",
   "metadata": {
    "tags": []
   },
   "source": [
    "### a) Loading the Data and Basic Statistics (9pts)"
   ]
  },
  {
   "attachments": {},
   "cell_type": "markdown",
   "id": "1e696437-3c4a-4e5f-9725-b12d153d1688",
   "metadata": {
    "tags": []
   },
   "source": [
    "#### **a(i)** \n",
    "Load the data **reimburse.csv** and create a PM4Py event log. In doing so, use the following column mapping:\n",
    " - *Activity* is the activity key\n",
    " - *CaseId* is the case ID\n",
    " - *Timestamp* is the timestamp"
   ]
  },
  {
   "cell_type": "code",
   "execution_count": 18,
   "id": "0d14d031-f77b-4b7c-807a-b352e2e4a7d8",
   "metadata": {},
   "outputs": [
    {
     "data": {
      "text/html": [
       "<div>\n",
       "<style scoped>\n",
       "    .dataframe tbody tr th:only-of-type {\n",
       "        vertical-align: middle;\n",
       "    }\n",
       "\n",
       "    .dataframe tbody tr th {\n",
       "        vertical-align: top;\n",
       "    }\n",
       "\n",
       "    .dataframe thead th {\n",
       "        text-align: right;\n",
       "    }\n",
       "</style>\n",
       "<table border=\"1\" class=\"dataframe\">\n",
       "  <thead>\n",
       "    <tr style=\"text-align: right;\">\n",
       "      <th></th>\n",
       "      <th>Timestamp</th>\n",
       "      <th>CaseId</th>\n",
       "      <th>Activity</th>\n",
       "      <th>ModelTime</th>\n",
       "      <th>Resource</th>\n",
       "      <th>Brand</th>\n",
       "      <th>case:concept:name</th>\n",
       "      <th>concept:name</th>\n",
       "      <th>time:timestamp</th>\n",
       "      <th>@@index</th>\n",
       "    </tr>\n",
       "  </thead>\n",
       "  <tbody>\n",
       "    <tr>\n",
       "      <th>47825</th>\n",
       "      <td>2022-03-02 15:20:38+00:00</td>\n",
       "      <td>9998</td>\n",
       "      <td>Fill Fraud Report</td>\n",
       "      <td>55246838</td>\n",
       "      <td>20</td>\n",
       "      <td>CP</td>\n",
       "      <td>9998</td>\n",
       "      <td>Fill Fraud Report</td>\n",
       "      <td>2022-03-02 15:20:38+00:00</td>\n",
       "      <td>47825</td>\n",
       "    </tr>\n",
       "    <tr>\n",
       "      <th>47826</th>\n",
       "      <td>2022-02-05 20:00:11+00:00</td>\n",
       "      <td>9999</td>\n",
       "      <td>Online</td>\n",
       "      <td>53103611</td>\n",
       "      <td>111</td>\n",
       "      <td>CP</td>\n",
       "      <td>9999</td>\n",
       "      <td>Online</td>\n",
       "      <td>2022-02-05 20:00:11+00:00</td>\n",
       "      <td>47826</td>\n",
       "    </tr>\n",
       "    <tr>\n",
       "      <th>47827</th>\n",
       "      <td>2022-02-14 10:23:19+00:00</td>\n",
       "      <td>9999</td>\n",
       "      <td>Register Low</td>\n",
       "      <td>53846599</td>\n",
       "      <td>2</td>\n",
       "      <td>CP</td>\n",
       "      <td>9999</td>\n",
       "      <td>Register Low</td>\n",
       "      <td>2022-02-14 10:23:19+00:00</td>\n",
       "      <td>47827</td>\n",
       "    </tr>\n",
       "    <tr>\n",
       "      <th>47828</th>\n",
       "      <td>2022-02-14 11:11:08+00:00</td>\n",
       "      <td>9999</td>\n",
       "      <td>Ask if Reimbursement</td>\n",
       "      <td>53849468</td>\n",
       "      <td>1</td>\n",
       "      <td>CP</td>\n",
       "      <td>9999</td>\n",
       "      <td>Ask if Reimbursement</td>\n",
       "      <td>2022-02-14 11:11:08+00:00</td>\n",
       "      <td>47828</td>\n",
       "    </tr>\n",
       "    <tr>\n",
       "      <th>47829</th>\n",
       "      <td>2022-02-16 11:56:24+00:00</td>\n",
       "      <td>9999</td>\n",
       "      <td>Pay</td>\n",
       "      <td>54024984</td>\n",
       "      <td>2</td>\n",
       "      <td>CP</td>\n",
       "      <td>9999</td>\n",
       "      <td>Pay</td>\n",
       "      <td>2022-02-16 11:56:24+00:00</td>\n",
       "      <td>47829</td>\n",
       "    </tr>\n",
       "  </tbody>\n",
       "</table>\n",
       "</div>"
      ],
      "text/plain": [
       "                      Timestamp  CaseId              Activity  ModelTime  \\\n",
       "47825 2022-03-02 15:20:38+00:00    9998     Fill Fraud Report   55246838   \n",
       "47826 2022-02-05 20:00:11+00:00    9999                Online   53103611   \n",
       "47827 2022-02-14 10:23:19+00:00    9999          Register Low   53846599   \n",
       "47828 2022-02-14 11:11:08+00:00    9999  Ask if Reimbursement   53849468   \n",
       "47829 2022-02-16 11:56:24+00:00    9999                   Pay   54024984   \n",
       "\n",
       "      Resource Brand case:concept:name          concept:name  \\\n",
       "47825       20    CP              9998     Fill Fraud Report   \n",
       "47826      111    CP              9999                Online   \n",
       "47827        2    CP              9999          Register Low   \n",
       "47828        1    CP              9999  Ask if Reimbursement   \n",
       "47829        2    CP              9999                   Pay   \n",
       "\n",
       "                 time:timestamp  @@index  \n",
       "47825 2022-03-02 15:20:38+00:00    47825  \n",
       "47826 2022-02-05 20:00:11+00:00    47826  \n",
       "47827 2022-02-14 10:23:19+00:00    47827  \n",
       "47828 2022-02-14 11:11:08+00:00    47828  \n",
       "47829 2022-02-16 11:56:24+00:00    47829  "
      ]
     },
     "execution_count": 18,
     "metadata": {},
     "output_type": "execute_result"
    }
   ],
   "source": [
    "# your code\n",
    "dataframe = pd.read_csv('datasets/reimburse.csv', sep=',')\n",
    "dataframe = pm4py.format_dataframe(dataframe, case_id='CaseId', activity_key='Activity', timestamp_key='Timestamp')\n",
    "event_log = pm4py.convert_to_event_log(dataframe)\n",
    "dataframe.tail()\n"
   ]
  },
  {
   "cell_type": "markdown",
   "id": "b1cdcace-82db-451c-8d8a-2fe3d7033df2",
   "metadata": {
    "tags": []
   },
   "source": [
    "#### **a(ii)** \n",
    "Compute and print the following basic information:\n",
    "- Number of events\n",
    "- Number of cases\n",
    "- Earliest timestamp\n",
    "- Latest timestamp\n",
    "- Number of trace variants"
   ]
  },
  {
   "cell_type": "code",
   "execution_count": 19,
   "id": "04d1b421-7308-4031-a5b2-bbf4cbfa18e8",
   "metadata": {},
   "outputs": [
    {
     "name": "stdout",
     "output_type": "stream",
     "text": [
      "Number of events: 47830\n",
      "Number of cases: 10000\n",
      "Earliest timestamp: 2020-06-01 06:00:00+00:00\n",
      "Latest timestamp: 2022-03-10 12:14:51+00:00\n",
      "Number of trace variants: 266\n"
     ]
    }
   ],
   "source": [
    "# your code\n",
    "num_events = len(pm4py.get_event_attribute_values(event_log,'@@index'))\n",
    "num_cases = len(pm4py.get_event_attribute_values(event_log,'CaseId'))\n",
    "time_min = dataframe['time:timestamp'].min()\n",
    "time_max = dataframe['time:timestamp'].max()\n",
    "trace_var = len(pm4py.get_variants_as_tuples(event_log))\n",
    "\n",
    "print(f'Number of events: {num_events}')\n",
    "print(f'Number of cases: {num_cases}')\n",
    "print(f'Earliest timestamp: {time_min}')\n",
    "print(f'Latest timestamp: {time_max}')\n",
    "print(f'Number of trace variants: {trace_var}')\n",
    "\n"
   ]
  },
  {
   "cell_type": "markdown",
   "id": "9a45f421-ded8-4ebc-bfcd-bde5d3e3069b",
   "metadata": {
    "tags": []
   },
   "source": [
    "#### **a(iii)** \n",
    "In process mining, multiple events that have the same timestamp can cause problems because the ordering of events (or even activities) becomes unclear. Moreover, they can indicate batching (i.e., one activity is executed for multiple cases simultaneously). Therefore, during your analysis, it is good to keep that in mind. To this end, compute the following statistics/answer the following questions:\n",
    "\n",
    "1. How many events occur almost at the same time (i.e., within less than 100ms as the preceding event. (Proceeding event in the *entire* event log)?\n",
    "2. Are there resources that complete two activities at the same time (within less than 100ms)?\n",
    "3. How many cases are there in which two activities are executed at the same time (i.e., two events that belong to the same case occur within less than 100ms)?\n",
    "\n",
    "*Hint: Depending on how you find the answers, be careful about event orderings.*"
   ]
  },
  {
   "cell_type": "code",
   "execution_count": 12,
   "id": "06de7336",
   "metadata": {},
   "outputs": [
    {
     "name": "stdout",
     "output_type": "stream",
     "text": [
      "688\n"
     ]
    }
   ],
   "source": [
    "# your answer\n",
    "# 1)\n",
    "print(dataframe.shape[0]-len(dataframe.Timestamp.unique()))"
   ]
  },
  {
   "cell_type": "code",
   "execution_count": 25,
   "id": "e7acdb64",
   "metadata": {},
   "outputs": [
    {
     "name": "stdout",
     "output_type": "stream",
     "text": [
      "0\n"
     ]
    }
   ],
   "source": [
    "# 2)\n",
    "res_list = []\n",
    "for res in dataframe.Resource.unique():\n",
    "    df_res = dataframe.loc[dataframe['Resource'] == res]\n",
    "    if (df_res.shape[0]-len(df_res.Timestamp.unique() != 0)):\n",
    "        res_list.append(res)\n",
    "        # print(case)\n",
    "print(len(res_list))"
   ]
  },
  {
   "cell_type": "code",
   "execution_count": 23,
   "id": "e94324c1",
   "metadata": {},
   "outputs": [
    {
     "name": "stdout",
     "output_type": "stream",
     "text": [
      "[1355, 1448, 2091, 2105, 2558, 5941, 6, 6275, 6415, 6445, 6606, 6663, 672, 6865, 6926, 7348, 7562, 7748, 7949, 7957, 881]\n"
     ]
    }
   ],
   "source": [
    "# 3)\n",
    "case_list = []\n",
    "for case in dataframe.CaseId.unique():\n",
    "    df_case = dataframe.loc[dataframe['CaseId'] == case]\n",
    "    if (df_case.shape[0]-len(df_case.Timestamp.unique() != 0)):\n",
    "        case_list.append(case)\n",
    "        # print(case)\n",
    "print(len(case_list))"
   ]
  },
  {
   "cell_type": "markdown",
   "id": "c75d70c8-9b9a-4444-bd50-3e6d78c25bc6",
   "metadata": {
    "tags": []
   },
   "source": [
    "#### **a(iv)** \n",
    "Provide a plot that shows the number of running cases (i.e., cases that have started but not yet finished) over time. You may assume that the log only contains complete traces. For each case that has started, its completion is the last observed event associated with that case. In case multiple cases start or end at the same time, you also generate multiple values."
   ]
  },
  {
   "cell_type": "code",
   "execution_count": 21,
   "id": "84a734f5",
   "metadata": {},
   "outputs": [
    {
     "data": {
      "image/png": "[encoded data removed]",
      "text/plain": [
       "<IPython.core.display.Image object>"
      ]
     },
     "metadata": {},
     "output_type": "display_data"
    }
   ],
   "source": [
    "# your code\n",
    "pm4py.view_events_distribution_graph(event_log, distr_type=\"hours\")"
   ]
  },
  {
   "cell_type": "code",
   "execution_count": 29,
   "id": "522aaab1-e228-430a-bafd-3d1e82101aaa",
   "metadata": {},
   "outputs": [
    {
     "name": "stdout",
     "output_type": "stream",
     "text": [
      "The start activities are:\n"
     ]
    },
    {
     "data": {
      "text/plain": [
       "{'Online': 6993, 'App': 3007}"
      ]
     },
     "metadata": {},
     "output_type": "display_data"
    },
    {
     "name": "stdout",
     "output_type": "stream",
     "text": [
      "The end activities are:\n"
     ]
    },
    {
     "data": {
      "text/plain": [
       "{'Pay': 3949,\n",
       " 'Send Repaired': 1292,\n",
       " 'Send New': 4405,\n",
       " 'Fill Fraud Report': 354}"
      ]
     },
     "metadata": {},
     "output_type": "display_data"
    }
   ],
   "source": [
    "# your code\n",
    "\n",
    "# find out what the start and end activities are\n",
    "print('The start activities are:')\n",
    "display(pm4py.get_start_activities(event_log))\n",
    "print('The end activities are:')\n",
    "display(pm4py.get_end_activities(event_log))"
   ]
  },
  {
   "cell_type": "code",
   "execution_count": 33,
   "id": "bbe29b7a",
   "metadata": {},
   "outputs": [
    {
     "data": {
      "text/plain": [
       "10000"
      ]
     },
     "execution_count": 33,
     "metadata": {},
     "output_type": "execute_result"
    }
   ],
   "source": [
    "# only concider cases that have started\n",
    "start_log = pm4py.filter_start_activities(event_log, [\"Online\",\"App\"])\n",
    "len(start_log)\n",
    "\n",
    "end_log = pm4py.filter_end_activities(event_log, ['Pay','Send Repaired','Send New','Fill Fraud Report'])\n",
    "len(end_log)"
   ]
  },
  {
   "cell_type": "markdown",
   "id": "5e9e3d73-265e-4161-8bfe-48a16643d42c",
   "metadata": {},
   "source": [
    "**Your answer**: *(Briefly describe the differences between the two models in about five sentences here.)*"
   ]
  },
  {
   "cell_type": "markdown",
   "id": "e71e62b5-cc4e-4f3c-b836-08455477b93f",
   "metadata": {
    "tags": []
   },
   "source": [
    "### b) Discovery and Conformance Checking (9pts)"
   ]
  },
  {
   "cell_type": "markdown",
   "id": "5fe3d450-49b1-479f-9e99-9760f8b9bd14",
   "metadata": {
    "tags": []
   },
   "source": [
    "#### **b(i)** \n",
    "Mine a Petri net using Inductive Miner and display it."
   ]
  },
  {
   "cell_type": "code",
   "execution_count": null,
   "id": "6659cf73",
   "metadata": {},
   "outputs": [],
   "source": [
    "# your code\n",
    "# The net, initial marking, and final marking\n",
    "net, im, fm = pm4py.discover_petri_net_inductive(event_log,noise_threshold=0.8)\n",
    "\n",
    "# display petri net\n",
    "pm4py.view_petri_net(net, im, fm, format='png') "
   ]
  },
  {
   "cell_type": "markdown",
   "id": "d32b33dd-e8f5-46a7-be13-4821fbbf9e56",
   "metadata": {
    "tags": []
   },
   "source": [
    "#### **b(ii)** \n",
    "Compute the fitness of the discovered Petri net using token-based replay.\n",
    "\n",
    "*Hint: PM4Py can directly (using the top-level API) compute the number of missing, remaining, consumed, and produced tokens. Based on these, you can, for example, compute the token-based replay fitness.*"
   ]
  },
  {
   "cell_type": "code",
   "execution_count": null,
   "id": "300bf611",
   "metadata": {},
   "outputs": [],
   "source": [
    "# your code\n",
    "fitness = pm4py.fitness_token_based_replay(event_log, net, im, fm)\n",
    "print(fitness)"
   ]
  },
  {
   "cell_type": "markdown",
   "id": "16ab43b6-d08b-4b09-8b96-54b911b9c34f",
   "metadata": {
    "tags": []
   },
   "source": [
    "#### **b(iii)** \n",
    "Filter the log to contain only traces where *Register Low* occurs. How many traces does the resulting log `log_low` contain?\n"
   ]
  },
  {
   "cell_type": "code",
   "execution_count": null,
   "id": "f7f57ad1",
   "metadata": {},
   "outputs": [],
   "source": [
    "# your code\n",
    "log_low = pm4py.filter_event_attribute_values(event_log, \"concept:name\", ['Register Low'], level=\"case\", retain=True)\n",
    "print(f'Number of traces in filtered log_low: {len(log_low)}')"
   ]
  },
  {
   "attachments": {},
   "cell_type": "markdown",
   "id": "cc3ef414-44a5-4a73-906f-36f673cfb6d5",
   "metadata": {
    "tags": []
   },
   "source": [
    "#### **b(iv)** \n",
    "Discover a Petri net for `log_low` and compute its fitness. How does this model differ from the model you discovered in *b(i)*? \n",
    "\n",
    "Suppose each of your produced process models is considered a 2-class classifier: provided a trace, it returns \"Yes\" if and only if the trace can be replayed by the model. Based on this perspective, how would the two process models compare in terms of precision?"
   ]
  },
  {
   "cell_type": "code",
   "execution_count": null,
   "id": "3cc94f06-ad65-408d-ad9e-e8b114838b50",
   "metadata": {},
   "outputs": [],
   "source": [
    "# your code\n",
    "# The net, initial marking, and final marking\n",
    "net_low, im_low, fm_low = pm4py.discover_petri_net_inductive(log_low, noise_threshold = 0.8)\n",
    "\n",
    "# display petri net\n",
    "pm4py.view_petri_net(net_low, im_low, fm_low, format='png') \n",
    "\n",
    "# compute fitness\n",
    "fitness_low = pm4py.fitness_token_based_replay(log_low, net_low, im_low, fm_low)\n",
    "print(fitness_low)"
   ]
  },
  {
   "cell_type": "markdown",
   "id": "74965d2a-c969-438d-b1f7-a8123142b789",
   "metadata": {},
   "source": [
    "**Your answer:** *(Briefly describe the difference between the two models here. About two sentences can be enough.*)"
   ]
  },
  {
   "cell_type": "markdown",
   "id": "c9833080-54f8-4e1b-baea-810962a98281",
   "metadata": {},
   "source": [
    "**Your answer**: *(Relate your observations to precision here.)*"
   ]
  },
  {
   "cell_type": "markdown",
   "id": "d1c73b63-a4a4-4438-a8e4-d2ebfe276051",
   "metadata": {
    "tags": []
   },
   "source": [
    "### Conformance Diagnostics De-jure Model\n",
    "The process owner provides you a de-jure model (i.e., a model of the should-be process) and a slightly changed version of the so far considered event log. \n",
    "\n",
    "In this task, you will again apply conformance checking by means of token-based replay to provide diagnostics on deviations."
   ]
  },
  {
   "cell_type": "markdown",
   "id": "390eabfa-faab-4bea-88ae-7c39bcad1ba0",
   "metadata": {
    "tags": []
   },
   "source": [
    "#### **b(v)** \n",
    "Load the Petri net *pn_conf.apnml*, the event log *log_conf.xes*, and provide the overall (i.e., model-based) token-based replay fitness score.\n",
    "\n"
   ]
  },
  {
   "cell_type": "code",
   "execution_count": 9,
   "id": "4d2007fb",
   "metadata": {},
   "outputs": [],
   "source": [
    "import pm4py.objects.petri_net.importer\n",
    "import pm4py.objects.petri.common"
   ]
  },
  {
   "cell_type": "code",
   "execution_count": 12,
   "id": "98673f6e-e70e-4bc5-969b-057e954c58e8",
   "metadata": {},
   "outputs": [
    {
     "data": {
      "application/vnd.jupyter.widget-view+json": {
       "model_id": "a95ecabc6b07402cad5794ec05f21e15",
       "version_major": 2,
       "version_minor": 0
      },
      "text/plain": [
       "parsing log, completed traces ::   0%|          | 0/10000 [00:00<?, ?it/s]"
      ]
     },
     "metadata": {},
     "output_type": "display_data"
    }
   ],
   "source": [
    "# your code\n",
    "pn_conf = pm4py.objects.petri_net.importer.variants.pnml.import_net('datasets/pn_conf.apnml')[0]\n",
    "log_conf = pm4py.read_xes('datasets/log_conf.xes')"
   ]
  },
  {
   "cell_type": "code",
   "execution_count": null,
   "id": "adc24562",
   "metadata": {},
   "outputs": [],
   "source": [
    "im_conf = pm4py.objects.petri.common.initial_marking.discover_initial_marking(pn_conf)\n",
    "fm_conf = pm4py.objects.petri.common.final_marking.discover_final_marking(pn_conf)"
   ]
  },
  {
   "cell_type": "code",
   "execution_count": null,
   "id": "ba7586f3",
   "metadata": {},
   "outputs": [],
   "source": [
    "pm4py.evaluation.replay_fitness.variants.token_replay.apply(log_conf, pn_conf, im_conf, fm_conf)"
   ]
  },
  {
   "cell_type": "markdown",
   "id": "b4b101e2-9b42-481f-a5f2-3c066416a131",
   "metadata": {
    "tags": []
   },
   "source": [
    "#### **b(vi)** \n",
    "To provide additional diagnostics on the deviations, compute the missing, consumed, produced and remaining number of tokens for **each place**. \n",
    "To do so, use the following *pm4py* code:\n",
    "    \n",
    "    from pm4py.algo.conformance.tokenreplay import algorithm as token_based_replay\n",
    "\ttbr_results, place_fitness, transition_fitness, notexisting_activities_in_model =\n",
    "    token_based_replay.apply(log_conf, net_conf, im_conf, fm_conf, parameters={\"enable_pltr_fitness\": True, \"disable_variants\": True})\n",
    "\n",
    "After running this line for log `log_conf`, Petri net `net_conf` with initial marking `im_conf` and final marking `fm_conf`, the variable `place_fitness` will contain the token counts for each place and trace. Therefore, you will only need aggregate over the traces.\n",
    "Print a table of the token counts per place. \n"
   ]
  },
  {
   "cell_type": "code",
   "execution_count": null,
   "id": "f9a01c3b-4be6-4ea3-a0c7-3572d5bd696f",
   "metadata": {},
   "outputs": [],
   "source": [
    "# your code\n",
    "from pm4py.algo.conformance.tokenreplay import algorithm as token_based_replay\n",
    "tbr_results, place_fitness, transition_fitness, notexisting_activities_in_model = token_based_replay.apply(log_conf, pn_conf, im_conf, fm_conf, parameters={\"enable_pltr_fitness\": True, \"disable_variants\": True})"
   ]
  },
  {
   "cell_type": "code",
   "execution_count": null,
   "id": "682f84f1",
   "metadata": {},
   "outputs": [],
   "source": [
    "place_fitness_df = pd.DataFrame.from_dict(place_fitness,orient ='index')"
   ]
  },
  {
   "cell_type": "code",
   "execution_count": null,
   "id": "c5dc1f2a",
   "metadata": {},
   "outputs": [],
   "source": [
    "# Print a table of the token counts per place\n",
    "print(place_fitness_df[['m','r','c','p']])"
   ]
  },
  {
   "cell_type": "markdown",
   "id": "e098ac37-4978-4520-9d39-51462a1f5038",
   "metadata": {
    "tags": []
   },
   "source": [
    "#### **b(vii)** \n",
    "Consider the token counts per place and a few unfitting traces, which deviation(s) do you observe? Describe the deviation and briefly explain how it can be related to the token counts of the individual places. For example, activity *xy* is often missing resulting in a high number of missing tokens in place *p*.  \n"
   ]
  },
  {
   "cell_type": "code",
   "execution_count": null,
   "id": "02586824-a2d3-4d36-b181-6e70fc3e2b54",
   "metadata": {},
   "outputs": [],
   "source": [
    "# display petri net\n",
    "pm4py.view_petri_net(pn_conf, im_conf, fm_conf, format='png') "
   ]
  },
  {
   "cell_type": "code",
   "execution_count": null,
   "id": "2ed11a11",
   "metadata": {},
   "outputs": [],
   "source": [
    "# consider a few unfitting traces\n",
    "n1_dict = place_fitness[list(place_fitness)[0]]"
   ]
  },
  {
   "cell_type": "code",
   "execution_count": null,
   "id": "a800dd7c",
   "metadata": {},
   "outputs": [],
   "source": [
    "# few = 123\n",
    "count = 0\n",
    "liste = []\n",
    "for trace in iter(n1_dict['underfed_traces']):\n",
    "    if count == 123:\n",
    "        break\n",
    "    count = count + 1\n",
    "    # print(count, end='\\n')\n",
    "    liste.append(trace.attributes['concept:name'])\n",
    "    # print(trace.attributes)\n",
    "    # for i in range(0,len(trace)):\n",
    "    #     print(trace[i]['concept:name'])\n",
    "print(liste)"
   ]
  },
  {
   "cell_type": "code",
   "execution_count": null,
   "metadata": {},
   "outputs": [],
   "source": [
    "tracefilter_log_pos = pm4py.filter_trace_attribute_values(log_conf, \"concept:name\", liste, retain=True)\n",
    "# The net, initial marking, and final marking\n",
    "net, im, fm = pm4py.discover_petri_net_inductive(tracefilter_log_pos)\n",
    "\n",
    "# display petri net\n",
    "pm4py.view_petri_net(net, im, fm, format='png') "
   ]
  },
  {
   "cell_type": "code",
   "execution_count": null,
   "id": "943f0582",
   "metadata": {},
   "outputs": [],
   "source": [
    "# display petri net for comparision\n",
    "pm4py.view_petri_net(pn_conf, im_conf, fm_conf, format='png') "
   ]
  },
  {
   "cell_type": "markdown",
   "id": "6cec26df-0110-41a8-a427-eeeea611fd7c",
   "metadata": {},
   "source": [
    "**Your answer:** *(Describe the deviation(s). One sentence can already be enough.)*"
   ]
  },
  {
   "cell_type": "markdown",
   "id": "49fdc361-bfa7-49d1-809f-4509b427d8da",
   "metadata": {},
   "source": [
    "**Your answer:** (*Relate the deviation(s) to the token counts of the individual places. Roughly five sentences can be enough for a precise description.*)"
   ]
  },
  {
   "cell_type": "markdown",
   "id": "58dcdf9d-c227-4436-b9c3-d45c5b6f7de4",
   "metadata": {
    "tags": []
   },
   "source": [
    "### c) Analyzing Fraud (4pts)"
   ]
  },
  {
   "cell_type": "markdown",
   "id": "2048349d-ebf9-48cc-af0b-9da5a2828b23",
   "metadata": {
    "tags": []
   },
   "source": [
    "#### **c(i)** \n",
    "Filter the event log so that it only contains traces where a fraud report is filled (occurrence of `Fill Fraud Report`). For theses traces, create a bar plot showing the number of products of a certain brand involved in the fraud. Describe the resulting plot.\n",
    "\n",
    "*Hint: Each case is associated with precisely one brand.*\n"
   ]
  },
  {
   "cell_type": "code",
   "execution_count": null,
   "id": "b55a45be-a26c-4098-b23a-29b85102a715",
   "metadata": {},
   "outputs": [],
   "source": [
    "# your code\n",
    "log_spec = pm4py.filter_event_attribute_values(event_log, \"concept:name\", ['Fill Fraud Report'], level=\"case\", retain=True)\n",
    "dataframe_spec = pm4py.convert_to_dataframe(log_spec)\n",
    "type(dataframe_spec)"
   ]
  },
  {
   "cell_type": "code",
   "execution_count": null,
   "id": "076d20f5",
   "metadata": {},
   "outputs": [],
   "source": [
    "# based on Hint, keep only one row per CaseId\n",
    "df_test = dataframe_spec.drop_duplicates(subset=['CaseId'])\n",
    "\n",
    "# keep only 1 row per product (stays the same though)\n",
    "df_test_2 = df_test.drop_duplicates(subset=['case:concept:name'])"
   ]
  },
  {
   "cell_type": "code",
   "execution_count": null,
   "id": "fab5a553",
   "metadata": {},
   "outputs": [],
   "source": [
    "fig = plt.figure(figsize = (10, 5))\n",
    " \n",
    "# creating the bar plot\n",
    "plt.bar(df_test_2['Brand'], df_test_2.groupby('Brand')['Brand'].transform('count'), color ='maroon',\n",
    "        width = 0.4)\n",
    " \n",
    "plt.xlabel(\"Brands involved in fraud\")\n",
    "plt.ylabel(\"No. of Products\")\n",
    "plt.show()"
   ]
  },
  {
   "cell_type": "code",
   "execution_count": null,
   "metadata": {},
   "outputs": [],
   "source": [
    "df_test_2.groupby('Brand')['Brand'].transform('count').unique().sum()"
   ]
  },
  {
   "attachments": {},
   "cell_type": "markdown",
   "id": "ca63f184-9cb3-48a0-abd4-b4146f1ebcaa",
   "metadata": {},
   "source": [
    "**Your answer:** (*Describe the plot in two to three sentences.*) The brands 'PEAR', 'CP' and 'CKP' are contained in traces, that are involved in fraud. Thereby 'PEAR' has 209 different products contained in traces, that are involved in fraud, while for the other two it is below half of it (89 products of 'CP' and 56 products of 'SKP'). All brands together sum up to about 350 different products contained in traces, that are involved in fraud."
   ]
  },
  {
   "cell_type": "markdown",
   "id": "c635a50b-a7d9-433c-96c8-aae526f9e459",
   "metadata": {
    "tags": []
   },
   "source": [
    "#### **c(ii)**  \n",
    "The plot shows differences between brands. Discuss the result. Consider what you learned in Lecture 11 (association rules). Try to provide additional analysis results to underpin your discussion.\n",
    "\n",
    "*Hint: A very short additional analysis (i.e., a few lines of code) might already be sufficient.*\n"
   ]
  },
  {
   "cell_type": "code",
   "execution_count": null,
   "id": "a32ba47d-c41f-418a-8b6b-b8176171b0a7",
   "metadata": {},
   "outputs": [],
   "source": [
    "# your code (for a short additional analysis)"
   ]
  },
  {
   "cell_type": "markdown",
   "id": "81d49c56-6d9e-4b11-9fa4-d623f87a2f9a",
   "metadata": {},
   "source": [
    "**Your answer:** *(Relate your results to Lecture 11, approximately one short paragraph)*"
   ]
  }
 ],
 "metadata": {
  "kernelspec": {
   "display_name": "env-IDS2022-23",
   "language": "python",
   "name": "python3"
  },
  "language_info": {
   "codemirror_mode": {
    "name": "ipython",
    "version": 3
   },
   "file_extension": ".py",
   "mimetype": "text/x-python",
   "name": "python",
   "nbconvert_exporter": "python",
   "pygments_lexer": "ipython3",
   "version": "3.9.12"
  },
  "vscode": {
   "interpreter": {
    "hash": "c7a10ad168661c547681ac105106e9af30308b6854d2c8dd17691541f9ee989d"
   }
  }
 },
 "nbformat": 4,
 "nbformat_minor": 5
}
